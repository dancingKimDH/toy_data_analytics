{
 "cells": [
  {
   "cell_type": "code",
   "execution_count": 1,
   "id": "ea5a59c5-3473-41a1-975a-3a904f5ce6cb",
   "metadata": {
    "tags": []
   },
   "outputs": [],
   "source": [
    "import pandas as pd\n",
    "import numpy as np\n",
    "import seaborn as sns\n",
    "import matplotlib.pyplot as plt\n",
    "import matplotlib as mpl\n",
    "mpl.rc('font', family = 'Malgun Gothic')"
   ]
  },
  {
   "cell_type": "code",
   "execution_count": 2,
   "id": "037a53fd-cd44-47de-a506-afb6f2b43701",
   "metadata": {
    "tags": []
   },
   "outputs": [
    {
     "name": "stdout",
     "output_type": "stream",
     "text": [
      "<class 'pandas.core.frame.DataFrame'>\n",
      "RangeIndex: 1744 entries, 0 to 1743\n",
      "Data columns (total 51 columns):\n",
      " #   Column                  Non-Null Count  Dtype  \n",
      "---  ------                  --------------  -----  \n",
      " 0   Unnamed: 0.2            1744 non-null   int64  \n",
      " 1   Unnamed: 0.1            1744 non-null   int64  \n",
      " 2   Unnamed: 0              1744 non-null   int64  \n",
      " 3   환자ID                    1744 non-null   object \n",
      " 4   Large Lymphocyte        1744 non-null   float64\n",
      " 5   Location of herniation  1744 non-null   int64  \n",
      " 6   가족력                     1744 non-null   float64\n",
      " 7   간질성폐질환                  1744 non-null   int64  \n",
      " 8   고혈압여부                   1744 non-null   int64  \n",
      " 9   과거수술횟수                  1744 non-null   int64  \n",
      " 10  당뇨여부                    1744 non-null   int64  \n",
      " 11  말초동맥질환여부                1744 non-null   int64  \n",
      " 12  빈혈여부                    1744 non-null   int64  \n",
      " 13  성별                      1744 non-null   int64  \n",
      " 14  스테로이드치료                 1744 non-null   int64  \n",
      " 15  신부전여부                   1744 non-null   int64  \n",
      " 16  신장                      1744 non-null   int64  \n",
      " 17  심혈관질환                   1744 non-null   int64  \n",
      " 18  암발병여부                   1744 non-null   int64  \n",
      " 19  연령                      1744 non-null   int64  \n",
      " 20  우울증여부                   1744 non-null   int64  \n",
      " 21  입원기간                    1744 non-null   int64  \n",
      " 22  입원일자                    1744 non-null   int64  \n",
      " 23  종양진행여부                  1744 non-null   int64  \n",
      " 24  체중                      1744 non-null   float64\n",
      " 25  퇴원일자                    1744 non-null   int64  \n",
      " 26  헤모글로빈수치                 1744 non-null   float64\n",
      " 27  혈전합병증여부                 1744 non-null   int64  \n",
      " 28  환자통증정도                  1744 non-null   int64  \n",
      " 29  흡연여부                    1744 non-null   int64  \n",
      " 30  통증기간(월)                 1744 non-null   float64\n",
      " 31  수술기법                    1744 non-null   object \n",
      " 32  수술시간                    1744 non-null   float64\n",
      " 33  수술실패여부                  1744 non-null   int64  \n",
      " 34  수술일자                    1744 non-null   int64  \n",
      " 35  재발여부                    1744 non-null   int64  \n",
      " 36  혈액형                     1744 non-null   object \n",
      " 37  전방디스크높이(mm)             1744 non-null   float64\n",
      " 38  후방디스크높이(mm)             1744 non-null   float64\n",
      " 39  지방축적도                   1744 non-null   float64\n",
      " 40  Instability             1744 non-null   int64  \n",
      " 41  MF + ES                 1744 non-null   float64\n",
      " 42  Modic change            1744 non-null   int64  \n",
      " 43  PI                      1744 non-null   float64\n",
      " 44  PT                      1744 non-null   float64\n",
      " 45  Seg Angle(raw)          1744 non-null   float64\n",
      " 46  Vaccum disc             1744 non-null   int64  \n",
      " 47  디스크단면적                  1744 non-null   float64\n",
      " 48  디스크위치                   1744 non-null   int64  \n",
      " 49  척추이동척도                  1744 non-null   object \n",
      " 50  척추전방위증                  1744 non-null   int64  \n",
      "dtypes: float64(14), int64(33), object(4)\n",
      "memory usage: 695.0+ KB\n"
     ]
    }
   ],
   "source": [
    "df_ROS = pd.read_csv('../../datasets/RecurrenceOfSurgery.csv')\n",
    "df_ROS.info()"
   ]
  },
  {
   "cell_type": "markdown",
   "id": "4874c403-4e24-4cec-832e-e77b0b960002",
   "metadata": {},
   "source": [
    "### 상관관계 확인\n",
    "\n",
    "- 목표변수 : '입원기간'\n",
    "\n",
    "- 설명변수:\n",
    "   - 종양진행여부\n",
    "   - 혈전합병증여부\n",
    "   - 신장\n",
    "   - 체중\n",
    "   - 수술기법\n",
    "   - 재발여부"
   ]
  },
  {
   "cell_type": "code",
   "execution_count": 3,
   "id": "6b1e3269-9b4c-4ca7-ad78-f64a413bbe6a",
   "metadata": {
    "tags": []
   },
   "outputs": [
    {
     "data": {
      "text/html": [
       "<div>\n",
       "<style scoped>\n",
       "    .dataframe tbody tr th:only-of-type {\n",
       "        vertical-align: middle;\n",
       "    }\n",
       "\n",
       "    .dataframe tbody tr th {\n",
       "        vertical-align: top;\n",
       "    }\n",
       "\n",
       "    .dataframe thead th {\n",
       "        text-align: right;\n",
       "    }\n",
       "</style>\n",
       "<table border=\"1\" class=\"dataframe\">\n",
       "  <thead>\n",
       "    <tr style=\"text-align: right;\">\n",
       "      <th></th>\n",
       "      <th>신장</th>\n",
       "      <th>체중</th>\n",
       "      <th>종양진행여부</th>\n",
       "      <th>혈전합병증여부</th>\n",
       "      <th>수술기법</th>\n",
       "      <th>재발여부</th>\n",
       "      <th>입원기간</th>\n",
       "    </tr>\n",
       "  </thead>\n",
       "  <tbody>\n",
       "    <tr>\n",
       "      <th>0</th>\n",
       "      <td>163</td>\n",
       "      <td>60.3</td>\n",
       "      <td>0</td>\n",
       "      <td>0</td>\n",
       "      <td>TELD</td>\n",
       "      <td>0</td>\n",
       "      <td>2</td>\n",
       "    </tr>\n",
       "    <tr>\n",
       "      <th>1</th>\n",
       "      <td>171</td>\n",
       "      <td>71.7</td>\n",
       "      <td>0</td>\n",
       "      <td>0</td>\n",
       "      <td>TELD</td>\n",
       "      <td>0</td>\n",
       "      <td>1</td>\n",
       "    </tr>\n",
       "    <tr>\n",
       "      <th>2</th>\n",
       "      <td>178</td>\n",
       "      <td>77.1</td>\n",
       "      <td>0</td>\n",
       "      <td>0</td>\n",
       "      <td>TELD</td>\n",
       "      <td>0</td>\n",
       "      <td>1</td>\n",
       "    </tr>\n",
       "    <tr>\n",
       "      <th>3</th>\n",
       "      <td>174</td>\n",
       "      <td>74.2</td>\n",
       "      <td>0</td>\n",
       "      <td>0</td>\n",
       "      <td>TELD</td>\n",
       "      <td>0</td>\n",
       "      <td>1</td>\n",
       "    </tr>\n",
       "    <tr>\n",
       "      <th>4</th>\n",
       "      <td>183</td>\n",
       "      <td>80.7</td>\n",
       "      <td>0</td>\n",
       "      <td>0</td>\n",
       "      <td>TELD</td>\n",
       "      <td>0</td>\n",
       "      <td>2</td>\n",
       "    </tr>\n",
       "    <tr>\n",
       "      <th>...</th>\n",
       "      <td>...</td>\n",
       "      <td>...</td>\n",
       "      <td>...</td>\n",
       "      <td>...</td>\n",
       "      <td>...</td>\n",
       "      <td>...</td>\n",
       "      <td>...</td>\n",
       "    </tr>\n",
       "    <tr>\n",
       "      <th>1739</th>\n",
       "      <td>163</td>\n",
       "      <td>52.0</td>\n",
       "      <td>0</td>\n",
       "      <td>0</td>\n",
       "      <td>TELD</td>\n",
       "      <td>0</td>\n",
       "      <td>12</td>\n",
       "    </tr>\n",
       "    <tr>\n",
       "      <th>1740</th>\n",
       "      <td>185</td>\n",
       "      <td>64.0</td>\n",
       "      <td>0</td>\n",
       "      <td>0</td>\n",
       "      <td>TELD</td>\n",
       "      <td>0</td>\n",
       "      <td>2</td>\n",
       "    </tr>\n",
       "    <tr>\n",
       "      <th>1741</th>\n",
       "      <td>160</td>\n",
       "      <td>60.0</td>\n",
       "      <td>0</td>\n",
       "      <td>0</td>\n",
       "      <td>TELD</td>\n",
       "      <td>0</td>\n",
       "      <td>3</td>\n",
       "    </tr>\n",
       "    <tr>\n",
       "      <th>1742</th>\n",
       "      <td>173</td>\n",
       "      <td>70.0</td>\n",
       "      <td>0</td>\n",
       "      <td>0</td>\n",
       "      <td>TELD</td>\n",
       "      <td>0</td>\n",
       "      <td>3</td>\n",
       "    </tr>\n",
       "    <tr>\n",
       "      <th>1743</th>\n",
       "      <td>167</td>\n",
       "      <td>70.0</td>\n",
       "      <td>0</td>\n",
       "      <td>0</td>\n",
       "      <td>IELD</td>\n",
       "      <td>0</td>\n",
       "      <td>3</td>\n",
       "    </tr>\n",
       "  </tbody>\n",
       "</table>\n",
       "<p>1744 rows × 7 columns</p>\n",
       "</div>"
      ],
      "text/plain": [
       "       신장    체중  종양진행여부  혈전합병증여부  수술기법  재발여부  입원기간\n",
       "0     163  60.3       0        0  TELD     0     2\n",
       "1     171  71.7       0        0  TELD     0     1\n",
       "2     178  77.1       0        0  TELD     0     1\n",
       "3     174  74.2       0        0  TELD     0     1\n",
       "4     183  80.7       0        0  TELD     0     2\n",
       "...   ...   ...     ...      ...   ...   ...   ...\n",
       "1739  163  52.0       0        0  TELD     0    12\n",
       "1740  185  64.0       0        0  TELD     0     2\n",
       "1741  160  60.0       0        0  TELD     0     3\n",
       "1742  173  70.0       0        0  TELD     0     3\n",
       "1743  167  70.0       0        0  IELD     0     3\n",
       "\n",
       "[1744 rows x 7 columns]"
      ]
     },
     "execution_count": 3,
     "metadata": {},
     "output_type": "execute_result"
    }
   ],
   "source": [
    "df_ROS_AP = df_ROS[['신장','체중','종양진행여부','혈전합병증여부','수술기법','재발여부','입원기간']]\n",
    "df_ROS_AP"
   ]
  },
  {
   "cell_type": "code",
   "execution_count": 43,
   "id": "131a10bd-bdae-48bc-9451-9ca4d26c3e02",
   "metadata": {
    "tags": []
   },
   "outputs": [
    {
     "data": {
      "text/html": [
       "<div>\n",
       "<style scoped>\n",
       "    .dataframe tbody tr th:only-of-type {\n",
       "        vertical-align: middle;\n",
       "    }\n",
       "\n",
       "    .dataframe tbody tr th {\n",
       "        vertical-align: top;\n",
       "    }\n",
       "\n",
       "    .dataframe thead th {\n",
       "        text-align: right;\n",
       "    }\n",
       "</style>\n",
       "<table border=\"1\" class=\"dataframe\">\n",
       "  <thead>\n",
       "    <tr style=\"text-align: right;\">\n",
       "      <th></th>\n",
       "      <th>신장</th>\n",
       "      <th>체중</th>\n",
       "    </tr>\n",
       "  </thead>\n",
       "  <tbody>\n",
       "    <tr>\n",
       "      <th>0</th>\n",
       "      <td>163</td>\n",
       "      <td>60.3</td>\n",
       "    </tr>\n",
       "    <tr>\n",
       "      <th>1</th>\n",
       "      <td>171</td>\n",
       "      <td>71.7</td>\n",
       "    </tr>\n",
       "    <tr>\n",
       "      <th>2</th>\n",
       "      <td>178</td>\n",
       "      <td>77.1</td>\n",
       "    </tr>\n",
       "    <tr>\n",
       "      <th>3</th>\n",
       "      <td>174</td>\n",
       "      <td>74.2</td>\n",
       "    </tr>\n",
       "    <tr>\n",
       "      <th>4</th>\n",
       "      <td>183</td>\n",
       "      <td>80.7</td>\n",
       "    </tr>\n",
       "    <tr>\n",
       "      <th>5</th>\n",
       "      <td>164</td>\n",
       "      <td>60.8</td>\n",
       "    </tr>\n",
       "    <tr>\n",
       "      <th>6</th>\n",
       "      <td>175</td>\n",
       "      <td>74.8</td>\n",
       "    </tr>\n",
       "    <tr>\n",
       "      <th>7</th>\n",
       "      <td>183</td>\n",
       "      <td>81.2</td>\n",
       "    </tr>\n",
       "    <tr>\n",
       "      <th>8</th>\n",
       "      <td>168</td>\n",
       "      <td>69.2</td>\n",
       "    </tr>\n",
       "    <tr>\n",
       "      <th>9</th>\n",
       "      <td>160</td>\n",
       "      <td>63.0</td>\n",
       "    </tr>\n",
       "  </tbody>\n",
       "</table>\n",
       "</div>"
      ],
      "text/plain": [
       "    신장    체중\n",
       "0  163  60.3\n",
       "1  171  71.7\n",
       "2  178  77.1\n",
       "3  174  74.2\n",
       "4  183  80.7\n",
       "5  164  60.8\n",
       "6  175  74.8\n",
       "7  183  81.2\n",
       "8  168  69.2\n",
       "9  160  63.0"
      ]
     },
     "execution_count": 43,
     "metadata": {},
     "output_type": "execute_result"
    }
   ],
   "source": [
    "# 체중과 신장으로 BMI 구하기\n",
    "# BMI = 체중(kg) / (신장(m) * 신장(m))\n",
    "df_ROS_BMI = df_ROS_AP[['신장','체중']]\n",
    "df_ROS_BMI[:10]"
   ]
  },
  {
   "cell_type": "code",
   "execution_count": 44,
   "id": "c1443597-fd93-437d-9765-ffc824f3e902",
   "metadata": {
    "tags": []
   },
   "outputs": [
    {
     "data": {
      "text/html": [
       "<div>\n",
       "<style scoped>\n",
       "    .dataframe tbody tr th:only-of-type {\n",
       "        vertical-align: middle;\n",
       "    }\n",
       "\n",
       "    .dataframe tbody tr th {\n",
       "        vertical-align: top;\n",
       "    }\n",
       "\n",
       "    .dataframe thead th {\n",
       "        text-align: right;\n",
       "    }\n",
       "</style>\n",
       "<table border=\"1\" class=\"dataframe\">\n",
       "  <thead>\n",
       "    <tr style=\"text-align: right;\">\n",
       "      <th></th>\n",
       "      <th>신장</th>\n",
       "      <th>체중</th>\n",
       "    </tr>\n",
       "  </thead>\n",
       "  <tbody>\n",
       "    <tr>\n",
       "      <th>count</th>\n",
       "      <td>1744.000000</td>\n",
       "      <td>1744.000000</td>\n",
       "    </tr>\n",
       "    <tr>\n",
       "      <th>mean</th>\n",
       "      <td>168.047592</td>\n",
       "      <td>68.101319</td>\n",
       "    </tr>\n",
       "    <tr>\n",
       "      <th>std</th>\n",
       "      <td>9.160551</td>\n",
       "      <td>10.958112</td>\n",
       "    </tr>\n",
       "    <tr>\n",
       "      <th>min</th>\n",
       "      <td>140.000000</td>\n",
       "      <td>35.000000</td>\n",
       "    </tr>\n",
       "    <tr>\n",
       "      <th>25%</th>\n",
       "      <td>161.000000</td>\n",
       "      <td>59.800000</td>\n",
       "    </tr>\n",
       "    <tr>\n",
       "      <th>50%</th>\n",
       "      <td>169.000000</td>\n",
       "      <td>68.000000</td>\n",
       "    </tr>\n",
       "    <tr>\n",
       "      <th>75%</th>\n",
       "      <td>175.000000</td>\n",
       "      <td>75.000000</td>\n",
       "    </tr>\n",
       "    <tr>\n",
       "      <th>max</th>\n",
       "      <td>204.000000</td>\n",
       "      <td>114.000000</td>\n",
       "    </tr>\n",
       "  </tbody>\n",
       "</table>\n",
       "</div>"
      ],
      "text/plain": [
       "                신장           체중\n",
       "count  1744.000000  1744.000000\n",
       "mean    168.047592    68.101319\n",
       "std       9.160551    10.958112\n",
       "min     140.000000    35.000000\n",
       "25%     161.000000    59.800000\n",
       "50%     169.000000    68.000000\n",
       "75%     175.000000    75.000000\n",
       "max     204.000000   114.000000"
      ]
     },
     "execution_count": 44,
     "metadata": {},
     "output_type": "execute_result"
    }
   ],
   "source": [
    "df_ROS_BMI.describe()"
   ]
  },
  {
   "cell_type": "code",
   "execution_count": 6,
   "id": "c6e65db4-e5f2-45e4-a89b-5d52ff81afe6",
   "metadata": {
    "tags": []
   },
   "outputs": [
    {
     "name": "stdout",
     "output_type": "stream",
     "text": [
      "<class 'pandas.core.frame.DataFrame'>\n",
      "RangeIndex: 1744 entries, 0 to 1743\n",
      "Data columns (total 3 columns):\n",
      " #   Column  Non-Null Count  Dtype  \n",
      "---  ------  --------------  -----  \n",
      " 0   신장      1744 non-null   int64  \n",
      " 1   체중      1744 non-null   float64\n",
      " 2   입원기간    1744 non-null   int64  \n",
      "dtypes: float64(1), int64(2)\n",
      "memory usage: 41.0 KB\n"
     ]
    }
   ],
   "source": [
    "df_ROS_BMI.info()"
   ]
  },
  {
   "cell_type": "code",
   "execution_count": 7,
   "id": "dc8999b3-a594-4236-8ce4-d81a59748216",
   "metadata": {
    "tags": []
   },
   "outputs": [],
   "source": [
    "# BMI 계산 함수, 신장 int -> float으로 Type casting\n",
    "def Calculate_BMI(row):\n",
    "    height = float(row['신장']) / 100 \n",
    "    weight = float(row['체중'])\n",
    "    BMI = weight / (height * height)\n",
    "    return BMI"
   ]
  },
  {
   "cell_type": "code",
   "execution_count": 8,
   "id": "f20bbf4f-bf20-4d59-a283-dc2f15c8b768",
   "metadata": {
    "tags": []
   },
   "outputs": [
    {
     "name": "stderr",
     "output_type": "stream",
     "text": [
      "C:\\Users\\04-02\\AppData\\Local\\Temp\\ipykernel_13544\\4136818685.py:2: SettingWithCopyWarning: \n",
      "A value is trying to be set on a copy of a slice from a DataFrame.\n",
      "Try using .loc[row_indexer,col_indexer] = value instead\n",
      "\n",
      "See the caveats in the documentation: https://pandas.pydata.org/pandas-docs/stable/user_guide/indexing.html#returning-a-view-versus-a-copy\n",
      "  df_ROS_BMI['BMI'] = df_ROS_BMI.apply(Calculate_BMI, axis=1)\n"
     ]
    },
    {
     "data": {
      "text/plain": [
       "0       22.695623\n",
       "1       24.520365\n",
       "2       24.334049\n",
       "3       24.507861\n",
       "4       24.097465\n",
       "          ...    \n",
       "1739    19.571681\n",
       "1740    18.699781\n",
       "1741    23.437500\n",
       "1742    23.388687\n",
       "1743    25.099502\n",
       "Name: BMI, Length: 1744, dtype: float64"
      ]
     },
     "execution_count": 8,
     "metadata": {},
     "output_type": "execute_result"
    }
   ],
   "source": [
    "# BMI 계산 및 범주 할당\n",
    "df_ROS_BMI['BMI'] = df_ROS_BMI.apply(Calculate_BMI, axis=1)\n",
    "df_ROS_BMI['BMI']"
   ]
  },
  {
   "cell_type": "code",
   "execution_count": 9,
   "id": "dd5d6153-d6e4-4140-8fc2-15e7d70cbe94",
   "metadata": {
    "tags": []
   },
   "outputs": [
    {
     "data": {
      "text/html": [
       "<div>\n",
       "<style scoped>\n",
       "    .dataframe tbody tr th:only-of-type {\n",
       "        vertical-align: middle;\n",
       "    }\n",
       "\n",
       "    .dataframe tbody tr th {\n",
       "        vertical-align: top;\n",
       "    }\n",
       "\n",
       "    .dataframe thead th {\n",
       "        text-align: right;\n",
       "    }\n",
       "</style>\n",
       "<table border=\"1\" class=\"dataframe\">\n",
       "  <thead>\n",
       "    <tr style=\"text-align: right;\">\n",
       "      <th></th>\n",
       "      <th>입원기간</th>\n",
       "    </tr>\n",
       "    <tr>\n",
       "      <th>BMI</th>\n",
       "      <th></th>\n",
       "    </tr>\n",
       "  </thead>\n",
       "  <tbody>\n",
       "    <tr>\n",
       "      <th>14.479500</th>\n",
       "      <td>1</td>\n",
       "    </tr>\n",
       "    <tr>\n",
       "      <th>16.127207</th>\n",
       "      <td>1</td>\n",
       "    </tr>\n",
       "    <tr>\n",
       "      <th>16.906171</th>\n",
       "      <td>2</td>\n",
       "    </tr>\n",
       "    <tr>\n",
       "      <th>17.224804</th>\n",
       "      <td>2</td>\n",
       "    </tr>\n",
       "    <tr>\n",
       "      <th>17.361111</th>\n",
       "      <td>1</td>\n",
       "    </tr>\n",
       "    <tr>\n",
       "      <th>...</th>\n",
       "      <td>...</td>\n",
       "    </tr>\n",
       "    <tr>\n",
       "      <th>34.193213</th>\n",
       "      <td>2</td>\n",
       "    </tr>\n",
       "    <tr>\n",
       "      <th>34.220041</th>\n",
       "      <td>1</td>\n",
       "    </tr>\n",
       "    <tr>\n",
       "      <th>34.492232</th>\n",
       "      <td>1</td>\n",
       "    </tr>\n",
       "    <tr>\n",
       "      <th>35.491690</th>\n",
       "      <td>2</td>\n",
       "    </tr>\n",
       "    <tr>\n",
       "      <th>39.555397</th>\n",
       "      <td>2</td>\n",
       "    </tr>\n",
       "  </tbody>\n",
       "</table>\n",
       "<p>830 rows × 1 columns</p>\n",
       "</div>"
      ],
      "text/plain": [
       "           입원기간\n",
       "BMI            \n",
       "14.479500     1\n",
       "16.127207     1\n",
       "16.906171     2\n",
       "17.224804     2\n",
       "17.361111     1\n",
       "...         ...\n",
       "34.193213     2\n",
       "34.220041     1\n",
       "34.492232     1\n",
       "35.491690     2\n",
       "39.555397     2\n",
       "\n",
       "[830 rows x 1 columns]"
      ]
     },
     "execution_count": 9,
     "metadata": {},
     "output_type": "execute_result"
    }
   ],
   "source": [
    "pd.pivot_table(data=df_ROS_BMI[['BMI', '입원기간']], index='BMI', aggfunc=len)"
   ]
  },
  {
   "cell_type": "code",
   "execution_count": 10,
   "id": "e2265362-cac2-4196-97d0-5d1843aa4f01",
   "metadata": {
    "tags": []
   },
   "outputs": [
    {
     "data": {
      "text/plain": [
       "<Axes: xlabel='BMI'>"
      ]
     },
     "execution_count": 10,
     "metadata": {},
     "output_type": "execute_result"
    },
    {
     "data": {
      "image/png": "[encoded data removed]",
      "text/plain": [
       "<Figure size 640x480 with 1 Axes>"
      ]
     },
     "metadata": {},
     "output_type": "display_data"
    }
   ],
   "source": [
    "pd.pivot_table(data=df_ROS_BMI[['BMI', '입원기간']], index='BMI', aggfunc=len).plot(kind='line')"
   ]
  },
  {
   "cell_type": "code",
   "execution_count": 11,
   "id": "49086c98-d2a8-4a45-9f20-405745b30dc4",
   "metadata": {
    "tags": []
   },
   "outputs": [
    {
     "name": "stderr",
     "output_type": "stream",
     "text": [
      "C:\\Users\\04-02\\AppData\\Local\\Temp\\ipykernel_13544\\3414255278.py:1: SettingWithCopyWarning: \n",
      "A value is trying to be set on a copy of a slice from a DataFrame.\n",
      "Try using .loc[row_indexer,col_indexer] = value instead\n",
      "\n",
      "See the caveats in the documentation: https://pandas.pydata.org/pandas-docs/stable/user_guide/indexing.html#returning-a-view-versus-a-copy\n",
      "  df_ROS_BMI['BMI_범주'] = pd.cut(df_ROS_BMI['BMI'], bins=[0, 18.5, 24.9, 29.9, float('inf')],\n"
     ]
    }
   ],
   "source": [
    "df_ROS_BMI['BMI_범주'] = pd.cut(df_ROS_BMI['BMI'], bins=[0, 18.5, 24.9, 29.9, float('inf')],\n",
    "                               labels=['저체중', '정상 체중', '과체중', '비만'])"
   ]
  },
  {
   "cell_type": "code",
   "execution_count": 12,
   "id": "0e523b8f-1641-4137-b099-5d85b42b96ed",
   "metadata": {
    "tags": []
   },
   "outputs": [
    {
     "data": {
      "text/plain": [
       "정상 체중    1265\n",
       "과체중       389\n",
       "비만         56\n",
       "저체중        34\n",
       "Name: BMI_범주, dtype: int64"
      ]
     },
     "execution_count": 12,
     "metadata": {},
     "output_type": "execute_result"
    }
   ],
   "source": [
    "# BMI 범주별 빈도수 계산\n",
    "df_ROS_BMI_counts = df_ROS_BMI['BMI_범주'].value_counts()\n",
    "df_ROS_BMI_counts"
   ]
  },
  {
   "cell_type": "code",
   "execution_count": 13,
   "id": "a41ed3c5-63a7-4935-9491-84a32416ebf3",
   "metadata": {
    "tags": []
   },
   "outputs": [
    {
     "name": "stderr",
     "output_type": "stream",
     "text": [
      "C:\\Users\\04-02\\AppData\\Local\\Temp\\ipykernel_13544\\707784013.py:3: SettingWithCopyWarning: \n",
      "A value is trying to be set on a copy of a slice from a DataFrame.\n",
      "Try using .loc[row_indexer,col_indexer] = value instead\n",
      "\n",
      "See the caveats in the documentation: https://pandas.pydata.org/pandas-docs/stable/user_guide/indexing.html#returning-a-view-versus-a-copy\n",
      "  df_ROS_AP_subset['BMI_범주'] = df_ROS_BMI['BMI_범주']\n"
     ]
    },
    {
     "data": {
      "text/html": [
       "<div>\n",
       "<style scoped>\n",
       "    .dataframe tbody tr th:only-of-type {\n",
       "        vertical-align: middle;\n",
       "    }\n",
       "\n",
       "    .dataframe tbody tr th {\n",
       "        vertical-align: top;\n",
       "    }\n",
       "\n",
       "    .dataframe thead th {\n",
       "        text-align: right;\n",
       "    }\n",
       "</style>\n",
       "<table border=\"1\" class=\"dataframe\">\n",
       "  <thead>\n",
       "    <tr style=\"text-align: right;\">\n",
       "      <th></th>\n",
       "      <th>입원일자</th>\n",
       "      <th>퇴원일자</th>\n",
       "      <th>입원기간</th>\n",
       "      <th>BMI_범주</th>\n",
       "    </tr>\n",
       "  </thead>\n",
       "  <tbody>\n",
       "    <tr>\n",
       "      <th>0</th>\n",
       "      <td>20190713</td>\n",
       "      <td>20190716</td>\n",
       "      <td>2</td>\n",
       "      <td>정상 체중</td>\n",
       "    </tr>\n",
       "    <tr>\n",
       "      <th>1</th>\n",
       "      <td>20190715</td>\n",
       "      <td>20190716</td>\n",
       "      <td>1</td>\n",
       "      <td>정상 체중</td>\n",
       "    </tr>\n",
       "    <tr>\n",
       "      <th>2</th>\n",
       "      <td>20190729</td>\n",
       "      <td>20190801</td>\n",
       "      <td>1</td>\n",
       "      <td>정상 체중</td>\n",
       "    </tr>\n",
       "    <tr>\n",
       "      <th>3</th>\n",
       "      <td>20190731</td>\n",
       "      <td>20190803</td>\n",
       "      <td>1</td>\n",
       "      <td>정상 체중</td>\n",
       "    </tr>\n",
       "    <tr>\n",
       "      <th>4</th>\n",
       "      <td>20190903</td>\n",
       "      <td>20190907</td>\n",
       "      <td>2</td>\n",
       "      <td>정상 체중</td>\n",
       "    </tr>\n",
       "    <tr>\n",
       "      <th>...</th>\n",
       "      <td>...</td>\n",
       "      <td>...</td>\n",
       "      <td>...</td>\n",
       "      <td>...</td>\n",
       "    </tr>\n",
       "    <tr>\n",
       "      <th>1739</th>\n",
       "      <td>20170302</td>\n",
       "      <td>20170313</td>\n",
       "      <td>12</td>\n",
       "      <td>정상 체중</td>\n",
       "    </tr>\n",
       "    <tr>\n",
       "      <th>1740</th>\n",
       "      <td>20170316</td>\n",
       "      <td>20170317</td>\n",
       "      <td>2</td>\n",
       "      <td>정상 체중</td>\n",
       "    </tr>\n",
       "    <tr>\n",
       "      <th>1741</th>\n",
       "      <td>20170928</td>\n",
       "      <td>20170930</td>\n",
       "      <td>3</td>\n",
       "      <td>정상 체중</td>\n",
       "    </tr>\n",
       "    <tr>\n",
       "      <th>1742</th>\n",
       "      <td>20170604</td>\n",
       "      <td>20170606</td>\n",
       "      <td>3</td>\n",
       "      <td>정상 체중</td>\n",
       "    </tr>\n",
       "    <tr>\n",
       "      <th>1743</th>\n",
       "      <td>20170410</td>\n",
       "      <td>20170412</td>\n",
       "      <td>3</td>\n",
       "      <td>과체중</td>\n",
       "    </tr>\n",
       "  </tbody>\n",
       "</table>\n",
       "<p>1744 rows × 4 columns</p>\n",
       "</div>"
      ],
      "text/plain": [
       "          입원일자      퇴원일자  입원기간 BMI_범주\n",
       "0     20190713  20190716     2  정상 체중\n",
       "1     20190715  20190716     1  정상 체중\n",
       "2     20190729  20190801     1  정상 체중\n",
       "3     20190731  20190803     1  정상 체중\n",
       "4     20190903  20190907     2  정상 체중\n",
       "...        ...       ...   ...    ...\n",
       "1739  20170302  20170313    12  정상 체중\n",
       "1740  20170316  20170317     2  정상 체중\n",
       "1741  20170928  20170930     3  정상 체중\n",
       "1742  20170604  20170606     3  정상 체중\n",
       "1743  20170410  20170412     3    과체중\n",
       "\n",
       "[1744 rows x 4 columns]"
      ]
     },
     "execution_count": 13,
     "metadata": {},
     "output_type": "execute_result"
    }
   ],
   "source": [
    "df_ROS_ad = df_ROS[['입원일자', '입원기간','퇴원일자']]\n",
    "df_ROS_AP_subset = df_ROS_ad[['입원일자','퇴원일자', '입원기간']]\n",
    "df_ROS_AP_subset['BMI_범주'] = df_ROS_BMI['BMI_범주']\n",
    "df_ROS_AP_subset"
   ]
  },
  {
   "cell_type": "markdown",
   "id": "59d9fc24-722e-4dda-b284-3cb3aea3af18",
   "metadata": {},
   "source": [
    "#### 6. BMI범주 여부와 입원기간"
   ]
  },
  {
   "cell_type": "code",
   "execution_count": 14,
   "id": "c82abf31-207d-4837-a239-27f6185433a8",
   "metadata": {
    "tags": []
   },
   "outputs": [
    {
     "name": "stdout",
     "output_type": "stream",
     "text": [
      "<class 'pandas.core.frame.DataFrame'>\n",
      "RangeIndex: 1744 entries, 0 to 1743\n",
      "Data columns (total 4 columns):\n",
      " #   Column  Non-Null Count  Dtype   \n",
      "---  ------  --------------  -----   \n",
      " 0   BMI_범주  1744 non-null   category\n",
      " 1   입원기간    1744 non-null   int64   \n",
      " 2   입원일자    1744 non-null   int64   \n",
      " 3   퇴원일자    1744 non-null   int64   \n",
      "dtypes: category(1), int64(3)\n",
      "memory usage: 42.9 KB\n"
     ]
    }
   ],
   "source": [
    "df_BMI= df_ROS_AP_subset[['BMI_범주', '입원기간', '입원일자', '퇴원일자']]\n",
    "df_BMI.info()"
   ]
  },
  {
   "cell_type": "code",
   "execution_count": 41,
   "id": "013f89b9-d4e3-4074-9924-97925ae1dcfc",
   "metadata": {
    "tags": []
   },
   "outputs": [],
   "source": [
    "# 입원기간 이상치 제거\n",
    "df_Ba = df_BMI['입원기간'].describe()['25%']\n",
    "df_Bb = df_BMI['입원기간'].describe()['75%']\n",
    "df_Ba_IQR = df_Bb - df_Ba"
   ]
  },
  {
   "cell_type": "code",
   "execution_count": 42,
   "id": "f955fb9c-ead8-43b4-ab8e-a8243671b151",
   "metadata": {
    "tags": []
   },
   "outputs": [
    {
     "data": {
      "text/plain": [
       "(1.0, 2.0, 1.0)"
      ]
     },
     "execution_count": 42,
     "metadata": {},
     "output_type": "execute_result"
    }
   ],
   "source": [
    "df_Ba, df_Bb, df_Ba_IQR"
   ]
  },
  {
   "cell_type": "code",
   "execution_count": 18,
   "id": "aaa9ff4d-c2b6-4e87-972b-ce31f8db181c",
   "metadata": {
    "tags": []
   },
   "outputs": [],
   "source": [
    "df_Ba_up = df_Bb + 1.5 * df_Ba_IQR\n",
    "df_Ba_down = df_Ba - 1.5 * df_Ba_IQR"
   ]
  },
  {
   "cell_type": "code",
   "execution_count": 19,
   "id": "c65cccac-9f4d-4b78-9d8c-56ddcfe1e53d",
   "metadata": {
    "tags": []
   },
   "outputs": [
    {
     "data": {
      "text/plain": [
       "(3.5, -0.5)"
      ]
     },
     "execution_count": 19,
     "metadata": {},
     "output_type": "execute_result"
    }
   ],
   "source": [
    "df_Ba_up, df_Ba_down"
   ]
  },
  {
   "cell_type": "code",
   "execution_count": 20,
   "id": "6079e5e5-aa76-4997-8307-18528294d55c",
   "metadata": {
    "tags": []
   },
   "outputs": [],
   "source": [
    "df_B_condition = (df_BMI['입원기간'] <= df_Ba_up) & (df_BMI['입원기간'] >= df_Ba_down)\n",
    "df_ROS = df_ROS[df_B_condition]\n",
    "# 전체 리스트에서 입원기간의 이상치를 제거함\n",
    "df_BMI =  df_BMI[df_B_condition]"
   ]
  },
  {
   "cell_type": "code",
   "execution_count": 21,
   "id": "f89c5551-8aae-4ef8-a483-a708105bffd9",
   "metadata": {
    "tags": []
   },
   "outputs": [
    {
     "name": "stdout",
     "output_type": "stream",
     "text": [
      "<class 'pandas.core.frame.DataFrame'>\n",
      "Int64Index: 1684 entries, 0 to 1743\n",
      "Data columns (total 4 columns):\n",
      " #   Column  Non-Null Count  Dtype   \n",
      "---  ------  --------------  -----   \n",
      " 0   BMI_범주  1684 non-null   category\n",
      " 1   입원기간    1684 non-null   int32   \n",
      " 2   입원일자    1684 non-null   int64   \n",
      " 3   퇴원일자    1684 non-null   int64   \n",
      "dtypes: category(1), int32(1), int64(2)\n",
      "memory usage: 47.9 KB\n"
     ]
    }
   ],
   "source": [
    "df_BMI.info()"
   ]
  },
  {
   "cell_type": "code",
   "execution_count": 22,
   "id": "ae75cb59-8283-4893-8586-86d39abc843b",
   "metadata": {
    "tags": []
   },
   "outputs": [
    {
     "data": {
      "text/html": [
       "<div>\n",
       "<style scoped>\n",
       "    .dataframe tbody tr th:only-of-type {\n",
       "        vertical-align: middle;\n",
       "    }\n",
       "\n",
       "    .dataframe tbody tr th {\n",
       "        vertical-align: top;\n",
       "    }\n",
       "\n",
       "    .dataframe thead th {\n",
       "        text-align: right;\n",
       "    }\n",
       "</style>\n",
       "<table border=\"1\" class=\"dataframe\">\n",
       "  <thead>\n",
       "    <tr style=\"text-align: right;\">\n",
       "      <th></th>\n",
       "      <th>입원기간</th>\n",
       "    </tr>\n",
       "    <tr>\n",
       "      <th>BMI_범주</th>\n",
       "      <th></th>\n",
       "    </tr>\n",
       "  </thead>\n",
       "  <tbody>\n",
       "    <tr>\n",
       "      <th>저체중</th>\n",
       "      <td>1.333333</td>\n",
       "    </tr>\n",
       "    <tr>\n",
       "      <th>정상 체중</th>\n",
       "      <td>1.454251</td>\n",
       "    </tr>\n",
       "    <tr>\n",
       "      <th>과체중</th>\n",
       "      <td>1.449591</td>\n",
       "    </tr>\n",
       "    <tr>\n",
       "      <th>비만</th>\n",
       "      <td>1.538462</td>\n",
       "    </tr>\n",
       "  </tbody>\n",
       "</table>\n",
       "</div>"
      ],
      "text/plain": [
       "            입원기간\n",
       "BMI_범주          \n",
       "저체중     1.333333\n",
       "정상 체중   1.454251\n",
       "과체중     1.449591\n",
       "비만      1.538462"
      ]
     },
     "execution_count": 22,
     "metadata": {},
     "output_type": "execute_result"
    }
   ],
   "source": [
    "df_BMI.pivot_table(index='BMI_범주', values='입원기간', aggfunc=np.mean)"
   ]
  },
  {
   "cell_type": "code",
   "execution_count": 45,
   "id": "aab2d92a-3c8c-4485-ad26-9d3e4515cac1",
   "metadata": {
    "tags": []
   },
   "outputs": [
    {
     "data": {
      "image/png": "[encoded data removed]",
      "text/plain": [
       "<Figure size 640x480 with 1 Axes>"
      ]
     },
     "metadata": {},
     "output_type": "display_data"
    }
   ],
   "source": [
    "df_BMI_chart = sns.barplot(data=df_BMI, x='BMI_범주', y='입원기간')"
   ]
  },
  {
   "cell_type": "markdown",
   "id": "504ebc15-d570-4377-bbf0-0d8a938d5502",
   "metadata": {},
   "source": [
    "#### 따라서 BMI범주 비만일수록 입원기간이 더 길었다. "
   ]
  },
  {
   "cell_type": "markdown",
   "id": "db8ce304-4e42-48f6-a597-71b7791642a4",
   "metadata": {},
   "source": [
    "#### 7. 종양진행여부와 입원기간"
   ]
  },
  {
   "cell_type": "code",
   "execution_count": 24,
   "id": "bfbfdf78-b9ab-45ef-8c14-a92f948affe6",
   "metadata": {
    "tags": []
   },
   "outputs": [
    {
     "name": "stdout",
     "output_type": "stream",
     "text": [
      "<class 'pandas.core.frame.DataFrame'>\n",
      "Int64Index: 1684 entries, 0 to 1743\n",
      "Data columns (total 2 columns):\n",
      " #   Column  Non-Null Count  Dtype\n",
      "---  ------  --------------  -----\n",
      " 0   종양진행여부  1684 non-null   int64\n",
      " 1   입원기간    1684 non-null   int64\n",
      "dtypes: int64(2)\n",
      "memory usage: 39.5 KB\n"
     ]
    }
   ],
   "source": [
    "df_Tumor = df_ROS[['종양진행여부', '입원기간']]\n",
    "df_Tumor.info()"
   ]
  },
  {
   "cell_type": "code",
   "execution_count": 26,
   "id": "2c356921-5bdc-472b-957b-1590cd79e707",
   "metadata": {
    "tags": []
   },
   "outputs": [
    {
     "data": {
      "text/html": [
       "<div>\n",
       "<style scoped>\n",
       "    .dataframe tbody tr th:only-of-type {\n",
       "        vertical-align: middle;\n",
       "    }\n",
       "\n",
       "    .dataframe tbody tr th {\n",
       "        vertical-align: top;\n",
       "    }\n",
       "\n",
       "    .dataframe thead th {\n",
       "        text-align: right;\n",
       "    }\n",
       "</style>\n",
       "<table border=\"1\" class=\"dataframe\">\n",
       "  <thead>\n",
       "    <tr style=\"text-align: right;\">\n",
       "      <th></th>\n",
       "      <th>입원기간</th>\n",
       "    </tr>\n",
       "    <tr>\n",
       "      <th>종양진행여부</th>\n",
       "      <th></th>\n",
       "    </tr>\n",
       "  </thead>\n",
       "  <tbody>\n",
       "    <tr>\n",
       "      <th>0</th>\n",
       "      <td>1.452055</td>\n",
       "    </tr>\n",
       "    <tr>\n",
       "      <th>1</th>\n",
       "      <td>2.000000</td>\n",
       "    </tr>\n",
       "  </tbody>\n",
       "</table>\n",
       "</div>"
      ],
      "text/plain": [
       "            입원기간\n",
       "종양진행여부          \n",
       "0       1.452055\n",
       "1       2.000000"
      ]
     },
     "execution_count": 26,
     "metadata": {},
     "output_type": "execute_result"
    }
   ],
   "source": [
    "df_Tumor.pivot_table(index='종양진행여부', values='입원기간', aggfunc=np.mean)"
   ]
  },
  {
   "cell_type": "code",
   "execution_count": 28,
   "id": "4cd7fbc2-3729-4d73-8b30-0efce4262dbe",
   "metadata": {
    "tags": []
   },
   "outputs": [
    {
     "data": {
      "image/png": "[encoded data removed]",
      "text/plain": [
       "<Figure size 640x480 with 1 Axes>"
      ]
     },
     "metadata": {},
     "output_type": "display_data"
    }
   ],
   "source": [
    "df_Tumor_chart = sns.barplot(data=df_Tumor, x='종양진행여부', y='입원기간')"
   ]
  },
  {
   "cell_type": "markdown",
   "id": "6fab7355-b52b-4481-8de6-732aa0a4e0b1",
   "metadata": {},
   "source": [
    "##### 따라서, 종양진행여부가 있는 환자의 평균 입원기간이 더 길었다."
   ]
  },
  {
   "cell_type": "markdown",
   "id": "7e6d3889-c2af-4721-b575-80dfde89de9e",
   "metadata": {},
   "source": [
    "#### 8. 혈전합병증여부와 입원기간"
   ]
  },
  {
   "cell_type": "code",
   "execution_count": 31,
   "id": "1cc00aa7-ae6d-440d-8bbb-286209735d6f",
   "metadata": {
    "tags": []
   },
   "outputs": [
    {
     "name": "stdout",
     "output_type": "stream",
     "text": [
      "<class 'pandas.core.frame.DataFrame'>\n",
      "Int64Index: 1684 entries, 0 to 1743\n",
      "Data columns (total 2 columns):\n",
      " #   Column   Non-Null Count  Dtype\n",
      "---  ------   --------------  -----\n",
      " 0   혈전합병증여부  1684 non-null   int64\n",
      " 1   입원기간     1684 non-null   int64\n",
      "dtypes: int64(2)\n",
      "memory usage: 39.5 KB\n"
     ]
    }
   ],
   "source": [
    "df_thrombus = df_ROS[['혈전합병증여부', '입원기간']]\n",
    "df_thrombus.info()"
   ]
  },
  {
   "cell_type": "code",
   "execution_count": 32,
   "id": "00a1a024-399a-4976-b5b5-adeebde1894f",
   "metadata": {
    "tags": []
   },
   "outputs": [
    {
     "data": {
      "text/html": [
       "<div>\n",
       "<style scoped>\n",
       "    .dataframe tbody tr th:only-of-type {\n",
       "        vertical-align: middle;\n",
       "    }\n",
       "\n",
       "    .dataframe tbody tr th {\n",
       "        vertical-align: top;\n",
       "    }\n",
       "\n",
       "    .dataframe thead th {\n",
       "        text-align: right;\n",
       "    }\n",
       "</style>\n",
       "<table border=\"1\" class=\"dataframe\">\n",
       "  <thead>\n",
       "    <tr style=\"text-align: right;\">\n",
       "      <th></th>\n",
       "      <th>입원기간</th>\n",
       "    </tr>\n",
       "    <tr>\n",
       "      <th>혈전합병증여부</th>\n",
       "      <th></th>\n",
       "    </tr>\n",
       "  </thead>\n",
       "  <tbody>\n",
       "    <tr>\n",
       "      <th>0</th>\n",
       "      <td>1.453571</td>\n",
       "    </tr>\n",
       "    <tr>\n",
       "      <th>1</th>\n",
       "      <td>1.500000</td>\n",
       "    </tr>\n",
       "  </tbody>\n",
       "</table>\n",
       "</div>"
      ],
      "text/plain": [
       "             입원기간\n",
       "혈전합병증여부          \n",
       "0        1.453571\n",
       "1        1.500000"
      ]
     },
     "execution_count": 32,
     "metadata": {},
     "output_type": "execute_result"
    }
   ],
   "source": [
    "df_thrombus.pivot_table(index='혈전합병증여부', values='입원기간', aggfunc=np.mean)"
   ]
  },
  {
   "cell_type": "code",
   "execution_count": 33,
   "id": "8949bdbd-2edb-4681-96d8-b55f10d822bb",
   "metadata": {
    "tags": []
   },
   "outputs": [
    {
     "data": {
      "image/png": "[encoded data removed]",
      "text/plain": [
       "<Figure size 640x480 with 1 Axes>"
      ]
     },
     "metadata": {},
     "output_type": "display_data"
    }
   ],
   "source": [
    "df_thrombus_chart = sns.barplot(data=df_thrombus, x='혈전합병증여부', y='입원기간')"
   ]
  },
  {
   "cell_type": "markdown",
   "id": "4f2095f9-4a7e-4ad8-9a40-8f399251ef63",
   "metadata": {},
   "source": [
    "##### 따라서, 혈전합병증이 있는 환자의 평균 입원기간이 조금 더 길었다."
   ]
  },
  {
   "cell_type": "markdown",
   "id": "627c1c74-e4db-4ee0-ba71-5b01e469862e",
   "metadata": {
    "tags": []
   },
   "source": [
    "#### 9. 수술기법과 입원기간"
   ]
  },
  {
   "cell_type": "code",
   "execution_count": 35,
   "id": "4d11eb26-4a8e-423e-bde8-eab9d04d7f6a",
   "metadata": {
    "tags": []
   },
   "outputs": [
    {
     "data": {
      "text/html": [
       "<div>\n",
       "<style scoped>\n",
       "    .dataframe tbody tr th:only-of-type {\n",
       "        vertical-align: middle;\n",
       "    }\n",
       "\n",
       "    .dataframe tbody tr th {\n",
       "        vertical-align: top;\n",
       "    }\n",
       "\n",
       "    .dataframe thead th {\n",
       "        text-align: right;\n",
       "    }\n",
       "</style>\n",
       "<table border=\"1\" class=\"dataframe\">\n",
       "  <thead>\n",
       "    <tr style=\"text-align: right;\">\n",
       "      <th></th>\n",
       "      <th>수술기법</th>\n",
       "      <th>입원기간</th>\n",
       "    </tr>\n",
       "  </thead>\n",
       "  <tbody>\n",
       "    <tr>\n",
       "      <th>0</th>\n",
       "      <td>TELD</td>\n",
       "      <td>2</td>\n",
       "    </tr>\n",
       "    <tr>\n",
       "      <th>1</th>\n",
       "      <td>TELD</td>\n",
       "      <td>1</td>\n",
       "    </tr>\n",
       "    <tr>\n",
       "      <th>2</th>\n",
       "      <td>TELD</td>\n",
       "      <td>1</td>\n",
       "    </tr>\n",
       "    <tr>\n",
       "      <th>3</th>\n",
       "      <td>TELD</td>\n",
       "      <td>1</td>\n",
       "    </tr>\n",
       "    <tr>\n",
       "      <th>4</th>\n",
       "      <td>TELD</td>\n",
       "      <td>2</td>\n",
       "    </tr>\n",
       "    <tr>\n",
       "      <th>...</th>\n",
       "      <td>...</td>\n",
       "      <td>...</td>\n",
       "    </tr>\n",
       "    <tr>\n",
       "      <th>1738</th>\n",
       "      <td>IELD</td>\n",
       "      <td>2</td>\n",
       "    </tr>\n",
       "    <tr>\n",
       "      <th>1740</th>\n",
       "      <td>TELD</td>\n",
       "      <td>2</td>\n",
       "    </tr>\n",
       "    <tr>\n",
       "      <th>1741</th>\n",
       "      <td>TELD</td>\n",
       "      <td>3</td>\n",
       "    </tr>\n",
       "    <tr>\n",
       "      <th>1742</th>\n",
       "      <td>TELD</td>\n",
       "      <td>3</td>\n",
       "    </tr>\n",
       "    <tr>\n",
       "      <th>1743</th>\n",
       "      <td>IELD</td>\n",
       "      <td>3</td>\n",
       "    </tr>\n",
       "  </tbody>\n",
       "</table>\n",
       "<p>1684 rows × 2 columns</p>\n",
       "</div>"
      ],
      "text/plain": [
       "      수술기법  입원기간\n",
       "0     TELD     2\n",
       "1     TELD     1\n",
       "2     TELD     1\n",
       "3     TELD     1\n",
       "4     TELD     2\n",
       "...    ...   ...\n",
       "1738  IELD     2\n",
       "1740  TELD     2\n",
       "1741  TELD     3\n",
       "1742  TELD     3\n",
       "1743  IELD     3\n",
       "\n",
       "[1684 rows x 2 columns]"
      ]
     },
     "execution_count": 35,
     "metadata": {},
     "output_type": "execute_result"
    }
   ],
   "source": [
    "df_surgicaltechnique = df_ROS[['수술기법', '입원기간']]\n",
    "df_surgicaltechnique"
   ]
  },
  {
   "cell_type": "code",
   "execution_count": 36,
   "id": "55b0c4ac-a1e1-4698-b5c2-d3c290da028d",
   "metadata": {
    "tags": []
   },
   "outputs": [
    {
     "data": {
      "text/html": [
       "<div>\n",
       "<style scoped>\n",
       "    .dataframe tbody tr th:only-of-type {\n",
       "        vertical-align: middle;\n",
       "    }\n",
       "\n",
       "    .dataframe tbody tr th {\n",
       "        vertical-align: top;\n",
       "    }\n",
       "\n",
       "    .dataframe thead th {\n",
       "        text-align: right;\n",
       "    }\n",
       "</style>\n",
       "<table border=\"1\" class=\"dataframe\">\n",
       "  <thead>\n",
       "    <tr style=\"text-align: right;\">\n",
       "      <th></th>\n",
       "      <th>입원기간</th>\n",
       "    </tr>\n",
       "    <tr>\n",
       "      <th>수술기법</th>\n",
       "      <th></th>\n",
       "    </tr>\n",
       "  </thead>\n",
       "  <tbody>\n",
       "    <tr>\n",
       "      <th>IELD</th>\n",
       "      <td>1.503937</td>\n",
       "    </tr>\n",
       "    <tr>\n",
       "      <th>TELD</th>\n",
       "      <td>1.449583</td>\n",
       "    </tr>\n",
       "  </tbody>\n",
       "</table>\n",
       "</div>"
      ],
      "text/plain": [
       "          입원기간\n",
       "수술기법          \n",
       "IELD  1.503937\n",
       "TELD  1.449583"
      ]
     },
     "execution_count": 36,
     "metadata": {},
     "output_type": "execute_result"
    }
   ],
   "source": [
    "df_surgicaltechnique.pivot_table(index='수술기법', values='입원기간', aggfunc=np.mean)"
   ]
  },
  {
   "cell_type": "code",
   "execution_count": 37,
   "id": "17d3365a-9734-4b6a-9166-ab258ca5986b",
   "metadata": {
    "tags": []
   },
   "outputs": [
    {
     "data": {
      "image/png": "[encoded data removed]",
      "text/plain": [
       "<Figure size 640x480 with 1 Axes>"
      ]
     },
     "metadata": {},
     "output_type": "display_data"
    }
   ],
   "source": [
    "df_surgicaltechnique_chart = sns.barplot(data=df_surgicaltechnique, x='수술기법', y='입원기간')"
   ]
  },
  {
   "cell_type": "markdown",
   "id": "7c6ef708-abae-4f20-960f-424631969a76",
   "metadata": {},
   "source": [
    "##### 따라서, IELD으로 수술한 환자의 평균 입원기간이 조금 더 길었다.\n",
    "###### 수술방법 \n",
    "###### Interlaminar Endoscopic Lumbar Disectomy IELD  층간 내시경 요추 추간판 절제술\n",
    "###### Transforaminal Endoscopic Lumbar Disectomy TELD 추간공 내시경적 요추 추간판 절제술"
   ]
  },
  {
   "cell_type": "markdown",
   "id": "f6a0a61e-d5ae-4c95-9f66-4d18e405fe77",
   "metadata": {},
   "source": [
    "#### 10. 재발여부와 입원기간"
   ]
  },
  {
   "cell_type": "code",
   "execution_count": 38,
   "id": "f2b996e9-c095-47ea-8e15-98ca32113d4e",
   "metadata": {
    "tags": []
   },
   "outputs": [
    {
     "data": {
      "text/html": [
       "<div>\n",
       "<style scoped>\n",
       "    .dataframe tbody tr th:only-of-type {\n",
       "        vertical-align: middle;\n",
       "    }\n",
       "\n",
       "    .dataframe tbody tr th {\n",
       "        vertical-align: top;\n",
       "    }\n",
       "\n",
       "    .dataframe thead th {\n",
       "        text-align: right;\n",
       "    }\n",
       "</style>\n",
       "<table border=\"1\" class=\"dataframe\">\n",
       "  <thead>\n",
       "    <tr style=\"text-align: right;\">\n",
       "      <th></th>\n",
       "      <th>재발여부</th>\n",
       "      <th>입원기간</th>\n",
       "    </tr>\n",
       "  </thead>\n",
       "  <tbody>\n",
       "    <tr>\n",
       "      <th>0</th>\n",
       "      <td>0</td>\n",
       "      <td>2</td>\n",
       "    </tr>\n",
       "    <tr>\n",
       "      <th>1</th>\n",
       "      <td>0</td>\n",
       "      <td>1</td>\n",
       "    </tr>\n",
       "    <tr>\n",
       "      <th>2</th>\n",
       "      <td>0</td>\n",
       "      <td>1</td>\n",
       "    </tr>\n",
       "    <tr>\n",
       "      <th>3</th>\n",
       "      <td>0</td>\n",
       "      <td>1</td>\n",
       "    </tr>\n",
       "    <tr>\n",
       "      <th>4</th>\n",
       "      <td>0</td>\n",
       "      <td>2</td>\n",
       "    </tr>\n",
       "    <tr>\n",
       "      <th>...</th>\n",
       "      <td>...</td>\n",
       "      <td>...</td>\n",
       "    </tr>\n",
       "    <tr>\n",
       "      <th>1738</th>\n",
       "      <td>1</td>\n",
       "      <td>2</td>\n",
       "    </tr>\n",
       "    <tr>\n",
       "      <th>1740</th>\n",
       "      <td>0</td>\n",
       "      <td>2</td>\n",
       "    </tr>\n",
       "    <tr>\n",
       "      <th>1741</th>\n",
       "      <td>0</td>\n",
       "      <td>3</td>\n",
       "    </tr>\n",
       "    <tr>\n",
       "      <th>1742</th>\n",
       "      <td>0</td>\n",
       "      <td>3</td>\n",
       "    </tr>\n",
       "    <tr>\n",
       "      <th>1743</th>\n",
       "      <td>0</td>\n",
       "      <td>3</td>\n",
       "    </tr>\n",
       "  </tbody>\n",
       "</table>\n",
       "<p>1684 rows × 2 columns</p>\n",
       "</div>"
      ],
      "text/plain": [
       "      재발여부  입원기간\n",
       "0        0     2\n",
       "1        0     1\n",
       "2        0     1\n",
       "3        0     1\n",
       "4        0     2\n",
       "...    ...   ...\n",
       "1738     1     2\n",
       "1740     0     2\n",
       "1741     0     3\n",
       "1742     0     3\n",
       "1743     0     3\n",
       "\n",
       "[1684 rows x 2 columns]"
      ]
     },
     "execution_count": 38,
     "metadata": {},
     "output_type": "execute_result"
    }
   ],
   "source": [
    "df_recurrence = df_ROS[['재발여부', '입원기간']]\n",
    "df_recurrence"
   ]
  },
  {
   "cell_type": "code",
   "execution_count": 39,
   "id": "e0ecd089-30c8-499b-b597-f97a70146463",
   "metadata": {
    "tags": []
   },
   "outputs": [
    {
     "data": {
      "text/html": [
       "<div>\n",
       "<style scoped>\n",
       "    .dataframe tbody tr th:only-of-type {\n",
       "        vertical-align: middle;\n",
       "    }\n",
       "\n",
       "    .dataframe tbody tr th {\n",
       "        vertical-align: top;\n",
       "    }\n",
       "\n",
       "    .dataframe thead th {\n",
       "        text-align: right;\n",
       "    }\n",
       "</style>\n",
       "<table border=\"1\" class=\"dataframe\">\n",
       "  <thead>\n",
       "    <tr style=\"text-align: right;\">\n",
       "      <th></th>\n",
       "      <th>입원기간</th>\n",
       "    </tr>\n",
       "    <tr>\n",
       "      <th>재발여부</th>\n",
       "      <th></th>\n",
       "    </tr>\n",
       "  </thead>\n",
       "  <tbody>\n",
       "    <tr>\n",
       "      <th>0</th>\n",
       "      <td>1.458697</td>\n",
       "    </tr>\n",
       "    <tr>\n",
       "      <th>1</th>\n",
       "      <td>1.415385</td>\n",
       "    </tr>\n",
       "  </tbody>\n",
       "</table>\n",
       "</div>"
      ],
      "text/plain": [
       "          입원기간\n",
       "재발여부          \n",
       "0     1.458697\n",
       "1     1.415385"
      ]
     },
     "execution_count": 39,
     "metadata": {},
     "output_type": "execute_result"
    }
   ],
   "source": [
    "df_recurrence.pivot_table(index='재발여부', values='입원기간', aggfunc=np.mean)"
   ]
  },
  {
   "cell_type": "code",
   "execution_count": 40,
   "id": "d337c6bd-c1ab-40a5-b913-42b8e6c365b3",
   "metadata": {
    "tags": []
   },
   "outputs": [
    {
     "data": {
      "image/png": "[encoded data removed]",
      "text/plain": [
       "<Figure size 640x480 with 1 Axes>"
      ]
     },
     "metadata": {},
     "output_type": "display_data"
    }
   ],
   "source": [
    "df_recurrence_chart = sns.barplot(data=df_recurrence, x='재발여부', y='입원기간')"
   ]
  },
  {
   "cell_type": "markdown",
   "id": "dab9c80d-3c51-47fb-a1a8-037b51c6714a",
   "metadata": {},
   "source": [
    "##### 따라서, 재발여부 없을 경우 평균 입원기간이 조금 더 길었다."
   ]
  }
 ],
 "metadata": {
  "kernelspec": {
   "display_name": "Python 3 (ipykernel)",
   "language": "python",
   "name": "python3"
  },
  "language_info": {
   "codemirror_mode": {
    "name": "ipython",
    "version": 3
   },
   "file_extension": ".py",
   "mimetype": "text/x-python",
   "name": "python",
   "nbconvert_exporter": "python",
   "pygments_lexer": "ipython3",
   "version": "3.11.3"
  }
 },
 "nbformat": 4,
 "nbformat_minor": 5
}
