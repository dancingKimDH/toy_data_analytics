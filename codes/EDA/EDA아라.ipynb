{
 "cells": [
  {
   "cell_type": "code",
   "execution_count": 26,
   "id": "5fabc050-6859-465f-b7fb-3784b4af1dd6",
   "metadata": {},
   "outputs": [],
   "source": [
    "# 수술방법 \n",
    "# Interlaminar Endoscopic Lumbar Disectomy IELD  층간 내시경 요추 추간판 절제술\n",
    "# Transforaminal-Endoscopic Lumbar Disectomy TELD 경추공 내시경적 요추 추간판 절제술"
   ]
  },
  {
   "cell_type": "code",
   "execution_count": 1,
   "id": "ea5a59c5-3473-41a1-975a-3a904f5ce6cb",
   "metadata": {
    "tags": []
   },
   "outputs": [],
   "source": [
    "import matplotlib.pyplot as plt\n",
    "import matplotlib as mpl\n",
    "mpl.rc('font',family='Malgun Gothic')\n",
    "import seaborn as sns\n",
    "import pandas as pd"
   ]
  },
  {
   "cell_type": "code",
   "execution_count": 2,
   "id": "037a53fd-cd44-47de-a506-afb6f2b43701",
   "metadata": {
    "tags": []
   },
   "outputs": [
    {
     "data": {
      "text/html": [
       "<div>\n",
       "<style scoped>\n",
       "    .dataframe tbody tr th:only-of-type {\n",
       "        vertical-align: middle;\n",
       "    }\n",
       "\n",
       "    .dataframe tbody tr th {\n",
       "        vertical-align: top;\n",
       "    }\n",
       "\n",
       "    .dataframe thead th {\n",
       "        text-align: right;\n",
       "    }\n",
       "</style>\n",
       "<table border=\"1\" class=\"dataframe\">\n",
       "  <thead>\n",
       "    <tr style=\"text-align: right;\">\n",
       "      <th></th>\n",
       "      <th>Unnamed: 0.2</th>\n",
       "      <th>Unnamed: 0.1</th>\n",
       "      <th>Unnamed: 0</th>\n",
       "      <th>환자ID</th>\n",
       "      <th>Large Lymphocyte</th>\n",
       "      <th>Location of herniation</th>\n",
       "      <th>가족력</th>\n",
       "      <th>간질성폐질환</th>\n",
       "      <th>고혈압여부</th>\n",
       "      <th>과거수술횟수</th>\n",
       "      <th>...</th>\n",
       "      <th>MF + ES</th>\n",
       "      <th>Modic change</th>\n",
       "      <th>PI</th>\n",
       "      <th>PT</th>\n",
       "      <th>Seg Angle(raw)</th>\n",
       "      <th>Vaccum disc</th>\n",
       "      <th>디스크단면적</th>\n",
       "      <th>디스크위치</th>\n",
       "      <th>척추이동척도</th>\n",
       "      <th>척추전방위증</th>\n",
       "    </tr>\n",
       "  </thead>\n",
       "  <tbody>\n",
       "    <tr>\n",
       "      <th>0</th>\n",
       "      <td>0</td>\n",
       "      <td>0</td>\n",
       "      <td>0</td>\n",
       "      <td>1PT</td>\n",
       "      <td>22.8</td>\n",
       "      <td>3</td>\n",
       "      <td>0.0</td>\n",
       "      <td>0</td>\n",
       "      <td>0</td>\n",
       "      <td>0</td>\n",
       "      <td>...</td>\n",
       "      <td>1824.6</td>\n",
       "      <td>3</td>\n",
       "      <td>51.6</td>\n",
       "      <td>36.6</td>\n",
       "      <td>14.4</td>\n",
       "      <td>0</td>\n",
       "      <td>2048.5</td>\n",
       "      <td>4</td>\n",
       "      <td>Down</td>\n",
       "      <td>0</td>\n",
       "    </tr>\n",
       "    <tr>\n",
       "      <th>1</th>\n",
       "      <td>1</td>\n",
       "      <td>1</td>\n",
       "      <td>1</td>\n",
       "      <td>2PT</td>\n",
       "      <td>44.9</td>\n",
       "      <td>4</td>\n",
       "      <td>0.0</td>\n",
       "      <td>0</td>\n",
       "      <td>0</td>\n",
       "      <td>0</td>\n",
       "      <td>...</td>\n",
       "      <td>1737.5</td>\n",
       "      <td>0</td>\n",
       "      <td>40.8</td>\n",
       "      <td>7.2</td>\n",
       "      <td>17.8</td>\n",
       "      <td>0</td>\n",
       "      <td>1753.1</td>\n",
       "      <td>4</td>\n",
       "      <td>Up</td>\n",
       "      <td>0</td>\n",
       "    </tr>\n",
       "  </tbody>\n",
       "</table>\n",
       "<p>2 rows × 51 columns</p>\n",
       "</div>"
      ],
      "text/plain": [
       "   Unnamed: 0.2  Unnamed: 0.1  Unnamed: 0 환자ID  Large Lymphocyte  \\\n",
       "0             0             0           0  1PT              22.8   \n",
       "1             1             1           1  2PT              44.9   \n",
       "\n",
       "   Location of herniation  가족력  간질성폐질환  고혈압여부  과거수술횟수  ...  MF + ES  \\\n",
       "0                       3  0.0       0      0       0  ...   1824.6   \n",
       "1                       4  0.0       0      0       0  ...   1737.5   \n",
       "\n",
       "   Modic change    PI    PT  Seg Angle(raw)  Vaccum disc  디스크단면적  디스크위치  \\\n",
       "0             3  51.6  36.6            14.4            0  2048.5      4   \n",
       "1             0  40.8   7.2            17.8            0  1753.1      4   \n",
       "\n",
       "   척추이동척도  척추전방위증  \n",
       "0    Down       0  \n",
       "1      Up       0  \n",
       "\n",
       "[2 rows x 51 columns]"
      ]
     },
     "execution_count": 2,
     "metadata": {},
     "output_type": "execute_result"
    }
   ],
   "source": [
    "df_ROS = pd.read_csv('../../datasets/RecurrenceOfSurgery.csv')\n",
    "df_ROS.head(2)"
   ]
  },
  {
   "cell_type": "code",
   "execution_count": 6,
   "id": "f27b7433-66aa-466e-8af7-beec924488e4",
   "metadata": {
    "tags": []
   },
   "outputs": [
    {
     "data": {
      "text/plain": [
       "Index(['Unnamed: 0.2', 'Unnamed: 0.1', 'Unnamed: 0', '환자ID',\n",
       "       'Large Lymphocyte', 'Location of herniation', '가족력', '간질성폐질환', '고혈압여부',\n",
       "       '과거수술횟수', '당뇨여부', '말초동맥질환여부', '빈혈여부', '성별', '스테로이드치료', '신부전여부', '신장',\n",
       "       '심혈관질환', '암발병여부', '연령', '우울증여부', '입원기간', '입원일자', '종양진행여부', '체중', '퇴원일자',\n",
       "       '헤모글로빈수치', '혈전합병증여부', '환자통증정도', '흡연여부', '통증기간(월)', '수술기법', '수술시간',\n",
       "       '수술실패여부', '수술일자', '재발여부', '혈액형', '전방디스크높이(mm)', '후방디스크높이(mm)', '지방축적도',\n",
       "       'Instability', 'MF + ES', 'Modic change', 'PI', 'PT', 'Seg Angle(raw)',\n",
       "       'Vaccum disc', '디스크단면적', '디스크위치', '척추이동척도', '척추전방위증'],\n",
       "      dtype='object')"
      ]
     },
     "execution_count": 6,
     "metadata": {},
     "output_type": "execute_result"
    }
   ],
   "source": [
    "df_ROS.columns"
   ]
  },
  {
   "cell_type": "code",
   "execution_count": 15,
   "id": "1836193a-9cef-47cc-8039-ad561ee50f91",
   "metadata": {
    "tags": []
   },
   "outputs": [
    {
     "data": {
      "text/html": [
       "<div>\n",
       "<style scoped>\n",
       "    .dataframe tbody tr th:only-of-type {\n",
       "        vertical-align: middle;\n",
       "    }\n",
       "\n",
       "    .dataframe tbody tr th {\n",
       "        vertical-align: top;\n",
       "    }\n",
       "\n",
       "    .dataframe thead th {\n",
       "        text-align: right;\n",
       "    }\n",
       "</style>\n",
       "<table border=\"1\" class=\"dataframe\">\n",
       "  <thead>\n",
       "    <tr style=\"text-align: right;\">\n",
       "      <th></th>\n",
       "      <th>당뇨여부</th>\n",
       "      <th>스테로이드치료</th>\n",
       "      <th>신부전여부</th>\n",
       "      <th>심혈관질환</th>\n",
       "      <th>암발병여부</th>\n",
       "      <th>신장</th>\n",
       "      <th>체중</th>\n",
       "      <th>종양진행여부</th>\n",
       "      <th>혈전합병증여부</th>\n",
       "      <th>수술기법</th>\n",
       "      <th>재발여부</th>\n",
       "      <th>입원기간</th>\n",
       "    </tr>\n",
       "  </thead>\n",
       "  <tbody>\n",
       "    <tr>\n",
       "      <th>0</th>\n",
       "      <td>0</td>\n",
       "      <td>1</td>\n",
       "      <td>0</td>\n",
       "      <td>0</td>\n",
       "      <td>0</td>\n",
       "      <td>163</td>\n",
       "      <td>60.3</td>\n",
       "      <td>0</td>\n",
       "      <td>0</td>\n",
       "      <td>TELD</td>\n",
       "      <td>0</td>\n",
       "      <td>2</td>\n",
       "    </tr>\n",
       "    <tr>\n",
       "      <th>1</th>\n",
       "      <td>0</td>\n",
       "      <td>1</td>\n",
       "      <td>0</td>\n",
       "      <td>0</td>\n",
       "      <td>0</td>\n",
       "      <td>171</td>\n",
       "      <td>71.7</td>\n",
       "      <td>0</td>\n",
       "      <td>0</td>\n",
       "      <td>TELD</td>\n",
       "      <td>0</td>\n",
       "      <td>1</td>\n",
       "    </tr>\n",
       "    <tr>\n",
       "      <th>2</th>\n",
       "      <td>0</td>\n",
       "      <td>1</td>\n",
       "      <td>0</td>\n",
       "      <td>0</td>\n",
       "      <td>0</td>\n",
       "      <td>178</td>\n",
       "      <td>77.1</td>\n",
       "      <td>0</td>\n",
       "      <td>0</td>\n",
       "      <td>TELD</td>\n",
       "      <td>0</td>\n",
       "      <td>1</td>\n",
       "    </tr>\n",
       "    <tr>\n",
       "      <th>3</th>\n",
       "      <td>0</td>\n",
       "      <td>0</td>\n",
       "      <td>0</td>\n",
       "      <td>0</td>\n",
       "      <td>0</td>\n",
       "      <td>174</td>\n",
       "      <td>74.2</td>\n",
       "      <td>0</td>\n",
       "      <td>0</td>\n",
       "      <td>TELD</td>\n",
       "      <td>0</td>\n",
       "      <td>1</td>\n",
       "    </tr>\n",
       "    <tr>\n",
       "      <th>4</th>\n",
       "      <td>0</td>\n",
       "      <td>1</td>\n",
       "      <td>0</td>\n",
       "      <td>0</td>\n",
       "      <td>0</td>\n",
       "      <td>183</td>\n",
       "      <td>80.7</td>\n",
       "      <td>0</td>\n",
       "      <td>0</td>\n",
       "      <td>TELD</td>\n",
       "      <td>0</td>\n",
       "      <td>2</td>\n",
       "    </tr>\n",
       "    <tr>\n",
       "      <th>...</th>\n",
       "      <td>...</td>\n",
       "      <td>...</td>\n",
       "      <td>...</td>\n",
       "      <td>...</td>\n",
       "      <td>...</td>\n",
       "      <td>...</td>\n",
       "      <td>...</td>\n",
       "      <td>...</td>\n",
       "      <td>...</td>\n",
       "      <td>...</td>\n",
       "      <td>...</td>\n",
       "      <td>...</td>\n",
       "    </tr>\n",
       "    <tr>\n",
       "      <th>1739</th>\n",
       "      <td>0</td>\n",
       "      <td>1</td>\n",
       "      <td>0</td>\n",
       "      <td>0</td>\n",
       "      <td>0</td>\n",
       "      <td>163</td>\n",
       "      <td>52.0</td>\n",
       "      <td>0</td>\n",
       "      <td>0</td>\n",
       "      <td>TELD</td>\n",
       "      <td>0</td>\n",
       "      <td>12</td>\n",
       "    </tr>\n",
       "    <tr>\n",
       "      <th>1740</th>\n",
       "      <td>0</td>\n",
       "      <td>1</td>\n",
       "      <td>0</td>\n",
       "      <td>0</td>\n",
       "      <td>0</td>\n",
       "      <td>185</td>\n",
       "      <td>64.0</td>\n",
       "      <td>0</td>\n",
       "      <td>0</td>\n",
       "      <td>TELD</td>\n",
       "      <td>0</td>\n",
       "      <td>2</td>\n",
       "    </tr>\n",
       "    <tr>\n",
       "      <th>1741</th>\n",
       "      <td>0</td>\n",
       "      <td>1</td>\n",
       "      <td>0</td>\n",
       "      <td>0</td>\n",
       "      <td>0</td>\n",
       "      <td>160</td>\n",
       "      <td>60.0</td>\n",
       "      <td>0</td>\n",
       "      <td>0</td>\n",
       "      <td>TELD</td>\n",
       "      <td>0</td>\n",
       "      <td>3</td>\n",
       "    </tr>\n",
       "    <tr>\n",
       "      <th>1742</th>\n",
       "      <td>0</td>\n",
       "      <td>1</td>\n",
       "      <td>0</td>\n",
       "      <td>0</td>\n",
       "      <td>0</td>\n",
       "      <td>173</td>\n",
       "      <td>70.0</td>\n",
       "      <td>0</td>\n",
       "      <td>0</td>\n",
       "      <td>TELD</td>\n",
       "      <td>0</td>\n",
       "      <td>3</td>\n",
       "    </tr>\n",
       "    <tr>\n",
       "      <th>1743</th>\n",
       "      <td>0</td>\n",
       "      <td>1</td>\n",
       "      <td>0</td>\n",
       "      <td>0</td>\n",
       "      <td>0</td>\n",
       "      <td>167</td>\n",
       "      <td>70.0</td>\n",
       "      <td>0</td>\n",
       "      <td>0</td>\n",
       "      <td>IELD</td>\n",
       "      <td>0</td>\n",
       "      <td>3</td>\n",
       "    </tr>\n",
       "  </tbody>\n",
       "</table>\n",
       "<p>1744 rows × 12 columns</p>\n",
       "</div>"
      ],
      "text/plain": [
       "      당뇨여부  스테로이드치료  신부전여부  심혈관질환  암발병여부   신장    체중  종양진행여부  혈전합병증여부  수술기법  \\\n",
       "0        0        1      0      0      0  163  60.3       0        0  TELD   \n",
       "1        0        1      0      0      0  171  71.7       0        0  TELD   \n",
       "2        0        1      0      0      0  178  77.1       0        0  TELD   \n",
       "3        0        0      0      0      0  174  74.2       0        0  TELD   \n",
       "4        0        1      0      0      0  183  80.7       0        0  TELD   \n",
       "...    ...      ...    ...    ...    ...  ...   ...     ...      ...   ...   \n",
       "1739     0        1      0      0      0  163  52.0       0        0  TELD   \n",
       "1740     0        1      0      0      0  185  64.0       0        0  TELD   \n",
       "1741     0        1      0      0      0  160  60.0       0        0  TELD   \n",
       "1742     0        1      0      0      0  173  70.0       0        0  TELD   \n",
       "1743     0        1      0      0      0  167  70.0       0        0  IELD   \n",
       "\n",
       "      재발여부  입원기간  \n",
       "0        0     2  \n",
       "1        0     1  \n",
       "2        0     1  \n",
       "3        0     1  \n",
       "4        0     2  \n",
       "...    ...   ...  \n",
       "1739     0    12  \n",
       "1740     0     2  \n",
       "1741     0     3  \n",
       "1742     0     3  \n",
       "1743     0     3  \n",
       "\n",
       "[1744 rows x 12 columns]"
      ]
     },
     "execution_count": 15,
     "metadata": {},
     "output_type": "execute_result"
    }
   ],
   "source": [
    "df_ROS_AP = df_ROS[['당뇨여부','스테로이드치료','신부전여부','심혈관질환','암발병여부','신장','체중','종양진행여부','혈전합병증여부','수술기법','재발여부','입원기간']]\n",
    "df_ROS_AP"
   ]
  },
  {
   "cell_type": "code",
   "execution_count": 16,
   "id": "e21d960d-0d2e-4b40-87a5-fb53e8eb36d3",
   "metadata": {
    "tags": []
   },
   "outputs": [
    {
     "name": "stdout",
     "output_type": "stream",
     "text": [
      "<class 'pandas.core.frame.DataFrame'>\n",
      "RangeIndex: 1744 entries, 0 to 1743\n",
      "Data columns (total 12 columns):\n",
      " #   Column   Non-Null Count  Dtype  \n",
      "---  ------   --------------  -----  \n",
      " 0   당뇨여부     1744 non-null   int64  \n",
      " 1   스테로이드치료  1744 non-null   int64  \n",
      " 2   신부전여부    1744 non-null   int64  \n",
      " 3   심혈관질환    1744 non-null   int64  \n",
      " 4   암발병여부    1744 non-null   int64  \n",
      " 5   신장       1744 non-null   int64  \n",
      " 6   체중       1744 non-null   float64\n",
      " 7   종양진행여부   1744 non-null   int64  \n",
      " 8   혈전합병증여부  1744 non-null   int64  \n",
      " 9   수술기법     1744 non-null   object \n",
      " 10  재발여부     1744 non-null   int64  \n",
      " 11  입원기간     1744 non-null   int64  \n",
      "dtypes: float64(1), int64(10), object(1)\n",
      "memory usage: 163.6+ KB\n"
     ]
    }
   ],
   "source": [
    "df_ROS_AP.info()"
   ]
  },
  {
   "cell_type": "code",
   "execution_count": 17,
   "id": "645c7ed6-3497-4364-82be-fc52232fc4e8",
   "metadata": {
    "tags": []
   },
   "outputs": [
    {
     "data": {
      "text/plain": [
       "당뇨여부       0\n",
       "스테로이드치료    0\n",
       "신부전여부      0\n",
       "심혈관질환      0\n",
       "암발병여부      0\n",
       "신장         0\n",
       "체중         0\n",
       "종양진행여부     0\n",
       "혈전합병증여부    0\n",
       "수술기법       0\n",
       "재발여부       0\n",
       "입원기간       0\n",
       "dtype: int64"
      ]
     },
     "execution_count": 17,
     "metadata": {},
     "output_type": "execute_result"
    }
   ],
   "source": [
    "## 전처리 : 대상 컬럼 의한 레코드 삭제 시 데이터셋 양 고려\n",
    "df_ROS_AP_D= df_ROS_AP.dropna()\n",
    "df_ROS_AP_D.isnull().sum()"
   ]
  },
  {
   "cell_type": "markdown",
   "id": "4874c403-4e24-4cec-832e-e77b0b960002",
   "metadata": {},
   "source": [
    "### 상관관계 확인\n",
    "\n",
    "- 목표변수 : '입원기간' - 분포<< (연속형:정규화 확인, 범주형:밸런스 확인)\n",
    "\n",
    "- 설명변수:\n",
    "   - 동현님 설명변수 추가 <<\n",
    "   - 종양진행여부:\n",
    "   - 혈전합병증여부:\n",
    "   - 신장:\n",
    "   - 체중:\n",
    "   - 수술기법: \n",
    "   - 재발여부:"
   ]
  },
  {
   "cell_type": "code",
   "execution_count": 24,
   "id": "b863983a-a73b-42ba-94bd-95e06cae043f",
   "metadata": {
    "tags": []
   },
   "outputs": [
    {
     "data": {
      "text/plain": [
       "<Axes: xlabel='입원기간', ylabel='count'>"
      ]
     },
     "execution_count": 24,
     "metadata": {},
     "output_type": "execute_result"
    },
    {
     "data": {
      "image/png": "[encoded data removed]",
      "text/plain": [
       "<Figure size 640x480 with 1 Axes>"
      ]
     },
     "metadata": {},
     "output_type": "display_data"
    }
   ],
   "source": [
    "### 데이터 타입과 분포\n",
    "## 목표 변수 : \n",
    "sns.countplot(data=df_ROS_AP_D, x='입원기간')"
   ]
  },
  {
   "cell_type": "code",
   "execution_count": 25,
   "id": "9b98f393-4317-4c0f-8fda-9f92e09140de",
   "metadata": {
    "tags": []
   },
   "outputs": [
    {
     "name": "stdout",
     "output_type": "stream",
     "text": [
      "<class 'pandas.core.frame.DataFrame'>\n",
      "RangeIndex: 1744 entries, 0 to 1743\n",
      "Data columns (total 12 columns):\n",
      " #   Column   Non-Null Count  Dtype  \n",
      "---  ------   --------------  -----  \n",
      " 0   당뇨여부     1744 non-null   int64  \n",
      " 1   스테로이드치료  1744 non-null   int64  \n",
      " 2   신부전여부    1744 non-null   int64  \n",
      " 3   심혈관질환    1744 non-null   int64  \n",
      " 4   암발병여부    1744 non-null   int64  \n",
      " 5   신장       1744 non-null   int64  \n",
      " 6   체중       1744 non-null   float64\n",
      " 7   종양진행여부   1744 non-null   int64  \n",
      " 8   혈전합병증여부  1744 non-null   int64  \n",
      " 9   수술기법     1744 non-null   object \n",
      " 10  재발여부     1744 non-null   int64  \n",
      " 11  입원기간     1744 non-null   int64  \n",
      "dtypes: float64(1), int64(10), object(1)\n",
      "memory usage: 163.6+ KB\n"
     ]
    }
   ],
   "source": [
    "df_ROS_AP_D.info()"
   ]
  },
  {
   "cell_type": "code",
   "execution_count": 32,
   "id": "b4a1c9a4-4e68-4d4a-87b7-59e745b4686d",
   "metadata": {
    "tags": []
   },
   "outputs": [
    {
     "name": "stdout",
     "output_type": "stream",
     "text": [
      "<class 'pandas.core.frame.DataFrame'>\n",
      "RangeIndex: 1744 entries, 0 to 1743\n",
      "Data columns (total 12 columns):\n",
      " #   Column   Non-Null Count  Dtype  \n",
      "---  ------   --------------  -----  \n",
      " 0   당뇨여부     1744 non-null   int64  \n",
      " 1   스테로이드치료  1744 non-null   int64  \n",
      " 2   신부전여부    1744 non-null   int64  \n",
      " 3   심혈관질환    1744 non-null   int64  \n",
      " 4   암발병여부    1744 non-null   int64  \n",
      " 5   신장       1744 non-null   int64  \n",
      " 6   체중       1744 non-null   float64\n",
      " 7   종양진행여부   1744 non-null   object \n",
      " 8   혈전합병증여부  1744 non-null   object \n",
      " 9   수술기법     1744 non-null   object \n",
      " 10  재발여부     1744 non-null   object \n",
      " 11  입원기간     1744 non-null   int64  \n",
      "dtypes: float64(1), int64(7), object(4)\n",
      "memory usage: 163.6+ KB\n"
     ]
    }
   ],
   "source": [
    "# object 변환 대상 : 종양진행여부, 혈전합병증여부, 재발여부\n",
    "columns_to_convert = ['종양진행여부', '혈전합병증여부', '재발여부']\n",
    "df_ROS_AP_D[columns_to_convert] = df_ROS_AP_D[columns_to_convert].astype(str)\n",
    "df_ROS_AP_D.info()"
   ]
  },
  {
   "cell_type": "code",
   "execution_count": 33,
   "id": "d60dc003-6189-4a47-bd14-fbbc57486910",
   "metadata": {
    "tags": []
   },
   "outputs": [
    {
     "data": {
      "text/plain": [
       "['당뇨여부', '스테로이드치료', '신부전여부', '심혈관질환', '암발병여부', '신장', '체중', '입원기간']"
      ]
     },
     "execution_count": 33,
     "metadata": {},
     "output_type": "execute_result"
    }
   ],
   "source": [
    "df_ROS_AP_D_list = df_ROS_AP_D.describe().columns.to_list()\n",
    "df_ROS_AP_D_list"
   ]
  },
  {
   "cell_type": "code",
   "execution_count": null,
   "id": "14e6ed95-da0a-4ba7-87cd-75a3a5f160cc",
   "metadata": {},
   "outputs": [],
   "source": []
  }
 ],
 "metadata": {
  "kernelspec": {
   "display_name": "Python 3 (ipykernel)",
   "language": "python",
   "name": "python3"
  },
  "language_info": {
   "codemirror_mode": {
    "name": "ipython",
    "version": 3
   },
   "file_extension": ".py",
   "mimetype": "text/x-python",
   "name": "python",
   "nbconvert_exporter": "python",
   "pygments_lexer": "ipython3",
   "version": "3.11.3"
  }
 },
 "nbformat": 4,
 "nbformat_minor": 5
}
