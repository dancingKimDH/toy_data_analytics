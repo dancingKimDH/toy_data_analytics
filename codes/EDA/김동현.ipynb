{
 "cells": [
  {
   "cell_type": "code",
   "execution_count": 6,
   "id": "791040d9-7ac2-485c-b0c0-d699cc8c783a",
   "metadata": {
    "tags": []
   },
   "outputs": [
    {
     "name": "stdout",
     "output_type": "stream",
     "text": [
      "<class 'pandas.core.frame.DataFrame'>\n",
      "RangeIndex: 1744 entries, 0 to 1743\n",
      "Data columns (total 51 columns):\n",
      " #   Column                  Non-Null Count  Dtype  \n",
      "---  ------                  --------------  -----  \n",
      " 0   Unnamed: 0.2            1744 non-null   int64  \n",
      " 1   Unnamed: 0.1            1744 non-null   int64  \n",
      " 2   Unnamed: 0              1744 non-null   int64  \n",
      " 3   환자ID                    1744 non-null   object \n",
      " 4   Large Lymphocyte        1744 non-null   float64\n",
      " 5   Location of herniation  1744 non-null   int64  \n",
      " 6   가족력                     1744 non-null   float64\n",
      " 7   간질성폐질환                  1744 non-null   int64  \n",
      " 8   고혈압여부                   1744 non-null   int64  \n",
      " 9   과거수술횟수                  1744 non-null   int64  \n",
      " 10  당뇨여부                    1744 non-null   int64  \n",
      " 11  말초동맥질환여부                1744 non-null   int64  \n",
      " 12  빈혈여부                    1744 non-null   int64  \n",
      " 13  성별                      1744 non-null   int64  \n",
      " 14  스테로이드치료                 1744 non-null   int64  \n",
      " 15  신부전여부                   1744 non-null   int64  \n",
      " 16  신장                      1744 non-null   int64  \n",
      " 17  심혈관질환                   1744 non-null   int64  \n",
      " 18  암발병여부                   1744 non-null   int64  \n",
      " 19  연령                      1744 non-null   int64  \n",
      " 20  우울증여부                   1744 non-null   int64  \n",
      " 21  입원기간                    1744 non-null   int64  \n",
      " 22  입원일자                    1744 non-null   int64  \n",
      " 23  종양진행여부                  1744 non-null   int64  \n",
      " 24  체중                      1744 non-null   float64\n",
      " 25  퇴원일자                    1744 non-null   int64  \n",
      " 26  헤모글로빈수치                 1744 non-null   float64\n",
      " 27  혈전합병증여부                 1744 non-null   int64  \n",
      " 28  환자통증정도                  1744 non-null   int64  \n",
      " 29  흡연여부                    1744 non-null   int64  \n",
      " 30  통증기간(월)                 1744 non-null   float64\n",
      " 31  수술기법                    1744 non-null   object \n",
      " 32  수술시간                    1744 non-null   float64\n",
      " 33  수술실패여부                  1744 non-null   int64  \n",
      " 34  수술일자                    1744 non-null   int64  \n",
      " 35  재발여부                    1744 non-null   int64  \n",
      " 36  혈액형                     1744 non-null   object \n",
      " 37  전방디스크높이(mm)             1744 non-null   float64\n",
      " 38  후방디스크높이(mm)             1744 non-null   float64\n",
      " 39  지방축적도                   1744 non-null   float64\n",
      " 40  Instability             1744 non-null   int64  \n",
      " 41  MF + ES                 1744 non-null   float64\n",
      " 42  Modic change            1744 non-null   int64  \n",
      " 43  PI                      1744 non-null   float64\n",
      " 44  PT                      1744 non-null   float64\n",
      " 45  Seg Angle(raw)          1744 non-null   float64\n",
      " 46  Vaccum disc             1744 non-null   int64  \n",
      " 47  디스크단면적                  1744 non-null   float64\n",
      " 48  디스크위치                   1744 non-null   int64  \n",
      " 49  척추이동척도                  1744 non-null   object \n",
      " 50  척추전방위증                  1744 non-null   int64  \n",
      "dtypes: float64(14), int64(33), object(4)\n",
      "memory usage: 695.0+ KB\n"
     ]
    }
   ],
   "source": [
    "import pandas as pd\n",
    "import numpy as np\n",
    "import seaborn as sns\n",
    "import matplotlib.pyplot as plt\n",
    "import matplotlib as mpl\n",
    "mpl.rc('font', family = 'Malgun Gothic')\n",
    "df_H = pd.read_csv('../../datasets/RecurrenceOfSurgery.csv')\n",
    "df_H.info()"
   ]
  },
  {
   "cell_type": "markdown",
   "id": "17c666cc-9830-4f40-b766-29771098ac6d",
   "metadata": {
    "tags": []
   },
   "source": [
    "## 상관 관계 확인\n",
    "- 목표변수: '입원기간'\n",
    "- 설명변수: '당뇨여부', '스테로이드치료', '신부전여부', '심혈관질환', '암발병여부'"
   ]
  },
  {
   "cell_type": "markdown",
   "id": "9cf203dc-4bd7-4bed-8968-4b7fdffb42e2",
   "metadata": {},
   "source": [
    "#### 1. 당뇨와 입원기간"
   ]
  },
  {
   "cell_type": "code",
   "execution_count": 7,
   "id": "20997e60-6da0-42f7-87d0-6be3b41ec8c3",
   "metadata": {
    "tags": []
   },
   "outputs": [
    {
     "data": {
      "text/html": [
       "<div>\n",
       "<style scoped>\n",
       "    .dataframe tbody tr th:only-of-type {\n",
       "        vertical-align: middle;\n",
       "    }\n",
       "\n",
       "    .dataframe tbody tr th {\n",
       "        vertical-align: top;\n",
       "    }\n",
       "\n",
       "    .dataframe thead th {\n",
       "        text-align: right;\n",
       "    }\n",
       "</style>\n",
       "<table border=\"1\" class=\"dataframe\">\n",
       "  <thead>\n",
       "    <tr style=\"text-align: right;\">\n",
       "      <th></th>\n",
       "      <th>당뇨여부</th>\n",
       "      <th>입원기간</th>\n",
       "      <th>입원일자</th>\n",
       "      <th>퇴원일자</th>\n",
       "    </tr>\n",
       "  </thead>\n",
       "  <tbody>\n",
       "    <tr>\n",
       "      <th>0</th>\n",
       "      <td>0</td>\n",
       "      <td>2</td>\n",
       "      <td>20190713</td>\n",
       "      <td>20190716</td>\n",
       "    </tr>\n",
       "    <tr>\n",
       "      <th>1</th>\n",
       "      <td>0</td>\n",
       "      <td>1</td>\n",
       "      <td>20190715</td>\n",
       "      <td>20190716</td>\n",
       "    </tr>\n",
       "    <tr>\n",
       "      <th>2</th>\n",
       "      <td>0</td>\n",
       "      <td>1</td>\n",
       "      <td>20190729</td>\n",
       "      <td>20190801</td>\n",
       "    </tr>\n",
       "    <tr>\n",
       "      <th>3</th>\n",
       "      <td>0</td>\n",
       "      <td>1</td>\n",
       "      <td>20190731</td>\n",
       "      <td>20190803</td>\n",
       "    </tr>\n",
       "    <tr>\n",
       "      <th>4</th>\n",
       "      <td>0</td>\n",
       "      <td>2</td>\n",
       "      <td>20190903</td>\n",
       "      <td>20190907</td>\n",
       "    </tr>\n",
       "    <tr>\n",
       "      <th>...</th>\n",
       "      <td>...</td>\n",
       "      <td>...</td>\n",
       "      <td>...</td>\n",
       "      <td>...</td>\n",
       "    </tr>\n",
       "    <tr>\n",
       "      <th>1739</th>\n",
       "      <td>0</td>\n",
       "      <td>12</td>\n",
       "      <td>20170302</td>\n",
       "      <td>20170313</td>\n",
       "    </tr>\n",
       "    <tr>\n",
       "      <th>1740</th>\n",
       "      <td>0</td>\n",
       "      <td>2</td>\n",
       "      <td>20170316</td>\n",
       "      <td>20170317</td>\n",
       "    </tr>\n",
       "    <tr>\n",
       "      <th>1741</th>\n",
       "      <td>0</td>\n",
       "      <td>3</td>\n",
       "      <td>20170928</td>\n",
       "      <td>20170930</td>\n",
       "    </tr>\n",
       "    <tr>\n",
       "      <th>1742</th>\n",
       "      <td>0</td>\n",
       "      <td>3</td>\n",
       "      <td>20170604</td>\n",
       "      <td>20170606</td>\n",
       "    </tr>\n",
       "    <tr>\n",
       "      <th>1743</th>\n",
       "      <td>0</td>\n",
       "      <td>3</td>\n",
       "      <td>20170410</td>\n",
       "      <td>20170412</td>\n",
       "    </tr>\n",
       "  </tbody>\n",
       "</table>\n",
       "<p>1744 rows × 4 columns</p>\n",
       "</div>"
      ],
      "text/plain": [
       "      당뇨여부  입원기간      입원일자      퇴원일자\n",
       "0        0     2  20190713  20190716\n",
       "1        0     1  20190715  20190716\n",
       "2        0     1  20190729  20190801\n",
       "3        0     1  20190731  20190803\n",
       "4        0     2  20190903  20190907\n",
       "...    ...   ...       ...       ...\n",
       "1739     0    12  20170302  20170313\n",
       "1740     0     2  20170316  20170317\n",
       "1741     0     3  20170928  20170930\n",
       "1742     0     3  20170604  20170606\n",
       "1743     0     3  20170410  20170412\n",
       "\n",
       "[1744 rows x 4 columns]"
      ]
     },
     "execution_count": 7,
     "metadata": {},
     "output_type": "execute_result"
    }
   ],
   "source": [
    "df_Diabetes = df_H[['당뇨여부', '입원기간', '입원일자', '퇴원일자']]\n",
    "df_Diabetes"
   ]
  },
  {
   "cell_type": "markdown",
   "id": "f7f76ff1-3a19-4504-aaae-4dd6662ba20b",
   "metadata": {},
   "source": [
    "#### 1. 당뇨여부"
   ]
  },
  {
   "cell_type": "code",
   "execution_count": 8,
   "id": "d8a3a157-5dd3-4afe-a621-3201cea0e3d3",
   "metadata": {
    "tags": []
   },
   "outputs": [
    {
     "data": {
      "text/plain": [
       "count    1684.000000\n",
       "mean        1.453682\n",
       "std         0.661920\n",
       "min         0.000000\n",
       "25%         1.000000\n",
       "50%         1.000000\n",
       "75%         2.000000\n",
       "max         3.000000\n",
       "Name: 입원기간, dtype: float64"
      ]
     },
     "execution_count": 8,
     "metadata": {},
     "output_type": "execute_result"
    }
   ],
   "source": [
    "# 이상치 제거\n",
    "# df_Da = df_Diabetes['입원기간'].describe()['25%']\n",
    "# df_Db = df_Diabetes['입원기간'].describe()['75%']\n",
    "# df_Da_IQR = df_Db - df_Da\n",
    "df_Da = df_H['입원기간'].describe()['25%']\n",
    "df_Db = df_H['입원기간'].describe()['75%']\n",
    "df_Da_IQR = df_Db - df_Da\n",
    "df_Da_up = df_Db + 1.5 * df_Da_IQR\n",
    "df_Da_down = df_Da - 1.5 * df_Da_IQR\n",
    "df_D_condition = (df_H['입원기간'] <= df_Da_up) & (df_H['입원기간'] >= df_Da_down)\n",
    "df_H = df_H[df_D_condition]\n",
    "df_H['입원기간'].describe()"
   ]
  },
  {
   "cell_type": "code",
   "execution_count": 9,
   "id": "e75c9fc9-05c7-4e0d-bc17-d314fbbf6898",
   "metadata": {
    "tags": []
   },
   "outputs": [
    {
     "data": {
      "text/plain": [
       "(1.0, 2.0, 1.0)"
      ]
     },
     "execution_count": 9,
     "metadata": {},
     "output_type": "execute_result"
    }
   ],
   "source": [
    "df_Da, df_Db, df_Da_IQR"
   ]
  },
  {
   "cell_type": "code",
   "execution_count": 10,
   "id": "68a6f825-86ef-4db8-9912-669f94bf4fa2",
   "metadata": {
    "tags": []
   },
   "outputs": [],
   "source": [
    "df_Da_up = df_Db + 1.5 * df_Da_IQR\n",
    "df_Da_down = df_Da - 1.5 * df_Da_IQR"
   ]
  },
  {
   "cell_type": "code",
   "execution_count": 11,
   "id": "ccd94b17-47a7-47d7-b67e-f0e14e836f51",
   "metadata": {
    "tags": []
   },
   "outputs": [
    {
     "data": {
      "text/plain": [
       "(3.5, -0.5)"
      ]
     },
     "execution_count": 11,
     "metadata": {},
     "output_type": "execute_result"
    }
   ],
   "source": [
    "df_Da_up, df_Da_down"
   ]
  },
  {
   "cell_type": "code",
   "execution_count": 12,
   "id": "ccd7ac3e-2290-4ab0-bf70-68ac7f42165a",
   "metadata": {
    "tags": []
   },
   "outputs": [
    {
     "name": "stderr",
     "output_type": "stream",
     "text": [
      "C:\\Users\\04-17\\AppData\\Local\\Temp\\ipykernel_19608\\399504291.py:2: UserWarning: Boolean Series key will be reindexed to match DataFrame index.\n",
      "  df_H = df_H[df_D_condition]\n"
     ]
    }
   ],
   "source": [
    "df_D_condition = (df_Diabetes['입원기간'] <= df_Da_up) & (df_Diabetes['입원기간'] >= df_Da_down)\n",
    "df_H = df_H[df_D_condition]\n",
    "# 전체 리스트에서 입원기간의 이상치를 제거함\n",
    "df_Diabetes = df_Diabetes[df_D_condition]"
   ]
  },
  {
   "cell_type": "code",
   "execution_count": 13,
   "id": "7c3ca673-1a73-4d0f-a023-ffbbaa43997e",
   "metadata": {
    "tags": []
   },
   "outputs": [
    {
     "name": "stdout",
     "output_type": "stream",
     "text": [
      "<class 'pandas.core.frame.DataFrame'>\n",
      "Int64Index: 1684 entries, 0 to 1743\n",
      "Data columns (total 4 columns):\n",
      " #   Column  Non-Null Count  Dtype\n",
      "---  ------  --------------  -----\n",
      " 0   당뇨여부    1684 non-null   int64\n",
      " 1   입원기간    1684 non-null   int64\n",
      " 2   입원일자    1684 non-null   int64\n",
      " 3   퇴원일자    1684 non-null   int64\n",
      "dtypes: int64(4)\n",
      "memory usage: 65.8 KB\n"
     ]
    }
   ],
   "source": [
    "df_Diabetes.info()"
   ]
  },
  {
   "cell_type": "code",
   "execution_count": 14,
   "id": "06f1d89f-fb6f-4724-b43e-fb75b4207d22",
   "metadata": {
    "tags": []
   },
   "outputs": [
    {
     "data": {
      "text/html": [
       "<div>\n",
       "<style scoped>\n",
       "    .dataframe tbody tr th:only-of-type {\n",
       "        vertical-align: middle;\n",
       "    }\n",
       "\n",
       "    .dataframe tbody tr th {\n",
       "        vertical-align: top;\n",
       "    }\n",
       "\n",
       "    .dataframe thead th {\n",
       "        text-align: right;\n",
       "    }\n",
       "</style>\n",
       "<table border=\"1\" class=\"dataframe\">\n",
       "  <thead>\n",
       "    <tr style=\"text-align: right;\">\n",
       "      <th></th>\n",
       "      <th>입원기간</th>\n",
       "    </tr>\n",
       "    <tr>\n",
       "      <th>당뇨여부</th>\n",
       "      <th></th>\n",
       "    </tr>\n",
       "  </thead>\n",
       "  <tbody>\n",
       "    <tr>\n",
       "      <th>0</th>\n",
       "      <td>1.450980</td>\n",
       "    </tr>\n",
       "    <tr>\n",
       "      <th>1</th>\n",
       "      <td>1.495146</td>\n",
       "    </tr>\n",
       "  </tbody>\n",
       "</table>\n",
       "</div>"
      ],
      "text/plain": [
       "          입원기간\n",
       "당뇨여부          \n",
       "0     1.450980\n",
       "1     1.495146"
      ]
     },
     "execution_count": 14,
     "metadata": {},
     "output_type": "execute_result"
    }
   ],
   "source": [
    "df_Diabetes.pivot_table(index='당뇨여부', values='입원기간', aggfunc=np.mean)"
   ]
  },
  {
   "cell_type": "code",
   "execution_count": 15,
   "id": "c6790092-1160-46b4-9754-a23bca30005c",
   "metadata": {},
   "outputs": [
    {
     "data": {
      "image/png": "[encoded data removed]",
      "text/plain": [
       "<Figure size 640x480 with 1 Axes>"
      ]
     },
     "metadata": {},
     "output_type": "display_data"
    }
   ],
   "source": [
    "df_Diabetes_chart = sns.barplot(data=df_Diabetes, x='당뇨여부', y='입원기간')"
   ]
  },
  {
   "cell_type": "markdown",
   "id": "47538acd-e0c5-4297-90d7-0bff4a87d0c7",
   "metadata": {},
   "source": [
    "##### 따라서, 당뇨 환자의 평균 입원기간이 조금 더 길었음을 확인하였다."
   ]
  },
  {
   "cell_type": "markdown",
   "id": "d8d262a2-ea21-4491-b39e-70acfc799c33",
   "metadata": {},
   "source": [
    "#### 2. 스테로이드치료"
   ]
  },
  {
   "cell_type": "code",
   "execution_count": 16,
   "id": "6e7dc15a-e9cd-41e7-a3c1-0c7d24179de6",
   "metadata": {
    "tags": []
   },
   "outputs": [
    {
     "name": "stdout",
     "output_type": "stream",
     "text": [
      "<class 'pandas.core.frame.DataFrame'>\n",
      "Int64Index: 1684 entries, 0 to 1743\n",
      "Data columns (total 2 columns):\n",
      " #   Column   Non-Null Count  Dtype\n",
      "---  ------   --------------  -----\n",
      " 0   입원기간     1684 non-null   int64\n",
      " 1   스테로이드치료  1684 non-null   int64\n",
      "dtypes: int64(2)\n",
      "memory usage: 39.5 KB\n"
     ]
    }
   ],
   "source": [
    "df_Ste = df_H[['입원기간', '스테로이드치료']]\n",
    "df_Ste.info()"
   ]
  },
  {
   "cell_type": "code",
   "execution_count": 17,
   "id": "287d0011-6dd0-4ac6-a50c-d3fb0b7b3b57",
   "metadata": {
    "tags": []
   },
   "outputs": [
    {
     "data": {
      "text/html": [
       "<div>\n",
       "<style scoped>\n",
       "    .dataframe tbody tr th:only-of-type {\n",
       "        vertical-align: middle;\n",
       "    }\n",
       "\n",
       "    .dataframe tbody tr th {\n",
       "        vertical-align: top;\n",
       "    }\n",
       "\n",
       "    .dataframe thead th {\n",
       "        text-align: right;\n",
       "    }\n",
       "</style>\n",
       "<table border=\"1\" class=\"dataframe\">\n",
       "  <thead>\n",
       "    <tr style=\"text-align: right;\">\n",
       "      <th></th>\n",
       "      <th>입원기간</th>\n",
       "    </tr>\n",
       "    <tr>\n",
       "      <th>스테로이드치료</th>\n",
       "      <th></th>\n",
       "    </tr>\n",
       "  </thead>\n",
       "  <tbody>\n",
       "    <tr>\n",
       "      <th>0</th>\n",
       "      <td>1.415066</td>\n",
       "    </tr>\n",
       "    <tr>\n",
       "      <th>1</th>\n",
       "      <td>1.479643</td>\n",
       "    </tr>\n",
       "  </tbody>\n",
       "</table>\n",
       "</div>"
      ],
      "text/plain": [
       "             입원기간\n",
       "스테로이드치료          \n",
       "0        1.415066\n",
       "1        1.479643"
      ]
     },
     "execution_count": 17,
     "metadata": {},
     "output_type": "execute_result"
    }
   ],
   "source": [
    "df_Ste.pivot_table(index='스테로이드치료', values='입원기간', aggfunc=np.mean)"
   ]
  },
  {
   "cell_type": "code",
   "execution_count": 18,
   "id": "ffc4efa5-1c2e-4c53-9e9d-6f1ceb11d82d",
   "metadata": {
    "tags": []
   },
   "outputs": [
    {
     "data": {
      "image/png": "[encoded data removed]",
      "text/plain": [
       "<Figure size 640x480 with 1 Axes>"
      ]
     },
     "metadata": {},
     "output_type": "display_data"
    }
   ],
   "source": [
    "df_Ste_chart = sns.barplot(data=df_Ste, x='스테로이드치료', y='입원기간')"
   ]
  },
  {
   "cell_type": "markdown",
   "id": "036e4597-c61f-4375-a61d-bc143cc41750",
   "metadata": {},
   "source": [
    "##### 따라서, 스테로이드치료를 받은 환자의 평균 입원기간이 조금 더 길었다."
   ]
  },
  {
   "cell_type": "markdown",
   "id": "40f82438-1e07-4408-a55d-4acc2d255ccc",
   "metadata": {},
   "source": [
    "#### 3. 신부전여부"
   ]
  },
  {
   "cell_type": "code",
   "execution_count": 19,
   "id": "77353ae3-9fa1-4617-8f65-a6952e3d88ce",
   "metadata": {},
   "outputs": [
    {
     "data": {
      "text/html": [
       "<div>\n",
       "<style scoped>\n",
       "    .dataframe tbody tr th:only-of-type {\n",
       "        vertical-align: middle;\n",
       "    }\n",
       "\n",
       "    .dataframe tbody tr th {\n",
       "        vertical-align: top;\n",
       "    }\n",
       "\n",
       "    .dataframe thead th {\n",
       "        text-align: right;\n",
       "    }\n",
       "</style>\n",
       "<table border=\"1\" class=\"dataframe\">\n",
       "  <thead>\n",
       "    <tr style=\"text-align: right;\">\n",
       "      <th></th>\n",
       "      <th>신부전여부</th>\n",
       "      <th>입원기간</th>\n",
       "    </tr>\n",
       "  </thead>\n",
       "  <tbody>\n",
       "    <tr>\n",
       "      <th>0</th>\n",
       "      <td>0</td>\n",
       "      <td>2</td>\n",
       "    </tr>\n",
       "    <tr>\n",
       "      <th>1</th>\n",
       "      <td>0</td>\n",
       "      <td>1</td>\n",
       "    </tr>\n",
       "    <tr>\n",
       "      <th>2</th>\n",
       "      <td>0</td>\n",
       "      <td>1</td>\n",
       "    </tr>\n",
       "    <tr>\n",
       "      <th>3</th>\n",
       "      <td>0</td>\n",
       "      <td>1</td>\n",
       "    </tr>\n",
       "    <tr>\n",
       "      <th>4</th>\n",
       "      <td>0</td>\n",
       "      <td>2</td>\n",
       "    </tr>\n",
       "    <tr>\n",
       "      <th>...</th>\n",
       "      <td>...</td>\n",
       "      <td>...</td>\n",
       "    </tr>\n",
       "    <tr>\n",
       "      <th>1738</th>\n",
       "      <td>0</td>\n",
       "      <td>2</td>\n",
       "    </tr>\n",
       "    <tr>\n",
       "      <th>1740</th>\n",
       "      <td>0</td>\n",
       "      <td>2</td>\n",
       "    </tr>\n",
       "    <tr>\n",
       "      <th>1741</th>\n",
       "      <td>0</td>\n",
       "      <td>3</td>\n",
       "    </tr>\n",
       "    <tr>\n",
       "      <th>1742</th>\n",
       "      <td>0</td>\n",
       "      <td>3</td>\n",
       "    </tr>\n",
       "    <tr>\n",
       "      <th>1743</th>\n",
       "      <td>0</td>\n",
       "      <td>3</td>\n",
       "    </tr>\n",
       "  </tbody>\n",
       "</table>\n",
       "<p>1684 rows × 2 columns</p>\n",
       "</div>"
      ],
      "text/plain": [
       "      신부전여부  입원기간\n",
       "0         0     2\n",
       "1         0     1\n",
       "2         0     1\n",
       "3         0     1\n",
       "4         0     2\n",
       "...     ...   ...\n",
       "1738      0     2\n",
       "1740      0     2\n",
       "1741      0     3\n",
       "1742      0     3\n",
       "1743      0     3\n",
       "\n",
       "[1684 rows x 2 columns]"
      ]
     },
     "execution_count": 19,
     "metadata": {},
     "output_type": "execute_result"
    }
   ],
   "source": [
    "df_Ki = df_H[['신부전여부', '입원기간']]\n",
    "df_Ki"
   ]
  },
  {
   "cell_type": "code",
   "execution_count": 20,
   "id": "acee463d-083c-498f-bec5-86818b0eb5f7",
   "metadata": {
    "tags": []
   },
   "outputs": [
    {
     "data": {
      "text/html": [
       "<div>\n",
       "<style scoped>\n",
       "    .dataframe tbody tr th:only-of-type {\n",
       "        vertical-align: middle;\n",
       "    }\n",
       "\n",
       "    .dataframe tbody tr th {\n",
       "        vertical-align: top;\n",
       "    }\n",
       "\n",
       "    .dataframe thead th {\n",
       "        text-align: right;\n",
       "    }\n",
       "</style>\n",
       "<table border=\"1\" class=\"dataframe\">\n",
       "  <thead>\n",
       "    <tr style=\"text-align: right;\">\n",
       "      <th></th>\n",
       "      <th>입원기간</th>\n",
       "    </tr>\n",
       "    <tr>\n",
       "      <th>신부전여부</th>\n",
       "      <th></th>\n",
       "    </tr>\n",
       "  </thead>\n",
       "  <tbody>\n",
       "    <tr>\n",
       "      <th>0</th>\n",
       "      <td>1.455210</td>\n",
       "    </tr>\n",
       "    <tr>\n",
       "      <th>1</th>\n",
       "      <td>1.395349</td>\n",
       "    </tr>\n",
       "  </tbody>\n",
       "</table>\n",
       "</div>"
      ],
      "text/plain": [
       "           입원기간\n",
       "신부전여부          \n",
       "0      1.455210\n",
       "1      1.395349"
      ]
     },
     "execution_count": 20,
     "metadata": {},
     "output_type": "execute_result"
    }
   ],
   "source": [
    "df_Ki.pivot_table(index='신부전여부', values='입원기간', aggfunc=np.mean)"
   ]
  },
  {
   "cell_type": "code",
   "execution_count": 21,
   "id": "892a1ba2-a508-44b6-b5e4-776edfe66911",
   "metadata": {
    "tags": []
   },
   "outputs": [
    {
     "data": {
      "image/png": "[encoded data removed]",
      "text/plain": [
       "<Figure size 640x480 with 1 Axes>"
      ]
     },
     "metadata": {},
     "output_type": "display_data"
    }
   ],
   "source": [
    "df_Ki_chart = sns.barplot(data=df_Ki, x='신부전여부', y='입원기간')"
   ]
  },
  {
   "cell_type": "markdown",
   "id": "fbf74315-b321-456e-81d9-30e2852238ea",
   "metadata": {},
   "source": [
    "##### 신부전을 앓는 환자의 입원기간이 상대적으로 더 짧았다."
   ]
  },
  {
   "cell_type": "markdown",
   "id": "3a1d85cd-256b-4c04-a995-c278b43b52ad",
   "metadata": {},
   "source": [
    "#### 4. 심혈관질환"
   ]
  },
  {
   "cell_type": "code",
   "execution_count": 22,
   "id": "96cc5317-1f48-48a1-a6f0-93805f7c9e42",
   "metadata": {},
   "outputs": [
    {
     "name": "stdout",
     "output_type": "stream",
     "text": [
      "<class 'pandas.core.frame.DataFrame'>\n",
      "Int64Index: 1684 entries, 0 to 1743\n",
      "Data columns (total 2 columns):\n",
      " #   Column  Non-Null Count  Dtype\n",
      "---  ------  --------------  -----\n",
      " 0   심혈관질환   1684 non-null   int64\n",
      " 1   입원기간    1684 non-null   int64\n",
      "dtypes: int64(2)\n",
      "memory usage: 39.5 KB\n"
     ]
    }
   ],
   "source": [
    "df_He = df_H[['심혈관질환', '입원기간']]\n",
    "df_He.info()"
   ]
  },
  {
   "cell_type": "code",
   "execution_count": 23,
   "id": "5967f8e3-fcf6-4566-be29-cde4aac82e22",
   "metadata": {
    "tags": []
   },
   "outputs": [
    {
     "data": {
      "text/html": [
       "<div>\n",
       "<style scoped>\n",
       "    .dataframe tbody tr th:only-of-type {\n",
       "        vertical-align: middle;\n",
       "    }\n",
       "\n",
       "    .dataframe tbody tr th {\n",
       "        vertical-align: top;\n",
       "    }\n",
       "\n",
       "    .dataframe thead th {\n",
       "        text-align: right;\n",
       "    }\n",
       "</style>\n",
       "<table border=\"1\" class=\"dataframe\">\n",
       "  <thead>\n",
       "    <tr style=\"text-align: right;\">\n",
       "      <th></th>\n",
       "      <th>입원기간</th>\n",
       "    </tr>\n",
       "    <tr>\n",
       "      <th>심혈관질환</th>\n",
       "      <th></th>\n",
       "    </tr>\n",
       "  </thead>\n",
       "  <tbody>\n",
       "    <tr>\n",
       "      <th>0</th>\n",
       "      <td>1.453260</td>\n",
       "    </tr>\n",
       "    <tr>\n",
       "      <th>1</th>\n",
       "      <td>1.465517</td>\n",
       "    </tr>\n",
       "  </tbody>\n",
       "</table>\n",
       "</div>"
      ],
      "text/plain": [
       "           입원기간\n",
       "심혈관질환          \n",
       "0      1.453260\n",
       "1      1.465517"
      ]
     },
     "execution_count": 23,
     "metadata": {},
     "output_type": "execute_result"
    }
   ],
   "source": [
    "df_He.pivot_table(index='심혈관질환', values='입원기간', aggfunc=np.mean)"
   ]
  },
  {
   "cell_type": "code",
   "execution_count": 24,
   "id": "0821c3bf-43df-41a2-8ec9-8c1bc96c33e6",
   "metadata": {
    "tags": []
   },
   "outputs": [
    {
     "data": {
      "image/png": "[encoded data removed]",
      "text/plain": [
       "<Figure size 640x480 with 1 Axes>"
      ]
     },
     "metadata": {},
     "output_type": "display_data"
    }
   ],
   "source": [
    "df_He_chart = sns.barplot(data=df_He, x='심혈관질환', y='입원기간')"
   ]
  },
  {
   "cell_type": "markdown",
   "id": "5a318929-de3c-4b00-8ef0-e8271cd4c018",
   "metadata": {},
   "source": [
    "##### 따라서, 심혈관질환을 앓는 환자의 평균 입원기간이 더 길었다."
   ]
  },
  {
   "cell_type": "markdown",
   "id": "43c9fa0e-18a5-4b89-8700-043a46e181dd",
   "metadata": {},
   "source": [
    "#### 5. 암발병여부"
   ]
  },
  {
   "cell_type": "code",
   "execution_count": 25,
   "id": "48a29721-d852-45e6-9855-6aa59e91a816",
   "metadata": {},
   "outputs": [
    {
     "name": "stdout",
     "output_type": "stream",
     "text": [
      "<class 'pandas.core.frame.DataFrame'>\n",
      "Int64Index: 1684 entries, 0 to 1743\n",
      "Data columns (total 2 columns):\n",
      " #   Column  Non-Null Count  Dtype\n",
      "---  ------  --------------  -----\n",
      " 0   심혈관질환   1684 non-null   int64\n",
      " 1   입원기간    1684 non-null   int64\n",
      "dtypes: int64(2)\n",
      "memory usage: 39.5 KB\n"
     ]
    }
   ],
   "source": [
    "df_Ca = df_H[['암발병여부', '입원기간']]\n",
    "df_He.info()"
   ]
  },
  {
   "cell_type": "code",
   "execution_count": 26,
   "id": "b2dd917d-fc80-42f5-a158-c1fbcb2354b2",
   "metadata": {
    "tags": []
   },
   "outputs": [
    {
     "data": {
      "text/html": [
       "<div>\n",
       "<style scoped>\n",
       "    .dataframe tbody tr th:only-of-type {\n",
       "        vertical-align: middle;\n",
       "    }\n",
       "\n",
       "    .dataframe tbody tr th {\n",
       "        vertical-align: top;\n",
       "    }\n",
       "\n",
       "    .dataframe thead th {\n",
       "        text-align: right;\n",
       "    }\n",
       "</style>\n",
       "<table border=\"1\" class=\"dataframe\">\n",
       "  <thead>\n",
       "    <tr style=\"text-align: right;\">\n",
       "      <th></th>\n",
       "      <th>입원기간</th>\n",
       "    </tr>\n",
       "    <tr>\n",
       "      <th>암발병여부</th>\n",
       "      <th></th>\n",
       "    </tr>\n",
       "  </thead>\n",
       "  <tbody>\n",
       "    <tr>\n",
       "      <th>0</th>\n",
       "      <td>1.455696</td>\n",
       "    </tr>\n",
       "    <tr>\n",
       "      <th>1</th>\n",
       "      <td>1.320000</td>\n",
       "    </tr>\n",
       "  </tbody>\n",
       "</table>\n",
       "</div>"
      ],
      "text/plain": [
       "           입원기간\n",
       "암발병여부          \n",
       "0      1.455696\n",
       "1      1.320000"
      ]
     },
     "execution_count": 26,
     "metadata": {},
     "output_type": "execute_result"
    }
   ],
   "source": [
    "df_Ca.pivot_table(index='암발병여부', values='입원기간', aggfunc=np.mean)"
   ]
  },
  {
   "cell_type": "code",
   "execution_count": 27,
   "id": "13793884-fd2c-47d2-8228-08db435ef68b",
   "metadata": {
    "tags": []
   },
   "outputs": [
    {
     "data": {
      "image/png": "[encoded data removed]",
      "text/plain": [
       "<Figure size 640x480 with 1 Axes>"
      ]
     },
     "metadata": {},
     "output_type": "display_data"
    }
   ],
   "source": [
    "df_Ca_chart = sns.barplot(data=df_Ca, x='암발병여부', y='입원기간')"
   ]
  },
  {
   "cell_type": "markdown",
   "id": "480e9229-d619-4327-a226-91cfed063313",
   "metadata": {},
   "source": [
    "##### 암이 발병한 환자의 입원기간이 상대적으로 더 짧았다."
   ]
  },
  {
   "cell_type": "code",
   "execution_count": null,
   "id": "8ebabe67-fc63-4fd9-a75f-02bd35f9cd2d",
   "metadata": {},
   "outputs": [],
   "source": []
  }
 ],
 "metadata": {
  "kernelspec": {
   "display_name": "Python 3 (ipykernel)",
   "language": "python",
   "name": "python3"
  },
  "language_info": {
   "codemirror_mode": {
    "name": "ipython",
    "version": 3
   },
   "file_extension": ".py",
   "mimetype": "text/x-python",
   "name": "python",
   "nbconvert_exporter": "python",
   "pygments_lexer": "ipython3",
   "version": "3.11.3"
  }
 },
 "nbformat": 4,
 "nbformat_minor": 5
}
