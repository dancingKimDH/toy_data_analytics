{
 "cells": [
  {
   "cell_type": "code",
   "execution_count": 2,
   "id": "0dbace82-79c3-4aa0-8fd2-b6979d450afc",
   "metadata": {
    "tags": []
   },
   "outputs": [
    {
     "name": "stdout",
     "output_type": "stream",
     "text": [
      "<class 'pandas.core.frame.DataFrame'>\n",
      "RangeIndex: 137163 entries, 0 to 137162\n",
      "Data columns (total 24 columns):\n",
      " #   Column              Non-Null Count   Dtype  \n",
      "---  ------              --------------   -----  \n",
      " 0   Unnamed: 0          137163 non-null  int64  \n",
      " 1   _id                 137163 non-null  object \n",
      " 2   RN_INDI             137163 non-null  int64  \n",
      " 3   BTH_YYYY            137163 non-null  object \n",
      " 4   DTH_YYYYMM          10269 non-null   float64\n",
      " 5   COD1                8473 non-null    object \n",
      " 6   COD2                998 non-null     object \n",
      " 7   RN_KEY              137163 non-null  int64  \n",
      " 8   RN_INST             137163 non-null  int64  \n",
      " 9   MDCARE_STRT_DT      137163 non-null  int64  \n",
      " 10  FORM_CD             137163 non-null  int64  \n",
      " 11  MCARE_SUBJ_CD       137163 non-null  int64  \n",
      " 12  SICK_SYM1           137163 non-null  object \n",
      " 13  OFIJ_TYPE           134428 non-null  object \n",
      " 14  OPRTN_YN            137163 non-null  int64  \n",
      " 15  MDCARE_DD_CNT       137163 non-null  int64  \n",
      " 16  VSHSP_DD_CNT        137163 non-null  int64  \n",
      " 17  TOT_PRSC_DD_CNT     137163 non-null  int64  \n",
      " 18  MCARE_RSLT_TYPE     133958 non-null  float64\n",
      " 19  EDC_ADD_RT          137163 non-null  float64\n",
      " 20  ED_RC_TOT_AMT       137163 non-null  int64  \n",
      " 21  EDC_SBA             137163 non-null  int64  \n",
      " 22  EDC_INSUR_BRDN_AMT  137163 non-null  int64  \n",
      " 23  STD_YYYY            137163 non-null  int64  \n",
      "dtypes: float64(3), int64(15), object(6)\n",
      "memory usage: 25.1+ MB\n"
     ]
    },
    {
     "name": "stderr",
     "output_type": "stream",
     "text": [
      "C:\\Users\\04-02\\AppData\\Local\\Temp\\ipykernel_11440\\1855560261.py:13: DtypeWarning: Columns (3,5,6) have mixed types. Specify dtype option on import or set low_memory=False.\n",
      "  df_D20 = pd.read_csv('../NSC2_D20.csv')\n"
     ]
    }
   ],
   "source": [
    "import pandas as pd\n",
    "import numpy as np\n",
    "import seaborn as sns\n",
    "import matplotlib.pyplot as plt\n",
    "import matplotlib as mpl\n",
    "import pymongo as mg\n",
    "import pandas as pd\n",
    "from scipy.stats import chi2_contingency\n",
    "client = mg.MongoClient(host='mongodb://localhost:27017')\n",
    "database = client['db_NHIS']\n",
    "collection = database['merged_collection6']\n",
    "mpl.rc('font', family = 'Malgun Gothic')\n",
    "df_D20 = pd.read_csv('../NSC2_D20.csv')\n",
    "df_D20.info()"
   ]
  },
  {
   "cell_type": "code",
   "execution_count": 3,
   "id": "f31182f7-44d0-479e-afde-ad221ab1c20d",
   "metadata": {
    "tags": []
   },
   "outputs": [
    {
     "data": {
      "text/html": [
       "<div>\n",
       "<style scoped>\n",
       "    .dataframe tbody tr th:only-of-type {\n",
       "        vertical-align: middle;\n",
       "    }\n",
       "\n",
       "    .dataframe tbody tr th {\n",
       "        vertical-align: top;\n",
       "    }\n",
       "\n",
       "    .dataframe thead th {\n",
       "        text-align: right;\n",
       "    }\n",
       "</style>\n",
       "<table border=\"1\" class=\"dataframe\">\n",
       "  <thead>\n",
       "    <tr style=\"text-align: right;\">\n",
       "      <th></th>\n",
       "      <th>Unnamed: 0</th>\n",
       "      <th>_id</th>\n",
       "      <th>RN_INDI</th>\n",
       "      <th>BTH_YYYY</th>\n",
       "      <th>DTH_YYYYMM</th>\n",
       "      <th>COD1</th>\n",
       "      <th>COD2</th>\n",
       "      <th>RN_KEY</th>\n",
       "      <th>RN_INST</th>\n",
       "      <th>MDCARE_STRT_DT</th>\n",
       "      <th>...</th>\n",
       "      <th>OPRTN_YN</th>\n",
       "      <th>MDCARE_DD_CNT</th>\n",
       "      <th>VSHSP_DD_CNT</th>\n",
       "      <th>TOT_PRSC_DD_CNT</th>\n",
       "      <th>MCARE_RSLT_TYPE</th>\n",
       "      <th>EDC_ADD_RT</th>\n",
       "      <th>ED_RC_TOT_AMT</th>\n",
       "      <th>EDC_SBA</th>\n",
       "      <th>EDC_INSUR_BRDN_AMT</th>\n",
       "      <th>STD_YYYY</th>\n",
       "    </tr>\n",
       "  </thead>\n",
       "  <tbody>\n",
       "    <tr>\n",
       "      <th>190</th>\n",
       "      <td>190</td>\n",
       "      <td>64e6c14fe04b422536ad25dd</td>\n",
       "      <td>646257</td>\n",
       "      <td>1921LE</td>\n",
       "      <td>200805.0</td>\n",
       "      <td>A15-A19</td>\n",
       "      <td>NaN</td>\n",
       "      <td>2002070306096</td>\n",
       "      <td>57097</td>\n",
       "      <td>20020710</td>\n",
       "      <td>...</td>\n",
       "      <td>0</td>\n",
       "      <td>1</td>\n",
       "      <td>1</td>\n",
       "      <td>30</td>\n",
       "      <td>5.0</td>\n",
       "      <td>0.15</td>\n",
       "      <td>7570</td>\n",
       "      <td>3000</td>\n",
       "      <td>4570</td>\n",
       "      <td>2002</td>\n",
       "    </tr>\n",
       "    <tr>\n",
       "      <th>195</th>\n",
       "      <td>195</td>\n",
       "      <td>64e6c14fe04b422536ad25e2</td>\n",
       "      <td>646257</td>\n",
       "      <td>1921LE</td>\n",
       "      <td>200805.0</td>\n",
       "      <td>A15-A19</td>\n",
       "      <td>NaN</td>\n",
       "      <td>2002080588993</td>\n",
       "      <td>57097</td>\n",
       "      <td>20020805</td>\n",
       "      <td>...</td>\n",
       "      <td>0</td>\n",
       "      <td>2</td>\n",
       "      <td>2</td>\n",
       "      <td>60</td>\n",
       "      <td>5.0</td>\n",
       "      <td>0.15</td>\n",
       "      <td>18160</td>\n",
       "      <td>6000</td>\n",
       "      <td>12160</td>\n",
       "      <td>2002</td>\n",
       "    </tr>\n",
       "    <tr>\n",
       "      <th>197</th>\n",
       "      <td>197</td>\n",
       "      <td>64e6c14fe04b422536ad25e4</td>\n",
       "      <td>646257</td>\n",
       "      <td>1921LE</td>\n",
       "      <td>200805.0</td>\n",
       "      <td>A15-A19</td>\n",
       "      <td>NaN</td>\n",
       "      <td>2002100841957</td>\n",
       "      <td>57097</td>\n",
       "      <td>20021017</td>\n",
       "      <td>...</td>\n",
       "      <td>0</td>\n",
       "      <td>1</td>\n",
       "      <td>1</td>\n",
       "      <td>30</td>\n",
       "      <td>5.0</td>\n",
       "      <td>0.15</td>\n",
       "      <td>7570</td>\n",
       "      <td>3000</td>\n",
       "      <td>4570</td>\n",
       "      <td>2002</td>\n",
       "    </tr>\n",
       "    <tr>\n",
       "      <th>284</th>\n",
       "      <td>284</td>\n",
       "      <td>64e6c14fe04b422536ad263b</td>\n",
       "      <td>646257</td>\n",
       "      <td>1921LE</td>\n",
       "      <td>200805.0</td>\n",
       "      <td>A15-A19</td>\n",
       "      <td>NaN</td>\n",
       "      <td>2007101419963</td>\n",
       "      <td>75196</td>\n",
       "      <td>20071008</td>\n",
       "      <td>...</td>\n",
       "      <td>0</td>\n",
       "      <td>1</td>\n",
       "      <td>1</td>\n",
       "      <td>7</td>\n",
       "      <td>1.0</td>\n",
       "      <td>0.15</td>\n",
       "      <td>14200</td>\n",
       "      <td>4200</td>\n",
       "      <td>10000</td>\n",
       "      <td>2007</td>\n",
       "    </tr>\n",
       "    <tr>\n",
       "      <th>769</th>\n",
       "      <td>769</td>\n",
       "      <td>64e6c14fe04b422536ad2820</td>\n",
       "      <td>966199</td>\n",
       "      <td>1921LE</td>\n",
       "      <td>201409.0</td>\n",
       "      <td>J69</td>\n",
       "      <td>NaN</td>\n",
       "      <td>2004030950967</td>\n",
       "      <td>44114</td>\n",
       "      <td>20040312</td>\n",
       "      <td>...</td>\n",
       "      <td>0</td>\n",
       "      <td>1</td>\n",
       "      <td>1</td>\n",
       "      <td>7</td>\n",
       "      <td>5.0</td>\n",
       "      <td>0.15</td>\n",
       "      <td>7310</td>\n",
       "      <td>1500</td>\n",
       "      <td>5810</td>\n",
       "      <td>2004</td>\n",
       "    </tr>\n",
       "    <tr>\n",
       "      <th>...</th>\n",
       "      <td>...</td>\n",
       "      <td>...</td>\n",
       "      <td>...</td>\n",
       "      <td>...</td>\n",
       "      <td>...</td>\n",
       "      <td>...</td>\n",
       "      <td>...</td>\n",
       "      <td>...</td>\n",
       "      <td>...</td>\n",
       "      <td>...</td>\n",
       "      <td>...</td>\n",
       "      <td>...</td>\n",
       "      <td>...</td>\n",
       "      <td>...</td>\n",
       "      <td>...</td>\n",
       "      <td>...</td>\n",
       "      <td>...</td>\n",
       "      <td>...</td>\n",
       "      <td>...</td>\n",
       "      <td>...</td>\n",
       "      <td>...</td>\n",
       "    </tr>\n",
       "    <tr>\n",
       "      <th>124484</th>\n",
       "      <td>124484</td>\n",
       "      <td>64e6c178e04b422536af0b75</td>\n",
       "      <td>314882</td>\n",
       "      <td>2005</td>\n",
       "      <td>NaN</td>\n",
       "      <td>NaN</td>\n",
       "      <td>NaN</td>\n",
       "      <td>2005120635229</td>\n",
       "      <td>110842</td>\n",
       "      <td>20051220</td>\n",
       "      <td>...</td>\n",
       "      <td>0</td>\n",
       "      <td>1</td>\n",
       "      <td>1</td>\n",
       "      <td>30</td>\n",
       "      <td>1.0</td>\n",
       "      <td>0.15</td>\n",
       "      <td>9050</td>\n",
       "      <td>3000</td>\n",
       "      <td>6050</td>\n",
       "      <td>2005</td>\n",
       "    </tr>\n",
       "    <tr>\n",
       "      <th>124485</th>\n",
       "      <td>124485</td>\n",
       "      <td>64e6c178e04b422536af0b76</td>\n",
       "      <td>314882</td>\n",
       "      <td>2005</td>\n",
       "      <td>NaN</td>\n",
       "      <td>NaN</td>\n",
       "      <td>NaN</td>\n",
       "      <td>2005060585142</td>\n",
       "      <td>110842</td>\n",
       "      <td>20050614</td>\n",
       "      <td>...</td>\n",
       "      <td>0</td>\n",
       "      <td>1</td>\n",
       "      <td>1</td>\n",
       "      <td>30</td>\n",
       "      <td>1.0</td>\n",
       "      <td>0.15</td>\n",
       "      <td>9050</td>\n",
       "      <td>3000</td>\n",
       "      <td>6050</td>\n",
       "      <td>2005</td>\n",
       "    </tr>\n",
       "    <tr>\n",
       "      <th>124486</th>\n",
       "      <td>124486</td>\n",
       "      <td>64e6c178e04b422536af0b77</td>\n",
       "      <td>314882</td>\n",
       "      <td>2005</td>\n",
       "      <td>NaN</td>\n",
       "      <td>NaN</td>\n",
       "      <td>NaN</td>\n",
       "      <td>2005070407648</td>\n",
       "      <td>110842</td>\n",
       "      <td>20050716</td>\n",
       "      <td>...</td>\n",
       "      <td>0</td>\n",
       "      <td>1</td>\n",
       "      <td>1</td>\n",
       "      <td>30</td>\n",
       "      <td>1.0</td>\n",
       "      <td>0.15</td>\n",
       "      <td>9050</td>\n",
       "      <td>3000</td>\n",
       "      <td>6050</td>\n",
       "      <td>2005</td>\n",
       "    </tr>\n",
       "    <tr>\n",
       "      <th>124495</th>\n",
       "      <td>124495</td>\n",
       "      <td>64e6c178e04b422536af0b80</td>\n",
       "      <td>314882</td>\n",
       "      <td>2005</td>\n",
       "      <td>NaN</td>\n",
       "      <td>NaN</td>\n",
       "      <td>NaN</td>\n",
       "      <td>2006010136092</td>\n",
       "      <td>110842</td>\n",
       "      <td>20060123</td>\n",
       "      <td>...</td>\n",
       "      <td>0</td>\n",
       "      <td>1</td>\n",
       "      <td>1</td>\n",
       "      <td>30</td>\n",
       "      <td>1.0</td>\n",
       "      <td>0.15</td>\n",
       "      <td>9380</td>\n",
       "      <td>3000</td>\n",
       "      <td>6380</td>\n",
       "      <td>2006</td>\n",
       "    </tr>\n",
       "    <tr>\n",
       "      <th>124590</th>\n",
       "      <td>124590</td>\n",
       "      <td>64e6c178e04b422536af0bdf</td>\n",
       "      <td>314882</td>\n",
       "      <td>2005</td>\n",
       "      <td>NaN</td>\n",
       "      <td>NaN</td>\n",
       "      <td>NaN</td>\n",
       "      <td>2010110318764</td>\n",
       "      <td>127359</td>\n",
       "      <td>20101125</td>\n",
       "      <td>...</td>\n",
       "      <td>0</td>\n",
       "      <td>1</td>\n",
       "      <td>1</td>\n",
       "      <td>30</td>\n",
       "      <td>1.0</td>\n",
       "      <td>0.15</td>\n",
       "      <td>12280</td>\n",
       "      <td>1500</td>\n",
       "      <td>10780</td>\n",
       "      <td>2010</td>\n",
       "    </tr>\n",
       "  </tbody>\n",
       "</table>\n",
       "<p>4629 rows × 24 columns</p>\n",
       "</div>"
      ],
      "text/plain": [
       "        Unnamed: 0                       _id  RN_INDI BTH_YYYY  DTH_YYYYMM  \\\n",
       "190            190  64e6c14fe04b422536ad25dd   646257   1921LE    200805.0   \n",
       "195            195  64e6c14fe04b422536ad25e2   646257   1921LE    200805.0   \n",
       "197            197  64e6c14fe04b422536ad25e4   646257   1921LE    200805.0   \n",
       "284            284  64e6c14fe04b422536ad263b   646257   1921LE    200805.0   \n",
       "769            769  64e6c14fe04b422536ad2820   966199   1921LE    201409.0   \n",
       "...            ...                       ...      ...      ...         ...   \n",
       "124484      124484  64e6c178e04b422536af0b75   314882     2005         NaN   \n",
       "124485      124485  64e6c178e04b422536af0b76   314882     2005         NaN   \n",
       "124486      124486  64e6c178e04b422536af0b77   314882     2005         NaN   \n",
       "124495      124495  64e6c178e04b422536af0b80   314882     2005         NaN   \n",
       "124590      124590  64e6c178e04b422536af0bdf   314882     2005         NaN   \n",
       "\n",
       "           COD1 COD2         RN_KEY  RN_INST  MDCARE_STRT_DT  ...  OPRTN_YN  \\\n",
       "190     A15-A19  NaN  2002070306096    57097        20020710  ...         0   \n",
       "195     A15-A19  NaN  2002080588993    57097        20020805  ...         0   \n",
       "197     A15-A19  NaN  2002100841957    57097        20021017  ...         0   \n",
       "284     A15-A19  NaN  2007101419963    75196        20071008  ...         0   \n",
       "769         J69  NaN  2004030950967    44114        20040312  ...         0   \n",
       "...         ...  ...            ...      ...             ...  ...       ...   \n",
       "124484      NaN  NaN  2005120635229   110842        20051220  ...         0   \n",
       "124485      NaN  NaN  2005060585142   110842        20050614  ...         0   \n",
       "124486      NaN  NaN  2005070407648   110842        20050716  ...         0   \n",
       "124495      NaN  NaN  2006010136092   110842        20060123  ...         0   \n",
       "124590      NaN  NaN  2010110318764   127359        20101125  ...         0   \n",
       "\n",
       "        MDCARE_DD_CNT VSHSP_DD_CNT TOT_PRSC_DD_CNT  MCARE_RSLT_TYPE  \\\n",
       "190                 1            1              30              5.0   \n",
       "195                 2            2              60              5.0   \n",
       "197                 1            1              30              5.0   \n",
       "284                 1            1               7              1.0   \n",
       "769                 1            1               7              5.0   \n",
       "...               ...          ...             ...              ...   \n",
       "124484              1            1              30              1.0   \n",
       "124485              1            1              30              1.0   \n",
       "124486              1            1              30              1.0   \n",
       "124495              1            1              30              1.0   \n",
       "124590              1            1              30              1.0   \n",
       "\n",
       "        EDC_ADD_RT  ED_RC_TOT_AMT  EDC_SBA  EDC_INSUR_BRDN_AMT  STD_YYYY  \n",
       "190           0.15           7570     3000                4570      2002  \n",
       "195           0.15          18160     6000               12160      2002  \n",
       "197           0.15           7570     3000                4570      2002  \n",
       "284           0.15          14200     4200               10000      2007  \n",
       "769           0.15           7310     1500                5810      2004  \n",
       "...            ...            ...      ...                 ...       ...  \n",
       "124484        0.15           9050     3000                6050      2005  \n",
       "124485        0.15           9050     3000                6050      2005  \n",
       "124486        0.15           9050     3000                6050      2005  \n",
       "124495        0.15           9380     3000                6380      2006  \n",
       "124590        0.15          12280     1500               10780      2010  \n",
       "\n",
       "[4629 rows x 24 columns]"
      ]
     },
     "execution_count": 3,
     "metadata": {},
     "output_type": "execute_result"
    }
   ],
   "source": [
    "# 'SICK_SYM1'이 'I10'인 고혈압 환자들의 데이터 추출\n",
    "\n",
    "df_D20_hyper = df_D20[df_D20['SICK_SYM1'] == 'I10']\n",
    "df_D20_hyper"
   ]
  },
  {
   "cell_type": "markdown",
   "id": "cdd9af1d-11f2-49b4-a065-0f71594a5d02",
   "metadata": {},
   "source": [
    "#### 고혈압 환자집단 (SICK_SYM1:'I10', object)의 목표변수와 설명변수 상관관계 확인\n",
    "### 목표변수 심결본인부담금 (EDC_SBA, int64)\n",
    "### 설명변수 \n",
    "- 병원방문경로(FORM_CD, int64)  02 : 의과입원 03 : 의과외래 08 : 보건기관외래\n",
    "- 수술여부(OPRTN_YN, int64) 0: 미수술 9: 수술\n",
    "- 진료결과(MCARE_RSLT_TYPE, float64) 1: 계속 2: 이송 3: 회송 4: 사망 5: 기타 9: 퇴원 또는 외래치료 종결"
   ]
  },
  {
   "cell_type": "code",
   "execution_count": 4,
   "id": "fe396cf3-6c40-4299-988d-e905fe114257",
   "metadata": {
    "tags": []
   },
   "outputs": [
    {
     "data": {
      "text/html": [
       "<div>\n",
       "<style scoped>\n",
       "    .dataframe tbody tr th:only-of-type {\n",
       "        vertical-align: middle;\n",
       "    }\n",
       "\n",
       "    .dataframe tbody tr th {\n",
       "        vertical-align: top;\n",
       "    }\n",
       "\n",
       "    .dataframe thead th {\n",
       "        text-align: right;\n",
       "    }\n",
       "</style>\n",
       "<table border=\"1\" class=\"dataframe\">\n",
       "  <thead>\n",
       "    <tr style=\"text-align: right;\">\n",
       "      <th></th>\n",
       "      <th>FORM_CD</th>\n",
       "      <th>OPRTN_YN</th>\n",
       "      <th>MCARE_RSLT_TYPE</th>\n",
       "      <th>EDC_SBA</th>\n",
       "    </tr>\n",
       "  </thead>\n",
       "  <tbody>\n",
       "    <tr>\n",
       "      <th>190</th>\n",
       "      <td>3</td>\n",
       "      <td>0</td>\n",
       "      <td>5.0</td>\n",
       "      <td>3000</td>\n",
       "    </tr>\n",
       "    <tr>\n",
       "      <th>195</th>\n",
       "      <td>3</td>\n",
       "      <td>0</td>\n",
       "      <td>5.0</td>\n",
       "      <td>6000</td>\n",
       "    </tr>\n",
       "    <tr>\n",
       "      <th>197</th>\n",
       "      <td>3</td>\n",
       "      <td>0</td>\n",
       "      <td>5.0</td>\n",
       "      <td>3000</td>\n",
       "    </tr>\n",
       "    <tr>\n",
       "      <th>284</th>\n",
       "      <td>3</td>\n",
       "      <td>0</td>\n",
       "      <td>1.0</td>\n",
       "      <td>4200</td>\n",
       "    </tr>\n",
       "    <tr>\n",
       "      <th>769</th>\n",
       "      <td>3</td>\n",
       "      <td>0</td>\n",
       "      <td>5.0</td>\n",
       "      <td>1500</td>\n",
       "    </tr>\n",
       "    <tr>\n",
       "      <th>...</th>\n",
       "      <td>...</td>\n",
       "      <td>...</td>\n",
       "      <td>...</td>\n",
       "      <td>...</td>\n",
       "    </tr>\n",
       "    <tr>\n",
       "      <th>124484</th>\n",
       "      <td>3</td>\n",
       "      <td>0</td>\n",
       "      <td>1.0</td>\n",
       "      <td>3000</td>\n",
       "    </tr>\n",
       "    <tr>\n",
       "      <th>124485</th>\n",
       "      <td>3</td>\n",
       "      <td>0</td>\n",
       "      <td>1.0</td>\n",
       "      <td>3000</td>\n",
       "    </tr>\n",
       "    <tr>\n",
       "      <th>124486</th>\n",
       "      <td>3</td>\n",
       "      <td>0</td>\n",
       "      <td>1.0</td>\n",
       "      <td>3000</td>\n",
       "    </tr>\n",
       "    <tr>\n",
       "      <th>124495</th>\n",
       "      <td>3</td>\n",
       "      <td>0</td>\n",
       "      <td>1.0</td>\n",
       "      <td>3000</td>\n",
       "    </tr>\n",
       "    <tr>\n",
       "      <th>124590</th>\n",
       "      <td>3</td>\n",
       "      <td>0</td>\n",
       "      <td>1.0</td>\n",
       "      <td>1500</td>\n",
       "    </tr>\n",
       "  </tbody>\n",
       "</table>\n",
       "<p>4629 rows × 4 columns</p>\n",
       "</div>"
      ],
      "text/plain": [
       "        FORM_CD  OPRTN_YN  MCARE_RSLT_TYPE  EDC_SBA\n",
       "190           3         0              5.0     3000\n",
       "195           3         0              5.0     6000\n",
       "197           3         0              5.0     3000\n",
       "284           3         0              1.0     4200\n",
       "769           3         0              5.0     1500\n",
       "...         ...       ...              ...      ...\n",
       "124484        3         0              1.0     3000\n",
       "124485        3         0              1.0     3000\n",
       "124486        3         0              1.0     3000\n",
       "124495        3         0              1.0     3000\n",
       "124590        3         0              1.0     1500\n",
       "\n",
       "[4629 rows x 4 columns]"
      ]
     },
     "execution_count": 4,
     "metadata": {},
     "output_type": "execute_result"
    }
   ],
   "source": [
    "df_V3 = df_D20_hyper[['FORM_CD','OPRTN_YN','MCARE_RSLT_TYPE','EDC_SBA']]\n",
    "df_V3"
   ]
  },
  {
   "cell_type": "markdown",
   "id": "bc382005-6d5b-4978-963b-bcf8c30b9958",
   "metadata": {},
   "source": [
    "#### 1. 병원방문경로와 심결본인부담금 \n",
    "-  02 : 의과입원 03 : 의과외래 08 : 보건기관외래"
   ]
  },
  {
   "cell_type": "code",
   "execution_count": 5,
   "id": "695e2047-f324-4a14-afb0-0278942f7496",
   "metadata": {
    "tags": []
   },
   "outputs": [
    {
     "name": "stdout",
     "output_type": "stream",
     "text": [
      "<class 'pandas.core.frame.DataFrame'>\n",
      "Int64Index: 4629 entries, 190 to 124590\n",
      "Data columns (total 2 columns):\n",
      " #   Column   Non-Null Count  Dtype\n",
      "---  ------   --------------  -----\n",
      " 0   FORM_CD  4629 non-null   int64\n",
      " 1   EDC_SBA  4629 non-null   int64\n",
      "dtypes: int64(2)\n",
      "memory usage: 108.5 KB\n"
     ]
    }
   ],
   "source": [
    "df_HV = df_V3[['FORM_CD', 'EDC_SBA']]\n",
    "df_HV.info()"
   ]
  },
  {
   "cell_type": "code",
   "execution_count": 16,
   "id": "e36289c8-97aa-4a0e-a36b-eee097c468a3",
   "metadata": {
    "tags": []
   },
   "outputs": [
    {
     "data": {
      "image/png": "[encoded data removed]",
      "text/plain": [
       "<Figure size 640x480 with 1 Axes>"
      ]
     },
     "metadata": {},
     "output_type": "display_data"
    }
   ],
   "source": [
    "# boxplot 그리기\n",
    "sns.boxplot(data=df_HV, y='EDC_SBA')\n",
    "\n",
    "# y축 레이블 설정\n",
    "plt.ylabel('심결본인부담금')\n",
    "\n",
    "# 그래프 제목 설정\n",
    "plt.title('심결본인부담금 Box Plot')\n",
    "\n",
    "# 그래프 출력\n",
    "plt.show()"
   ]
  },
  {
   "cell_type": "code",
   "execution_count": 9,
   "id": "8100df4a-0d71-4c3a-80bb-87b2703e5af5",
   "metadata": {
    "tags": []
   },
   "outputs": [],
   "source": [
    "# 이상치 제거\n",
    "df_Ha = df_HV['EDC_SBA'].describe()['25%']\n",
    "df_Hb = df_HV['EDC_SBA'].describe()['75%']\n",
    "df_Ha_IQR = df_Hb - df_Ha"
   ]
  },
  {
   "cell_type": "code",
   "execution_count": 10,
   "id": "7de0c4d3-c282-4e27-a3da-1b95ed766a90",
   "metadata": {
    "tags": []
   },
   "outputs": [
    {
     "data": {
      "text/plain": [
       "(1500.0, 3100.0, 1600.0)"
      ]
     },
     "execution_count": 10,
     "metadata": {},
     "output_type": "execute_result"
    }
   ],
   "source": [
    "df_Ha, df_Hb, df_Ha_IQR"
   ]
  },
  {
   "cell_type": "code",
   "execution_count": 11,
   "id": "1cd48d09-0b58-4e5a-875b-ab4082c5d2e5",
   "metadata": {
    "tags": []
   },
   "outputs": [],
   "source": [
    "df_Ha_up = df_Hb + 1.5 * df_Ha_IQR\n",
    "df_Ha_down = df_Ha - 1.5 * df_Ha_IQR"
   ]
  },
  {
   "cell_type": "code",
   "execution_count": 12,
   "id": "e088b467-878a-4fe3-a46c-62aa6eefb0ed",
   "metadata": {
    "tags": []
   },
   "outputs": [
    {
     "data": {
      "text/plain": [
       "(5500.0, -900.0)"
      ]
     },
     "execution_count": 12,
     "metadata": {},
     "output_type": "execute_result"
    }
   ],
   "source": [
    "df_Ha_up, df_Ha_down "
   ]
  },
  {
   "cell_type": "code",
   "execution_count": 13,
   "id": "599cca45-2821-411b-8916-648fff6af7e9",
   "metadata": {
    "tags": []
   },
   "outputs": [],
   "source": [
    "df_H_condition = (df_HV['EDC_SBA'] <= df_Ha_up) & (df_HV['EDC_SBA'] >= df_Ha_down)\n",
    "df_D20_hyper = df_D20_hyper[df_H_condition]\n",
    "# 전체 리스트에서 심결본인부담금의 이상치를 제거함\n",
    "df_HV =  df_HV[df_H_condition]"
   ]
  },
  {
   "cell_type": "code",
   "execution_count": 14,
   "id": "fe45d72c-26ce-4e08-90ce-4562add82a9f",
   "metadata": {
    "tags": []
   },
   "outputs": [
    {
     "data": {
      "text/plain": [
       "count    3924.000000\n",
       "mean     2228.376656\n",
       "std      1106.827646\n",
       "min         0.000000\n",
       "25%      1500.000000\n",
       "50%      1500.000000\n",
       "75%      3000.000000\n",
       "max      5500.000000\n",
       "Name: EDC_SBA, dtype: float64"
      ]
     },
     "execution_count": 14,
     "metadata": {},
     "output_type": "execute_result"
    }
   ],
   "source": [
    "df_HV['EDC_SBA'].describe()"
   ]
  },
  {
   "cell_type": "code",
   "execution_count": 17,
   "id": "1776c3fe-19c9-487c-b2d6-443d1f8d9bbb",
   "metadata": {
    "tags": []
   },
   "outputs": [
    {
     "data": {
      "image/png": "[encoded data removed]",
      "text/plain": [
       "<Figure size 640x480 with 1 Axes>"
      ]
     },
     "metadata": {},
     "output_type": "display_data"
    }
   ],
   "source": [
    "# boxplot 그리기\n",
    "sns.boxplot(data=df_HV, y='EDC_SBA')\n",
    "\n",
    "# y축 레이블 설정\n",
    "plt.ylabel('심결본인부담금')\n",
    "\n",
    "# 그래프 제목 설정\n",
    "plt.title('심결본인부담금 Box Plot')\n",
    "\n",
    "# 그래프 출력\n",
    "plt.show()"
   ]
  },
  {
   "cell_type": "code",
   "execution_count": 18,
   "id": "d136e3cd-6852-4264-a334-cfa2dd5cac5c",
   "metadata": {
    "tags": []
   },
   "outputs": [
    {
     "data": {
      "text/html": [
       "<div>\n",
       "<style scoped>\n",
       "    .dataframe tbody tr th:only-of-type {\n",
       "        vertical-align: middle;\n",
       "    }\n",
       "\n",
       "    .dataframe tbody tr th {\n",
       "        vertical-align: top;\n",
       "    }\n",
       "\n",
       "    .dataframe thead th {\n",
       "        text-align: right;\n",
       "    }\n",
       "</style>\n",
       "<table border=\"1\" class=\"dataframe\">\n",
       "  <thead>\n",
       "    <tr style=\"text-align: right;\">\n",
       "      <th></th>\n",
       "      <th>심결본인부담금</th>\n",
       "    </tr>\n",
       "    <tr>\n",
       "      <th>병원방문경로</th>\n",
       "      <th></th>\n",
       "    </tr>\n",
       "  </thead>\n",
       "  <tbody>\n",
       "    <tr>\n",
       "      <th>3</th>\n",
       "      <td>2377.569964</td>\n",
       "    </tr>\n",
       "    <tr>\n",
       "      <th>8</th>\n",
       "      <td>519.047619</td>\n",
       "    </tr>\n",
       "  </tbody>\n",
       "</table>\n",
       "</div>"
      ],
      "text/plain": [
       "            심결본인부담금\n",
       "병원방문경로             \n",
       "3       2377.569964\n",
       "8        519.047619"
      ]
     },
     "execution_count": 18,
     "metadata": {},
     "output_type": "execute_result"
    }
   ],
   "source": [
    "# df_HV.pivot_table(index='FORM_CD', values='EDC_SBA', aggfunc=np.mean)\n",
    "\n",
    "# 병원방문경로별 '심결본인부담금'의 평균 계산\n",
    "avg_EDC_SBA_by_FORM_CD = df_HV.pivot_table(index='FORM_CD', values='EDC_SBA', aggfunc=np.mean)\n",
    "\n",
    "# 출력 인덱스 컬럼명 설정\n",
    "avg_EDC_SBA_by_FORM_CD.index.name = '병원방문경로'\n",
    "avg_EDC_SBA_by_FORM_CD.columns = ['심결본인부담금']  \n",
    "# 출력\n",
    "avg_EDC_SBA_by_FORM_CD"
   ]
  },
  {
   "cell_type": "markdown",
   "id": "73df40a7-58bb-4a74-8eb3-ec8d77072336",
   "metadata": {},
   "source": [
    "##### 병원방문경로 2번 의과입원 IQR 이상치 제거 후 사라짐. "
   ]
  },
  {
   "cell_type": "code",
   "execution_count": 22,
   "id": "5290ad90-e14a-4915-8321-06b007cfcc61",
   "metadata": {
    "tags": []
   },
   "outputs": [
    {
     "data": {
      "image/png": "[encoded data removed]",
      "text/plain": [
       "<Figure size 640x480 with 1 Axes>"
      ]
     },
     "metadata": {},
     "output_type": "display_data"
    }
   ],
   "source": [
    "df_HV_chart = sns.barplot(data=df_HV, x='FORM_CD', y='EDC_SBA')\n",
    "\n",
    "# x축 레이블 설정\n",
    "plt.xlabel('병원방문경로')\n",
    "\n",
    "# x축 라벨 수정\n",
    "df_HV_chart.set_xticklabels(['의과외래', '보건기관외래'])\n",
    "\n",
    "\n",
    "# y축 레이블 설정\n",
    "plt.ylabel('심결본인부담금')\n",
    "\n",
    "# 그래프 제목 설정\n",
    "plt.title('병원방문경로별 심결본인부담금 막대 그래프')\n",
    "\n",
    "# 그래프 출력\n",
    "plt.show()"
   ]
  },
  {
   "cell_type": "markdown",
   "id": "c6ea7dd2-36a3-4481-9c51-270ef280b637",
   "metadata": {},
   "source": [
    "##### 따라서, 의과외래로 병원방문경로한 환자의 심결본인부담금이 더 높았다. "
   ]
  },
  {
   "cell_type": "markdown",
   "id": "f5fc9ae5-e906-480e-b1c0-249a4158e205",
   "metadata": {},
   "source": [
    "#### 2.수술여부와 심결본인부담금 \n",
    "-0: 미수술 9: 수술"
   ]
  },
  {
   "cell_type": "code",
   "execution_count": 25,
   "id": "ce67bca3-fa5d-4df3-a00e-e72ed87bb8ae",
   "metadata": {
    "tags": []
   },
   "outputs": [
    {
     "name": "stdout",
     "output_type": "stream",
     "text": [
      "<class 'pandas.core.frame.DataFrame'>\n",
      "Int64Index: 4629 entries, 190 to 124590\n",
      "Data columns (total 2 columns):\n",
      " #   Column    Non-Null Count  Dtype\n",
      "---  ------    --------------  -----\n",
      " 0   OPRTN_YN  4629 non-null   int64\n",
      " 1   EDC_SBA   4629 non-null   int64\n",
      "dtypes: int64(2)\n",
      "memory usage: 108.5 KB\n"
     ]
    }
   ],
   "source": [
    "df_S = df_V3[['OPRTN_YN', 'EDC_SBA']]\n",
    "df_S.info()"
   ]
  },
  {
   "cell_type": "code",
   "execution_count": 31,
   "id": "7ff72387-3cf1-4dac-a9ba-4ebc8f89dac2",
   "metadata": {
    "tags": []
   },
   "outputs": [
    {
     "data": {
      "text/html": [
       "<div>\n",
       "<style scoped>\n",
       "    .dataframe tbody tr th:only-of-type {\n",
       "        vertical-align: middle;\n",
       "    }\n",
       "\n",
       "    .dataframe tbody tr th {\n",
       "        vertical-align: top;\n",
       "    }\n",
       "\n",
       "    .dataframe thead th {\n",
       "        text-align: right;\n",
       "    }\n",
       "</style>\n",
       "<table border=\"1\" class=\"dataframe\">\n",
       "  <thead>\n",
       "    <tr style=\"text-align: right;\">\n",
       "      <th></th>\n",
       "      <th>심결본인부담금</th>\n",
       "    </tr>\n",
       "    <tr>\n",
       "      <th>수술여부</th>\n",
       "      <th></th>\n",
       "    </tr>\n",
       "  </thead>\n",
       "  <tbody>\n",
       "    <tr>\n",
       "      <th>0</th>\n",
       "      <td>4567.557285</td>\n",
       "    </tr>\n",
       "    <tr>\n",
       "      <th>9</th>\n",
       "      <td>96396.666667</td>\n",
       "    </tr>\n",
       "  </tbody>\n",
       "</table>\n",
       "</div>"
      ],
      "text/plain": [
       "           심결본인부담금\n",
       "수술여부              \n",
       "0      4567.557285\n",
       "9     96396.666667"
      ]
     },
     "execution_count": 31,
     "metadata": {},
     "output_type": "execute_result"
    }
   ],
   "source": [
    "df_S_COUNT = df_S.pivot_table(index='OPRTN_YN', values='EDC_SBA', aggfunc=np.mean)\n",
    "\n",
    "# 출력 인덱스 컬럼명 설정\n",
    "df_S_COUNT.index.name = '수술여부'\n",
    "df_S_COUNT.columns = ['심결본인부담금']  \n",
    "# 출력\n",
    "df_S_COUNT"
   ]
  },
  {
   "cell_type": "code",
   "execution_count": 32,
   "id": "5cea63e3-efdf-433c-ab54-13cc7c5826b0",
   "metadata": {
    "tags": []
   },
   "outputs": [
    {
     "data": {
      "image/png": "[encoded data removed]",
      "text/plain": [
       "<Figure size 640x480 with 1 Axes>"
      ]
     },
     "metadata": {},
     "output_type": "display_data"
    }
   ],
   "source": [
    "df_S_chart = sns.barplot(data=df_S, x='OPRTN_YN', y='EDC_SBA')\n",
    "\n",
    "# x축 레이블 설정\n",
    "plt.xlabel('수술여부')\n",
    "\n",
    "# x축 라벨 수정\n",
    "df_S_chart.set_xticklabels(['미수술','수술'])\n",
    "\n",
    "\n",
    "# y축 레이블 설정\n",
    "plt.ylabel('심결본인부담금')\n",
    "\n",
    "# 그래프 제목 설정\n",
    "plt.title('수술여부에 따른 심결본인부담금 막대 그래프')\n",
    "\n",
    "# 그래프 출력\n",
    "plt.show()"
   ]
  },
  {
   "cell_type": "markdown",
   "id": "08db569b-1819-45ee-b7c0-cbf89e5a0f8c",
   "metadata": {},
   "source": [
    "##### 따라서, 수술한 환자의 심결본인부담금이 더 높았다. "
   ]
  },
  {
   "cell_type": "markdown",
   "id": "62738458-08df-44c8-a32e-85f33c6af40d",
   "metadata": {},
   "source": [
    "#### 3.진료결과와 심결본인부담금 \n",
    "- 1: 계속 2: 이송 3: 회송 4: 사망 5: 기타 9: 퇴원 또는 외래치료 종결"
   ]
  },
  {
   "cell_type": "code",
   "execution_count": 33,
   "id": "633e0b7b-1ae8-4d1c-8e31-a2d0d8ed1cff",
   "metadata": {
    "tags": []
   },
   "outputs": [
    {
     "name": "stdout",
     "output_type": "stream",
     "text": [
      "<class 'pandas.core.frame.DataFrame'>\n",
      "Int64Index: 4629 entries, 190 to 124590\n",
      "Data columns (total 2 columns):\n",
      " #   Column           Non-Null Count  Dtype  \n",
      "---  ------           --------------  -----  \n",
      " 0   MCARE_RSLT_TYPE  4205 non-null   float64\n",
      " 1   EDC_SBA          4629 non-null   int64  \n",
      "dtypes: float64(1), int64(1)\n",
      "memory usage: 108.5 KB\n"
     ]
    }
   ],
   "source": [
    "df_R = df_V3[['MCARE_RSLT_TYPE', 'EDC_SBA']]\n",
    "df_R.info()"
   ]
  },
  {
   "cell_type": "code",
   "execution_count": 36,
   "id": "2cabd648-19f1-41da-9dec-8cfe11f3c102",
   "metadata": {
    "tags": []
   },
   "outputs": [],
   "source": [
    "# MCARE_RSLT_TYPE  NaN 값을 제거, float ->int 데이터 타입변경\n",
    "df_R = df_R.dropna(subset=['MCARE_RSLT_TYPE'])\n",
    "df_R['MCARE_RSLT_TYPE'] = df_R['MCARE_RSLT_TYPE'].astype(int)"
   ]
  },
  {
   "cell_type": "code",
   "execution_count": 37,
   "id": "0ab3f9a2-6894-4156-9570-b409c8f2b31c",
   "metadata": {
    "tags": []
   },
   "outputs": [
    {
     "name": "stdout",
     "output_type": "stream",
     "text": [
      "<class 'pandas.core.frame.DataFrame'>\n",
      "Int64Index: 4205 entries, 190 to 124590\n",
      "Data columns (total 2 columns):\n",
      " #   Column           Non-Null Count  Dtype\n",
      "---  ------           --------------  -----\n",
      " 0   MCARE_RSLT_TYPE  4205 non-null   int32\n",
      " 1   EDC_SBA          4205 non-null   int64\n",
      "dtypes: int32(1), int64(1)\n",
      "memory usage: 82.1 KB\n"
     ]
    }
   ],
   "source": [
    "df_R.info()"
   ]
  },
  {
   "cell_type": "code",
   "execution_count": 43,
   "id": "afa95c6b-c699-4525-bf94-705363b62408",
   "metadata": {
    "tags": []
   },
   "outputs": [
    {
     "data": {
      "text/html": [
       "<div>\n",
       "<style scoped>\n",
       "    .dataframe tbody tr th:only-of-type {\n",
       "        vertical-align: middle;\n",
       "    }\n",
       "\n",
       "    .dataframe tbody tr th {\n",
       "        vertical-align: top;\n",
       "    }\n",
       "\n",
       "    .dataframe thead th {\n",
       "        text-align: right;\n",
       "    }\n",
       "</style>\n",
       "<table border=\"1\" class=\"dataframe\">\n",
       "  <thead>\n",
       "    <tr style=\"text-align: right;\">\n",
       "      <th></th>\n",
       "      <th>심결본인부담금</th>\n",
       "    </tr>\n",
       "    <tr>\n",
       "      <th>MCARE_RSLT_TYPE</th>\n",
       "      <th></th>\n",
       "    </tr>\n",
       "  </thead>\n",
       "  <tbody>\n",
       "    <tr>\n",
       "      <th>1</th>\n",
       "      <td>4757.691141</td>\n",
       "    </tr>\n",
       "    <tr>\n",
       "      <th>2</th>\n",
       "      <td>1000.000000</td>\n",
       "    </tr>\n",
       "    <tr>\n",
       "      <th>5</th>\n",
       "      <td>3875.396096</td>\n",
       "    </tr>\n",
       "    <tr>\n",
       "      <th>9</th>\n",
       "      <td>26633.243243</td>\n",
       "    </tr>\n",
       "  </tbody>\n",
       "</table>\n",
       "</div>"
      ],
      "text/plain": [
       "                      심결본인부담금\n",
       "MCARE_RSLT_TYPE              \n",
       "1                 4757.691141\n",
       "2                 1000.000000\n",
       "5                 3875.396096\n",
       "9                26633.243243"
      ]
     },
     "execution_count": 43,
     "metadata": {},
     "output_type": "execute_result"
    }
   ],
   "source": [
    "df_R_COUNT = df_R.pivot_table(index='MCARE_RSLT_TYPE', values='EDC_SBA', aggfunc=np.mean)\n",
    "\n",
    "# 출력 인덱스 컬럼명 설정\n",
    "df_R.index.name = '진료결과'\n",
    "df_R_COUNT.columns = ['심결본인부담금']  \n",
    "# 출력\n",
    "df_R_COUNT"
   ]
  },
  {
   "cell_type": "code",
   "execution_count": 47,
   "id": "a9c608a2-1303-400c-be11-1501512e54e8",
   "metadata": {
    "tags": []
   },
   "outputs": [
    {
     "data": {
      "image/png": "[encoded data removed]",
      "text/plain": [
       "<Figure size 640x480 with 1 Axes>"
      ]
     },
     "metadata": {},
     "output_type": "display_data"
    }
   ],
   "source": [
    "df_R_chart = sns.barplot(data=df_R, x='MCARE_RSLT_TYPE', y='EDC_SBA')\n",
    "\n",
    "# x축 레이블 설정\n",
    "plt.xlabel('진료결과')\n",
    "\n",
    "# x축 라벨 수정\n",
    "df_R_chart.set_xticklabels(['계속', '이송', '회송', '사망'])\n",
    "\n",
    "# y축 레이블 설정\n",
    "plt.ylabel('심결본인부담금')\n",
    "\n",
    "# 그래프 제목 설정\n",
    "plt.title('진료결과에 따른 심결본인부담금 막대 그래프')\n",
    "\n",
    "# 그래프 출력\n",
    "plt.show()"
   ]
  },
  {
   "cell_type": "markdown",
   "id": "68ab8b53-f440-4780-998f-7c7f9c7cfd86",
   "metadata": {},
   "source": [
    "##### 따라서, 진료결과가 사망인 환자의 심결본인부담금이 더 높았다. "
   ]
  }
 ],
 "metadata": {
  "kernelspec": {
   "display_name": "Python 3 (ipykernel)",
   "language": "python",
   "name": "python3"
  },
  "language_info": {
   "codemirror_mode": {
    "name": "ipython",
    "version": 3
   },
   "file_extension": ".py",
   "mimetype": "text/x-python",
   "name": "python",
   "nbconvert_exporter": "python",
   "pygments_lexer": "ipython3",
   "version": "3.11.3"
  }
 },
 "nbformat": 4,
 "nbformat_minor": 5
}
