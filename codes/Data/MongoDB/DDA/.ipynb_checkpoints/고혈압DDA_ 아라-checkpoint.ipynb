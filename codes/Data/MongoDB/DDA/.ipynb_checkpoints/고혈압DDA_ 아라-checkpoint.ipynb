{
 "cells": [
  {
   "cell_type": "markdown",
   "id": "af33c3f7-026b-4dfb-aa14-012db0661ed1",
   "metadata": {
    "tags": []
   },
   "source": [
    "#### 고혈압 환자집단 (SICK_SYM1:'I10', object)\n",
    "\n",
    "### 목표변수 심결본인부담금 (EDC_SBA, int64)\n",
    "### 설명변수 \n",
    "- 병원방문경로(FORM_CD, int64)  02 : 의과입원 03 : 의과외래 08 : 보건기관외래\n",
    "- 수술여부(OPRTN_YN, int64) 0: 미수술 9: 수술\n",
    "- 진료결과(MCARE_RSLT_TYPE, float64) 1: 계속 2: 이송 3: 회송 4: 사망 5: 기타 9: 퇴원 또는 외래치료 종결"
   ]
  },
  {
   "cell_type": "code",
   "execution_count": 4,
   "id": "56853a73-2cb6-445f-8d60-ea8e41c809a2",
   "metadata": {
    "collapsed": true,
    "jupyter": {
     "outputs_hidden": true
    },
    "tags": []
   },
   "outputs": [
    {
     "name": "stdout",
     "output_type": "stream",
     "text": [
      "Retrieving notices: ...working... done\n",
      "Collecting package metadata (current_repodata.json): ...working... done\n",
      "Solving environment: ...working... done\n",
      "\n",
      "## Package Plan ##\n",
      "\n",
      "  environment location: C:\\Users\\04-02\\anaconda3\n",
      "\n",
      "  added / updated specs:\n",
      "    - pymongo\n",
      "\n",
      "\n",
      "The following packages will be downloaded:\n",
      "\n",
      "    package                    |            build\n",
      "    ---------------------------|-----------------\n",
      "    conda-23.7.3               |  py311haa95532_0         1.3 MB\n",
      "    ------------------------------------------------------------\n",
      "                                           Total:         1.3 MB\n",
      "\n",
      "The following packages will be UPDATED:\n",
      "\n",
      "  conda                              23.7.2-py311haa95532_0 --> 23.7.3-py311haa95532_0 \n",
      "\n",
      "\n",
      "\n",
      "Downloading and Extracting Packages\n",
      "\n",
      "conda-23.7.3         | 1.3 MB    |            |   0% \n",
      "conda-23.7.3         | 1.3 MB    | ##6        |  27% \n",
      "conda-23.7.3         | 1.3 MB    | ########## | 100% \n",
      "conda-23.7.3         | 1.3 MB    | ########## | 100% \n",
      "                                                     \n",
      "\n",
      "\n",
      "Preparing transaction: ...working... done\n",
      "Verifying transaction: ...working... done\n",
      "Executing transaction: ...working... done\n",
      "\n",
      "Note: you may need to restart the kernel to use updated packages.\n"
     ]
    }
   ],
   "source": [
    "%conda install pymongo"
   ]
  },
  {
   "cell_type": "code",
   "execution_count": 75,
   "id": "986bfa72-b096-43f8-b4e0-ec365753c61e",
   "metadata": {
    "tags": []
   },
   "outputs": [
    {
     "name": "stdout",
     "output_type": "stream",
     "text": [
      "<class 'pandas.core.frame.DataFrame'>\n",
      "RangeIndex: 137163 entries, 0 to 137162\n",
      "Data columns (total 24 columns):\n",
      " #   Column              Non-Null Count   Dtype  \n",
      "---  ------              --------------   -----  \n",
      " 0   Unnamed: 0          137163 non-null  int64  \n",
      " 1   _id                 137163 non-null  object \n",
      " 2   RN_INDI             137163 non-null  int64  \n",
      " 3   BTH_YYYY            137163 non-null  object \n",
      " 4   DTH_YYYYMM          10269 non-null   float64\n",
      " 5   COD1                8473 non-null    object \n",
      " 6   COD2                998 non-null     object \n",
      " 7   RN_KEY              137163 non-null  int64  \n",
      " 8   RN_INST             137163 non-null  int64  \n",
      " 9   MDCARE_STRT_DT      137163 non-null  int64  \n",
      " 10  FORM_CD             137163 non-null  int64  \n",
      " 11  MCARE_SUBJ_CD       137163 non-null  int64  \n",
      " 12  SICK_SYM1           137163 non-null  object \n",
      " 13  OFIJ_TYPE           134428 non-null  object \n",
      " 14  OPRTN_YN            137163 non-null  int64  \n",
      " 15  MDCARE_DD_CNT       137163 non-null  int64  \n",
      " 16  VSHSP_DD_CNT        137163 non-null  int64  \n",
      " 17  TOT_PRSC_DD_CNT     137163 non-null  int64  \n",
      " 18  MCARE_RSLT_TYPE     133958 non-null  float64\n",
      " 19  EDC_ADD_RT          137163 non-null  float64\n",
      " 20  ED_RC_TOT_AMT       137163 non-null  int64  \n",
      " 21  EDC_SBA             137163 non-null  int64  \n",
      " 22  EDC_INSUR_BRDN_AMT  137163 non-null  int64  \n",
      " 23  STD_YYYY            137163 non-null  int64  \n",
      "dtypes: float64(3), int64(15), object(6)\n",
      "memory usage: 25.1+ MB\n"
     ]
    },
    {
     "name": "stderr",
     "output_type": "stream",
     "text": [
      "C:\\Users\\04-02\\AppData\\Local\\Temp\\ipykernel_5304\\1855560261.py:13: DtypeWarning: Columns (3,5,6) have mixed types. Specify dtype option on import or set low_memory=False.\n",
      "  df_D20 = pd.read_csv('../NSC2_D20.csv')\n"
     ]
    }
   ],
   "source": [
    "import pandas as pd\n",
    "import numpy as np\n",
    "import seaborn as sns\n",
    "import matplotlib.pyplot as plt\n",
    "import matplotlib as mpl\n",
    "import pymongo as mg\n",
    "import pandas as pd\n",
    "from scipy.stats import chi2_contingency\n",
    "client = mg.MongoClient(host='mongodb://localhost:27017')\n",
    "database = client['db_NHIS']\n",
    "collection = database['merged_collection6']\n",
    "mpl.rc('font', family = 'Malgun Gothic')\n",
    "df_D20 = pd.read_csv('../NSC2_D20.csv')\n",
    "df_D20.info()"
   ]
  },
  {
   "cell_type": "code",
   "execution_count": 50,
   "id": "1b1dbf97-5d80-40ce-85e0-7cdcef96960f",
   "metadata": {
    "tags": []
   },
   "outputs": [
    {
     "data": {
      "text/html": [
       "<div>\n",
       "<style scoped>\n",
       "    .dataframe tbody tr th:only-of-type {\n",
       "        vertical-align: middle;\n",
       "    }\n",
       "\n",
       "    .dataframe tbody tr th {\n",
       "        vertical-align: top;\n",
       "    }\n",
       "\n",
       "    .dataframe thead th {\n",
       "        text-align: right;\n",
       "    }\n",
       "</style>\n",
       "<table border=\"1\" class=\"dataframe\">\n",
       "  <thead>\n",
       "    <tr style=\"text-align: right;\">\n",
       "      <th></th>\n",
       "      <th>Unnamed: 0</th>\n",
       "      <th>_id</th>\n",
       "      <th>RN_INDI</th>\n",
       "      <th>BTH_YYYY</th>\n",
       "      <th>DTH_YYYYMM</th>\n",
       "      <th>COD1</th>\n",
       "      <th>COD2</th>\n",
       "      <th>RN_KEY</th>\n",
       "      <th>RN_INST</th>\n",
       "      <th>MDCARE_STRT_DT</th>\n",
       "      <th>...</th>\n",
       "      <th>OPRTN_YN</th>\n",
       "      <th>MDCARE_DD_CNT</th>\n",
       "      <th>VSHSP_DD_CNT</th>\n",
       "      <th>TOT_PRSC_DD_CNT</th>\n",
       "      <th>MCARE_RSLT_TYPE</th>\n",
       "      <th>EDC_ADD_RT</th>\n",
       "      <th>ED_RC_TOT_AMT</th>\n",
       "      <th>EDC_SBA</th>\n",
       "      <th>EDC_INSUR_BRDN_AMT</th>\n",
       "      <th>STD_YYYY</th>\n",
       "    </tr>\n",
       "  </thead>\n",
       "  <tbody>\n",
       "    <tr>\n",
       "      <th>190</th>\n",
       "      <td>190</td>\n",
       "      <td>64e6c14fe04b422536ad25dd</td>\n",
       "      <td>646257</td>\n",
       "      <td>1921LE</td>\n",
       "      <td>200805.0</td>\n",
       "      <td>A15-A19</td>\n",
       "      <td>NaN</td>\n",
       "      <td>2002070306096</td>\n",
       "      <td>57097</td>\n",
       "      <td>20020710</td>\n",
       "      <td>...</td>\n",
       "      <td>0</td>\n",
       "      <td>1</td>\n",
       "      <td>1</td>\n",
       "      <td>30</td>\n",
       "      <td>5.0</td>\n",
       "      <td>0.15</td>\n",
       "      <td>7570</td>\n",
       "      <td>3000</td>\n",
       "      <td>4570</td>\n",
       "      <td>2002</td>\n",
       "    </tr>\n",
       "    <tr>\n",
       "      <th>195</th>\n",
       "      <td>195</td>\n",
       "      <td>64e6c14fe04b422536ad25e2</td>\n",
       "      <td>646257</td>\n",
       "      <td>1921LE</td>\n",
       "      <td>200805.0</td>\n",
       "      <td>A15-A19</td>\n",
       "      <td>NaN</td>\n",
       "      <td>2002080588993</td>\n",
       "      <td>57097</td>\n",
       "      <td>20020805</td>\n",
       "      <td>...</td>\n",
       "      <td>0</td>\n",
       "      <td>2</td>\n",
       "      <td>2</td>\n",
       "      <td>60</td>\n",
       "      <td>5.0</td>\n",
       "      <td>0.15</td>\n",
       "      <td>18160</td>\n",
       "      <td>6000</td>\n",
       "      <td>12160</td>\n",
       "      <td>2002</td>\n",
       "    </tr>\n",
       "    <tr>\n",
       "      <th>197</th>\n",
       "      <td>197</td>\n",
       "      <td>64e6c14fe04b422536ad25e4</td>\n",
       "      <td>646257</td>\n",
       "      <td>1921LE</td>\n",
       "      <td>200805.0</td>\n",
       "      <td>A15-A19</td>\n",
       "      <td>NaN</td>\n",
       "      <td>2002100841957</td>\n",
       "      <td>57097</td>\n",
       "      <td>20021017</td>\n",
       "      <td>...</td>\n",
       "      <td>0</td>\n",
       "      <td>1</td>\n",
       "      <td>1</td>\n",
       "      <td>30</td>\n",
       "      <td>5.0</td>\n",
       "      <td>0.15</td>\n",
       "      <td>7570</td>\n",
       "      <td>3000</td>\n",
       "      <td>4570</td>\n",
       "      <td>2002</td>\n",
       "    </tr>\n",
       "    <tr>\n",
       "      <th>284</th>\n",
       "      <td>284</td>\n",
       "      <td>64e6c14fe04b422536ad263b</td>\n",
       "      <td>646257</td>\n",
       "      <td>1921LE</td>\n",
       "      <td>200805.0</td>\n",
       "      <td>A15-A19</td>\n",
       "      <td>NaN</td>\n",
       "      <td>2007101419963</td>\n",
       "      <td>75196</td>\n",
       "      <td>20071008</td>\n",
       "      <td>...</td>\n",
       "      <td>0</td>\n",
       "      <td>1</td>\n",
       "      <td>1</td>\n",
       "      <td>7</td>\n",
       "      <td>1.0</td>\n",
       "      <td>0.15</td>\n",
       "      <td>14200</td>\n",
       "      <td>4200</td>\n",
       "      <td>10000</td>\n",
       "      <td>2007</td>\n",
       "    </tr>\n",
       "    <tr>\n",
       "      <th>769</th>\n",
       "      <td>769</td>\n",
       "      <td>64e6c14fe04b422536ad2820</td>\n",
       "      <td>966199</td>\n",
       "      <td>1921LE</td>\n",
       "      <td>201409.0</td>\n",
       "      <td>J69</td>\n",
       "      <td>NaN</td>\n",
       "      <td>2004030950967</td>\n",
       "      <td>44114</td>\n",
       "      <td>20040312</td>\n",
       "      <td>...</td>\n",
       "      <td>0</td>\n",
       "      <td>1</td>\n",
       "      <td>1</td>\n",
       "      <td>7</td>\n",
       "      <td>5.0</td>\n",
       "      <td>0.15</td>\n",
       "      <td>7310</td>\n",
       "      <td>1500</td>\n",
       "      <td>5810</td>\n",
       "      <td>2004</td>\n",
       "    </tr>\n",
       "    <tr>\n",
       "      <th>...</th>\n",
       "      <td>...</td>\n",
       "      <td>...</td>\n",
       "      <td>...</td>\n",
       "      <td>...</td>\n",
       "      <td>...</td>\n",
       "      <td>...</td>\n",
       "      <td>...</td>\n",
       "      <td>...</td>\n",
       "      <td>...</td>\n",
       "      <td>...</td>\n",
       "      <td>...</td>\n",
       "      <td>...</td>\n",
       "      <td>...</td>\n",
       "      <td>...</td>\n",
       "      <td>...</td>\n",
       "      <td>...</td>\n",
       "      <td>...</td>\n",
       "      <td>...</td>\n",
       "      <td>...</td>\n",
       "      <td>...</td>\n",
       "      <td>...</td>\n",
       "    </tr>\n",
       "    <tr>\n",
       "      <th>124484</th>\n",
       "      <td>124484</td>\n",
       "      <td>64e6c178e04b422536af0b75</td>\n",
       "      <td>314882</td>\n",
       "      <td>2005</td>\n",
       "      <td>NaN</td>\n",
       "      <td>NaN</td>\n",
       "      <td>NaN</td>\n",
       "      <td>2005120635229</td>\n",
       "      <td>110842</td>\n",
       "      <td>20051220</td>\n",
       "      <td>...</td>\n",
       "      <td>0</td>\n",
       "      <td>1</td>\n",
       "      <td>1</td>\n",
       "      <td>30</td>\n",
       "      <td>1.0</td>\n",
       "      <td>0.15</td>\n",
       "      <td>9050</td>\n",
       "      <td>3000</td>\n",
       "      <td>6050</td>\n",
       "      <td>2005</td>\n",
       "    </tr>\n",
       "    <tr>\n",
       "      <th>124485</th>\n",
       "      <td>124485</td>\n",
       "      <td>64e6c178e04b422536af0b76</td>\n",
       "      <td>314882</td>\n",
       "      <td>2005</td>\n",
       "      <td>NaN</td>\n",
       "      <td>NaN</td>\n",
       "      <td>NaN</td>\n",
       "      <td>2005060585142</td>\n",
       "      <td>110842</td>\n",
       "      <td>20050614</td>\n",
       "      <td>...</td>\n",
       "      <td>0</td>\n",
       "      <td>1</td>\n",
       "      <td>1</td>\n",
       "      <td>30</td>\n",
       "      <td>1.0</td>\n",
       "      <td>0.15</td>\n",
       "      <td>9050</td>\n",
       "      <td>3000</td>\n",
       "      <td>6050</td>\n",
       "      <td>2005</td>\n",
       "    </tr>\n",
       "    <tr>\n",
       "      <th>124486</th>\n",
       "      <td>124486</td>\n",
       "      <td>64e6c178e04b422536af0b77</td>\n",
       "      <td>314882</td>\n",
       "      <td>2005</td>\n",
       "      <td>NaN</td>\n",
       "      <td>NaN</td>\n",
       "      <td>NaN</td>\n",
       "      <td>2005070407648</td>\n",
       "      <td>110842</td>\n",
       "      <td>20050716</td>\n",
       "      <td>...</td>\n",
       "      <td>0</td>\n",
       "      <td>1</td>\n",
       "      <td>1</td>\n",
       "      <td>30</td>\n",
       "      <td>1.0</td>\n",
       "      <td>0.15</td>\n",
       "      <td>9050</td>\n",
       "      <td>3000</td>\n",
       "      <td>6050</td>\n",
       "      <td>2005</td>\n",
       "    </tr>\n",
       "    <tr>\n",
       "      <th>124495</th>\n",
       "      <td>124495</td>\n",
       "      <td>64e6c178e04b422536af0b80</td>\n",
       "      <td>314882</td>\n",
       "      <td>2005</td>\n",
       "      <td>NaN</td>\n",
       "      <td>NaN</td>\n",
       "      <td>NaN</td>\n",
       "      <td>2006010136092</td>\n",
       "      <td>110842</td>\n",
       "      <td>20060123</td>\n",
       "      <td>...</td>\n",
       "      <td>0</td>\n",
       "      <td>1</td>\n",
       "      <td>1</td>\n",
       "      <td>30</td>\n",
       "      <td>1.0</td>\n",
       "      <td>0.15</td>\n",
       "      <td>9380</td>\n",
       "      <td>3000</td>\n",
       "      <td>6380</td>\n",
       "      <td>2006</td>\n",
       "    </tr>\n",
       "    <tr>\n",
       "      <th>124590</th>\n",
       "      <td>124590</td>\n",
       "      <td>64e6c178e04b422536af0bdf</td>\n",
       "      <td>314882</td>\n",
       "      <td>2005</td>\n",
       "      <td>NaN</td>\n",
       "      <td>NaN</td>\n",
       "      <td>NaN</td>\n",
       "      <td>2010110318764</td>\n",
       "      <td>127359</td>\n",
       "      <td>20101125</td>\n",
       "      <td>...</td>\n",
       "      <td>0</td>\n",
       "      <td>1</td>\n",
       "      <td>1</td>\n",
       "      <td>30</td>\n",
       "      <td>1.0</td>\n",
       "      <td>0.15</td>\n",
       "      <td>12280</td>\n",
       "      <td>1500</td>\n",
       "      <td>10780</td>\n",
       "      <td>2010</td>\n",
       "    </tr>\n",
       "  </tbody>\n",
       "</table>\n",
       "<p>4629 rows × 24 columns</p>\n",
       "</div>"
      ],
      "text/plain": [
       "        Unnamed: 0                       _id  RN_INDI BTH_YYYY  DTH_YYYYMM  \\\n",
       "190            190  64e6c14fe04b422536ad25dd   646257   1921LE    200805.0   \n",
       "195            195  64e6c14fe04b422536ad25e2   646257   1921LE    200805.0   \n",
       "197            197  64e6c14fe04b422536ad25e4   646257   1921LE    200805.0   \n",
       "284            284  64e6c14fe04b422536ad263b   646257   1921LE    200805.0   \n",
       "769            769  64e6c14fe04b422536ad2820   966199   1921LE    201409.0   \n",
       "...            ...                       ...      ...      ...         ...   \n",
       "124484      124484  64e6c178e04b422536af0b75   314882     2005         NaN   \n",
       "124485      124485  64e6c178e04b422536af0b76   314882     2005         NaN   \n",
       "124486      124486  64e6c178e04b422536af0b77   314882     2005         NaN   \n",
       "124495      124495  64e6c178e04b422536af0b80   314882     2005         NaN   \n",
       "124590      124590  64e6c178e04b422536af0bdf   314882     2005         NaN   \n",
       "\n",
       "           COD1 COD2         RN_KEY  RN_INST  MDCARE_STRT_DT  ...  OPRTN_YN  \\\n",
       "190     A15-A19  NaN  2002070306096    57097        20020710  ...         0   \n",
       "195     A15-A19  NaN  2002080588993    57097        20020805  ...         0   \n",
       "197     A15-A19  NaN  2002100841957    57097        20021017  ...         0   \n",
       "284     A15-A19  NaN  2007101419963    75196        20071008  ...         0   \n",
       "769         J69  NaN  2004030950967    44114        20040312  ...         0   \n",
       "...         ...  ...            ...      ...             ...  ...       ...   \n",
       "124484      NaN  NaN  2005120635229   110842        20051220  ...         0   \n",
       "124485      NaN  NaN  2005060585142   110842        20050614  ...         0   \n",
       "124486      NaN  NaN  2005070407648   110842        20050716  ...         0   \n",
       "124495      NaN  NaN  2006010136092   110842        20060123  ...         0   \n",
       "124590      NaN  NaN  2010110318764   127359        20101125  ...         0   \n",
       "\n",
       "        MDCARE_DD_CNT VSHSP_DD_CNT TOT_PRSC_DD_CNT  MCARE_RSLT_TYPE  \\\n",
       "190                 1            1              30              5.0   \n",
       "195                 2            2              60              5.0   \n",
       "197                 1            1              30              5.0   \n",
       "284                 1            1               7              1.0   \n",
       "769                 1            1               7              5.0   \n",
       "...               ...          ...             ...              ...   \n",
       "124484              1            1              30              1.0   \n",
       "124485              1            1              30              1.0   \n",
       "124486              1            1              30              1.0   \n",
       "124495              1            1              30              1.0   \n",
       "124590              1            1              30              1.0   \n",
       "\n",
       "        EDC_ADD_RT  ED_RC_TOT_AMT  EDC_SBA  EDC_INSUR_BRDN_AMT  STD_YYYY  \n",
       "190           0.15           7570     3000                4570      2002  \n",
       "195           0.15          18160     6000               12160      2002  \n",
       "197           0.15           7570     3000                4570      2002  \n",
       "284           0.15          14200     4200               10000      2007  \n",
       "769           0.15           7310     1500                5810      2004  \n",
       "...            ...            ...      ...                 ...       ...  \n",
       "124484        0.15           9050     3000                6050      2005  \n",
       "124485        0.15           9050     3000                6050      2005  \n",
       "124486        0.15           9050     3000                6050      2005  \n",
       "124495        0.15           9380     3000                6380      2006  \n",
       "124590        0.15          12280     1500               10780      2010  \n",
       "\n",
       "[4629 rows x 24 columns]"
      ]
     },
     "execution_count": 50,
     "metadata": {},
     "output_type": "execute_result"
    }
   ],
   "source": [
    "# 'SICK_SYM1'이 'I10'인 고혈압 환자들의 데이터 추출\n",
    "\n",
    "df_D20_hyper = df_D20[df_D20['SICK_SYM1'] == 'I10']\n",
    "df_D20_hyper"
   ]
  },
  {
   "cell_type": "code",
   "execution_count": 51,
   "id": "00d66384-9164-46e1-8ad4-cec37045b1b6",
   "metadata": {
    "tags": []
   },
   "outputs": [
    {
     "data": {
      "text/html": [
       "<div>\n",
       "<style scoped>\n",
       "    .dataframe tbody tr th:only-of-type {\n",
       "        vertical-align: middle;\n",
       "    }\n",
       "\n",
       "    .dataframe tbody tr th {\n",
       "        vertical-align: top;\n",
       "    }\n",
       "\n",
       "    .dataframe thead th {\n",
       "        text-align: right;\n",
       "    }\n",
       "</style>\n",
       "<table border=\"1\" class=\"dataframe\">\n",
       "  <thead>\n",
       "    <tr style=\"text-align: right;\">\n",
       "      <th></th>\n",
       "      <th>FORM_CD</th>\n",
       "      <th>OPRTN_YN</th>\n",
       "      <th>MCARE_RSLT_TYPE</th>\n",
       "      <th>EDC_SBA</th>\n",
       "    </tr>\n",
       "  </thead>\n",
       "  <tbody>\n",
       "    <tr>\n",
       "      <th>190</th>\n",
       "      <td>3</td>\n",
       "      <td>0</td>\n",
       "      <td>5.0</td>\n",
       "      <td>3000</td>\n",
       "    </tr>\n",
       "    <tr>\n",
       "      <th>195</th>\n",
       "      <td>3</td>\n",
       "      <td>0</td>\n",
       "      <td>5.0</td>\n",
       "      <td>6000</td>\n",
       "    </tr>\n",
       "    <tr>\n",
       "      <th>197</th>\n",
       "      <td>3</td>\n",
       "      <td>0</td>\n",
       "      <td>5.0</td>\n",
       "      <td>3000</td>\n",
       "    </tr>\n",
       "    <tr>\n",
       "      <th>284</th>\n",
       "      <td>3</td>\n",
       "      <td>0</td>\n",
       "      <td>1.0</td>\n",
       "      <td>4200</td>\n",
       "    </tr>\n",
       "    <tr>\n",
       "      <th>769</th>\n",
       "      <td>3</td>\n",
       "      <td>0</td>\n",
       "      <td>5.0</td>\n",
       "      <td>1500</td>\n",
       "    </tr>\n",
       "    <tr>\n",
       "      <th>...</th>\n",
       "      <td>...</td>\n",
       "      <td>...</td>\n",
       "      <td>...</td>\n",
       "      <td>...</td>\n",
       "    </tr>\n",
       "    <tr>\n",
       "      <th>124484</th>\n",
       "      <td>3</td>\n",
       "      <td>0</td>\n",
       "      <td>1.0</td>\n",
       "      <td>3000</td>\n",
       "    </tr>\n",
       "    <tr>\n",
       "      <th>124485</th>\n",
       "      <td>3</td>\n",
       "      <td>0</td>\n",
       "      <td>1.0</td>\n",
       "      <td>3000</td>\n",
       "    </tr>\n",
       "    <tr>\n",
       "      <th>124486</th>\n",
       "      <td>3</td>\n",
       "      <td>0</td>\n",
       "      <td>1.0</td>\n",
       "      <td>3000</td>\n",
       "    </tr>\n",
       "    <tr>\n",
       "      <th>124495</th>\n",
       "      <td>3</td>\n",
       "      <td>0</td>\n",
       "      <td>1.0</td>\n",
       "      <td>3000</td>\n",
       "    </tr>\n",
       "    <tr>\n",
       "      <th>124590</th>\n",
       "      <td>3</td>\n",
       "      <td>0</td>\n",
       "      <td>1.0</td>\n",
       "      <td>1500</td>\n",
       "    </tr>\n",
       "  </tbody>\n",
       "</table>\n",
       "<p>4629 rows × 4 columns</p>\n",
       "</div>"
      ],
      "text/plain": [
       "        FORM_CD  OPRTN_YN  MCARE_RSLT_TYPE  EDC_SBA\n",
       "190           3         0              5.0     3000\n",
       "195           3         0              5.0     6000\n",
       "197           3         0              5.0     3000\n",
       "284           3         0              1.0     4200\n",
       "769           3         0              5.0     1500\n",
       "...         ...       ...              ...      ...\n",
       "124484        3         0              1.0     3000\n",
       "124485        3         0              1.0     3000\n",
       "124486        3         0              1.0     3000\n",
       "124495        3         0              1.0     3000\n",
       "124590        3         0              1.0     1500\n",
       "\n",
       "[4629 rows x 4 columns]"
      ]
     },
     "execution_count": 51,
     "metadata": {},
     "output_type": "execute_result"
    }
   ],
   "source": [
    "df_V3 = df_D20_hyper[['FORM_CD','OPRTN_YN','MCARE_RSLT_TYPE','EDC_SBA']]\n",
    "df_V3"
   ]
  },
  {
   "cell_type": "code",
   "execution_count": 52,
   "id": "470abb10-1515-4481-8edd-057686c0e901",
   "metadata": {
    "tags": []
   },
   "outputs": [
    {
     "data": {
      "text/plain": [
       "array([  3000,   6000,   4200,   1500,   6470,   3500,   5500,  67860,\n",
       "         4900,   6900,   8580,   2900,  57300,   4000,  19700,  51000,\n",
       "         3100,   9000,  14000,    350,   7020,  10750,  39270,  10800,\n",
       "        33290,  34190,  11090,  22180,  11420,   5320,  13640,   5440,\n",
       "         7220,  36020,   5540,  15850,   5600,  35100,  12300,  12600,\n",
       "         4500,   4600,   6600,   2800,   3400,   2500,   9600,   2600,\n",
       "         3600,      0,  12700,   9080,   5020,  47770,   5200,  22530,\n",
       "        10410,  48260,   2400,   7800,  10650,   6400,  14900,  29000,\n",
       "       126600,   3800,  78500,  10180,    900,  12000,  24100,   5840,\n",
       "         5180,  16290,   5950,   6990,   5710,   5700,   6100,   8300,\n",
       "         8000,   7900,   5800,   1000,  16700,    500,  15600,  32300,\n",
       "        12110,   5330,  13600,  11760,   5450,   4400,  31970,  31900,\n",
       "         2700,   6200,   1200,   3300,   4700,   4800,  13700,   8240,\n",
       "         8190,  34600,  17670,   5650,  10100,  19310,  12440,   6320,\n",
       "         9730,   3200,   5300,  16220,   7360,  10600,  10670,   5720,\n",
       "        14200,  70980,  52670,   6060,   4540,   4670,  20010,  23680,\n",
       "         9310,   9510,   4530,  11540,   4910,  22070,   5040,   5940,\n",
       "        15030,   9400,   2300,  15100,  16600,   2000,   7500,   4100,\n",
       "         4880,   5680,   4590,  19050,   4080,   4410,  16940,   5000,\n",
       "        11770,  26010,  20090,   8180,  24220,   4790,  16900,   4890,\n",
       "        32930,  29480,  20670,   6410,   9100,   7000,  10700,  20500,\n",
       "        25240,  20200,   8270,   7100,  12900,   8400, 118280, 419100,\n",
       "       542210,  12920, 574770, 493730,  48970,  16850,  10490,  13550,\n",
       "        15310,  15890,  15730,  22840,  19000,  35280,  40670,   4690,\n",
       "         8700,   8200,   4750, 233360,  21800,   4640,   7060,   5860,\n",
       "        28850,   3900,  16200,   9930,   7510,   9520,   4840,   7160,\n",
       "         5280,  17300,   5420,  10500,  18000,   3850,   4610,   4870,\n",
       "        33970,   3970,   9500,  49430,  15580,  12330,  44380,  12570,\n",
       "        12500,  96500,   7400,  43120,  21750,  21350,   6660,   6790,\n",
       "         7010,  14420,  17760,  13850,  14300,  42600,  30810,  21240,\n",
       "        20410,  11830,  44320, 143030,  20460,  28500,  56400,  10190,\n",
       "        16670,  16500,  24680,  15900,  17000,  20310,  15810,  14800,\n",
       "         6690,   5510,   5350,   7070,   6450,   6540,  15000,  16060,\n",
       "        15290,   8280,  12380,  17090,  10050,  73900,  38900,  31800,\n",
       "        72980,  55330,  26120,   3670,   3760,   3840,   7680,   7550,\n",
       "         4950,  10620,  30120,  41700, 166300,  10330,  10790,  11170,\n",
       "         7770,   6920,   6110,   9560,  16530,  11310,   7120,  13200,\n",
       "        11600,  11700,  11410,  47900,  26100,  39800,  56300,   8910,\n",
       "        21360,   9910,  15700,  18200,   1300,   7710,   6440,   7650,\n",
       "        11150,  16380,  47180, 295990,   2440,   2720,  11440,   6700,\n",
       "        14680,   9920,   8820,  14690,   9050,   4780,  13570,  12770,\n",
       "         3590,  26400,  17200,   3460,  20850,  19320,  29330,  36100,\n",
       "         8230,  22690,  26720,  26850, 219000,  94100,  11990,  10840,\n",
       "        18560,  17900,  11100,  16800,  22000,  27900,   4970,  13030,\n",
       "         7110,   5050,   4720,   6170,   6490,  26310,  24000,   4300,\n",
       "         6500,  13400,  38600,   4860,  26050,  58840,  10460,   1400,\n",
       "         5690,   1600,  10760,   1100,  65770,   8600,  59700,  13240,\n",
       "        52170,  27130, 193590,  25200], dtype=int64)"
      ]
     },
     "execution_count": 52,
     "metadata": {},
     "output_type": "execute_result"
    }
   ],
   "source": [
    "unique_values = df_V3['EDC_SBA'].unique()\n",
    "unique_values"
   ]
  },
  {
   "cell_type": "code",
   "execution_count": 63,
   "id": "0ac9e21d-601c-4c12-8a75-d9fb393bdd40",
   "metadata": {
    "tags": []
   },
   "outputs": [
    {
     "name": "stdout",
     "output_type": "stream",
     "text": [
      "<class 'pandas.core.series.Series'>\n",
      "Int64Index: 4629 entries, 190 to 124590\n",
      "Series name: EDC_SBA\n",
      "Non-Null Count  Dtype\n",
      "--------------  -----\n",
      "4629 non-null   int64\n",
      "dtypes: int64(1)\n",
      "memory usage: 72.3 KB\n"
     ]
    }
   ],
   "source": [
    "df_V3['EDC_SBA'].info()"
   ]
  },
  {
   "cell_type": "code",
   "execution_count": 55,
   "id": "fbb817c6-b113-4700-96c4-1fd5b820f671",
   "metadata": {
    "tags": []
   },
   "outputs": [
    {
     "data": {
      "text/plain": [
       "array([3, 8, 2], dtype=int64)"
      ]
     },
     "execution_count": 55,
     "metadata": {},
     "output_type": "execute_result"
    }
   ],
   "source": [
    "unique_values = df_V3['FORM_CD'].unique()\n",
    "unique_values"
   ]
  },
  {
   "cell_type": "code",
   "execution_count": 57,
   "id": "e1b0f4cd-75ae-4647-9ebc-112123cee6bd",
   "metadata": {
    "tags": []
   },
   "outputs": [
    {
     "data": {
      "text/plain": [
       "array([0, 9], dtype=int64)"
      ]
     },
     "execution_count": 57,
     "metadata": {},
     "output_type": "execute_result"
    }
   ],
   "source": [
    "unique_values = df_V3['OPRTN_YN'].unique()\n",
    "unique_values"
   ]
  },
  {
   "cell_type": "code",
   "execution_count": 58,
   "id": "9f488ed6-59e7-4c75-82ee-a0e0f88863a7",
   "metadata": {
    "tags": []
   },
   "outputs": [
    {
     "data": {
      "text/plain": [
       "array([ 5.,  1.,  9., nan,  2.])"
      ]
     },
     "execution_count": 58,
     "metadata": {},
     "output_type": "execute_result"
    }
   ],
   "source": [
    "unique_values = df_V3['MCARE_RSLT_TYPE'].unique()\n",
    "unique_values"
   ]
  },
  {
   "cell_type": "code",
   "execution_count": 59,
   "id": "5c95bbad-4942-44ed-ac3a-80753db51585",
   "metadata": {
    "tags": []
   },
   "outputs": [
    {
     "name": "stdout",
     "output_type": "stream",
     "text": [
      "<class 'pandas.core.series.Series'>\n",
      "Int64Index: 4629 entries, 190 to 124590\n",
      "Series name: FORM_CD\n",
      "Non-Null Count  Dtype\n",
      "--------------  -----\n",
      "4629 non-null   int64\n",
      "dtypes: int64(1)\n",
      "memory usage: 72.3 KB\n"
     ]
    }
   ],
   "source": [
    "df_V3['FORM_CD'].info()"
   ]
  },
  {
   "cell_type": "code",
   "execution_count": 60,
   "id": "a8533d3f-42a6-4eea-84e3-36d5ad2eef1f",
   "metadata": {
    "tags": []
   },
   "outputs": [
    {
     "data": {
      "text/plain": [
       "FORM_CD              int64\n",
       "OPRTN_YN             int64\n",
       "MCARE_RSLT_TYPE    float64\n",
       "EDC_SBA              int64\n",
       "dtype: object"
      ]
     },
     "execution_count": 60,
     "metadata": {},
     "output_type": "execute_result"
    }
   ],
   "source": [
    "df_V3.dtypes"
   ]
  },
  {
   "cell_type": "code",
   "execution_count": 62,
   "id": "c6b761a0-4270-4c3a-98f2-48e9b64fbaff",
   "metadata": {
    "tags": []
   },
   "outputs": [
    {
     "data": {
      "text/html": [
       "<div>\n",
       "<style scoped>\n",
       "    .dataframe tbody tr th:only-of-type {\n",
       "        vertical-align: middle;\n",
       "    }\n",
       "\n",
       "    .dataframe tbody tr th {\n",
       "        vertical-align: top;\n",
       "    }\n",
       "\n",
       "    .dataframe thead th {\n",
       "        text-align: right;\n",
       "    }\n",
       "</style>\n",
       "<table border=\"1\" class=\"dataframe\">\n",
       "  <thead>\n",
       "    <tr style=\"text-align: right;\">\n",
       "      <th></th>\n",
       "      <th>FORM_CD</th>\n",
       "      <th>OPRTN_YN</th>\n",
       "      <th>MCARE_RSLT_TYPE</th>\n",
       "      <th>EDC_SBA</th>\n",
       "    </tr>\n",
       "  </thead>\n",
       "  <tbody>\n",
       "    <tr>\n",
       "      <th>count</th>\n",
       "      <td>4629.000000</td>\n",
       "      <td>4629.000000</td>\n",
       "      <td>4205.000000</td>\n",
       "      <td>4629.000000</td>\n",
       "    </tr>\n",
       "    <tr>\n",
       "      <th>mean</th>\n",
       "      <td>3.445021</td>\n",
       "      <td>0.005833</td>\n",
       "      <td>1.899168</td>\n",
       "      <td>4627.070642</td>\n",
       "    </tr>\n",
       "  </tbody>\n",
       "</table>\n",
       "</div>"
      ],
      "text/plain": [
       "           FORM_CD     OPRTN_YN  MCARE_RSLT_TYPE      EDC_SBA\n",
       "count  4629.000000  4629.000000      4205.000000  4629.000000\n",
       "mean      3.445021     0.005833         1.899168  4627.070642"
      ]
     },
     "execution_count": 62,
     "metadata": {},
     "output_type": "execute_result"
    }
   ],
   "source": [
    "df_V3.describe()[:2] # "
   ]
  },
  {
   "cell_type": "code",
   "execution_count": 15,
   "id": "1a989094-6061-4ba7-bc38-fb06746453ca",
   "metadata": {
    "tags": []
   },
   "outputs": [],
   "source": [
    "continuos_list = df_V3.describe().columns.to_list()"
   ]
  },
  {
   "cell_type": "code",
   "execution_count": 16,
   "id": "3ef75f53-c8c3-4c7a-934e-42aaa88e7a9d",
   "metadata": {
    "tags": []
   },
   "outputs": [
    {
     "data": {
      "image/png": "[encoded data removed]",
      "text/plain": [
       "<Figure size 640x480 with 1 Axes>"
      ]
     },
     "metadata": {},
     "output_type": "display_data"
    },
    {
     "data": {
      "image/png": "[encoded data removed]",
      "text/plain": [
       "<Figure size 640x480 with 1 Axes>"
      ]
     },
     "metadata": {},
     "output_type": "display_data"
    },
    {
     "data": {
      "image/png": "[encoded data removed]",
      "text/plain": [
       "<Figure size 640x480 with 1 Axes>"
      ]
     },
     "metadata": {},
     "output_type": "display_data"
    }
   ],
   "source": [
    "for continuos in continuos_list :\n",
    "    sns.histplot(data=df_V3, x=continuos, kde=True)\n",
    "    plt.show()"
   ]
  },
  {
   "cell_type": "markdown",
   "id": "6e205220-a458-4d70-b89b-b0fa6058c1bb",
   "metadata": {},
   "source": [
    "#### 고혈압 환자집단의 심결본인 부담금 평균 (4627.070641607259)"
   ]
  },
  {
   "cell_type": "code",
   "execution_count": 68,
   "id": "02a450e9-6a97-4fdd-9ade-ac4af1720cbb",
   "metadata": {
    "tags": []
   },
   "outputs": [
    {
     "data": {
      "text/plain": [
       "4627.070641607259"
      ]
     },
     "execution_count": 68,
     "metadata": {},
     "output_type": "execute_result"
    }
   ],
   "source": [
    "HypertensivePatient_avg = df_D20_hyper['EDC_SBA'].mean()\n",
    "HypertensivePatient_avg"
   ]
  },
  {
   "cell_type": "markdown",
   "id": "def4ec3f-853a-4779-a4bf-edd90fa96295",
   "metadata": {},
   "source": [
    "#### 1. 병원방문경로(FORM_CD)와 심결본인부담금 (EDC_SBA, int64)"
   ]
  },
  {
   "cell_type": "code",
   "execution_count": 69,
   "id": "36953b7a-076c-4374-a7a6-26ce5f176281",
   "metadata": {
    "tags": []
   },
   "outputs": [
    {
     "data": {
      "text/html": [
       "<div>\n",
       "<style scoped>\n",
       "    .dataframe tbody tr th:only-of-type {\n",
       "        vertical-align: middle;\n",
       "    }\n",
       "\n",
       "    .dataframe tbody tr th {\n",
       "        vertical-align: top;\n",
       "    }\n",
       "\n",
       "    .dataframe thead th {\n",
       "        text-align: right;\n",
       "    }\n",
       "</style>\n",
       "<table border=\"1\" class=\"dataframe\">\n",
       "  <thead>\n",
       "    <tr style=\"text-align: right;\">\n",
       "      <th></th>\n",
       "      <th>FORM_CD</th>\n",
       "      <th>EDC_SBA</th>\n",
       "    </tr>\n",
       "  </thead>\n",
       "  <tbody>\n",
       "    <tr>\n",
       "      <th>190</th>\n",
       "      <td>3</td>\n",
       "      <td>3000</td>\n",
       "    </tr>\n",
       "    <tr>\n",
       "      <th>195</th>\n",
       "      <td>3</td>\n",
       "      <td>6000</td>\n",
       "    </tr>\n",
       "    <tr>\n",
       "      <th>197</th>\n",
       "      <td>3</td>\n",
       "      <td>3000</td>\n",
       "    </tr>\n",
       "    <tr>\n",
       "      <th>284</th>\n",
       "      <td>3</td>\n",
       "      <td>4200</td>\n",
       "    </tr>\n",
       "    <tr>\n",
       "      <th>769</th>\n",
       "      <td>3</td>\n",
       "      <td>1500</td>\n",
       "    </tr>\n",
       "    <tr>\n",
       "      <th>...</th>\n",
       "      <td>...</td>\n",
       "      <td>...</td>\n",
       "    </tr>\n",
       "    <tr>\n",
       "      <th>124484</th>\n",
       "      <td>3</td>\n",
       "      <td>3000</td>\n",
       "    </tr>\n",
       "    <tr>\n",
       "      <th>124485</th>\n",
       "      <td>3</td>\n",
       "      <td>3000</td>\n",
       "    </tr>\n",
       "    <tr>\n",
       "      <th>124486</th>\n",
       "      <td>3</td>\n",
       "      <td>3000</td>\n",
       "    </tr>\n",
       "    <tr>\n",
       "      <th>124495</th>\n",
       "      <td>3</td>\n",
       "      <td>3000</td>\n",
       "    </tr>\n",
       "    <tr>\n",
       "      <th>124590</th>\n",
       "      <td>3</td>\n",
       "      <td>1500</td>\n",
       "    </tr>\n",
       "  </tbody>\n",
       "</table>\n",
       "<p>4629 rows × 2 columns</p>\n",
       "</div>"
      ],
      "text/plain": [
       "        FORM_CD  EDC_SBA\n",
       "190           3     3000\n",
       "195           3     6000\n",
       "197           3     3000\n",
       "284           3     4200\n",
       "769           3     1500\n",
       "...         ...      ...\n",
       "124484        3     3000\n",
       "124485        3     3000\n",
       "124486        3     3000\n",
       "124495        3     3000\n",
       "124590        3     1500\n",
       "\n",
       "[4629 rows x 2 columns]"
      ]
     },
     "execution_count": 69,
     "metadata": {},
     "output_type": "execute_result"
    }
   ],
   "source": [
    "df_HV = df_V3[['FORM_CD', 'EDC_SBA']]\n",
    "df_HV"
   ]
  },
  {
   "cell_type": "code",
   "execution_count": 86,
   "id": "7b9f8bcc-3aba-4c2a-9386-8d27f44b8f1c",
   "metadata": {
    "tags": []
   },
   "outputs": [
    {
     "data": {
      "image/png": "[encoded data removed]",
      "text/plain": [
       "<Figure size 640x480 with 1 Axes>"
      ]
     },
     "metadata": {},
     "output_type": "display_data"
    }
   ],
   "source": [
    "# Countplot 생성\n",
    "HospitalVisitRoute_chart = sns.countplot(data=df_HV, x='FORM_CD')\n",
    "\n",
    "# xticks 및 xticklabels 설정\n",
    "xticks_labels = ['의과입원', '의과외래', '보건기관외래']\n",
    "xticks_locs = [0, 1, 2]  # 각 레이블에 해당하는 위치\n",
    "\n",
    "plt.xlabel('병원방문경로')\n",
    "plt.ylabel('Count')\n",
    "plt.title('병원방문경로 분류')\n",
    "\n",
    "# xticks와 xticklabels 설정\n",
    "plt.xticks(ticks=xticks_locs, labels=xticks_labels)\n",
    "\n",
    "# 그래프 표시\n",
    "plt.show()"
   ]
  },
  {
   "cell_type": "code",
   "execution_count": 71,
   "id": "59a03e3d-275d-42f1-8630-f691d1cb8a5d",
   "metadata": {
    "tags": []
   },
   "outputs": [
    {
     "data": {
      "text/plain": [
       "FORM_CD\n",
       "2    164592.666667\n",
       "3      4193.253156\n",
       "8      3234.578313\n",
       "Name: EDC_SBA, dtype: float64"
      ]
     },
     "execution_count": 71,
     "metadata": {},
     "output_type": "execute_result"
    }
   ],
   "source": [
    "# 병원방문경로(FORM_CD)의 따른 심결본인부담금\n",
    "average = df_HV.groupby('FORM_CD')['EDC_SBA'].mean()\n",
    "average"
   ]
  },
  {
   "cell_type": "markdown",
   "id": "3db8c00a-1f49-4358-b039-5ca4ce096cea",
   "metadata": {},
   "source": [
    "#### 2.수술여부(OPRTN_YN, int64)와 심결본인부담금 (EDC_SBA, int64)"
   ]
  },
  {
   "cell_type": "code",
   "execution_count": 89,
   "id": "e893c5b4-51fb-4508-9b6b-bc982092b8f3",
   "metadata": {
    "tags": []
   },
   "outputs": [
    {
     "data": {
      "text/html": [
       "<div>\n",
       "<style scoped>\n",
       "    .dataframe tbody tr th:only-of-type {\n",
       "        vertical-align: middle;\n",
       "    }\n",
       "\n",
       "    .dataframe tbody tr th {\n",
       "        vertical-align: top;\n",
       "    }\n",
       "\n",
       "    .dataframe thead th {\n",
       "        text-align: right;\n",
       "    }\n",
       "</style>\n",
       "<table border=\"1\" class=\"dataframe\">\n",
       "  <thead>\n",
       "    <tr style=\"text-align: right;\">\n",
       "      <th></th>\n",
       "      <th>OPRTN_YN</th>\n",
       "      <th>EDC_SBA</th>\n",
       "    </tr>\n",
       "  </thead>\n",
       "  <tbody>\n",
       "    <tr>\n",
       "      <th>190</th>\n",
       "      <td>0</td>\n",
       "      <td>3000</td>\n",
       "    </tr>\n",
       "    <tr>\n",
       "      <th>195</th>\n",
       "      <td>0</td>\n",
       "      <td>6000</td>\n",
       "    </tr>\n",
       "    <tr>\n",
       "      <th>197</th>\n",
       "      <td>0</td>\n",
       "      <td>3000</td>\n",
       "    </tr>\n",
       "    <tr>\n",
       "      <th>284</th>\n",
       "      <td>0</td>\n",
       "      <td>4200</td>\n",
       "    </tr>\n",
       "    <tr>\n",
       "      <th>769</th>\n",
       "      <td>0</td>\n",
       "      <td>1500</td>\n",
       "    </tr>\n",
       "    <tr>\n",
       "      <th>...</th>\n",
       "      <td>...</td>\n",
       "      <td>...</td>\n",
       "    </tr>\n",
       "    <tr>\n",
       "      <th>124484</th>\n",
       "      <td>0</td>\n",
       "      <td>3000</td>\n",
       "    </tr>\n",
       "    <tr>\n",
       "      <th>124485</th>\n",
       "      <td>0</td>\n",
       "      <td>3000</td>\n",
       "    </tr>\n",
       "    <tr>\n",
       "      <th>124486</th>\n",
       "      <td>0</td>\n",
       "      <td>3000</td>\n",
       "    </tr>\n",
       "    <tr>\n",
       "      <th>124495</th>\n",
       "      <td>0</td>\n",
       "      <td>3000</td>\n",
       "    </tr>\n",
       "    <tr>\n",
       "      <th>124590</th>\n",
       "      <td>0</td>\n",
       "      <td>1500</td>\n",
       "    </tr>\n",
       "  </tbody>\n",
       "</table>\n",
       "<p>4629 rows × 2 columns</p>\n",
       "</div>"
      ],
      "text/plain": [
       "        OPRTN_YN  EDC_SBA\n",
       "190            0     3000\n",
       "195            0     6000\n",
       "197            0     3000\n",
       "284            0     4200\n",
       "769            0     1500\n",
       "...          ...      ...\n",
       "124484         0     3000\n",
       "124485         0     3000\n",
       "124486         0     3000\n",
       "124495         0     3000\n",
       "124590         0     1500\n",
       "\n",
       "[4629 rows x 2 columns]"
      ]
     },
     "execution_count": 89,
     "metadata": {},
     "output_type": "execute_result"
    }
   ],
   "source": [
    "df_S = df_V3[['OPRTN_YN', 'EDC_SBA']]\n",
    "df_S"
   ]
  },
  {
   "cell_type": "code",
   "execution_count": 87,
   "id": "e187191b-fb91-4bc8-9409-fb5888fc5d41",
   "metadata": {
    "tags": []
   },
   "outputs": [
    {
     "data": {
      "image/png": "[encoded data removed]",
      "text/plain": [
       "<Figure size 640x480 with 1 Axes>"
      ]
     },
     "metadata": {},
     "output_type": "display_data"
    }
   ],
   "source": [
    "# Countplot 생성\n",
    "Surgery_chart = sns.countplot(data=df_S, x='OPRTN_YN')\n",
    "Surgery_chart\n",
    "\n",
    "# xticks 및 xticklabels 설정\n",
    "xticks_labels = ['미수술', '수술']\n",
    "xticks_locs = [0, 1]  # 각 레이블에 해당하는 위치\n",
    "\n",
    "plt.xlabel('수술여부')\n",
    "plt.ylabel('Count')\n",
    "plt.title('수술여부 분류')\n",
    "\n",
    "# xticks와 xticklabels 설정\n",
    "plt.xticks(ticks=xticks_locs, labels=xticks_labels)\n",
    "\n",
    "# 그래프 표시\n",
    "plt.show()"
   ]
  },
  {
   "cell_type": "code",
   "execution_count": 90,
   "id": "cdc1ae02-e842-47b3-b05c-fdf9ff75dc4b",
   "metadata": {
    "tags": []
   },
   "outputs": [
    {
     "data": {
      "text/plain": [
       "OPRTN_YN\n",
       "0     4567.557285\n",
       "9    96396.666667\n",
       "Name: EDC_SBA, dtype: float64"
      ]
     },
     "execution_count": 90,
     "metadata": {},
     "output_type": "execute_result"
    }
   ],
   "source": [
    "# 수술여부에 따른 심결본인부담금 평균 비교\n",
    "average = df_S.groupby('OPRTN_YN')['EDC_SBA'].mean()\n",
    "average"
   ]
  },
  {
   "cell_type": "markdown",
   "id": "5fb7d8a3-048b-4ae7-8439-2e15522b73fb",
   "metadata": {
    "tags": []
   },
   "source": [
    "#### 3.진료결과(MCARE_RSLT_TYPE, float64)와 심결본인부담금 (EDC_SBA, int64) \n",
    "1: 계속 2: 이송 3: 회송 4: 사망 5: 기타 9: 퇴원 또는 외래치료 종결"
   ]
  },
  {
   "cell_type": "code",
   "execution_count": 92,
   "id": "3274400a-412f-4798-b26a-9b0d3f6cf370",
   "metadata": {
    "tags": []
   },
   "outputs": [
    {
     "data": {
      "text/html": [
       "<div>\n",
       "<style scoped>\n",
       "    .dataframe tbody tr th:only-of-type {\n",
       "        vertical-align: middle;\n",
       "    }\n",
       "\n",
       "    .dataframe tbody tr th {\n",
       "        vertical-align: top;\n",
       "    }\n",
       "\n",
       "    .dataframe thead th {\n",
       "        text-align: right;\n",
       "    }\n",
       "</style>\n",
       "<table border=\"1\" class=\"dataframe\">\n",
       "  <thead>\n",
       "    <tr style=\"text-align: right;\">\n",
       "      <th></th>\n",
       "      <th>MCARE_RSLT_TYPE</th>\n",
       "      <th>EDC_SBA</th>\n",
       "    </tr>\n",
       "  </thead>\n",
       "  <tbody>\n",
       "    <tr>\n",
       "      <th>190</th>\n",
       "      <td>5.0</td>\n",
       "      <td>3000</td>\n",
       "    </tr>\n",
       "    <tr>\n",
       "      <th>195</th>\n",
       "      <td>5.0</td>\n",
       "      <td>6000</td>\n",
       "    </tr>\n",
       "    <tr>\n",
       "      <th>197</th>\n",
       "      <td>5.0</td>\n",
       "      <td>3000</td>\n",
       "    </tr>\n",
       "    <tr>\n",
       "      <th>284</th>\n",
       "      <td>1.0</td>\n",
       "      <td>4200</td>\n",
       "    </tr>\n",
       "    <tr>\n",
       "      <th>769</th>\n",
       "      <td>5.0</td>\n",
       "      <td>1500</td>\n",
       "    </tr>\n",
       "    <tr>\n",
       "      <th>...</th>\n",
       "      <td>...</td>\n",
       "      <td>...</td>\n",
       "    </tr>\n",
       "    <tr>\n",
       "      <th>124484</th>\n",
       "      <td>1.0</td>\n",
       "      <td>3000</td>\n",
       "    </tr>\n",
       "    <tr>\n",
       "      <th>124485</th>\n",
       "      <td>1.0</td>\n",
       "      <td>3000</td>\n",
       "    </tr>\n",
       "    <tr>\n",
       "      <th>124486</th>\n",
       "      <td>1.0</td>\n",
       "      <td>3000</td>\n",
       "    </tr>\n",
       "    <tr>\n",
       "      <th>124495</th>\n",
       "      <td>1.0</td>\n",
       "      <td>3000</td>\n",
       "    </tr>\n",
       "    <tr>\n",
       "      <th>124590</th>\n",
       "      <td>1.0</td>\n",
       "      <td>1500</td>\n",
       "    </tr>\n",
       "  </tbody>\n",
       "</table>\n",
       "<p>4629 rows × 2 columns</p>\n",
       "</div>"
      ],
      "text/plain": [
       "        MCARE_RSLT_TYPE  EDC_SBA\n",
       "190                 5.0     3000\n",
       "195                 5.0     6000\n",
       "197                 5.0     3000\n",
       "284                 1.0     4200\n",
       "769                 5.0     1500\n",
       "...                 ...      ...\n",
       "124484              1.0     3000\n",
       "124485              1.0     3000\n",
       "124486              1.0     3000\n",
       "124495              1.0     3000\n",
       "124590              1.0     1500\n",
       "\n",
       "[4629 rows x 2 columns]"
      ]
     },
     "execution_count": 92,
     "metadata": {},
     "output_type": "execute_result"
    }
   ],
   "source": [
    "df_R = df_V3[['MCARE_RSLT_TYPE', 'EDC_SBA']]\n",
    "df_R"
   ]
  },
  {
   "cell_type": "code",
   "execution_count": 93,
   "id": "5cfb0112-5a69-478e-8e63-1f42308e72ae",
   "metadata": {
    "tags": []
   },
   "outputs": [
    {
     "data": {
      "image/png": "[encoded data removed]",
      "text/plain": [
       "<Figure size 640x480 with 1 Axes>"
      ]
     },
     "metadata": {},
     "output_type": "display_data"
    }
   ],
   "source": [
    "# Countplot 생성\n",
    "Surgery_chart = sns.countplot(data=df_R, x='MCARE_RSLT_TYPE')\n",
    "Surgery_chart\n",
    "\n",
    "# xticks 및 xticklabels 설정\n",
    "xticks_labels = ['계속','이송', '회송', '사망','기타',' 퇴원 또는 외래치료 종결']\n",
    "xticks_locs = [0, 1, 2, 3, 4, 5]  # 각 레이블에 해당하는 위치\n",
    "\n",
    "plt.xlabel('진료결과')\n",
    "plt.ylabel('Count')\n",
    "plt.title('진료결과 분류')\n",
    "\n",
    "# xticks와 xticklabels 설정\n",
    "plt.xticks(ticks=xticks_locs, labels=xticks_labels)\n",
    "\n",
    "# 그래프 표시\n",
    "plt.show()"
   ]
  },
  {
   "cell_type": "code",
   "execution_count": 95,
   "id": "bc8fed83-c7aa-4d0e-b7f1-55988b8550e7",
   "metadata": {
    "tags": []
   },
   "outputs": [
    {
     "data": {
      "text/plain": [
       "MCARE_RSLT_TYPE\n",
       "1.0     4757.691141\n",
       "2.0     1000.000000\n",
       "5.0     3875.396096\n",
       "9.0    26633.243243\n",
       "Name: EDC_SBA, dtype: float64"
      ]
     },
     "execution_count": 95,
     "metadata": {},
     "output_type": "execute_result"
    }
   ],
   "source": [
    "# 진료결과에 따른 심결본인부담금 평균 비교\n",
    "#  1: 계속 2: 이송 3: 회송 4: 사망 5: 기타 9: 퇴원 또는 외래치료 종결\n",
    "# 3번과 4번은 결과 집계되지 않음.\n",
    "average = df_R.groupby('MCARE_RSLT_TYPE')['EDC_SBA'].mean()\n",
    "average"
   ]
  },
  {
   "cell_type": "code",
   "execution_count": null,
   "id": "a2c08600-d479-4518-a6a3-c049a576507d",
   "metadata": {},
   "outputs": [],
   "source": []
  }
 ],
 "metadata": {
  "kernelspec": {
   "display_name": "Python 3 (ipykernel)",
   "language": "python",
   "name": "python3"
  },
  "language_info": {
   "codemirror_mode": {
    "name": "ipython",
    "version": 3
   },
   "file_extension": ".py",
   "mimetype": "text/x-python",
   "name": "python",
   "nbconvert_exporter": "python",
   "pygments_lexer": "ipython3",
   "version": "3.11.3"
  }
 },
 "nbformat": 4,
 "nbformat_minor": 5
}
