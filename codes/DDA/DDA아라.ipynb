{
 "cells": [
  {
   "cell_type": "code",
   "execution_count": 41,
   "id": "0cc99acd-1347-45c4-a9e1-91f913fe8c5d",
   "metadata": {},
   "outputs": [
    {
     "name": "stdout",
     "output_type": "stream",
     "text": [
      "<class 'pandas.core.frame.DataFrame'>\n",
      "RangeIndex: 1744 entries, 0 to 1743\n",
      "Data columns (total 51 columns):\n",
      " #   Column                  Non-Null Count  Dtype  \n",
      "---  ------                  --------------  -----  \n",
      " 0   Unnamed: 0.2            1744 non-null   int64  \n",
      " 1   Unnamed: 0.1            1744 non-null   int64  \n",
      " 2   Unnamed: 0              1744 non-null   int64  \n",
      " 3   환자ID                    1744 non-null   object \n",
      " 4   Large Lymphocyte        1744 non-null   float64\n",
      " 5   Location of herniation  1744 non-null   int64  \n",
      " 6   가족력                     1744 non-null   float64\n",
      " 7   간질성폐질환                  1744 non-null   int64  \n",
      " 8   고혈압여부                   1744 non-null   int64  \n",
      " 9   과거수술횟수                  1744 non-null   int64  \n",
      " 10  당뇨여부                    1744 non-null   int64  \n",
      " 11  말초동맥질환여부                1744 non-null   int64  \n",
      " 12  빈혈여부                    1744 non-null   int64  \n",
      " 13  성별                      1744 non-null   int64  \n",
      " 14  스테로이드치료                 1744 non-null   int64  \n",
      " 15  신부전여부                   1744 non-null   int64  \n",
      " 16  신장                      1744 non-null   int64  \n",
      " 17  심혈관질환                   1744 non-null   int64  \n",
      " 18  암발병여부                   1744 non-null   int64  \n",
      " 19  연령                      1744 non-null   int64  \n",
      " 20  우울증여부                   1744 non-null   int64  \n",
      " 21  입원기간                    1744 non-null   int64  \n",
      " 22  입원일자                    1744 non-null   int64  \n",
      " 23  종양진행여부                  1744 non-null   int64  \n",
      " 24  체중                      1744 non-null   float64\n",
      " 25  퇴원일자                    1744 non-null   int64  \n",
      " 26  헤모글로빈수치                 1744 non-null   float64\n",
      " 27  혈전합병증여부                 1744 non-null   int64  \n",
      " 28  환자통증정도                  1744 non-null   int64  \n",
      " 29  흡연여부                    1744 non-null   int64  \n",
      " 30  통증기간(월)                 1744 non-null   float64\n",
      " 31  수술기법                    1744 non-null   object \n",
      " 32  수술시간                    1744 non-null   float64\n",
      " 33  수술실패여부                  1744 non-null   int64  \n",
      " 34  수술일자                    1744 non-null   int64  \n",
      " 35  재발여부                    1744 non-null   int64  \n",
      " 36  혈액형                     1744 non-null   object \n",
      " 37  전방디스크높이(mm)             1744 non-null   float64\n",
      " 38  후방디스크높이(mm)             1744 non-null   float64\n",
      " 39  지방축적도                   1744 non-null   float64\n",
      " 40  Instability             1744 non-null   int64  \n",
      " 41  MF + ES                 1744 non-null   float64\n",
      " 42  Modic change            1744 non-null   int64  \n",
      " 43  PI                      1744 non-null   float64\n",
      " 44  PT                      1744 non-null   float64\n",
      " 45  Seg Angle(raw)          1744 non-null   float64\n",
      " 46  Vaccum disc             1744 non-null   int64  \n",
      " 47  디스크단면적                  1744 non-null   float64\n",
      " 48  디스크위치                   1744 non-null   int64  \n",
      " 49  척추이동척도                  1744 non-null   object \n",
      " 50  척추전방위증                  1744 non-null   int64  \n",
      "dtypes: float64(14), int64(33), object(4)\n",
      "memory usage: 695.0+ KB\n"
     ]
    }
   ],
   "source": [
    "import pandas as pd\n",
    "import numpy as np\n",
    "import seaborn as sns\n",
    "import matplotlib.pyplot as plt\n",
    "import matplotlib as mpl\n",
    "mpl.rc('font', family = 'Malgun Gothic')\n",
    "df_ROS = pd.read_csv('../../datasets/RecurrenceOfSurgery.csv')\n",
    "df_ROS.info()"
   ]
  },
  {
   "cell_type": "markdown",
   "id": "b821caae-acdf-439f-98b0-b4d882f8200f",
   "metadata": {},
   "source": [
    "### 대상 분석 필요\n",
    "- 변수 구조 확인\n",
    "- 목표 변수 설정 : '입원기간 ' 정의\n",
    "- 설명 변수 설정 : '신장','체중','종양진행여부','혈전합병증여부','수술기법','재발여부'"
   ]
  },
  {
   "cell_type": "code",
   "execution_count": 58,
   "id": "0d65b821-224c-4013-97b4-d032188bad66",
   "metadata": {
    "tags": []
   },
   "outputs": [
    {
     "data": {
      "text/html": [
       "<div>\n",
       "<style scoped>\n",
       "    .dataframe tbody tr th:only-of-type {\n",
       "        vertical-align: middle;\n",
       "    }\n",
       "\n",
       "    .dataframe tbody tr th {\n",
       "        vertical-align: top;\n",
       "    }\n",
       "\n",
       "    .dataframe thead th {\n",
       "        text-align: right;\n",
       "    }\n",
       "</style>\n",
       "<table border=\"1\" class=\"dataframe\">\n",
       "  <thead>\n",
       "    <tr style=\"text-align: right;\">\n",
       "      <th></th>\n",
       "      <th>신장</th>\n",
       "      <th>체중</th>\n",
       "      <th>종양진행여부</th>\n",
       "      <th>혈전합병증여부</th>\n",
       "      <th>수술기법</th>\n",
       "      <th>재발여부</th>\n",
       "      <th>입원기간</th>\n",
       "    </tr>\n",
       "  </thead>\n",
       "  <tbody>\n",
       "    <tr>\n",
       "      <th>0</th>\n",
       "      <td>163</td>\n",
       "      <td>60.3</td>\n",
       "      <td>0</td>\n",
       "      <td>0</td>\n",
       "      <td>TELD</td>\n",
       "      <td>0</td>\n",
       "      <td>2</td>\n",
       "    </tr>\n",
       "    <tr>\n",
       "      <th>1</th>\n",
       "      <td>171</td>\n",
       "      <td>71.7</td>\n",
       "      <td>0</td>\n",
       "      <td>0</td>\n",
       "      <td>TELD</td>\n",
       "      <td>0</td>\n",
       "      <td>1</td>\n",
       "    </tr>\n",
       "    <tr>\n",
       "      <th>2</th>\n",
       "      <td>178</td>\n",
       "      <td>77.1</td>\n",
       "      <td>0</td>\n",
       "      <td>0</td>\n",
       "      <td>TELD</td>\n",
       "      <td>0</td>\n",
       "      <td>1</td>\n",
       "    </tr>\n",
       "    <tr>\n",
       "      <th>3</th>\n",
       "      <td>174</td>\n",
       "      <td>74.2</td>\n",
       "      <td>0</td>\n",
       "      <td>0</td>\n",
       "      <td>TELD</td>\n",
       "      <td>0</td>\n",
       "      <td>1</td>\n",
       "    </tr>\n",
       "    <tr>\n",
       "      <th>4</th>\n",
       "      <td>183</td>\n",
       "      <td>80.7</td>\n",
       "      <td>0</td>\n",
       "      <td>0</td>\n",
       "      <td>TELD</td>\n",
       "      <td>0</td>\n",
       "      <td>2</td>\n",
       "    </tr>\n",
       "    <tr>\n",
       "      <th>...</th>\n",
       "      <td>...</td>\n",
       "      <td>...</td>\n",
       "      <td>...</td>\n",
       "      <td>...</td>\n",
       "      <td>...</td>\n",
       "      <td>...</td>\n",
       "      <td>...</td>\n",
       "    </tr>\n",
       "    <tr>\n",
       "      <th>1739</th>\n",
       "      <td>163</td>\n",
       "      <td>52.0</td>\n",
       "      <td>0</td>\n",
       "      <td>0</td>\n",
       "      <td>TELD</td>\n",
       "      <td>0</td>\n",
       "      <td>12</td>\n",
       "    </tr>\n",
       "    <tr>\n",
       "      <th>1740</th>\n",
       "      <td>185</td>\n",
       "      <td>64.0</td>\n",
       "      <td>0</td>\n",
       "      <td>0</td>\n",
       "      <td>TELD</td>\n",
       "      <td>0</td>\n",
       "      <td>2</td>\n",
       "    </tr>\n",
       "    <tr>\n",
       "      <th>1741</th>\n",
       "      <td>160</td>\n",
       "      <td>60.0</td>\n",
       "      <td>0</td>\n",
       "      <td>0</td>\n",
       "      <td>TELD</td>\n",
       "      <td>0</td>\n",
       "      <td>3</td>\n",
       "    </tr>\n",
       "    <tr>\n",
       "      <th>1742</th>\n",
       "      <td>173</td>\n",
       "      <td>70.0</td>\n",
       "      <td>0</td>\n",
       "      <td>0</td>\n",
       "      <td>TELD</td>\n",
       "      <td>0</td>\n",
       "      <td>3</td>\n",
       "    </tr>\n",
       "    <tr>\n",
       "      <th>1743</th>\n",
       "      <td>167</td>\n",
       "      <td>70.0</td>\n",
       "      <td>0</td>\n",
       "      <td>0</td>\n",
       "      <td>IELD</td>\n",
       "      <td>0</td>\n",
       "      <td>3</td>\n",
       "    </tr>\n",
       "  </tbody>\n",
       "</table>\n",
       "<p>1744 rows × 7 columns</p>\n",
       "</div>"
      ],
      "text/plain": [
       "       신장    체중  종양진행여부  혈전합병증여부  수술기법  재발여부  입원기간\n",
       "0     163  60.3       0        0  TELD     0     2\n",
       "1     171  71.7       0        0  TELD     0     1\n",
       "2     178  77.1       0        0  TELD     0     1\n",
       "3     174  74.2       0        0  TELD     0     1\n",
       "4     183  80.7       0        0  TELD     0     2\n",
       "...   ...   ...     ...      ...   ...   ...   ...\n",
       "1739  163  52.0       0        0  TELD     0    12\n",
       "1740  185  64.0       0        0  TELD     0     2\n",
       "1741  160  60.0       0        0  TELD     0     3\n",
       "1742  173  70.0       0        0  TELD     0     3\n",
       "1743  167  70.0       0        0  IELD     0     3\n",
       "\n",
       "[1744 rows x 7 columns]"
      ]
     },
     "execution_count": 58,
     "metadata": {},
     "output_type": "execute_result"
    }
   ],
   "source": [
    "df_ROS_AP = df_ROS[['신장','체중','종양진행여부','혈전합병증여부','수술기법','재발여부','입원기간']]\n",
    "df_ROS_AP"
   ]
  },
  {
   "cell_type": "code",
   "execution_count": 26,
   "id": "91fedfc7-3e4d-4849-bbbf-0ad4262b5bfd",
   "metadata": {
    "tags": []
   },
   "outputs": [
    {
     "data": {
      "text/html": [
       "<div>\n",
       "<style scoped>\n",
       "    .dataframe tbody tr th:only-of-type {\n",
       "        vertical-align: middle;\n",
       "    }\n",
       "\n",
       "    .dataframe tbody tr th {\n",
       "        vertical-align: top;\n",
       "    }\n",
       "\n",
       "    .dataframe thead th {\n",
       "        text-align: right;\n",
       "    }\n",
       "</style>\n",
       "<table border=\"1\" class=\"dataframe\">\n",
       "  <thead>\n",
       "    <tr style=\"text-align: right;\">\n",
       "      <th></th>\n",
       "      <th>신장</th>\n",
       "      <th>체중</th>\n",
       "      <th>종양진행여부</th>\n",
       "      <th>혈전합병증여부</th>\n",
       "      <th>재발여부</th>\n",
       "      <th>입원기간</th>\n",
       "    </tr>\n",
       "  </thead>\n",
       "  <tbody>\n",
       "    <tr>\n",
       "      <th>count</th>\n",
       "      <td>1744.000000</td>\n",
       "      <td>1744.000000</td>\n",
       "      <td>1744.000000</td>\n",
       "      <td>1744.000000</td>\n",
       "      <td>1744.000000</td>\n",
       "      <td>1744.00000</td>\n",
       "    </tr>\n",
       "    <tr>\n",
       "      <th>mean</th>\n",
       "      <td>168.047592</td>\n",
       "      <td>68.101319</td>\n",
       "      <td>0.002867</td>\n",
       "      <td>0.002294</td>\n",
       "      <td>0.115826</td>\n",
       "      <td>1.65367</td>\n",
       "    </tr>\n",
       "  </tbody>\n",
       "</table>\n",
       "</div>"
      ],
      "text/plain": [
       "                신장           체중       종양진행여부      혈전합병증여부         재발여부  \\\n",
       "count  1744.000000  1744.000000  1744.000000  1744.000000  1744.000000   \n",
       "mean    168.047592    68.101319     0.002867     0.002294     0.115826   \n",
       "\n",
       "             입원기간  \n",
       "count  1744.00000  \n",
       "mean      1.65367  "
      ]
     },
     "execution_count": 26,
     "metadata": {},
     "output_type": "execute_result"
    }
   ],
   "source": [
    "df_ROS_AP.describe()[:2] # 연속형"
   ]
  },
  {
   "cell_type": "code",
   "execution_count": 27,
   "id": "80249d0a-1cbe-4c9e-9d3a-198ac5fc4cc1",
   "metadata": {
    "tags": []
   },
   "outputs": [
    {
     "data": {
      "text/html": [
       "<div>\n",
       "<style scoped>\n",
       "    .dataframe tbody tr th:only-of-type {\n",
       "        vertical-align: middle;\n",
       "    }\n",
       "\n",
       "    .dataframe tbody tr th {\n",
       "        vertical-align: top;\n",
       "    }\n",
       "\n",
       "    .dataframe thead th {\n",
       "        text-align: right;\n",
       "    }\n",
       "</style>\n",
       "<table border=\"1\" class=\"dataframe\">\n",
       "  <thead>\n",
       "    <tr style=\"text-align: right;\">\n",
       "      <th></th>\n",
       "      <th>수술기법</th>\n",
       "    </tr>\n",
       "  </thead>\n",
       "  <tbody>\n",
       "    <tr>\n",
       "      <th>count</th>\n",
       "      <td>1744</td>\n",
       "    </tr>\n",
       "    <tr>\n",
       "      <th>unique</th>\n",
       "      <td>2</td>\n",
       "    </tr>\n",
       "    <tr>\n",
       "      <th>top</th>\n",
       "      <td>TELD</td>\n",
       "    </tr>\n",
       "    <tr>\n",
       "      <th>freq</th>\n",
       "      <td>1609</td>\n",
       "    </tr>\n",
       "  </tbody>\n",
       "</table>\n",
       "</div>"
      ],
      "text/plain": [
       "        수술기법\n",
       "count   1744\n",
       "unique     2\n",
       "top     TELD\n",
       "freq    1609"
      ]
     },
     "execution_count": 27,
     "metadata": {},
     "output_type": "execute_result"
    }
   ],
   "source": [
    "df_ROS_AP.describe(include=object)[:5] # 범주형"
   ]
  },
  {
   "cell_type": "code",
   "execution_count": 35,
   "id": "36856231-cdc8-4cda-abc5-66a6306ace77",
   "metadata": {
    "tags": []
   },
   "outputs": [
    {
     "data": {
      "text/plain": [
       "신장           int64\n",
       "체중         float64\n",
       "종양진행여부      object\n",
       "혈전합병증여부     object\n",
       "수술기법        object\n",
       "재발여부        object\n",
       "입원기간         int64\n",
       "dtype: object"
      ]
     },
     "execution_count": 35,
     "metadata": {},
     "output_type": "execute_result"
    }
   ],
   "source": [
    "df_ROS_AP.dtypes"
   ]
  },
  {
   "cell_type": "code",
   "execution_count": 37,
   "id": "8ac0fca1-70d3-41bb-8da4-73c771e8cbb5",
   "metadata": {
    "tags": []
   },
   "outputs": [
    {
     "name": "stderr",
     "output_type": "stream",
     "text": [
      "C:\\Users\\04-02\\AppData\\Local\\Temp\\ipykernel_13064\\2938258920.py:3: SettingWithCopyWarning: \n",
      "A value is trying to be set on a copy of a slice from a DataFrame.\n",
      "Try using .loc[row_indexer,col_indexer] = value instead\n",
      "\n",
      "See the caveats in the documentation: https://pandas.pydata.org/pandas-docs/stable/user_guide/indexing.html#returning-a-view-versus-a-copy\n",
      "  df_ROS_AP[columns_to_convert] = df_ROS_AP[columns_to_convert].astype(str)\n"
     ]
    },
    {
     "data": {
      "text/plain": [
       "신장           int64\n",
       "체중         float64\n",
       "종양진행여부      object\n",
       "혈전합병증여부     object\n",
       "수술기법        object\n",
       "재발여부        object\n",
       "입원기간         int64\n",
       "dtype: object"
      ]
     },
     "execution_count": 37,
     "metadata": {},
     "output_type": "execute_result"
    }
   ],
   "source": [
    "# int-> object 변환 대상 : 종양진행여부, 혈전합병증여부, 재발여부\n",
    "columns_to_convert = ['종양진행여부', '혈전합병증여부', '재발여부']\n",
    "df_ROS_AP[columns_to_convert] = df_ROS_AP[columns_to_convert].astype(str)\n",
    "df_ROS_AP.dtypes"
   ]
  },
  {
   "cell_type": "code",
   "execution_count": 38,
   "id": "335392ce-084f-499a-8913-84574ac9892b",
   "metadata": {
    "tags": []
   },
   "outputs": [],
   "source": [
    "continuos_list = df_ROS_AP.describe().columns.to_list()"
   ]
  },
  {
   "cell_type": "code",
   "execution_count": 39,
   "id": "84f97a57-903b-4a21-8a85-7d282d05e4cc",
   "metadata": {
    "tags": []
   },
   "outputs": [
    {
     "data": {
      "image/png": "[encoded data removed]",
      "text/plain": [
       "<Figure size 640x480 with 1 Axes>"
      ]
     },
     "metadata": {},
     "output_type": "display_data"
    },
    {
     "data": {
      "image/png": "[encoded data removed]",
      "text/plain": [
       "<Figure size 640x480 with 1 Axes>"
      ]
     },
     "metadata": {},
     "output_type": "display_data"
    },
    {
     "data": {
      "image/png": "[encoded data removed]",
      "text/plain": [
       "<Figure size 640x480 with 1 Axes>"
      ]
     },
     "metadata": {},
     "output_type": "display_data"
    }
   ],
   "source": [
    "for continuos in continuos_list :\n",
    "    sns.histplot(data=df_ROS_AP, x=continuos, kde=True)\n",
    "    plt.show()"
   ]
  },
  {
   "cell_type": "code",
   "execution_count": 59,
   "id": "839ced84-238f-4ee9-8a16-f6b08c5937ef",
   "metadata": {
    "tags": []
   },
   "outputs": [
    {
     "data": {
      "text/html": [
       "<div>\n",
       "<style scoped>\n",
       "    .dataframe tbody tr th:only-of-type {\n",
       "        vertical-align: middle;\n",
       "    }\n",
       "\n",
       "    .dataframe tbody tr th {\n",
       "        vertical-align: top;\n",
       "    }\n",
       "\n",
       "    .dataframe thead th {\n",
       "        text-align: right;\n",
       "    }\n",
       "</style>\n",
       "<table border=\"1\" class=\"dataframe\">\n",
       "  <thead>\n",
       "    <tr style=\"text-align: right;\">\n",
       "      <th></th>\n",
       "      <th>입원기간</th>\n",
       "      <th>입원일자</th>\n",
       "      <th>퇴원일자</th>\n",
       "    </tr>\n",
       "  </thead>\n",
       "  <tbody>\n",
       "    <tr>\n",
       "      <th>0</th>\n",
       "      <td>2</td>\n",
       "      <td>20190713</td>\n",
       "      <td>20190716</td>\n",
       "    </tr>\n",
       "    <tr>\n",
       "      <th>1</th>\n",
       "      <td>1</td>\n",
       "      <td>20190715</td>\n",
       "      <td>20190716</td>\n",
       "    </tr>\n",
       "    <tr>\n",
       "      <th>2</th>\n",
       "      <td>1</td>\n",
       "      <td>20190729</td>\n",
       "      <td>20190801</td>\n",
       "    </tr>\n",
       "    <tr>\n",
       "      <th>3</th>\n",
       "      <td>1</td>\n",
       "      <td>20190731</td>\n",
       "      <td>20190803</td>\n",
       "    </tr>\n",
       "    <tr>\n",
       "      <th>4</th>\n",
       "      <td>2</td>\n",
       "      <td>20190903</td>\n",
       "      <td>20190907</td>\n",
       "    </tr>\n",
       "    <tr>\n",
       "      <th>5</th>\n",
       "      <td>1</td>\n",
       "      <td>20190905</td>\n",
       "      <td>20190907</td>\n",
       "    </tr>\n",
       "    <tr>\n",
       "      <th>6</th>\n",
       "      <td>1</td>\n",
       "      <td>20190622</td>\n",
       "      <td>20190626</td>\n",
       "    </tr>\n",
       "    <tr>\n",
       "      <th>7</th>\n",
       "      <td>1</td>\n",
       "      <td>20190330</td>\n",
       "      <td>20190402</td>\n",
       "    </tr>\n",
       "    <tr>\n",
       "      <th>8</th>\n",
       "      <td>1</td>\n",
       "      <td>20191203</td>\n",
       "      <td>20191206</td>\n",
       "    </tr>\n",
       "    <tr>\n",
       "      <th>9</th>\n",
       "      <td>2</td>\n",
       "      <td>20191210</td>\n",
       "      <td>20191213</td>\n",
       "    </tr>\n",
       "  </tbody>\n",
       "</table>\n",
       "</div>"
      ],
      "text/plain": [
       "   입원기간      입원일자      퇴원일자\n",
       "0     2  20190713  20190716\n",
       "1     1  20190715  20190716\n",
       "2     1  20190729  20190801\n",
       "3     1  20190731  20190803\n",
       "4     2  20190903  20190907\n",
       "5     1  20190905  20190907\n",
       "6     1  20190622  20190626\n",
       "7     1  20190330  20190402\n",
       "8     1  20191203  20191206\n",
       "9     2  20191210  20191213"
      ]
     },
     "execution_count": 59,
     "metadata": {},
     "output_type": "execute_result"
    }
   ],
   "source": [
    "df_ROS[['입원기간', '입원일자', '퇴원일자']][:10]"
   ]
  },
  {
   "cell_type": "markdown",
   "id": "b3789db0-c67b-49da-80b9-128100b1c9dd",
   "metadata": {},
   "source": [
    "#### 7. 종양진행여부와 입원기간"
   ]
  },
  {
   "cell_type": "code",
   "execution_count": 61,
   "id": "710b5430-f551-4409-923b-8f35138c0827",
   "metadata": {
    "tags": []
   },
   "outputs": [
    {
     "data": {
      "text/html": [
       "<div>\n",
       "<style scoped>\n",
       "    .dataframe tbody tr th:only-of-type {\n",
       "        vertical-align: middle;\n",
       "    }\n",
       "\n",
       "    .dataframe tbody tr th {\n",
       "        vertical-align: top;\n",
       "    }\n",
       "\n",
       "    .dataframe thead th {\n",
       "        text-align: right;\n",
       "    }\n",
       "</style>\n",
       "<table border=\"1\" class=\"dataframe\">\n",
       "  <thead>\n",
       "    <tr style=\"text-align: right;\">\n",
       "      <th></th>\n",
       "      <th>입원기간</th>\n",
       "      <th>종양진행여부</th>\n",
       "    </tr>\n",
       "  </thead>\n",
       "  <tbody>\n",
       "    <tr>\n",
       "      <th>0</th>\n",
       "      <td>2</td>\n",
       "      <td>0</td>\n",
       "    </tr>\n",
       "    <tr>\n",
       "      <th>1</th>\n",
       "      <td>1</td>\n",
       "      <td>0</td>\n",
       "    </tr>\n",
       "    <tr>\n",
       "      <th>2</th>\n",
       "      <td>1</td>\n",
       "      <td>0</td>\n",
       "    </tr>\n",
       "    <tr>\n",
       "      <th>3</th>\n",
       "      <td>1</td>\n",
       "      <td>0</td>\n",
       "    </tr>\n",
       "    <tr>\n",
       "      <th>4</th>\n",
       "      <td>2</td>\n",
       "      <td>0</td>\n",
       "    </tr>\n",
       "    <tr>\n",
       "      <th>...</th>\n",
       "      <td>...</td>\n",
       "      <td>...</td>\n",
       "    </tr>\n",
       "    <tr>\n",
       "      <th>1739</th>\n",
       "      <td>12</td>\n",
       "      <td>0</td>\n",
       "    </tr>\n",
       "    <tr>\n",
       "      <th>1740</th>\n",
       "      <td>2</td>\n",
       "      <td>0</td>\n",
       "    </tr>\n",
       "    <tr>\n",
       "      <th>1741</th>\n",
       "      <td>3</td>\n",
       "      <td>0</td>\n",
       "    </tr>\n",
       "    <tr>\n",
       "      <th>1742</th>\n",
       "      <td>3</td>\n",
       "      <td>0</td>\n",
       "    </tr>\n",
       "    <tr>\n",
       "      <th>1743</th>\n",
       "      <td>3</td>\n",
       "      <td>0</td>\n",
       "    </tr>\n",
       "  </tbody>\n",
       "</table>\n",
       "<p>1744 rows × 2 columns</p>\n",
       "</div>"
      ],
      "text/plain": [
       "      입원기간  종양진행여부\n",
       "0        2       0\n",
       "1        1       0\n",
       "2        1       0\n",
       "3        1       0\n",
       "4        2       0\n",
       "...    ...     ...\n",
       "1739    12       0\n",
       "1740     2       0\n",
       "1741     3       0\n",
       "1742     3       0\n",
       "1743     3       0\n",
       "\n",
       "[1744 rows x 2 columns]"
      ]
     },
     "execution_count": 61,
     "metadata": {},
     "output_type": "execute_result"
    }
   ],
   "source": [
    "df_T = df_ROS_AP[['입원기간', '종양진행여부']]\n",
    "df_T"
   ]
  },
  {
   "cell_type": "code",
   "execution_count": 62,
   "id": "55bca6b4-7bda-4563-a822-01d85d93115a",
   "metadata": {
    "tags": []
   },
   "outputs": [
    {
     "data": {
      "image/png": "[encoded data removed]",
      "text/plain": [
       "<Figure size 640x480 with 1 Axes>"
      ]
     },
     "metadata": {},
     "output_type": "display_data"
    }
   ],
   "source": [
    "# 종양진행여부에 따른 환자 분류\n",
    "tumor_chart = sns.countplot(data=df_T, x='종양진행여부')"
   ]
  },
  {
   "cell_type": "code",
   "execution_count": 63,
   "id": "02987c18-d731-4802-987f-4832c639192d",
   "metadata": {
    "tags": []
   },
   "outputs": [
    {
     "data": {
      "text/plain": [
       "1.6536697247706422"
      ]
     },
     "execution_count": 63,
     "metadata": {},
     "output_type": "execute_result"
    }
   ],
   "source": [
    "# 전체 환자의 입원기간 평균\n",
    "hospitalization_avg = df_ROS['입원기간'].mean()\n",
    "hospitalization_avg"
   ]
  },
  {
   "cell_type": "code",
   "execution_count": 64,
   "id": "e5c85fbc-cb14-4e80-8c85-cf64ca88844e",
   "metadata": {
    "tags": []
   },
   "outputs": [
    {
     "data": {
      "text/plain": [
       "종양진행여부\n",
       "0    1.652674\n",
       "1    2.000000\n",
       "Name: 입원기간, dtype: float64"
      ]
     },
     "execution_count": 64,
     "metadata": {},
     "output_type": "execute_result"
    }
   ],
   "source": [
    "# 종양진행여부따른 입원 기간 평균 비교\n",
    "average = df_ROS.groupby('종양진행여부')['입원기간'].mean()\n",
    "average"
   ]
  },
  {
   "cell_type": "markdown",
   "id": "8e7b056e-a24c-4a05-a7e8-d5356cfdb860",
   "metadata": {
    "tags": []
   },
   "source": [
    "#### 8. 혈전합병증여부와 입원기간"
   ]
  },
  {
   "cell_type": "code",
   "execution_count": 65,
   "id": "3c690167-dd13-42fb-ac98-2cd4ffde7c55",
   "metadata": {
    "tags": []
   },
   "outputs": [
    {
     "data": {
      "text/html": [
       "<div>\n",
       "<style scoped>\n",
       "    .dataframe tbody tr th:only-of-type {\n",
       "        vertical-align: middle;\n",
       "    }\n",
       "\n",
       "    .dataframe tbody tr th {\n",
       "        vertical-align: top;\n",
       "    }\n",
       "\n",
       "    .dataframe thead th {\n",
       "        text-align: right;\n",
       "    }\n",
       "</style>\n",
       "<table border=\"1\" class=\"dataframe\">\n",
       "  <thead>\n",
       "    <tr style=\"text-align: right;\">\n",
       "      <th></th>\n",
       "      <th>입원기간</th>\n",
       "      <th>혈전합병증여부</th>\n",
       "    </tr>\n",
       "  </thead>\n",
       "  <tbody>\n",
       "    <tr>\n",
       "      <th>0</th>\n",
       "      <td>2</td>\n",
       "      <td>0</td>\n",
       "    </tr>\n",
       "    <tr>\n",
       "      <th>1</th>\n",
       "      <td>1</td>\n",
       "      <td>0</td>\n",
       "    </tr>\n",
       "    <tr>\n",
       "      <th>2</th>\n",
       "      <td>1</td>\n",
       "      <td>0</td>\n",
       "    </tr>\n",
       "    <tr>\n",
       "      <th>3</th>\n",
       "      <td>1</td>\n",
       "      <td>0</td>\n",
       "    </tr>\n",
       "    <tr>\n",
       "      <th>4</th>\n",
       "      <td>2</td>\n",
       "      <td>0</td>\n",
       "    </tr>\n",
       "    <tr>\n",
       "      <th>...</th>\n",
       "      <td>...</td>\n",
       "      <td>...</td>\n",
       "    </tr>\n",
       "    <tr>\n",
       "      <th>1739</th>\n",
       "      <td>12</td>\n",
       "      <td>0</td>\n",
       "    </tr>\n",
       "    <tr>\n",
       "      <th>1740</th>\n",
       "      <td>2</td>\n",
       "      <td>0</td>\n",
       "    </tr>\n",
       "    <tr>\n",
       "      <th>1741</th>\n",
       "      <td>3</td>\n",
       "      <td>0</td>\n",
       "    </tr>\n",
       "    <tr>\n",
       "      <th>1742</th>\n",
       "      <td>3</td>\n",
       "      <td>0</td>\n",
       "    </tr>\n",
       "    <tr>\n",
       "      <th>1743</th>\n",
       "      <td>3</td>\n",
       "      <td>0</td>\n",
       "    </tr>\n",
       "  </tbody>\n",
       "</table>\n",
       "<p>1744 rows × 2 columns</p>\n",
       "</div>"
      ],
      "text/plain": [
       "      입원기간  혈전합병증여부\n",
       "0        2        0\n",
       "1        1        0\n",
       "2        1        0\n",
       "3        1        0\n",
       "4        2        0\n",
       "...    ...      ...\n",
       "1739    12        0\n",
       "1740     2        0\n",
       "1741     3        0\n",
       "1742     3        0\n",
       "1743     3        0\n",
       "\n",
       "[1744 rows x 2 columns]"
      ]
     },
     "execution_count": 65,
     "metadata": {},
     "output_type": "execute_result"
    }
   ],
   "source": [
    "df_Th = df_ROS_AP[['입원기간', '혈전합병증여부']]\n",
    "df_Th"
   ]
  },
  {
   "cell_type": "code",
   "execution_count": 70,
   "id": "12a8d0ea-dcea-419c-b24d-f77fb73ed4eb",
   "metadata": {
    "tags": []
   },
   "outputs": [
    {
     "data": {
      "image/png": "[encoded data removed]",
      "text/plain": [
       "<Figure size 640x480 with 1 Axes>"
      ]
     },
     "metadata": {},
     "output_type": "display_data"
    }
   ],
   "source": [
    "# 혈전합병증여부에 따른 환자 분류\n",
    "thrombus_chart = sns.countplot(data=df_Th, x='혈전합병증여부')"
   ]
  },
  {
   "cell_type": "code",
   "execution_count": 67,
   "id": "dbadaa11-65b5-4a48-8c58-85f4f9c9b15b",
   "metadata": {
    "tags": []
   },
   "outputs": [
    {
     "data": {
      "text/plain": [
       "혈전합병증여부\n",
       "0    1.654023\n",
       "1    1.500000\n",
       "Name: 입원기간, dtype: float64"
      ]
     },
     "execution_count": 67,
     "metadata": {},
     "output_type": "execute_result"
    }
   ],
   "source": [
    "# 혈전합병증여부에 따른 입원 기간 평균 비교\n",
    "average = df_Th.groupby('혈전합병증여부')['입원기간'].mean()\n",
    "average"
   ]
  },
  {
   "cell_type": "markdown",
   "id": "2e195407-1a35-4fc4-9b0d-fd0d002519f9",
   "metadata": {
    "tags": []
   },
   "source": [
    "#### 9. 수술기법과 입원기간"
   ]
  },
  {
   "cell_type": "code",
   "execution_count": 69,
   "id": "da73a264-4149-41bf-a235-388f310013ab",
   "metadata": {
    "tags": []
   },
   "outputs": [
    {
     "data": {
      "text/html": [
       "<div>\n",
       "<style scoped>\n",
       "    .dataframe tbody tr th:only-of-type {\n",
       "        vertical-align: middle;\n",
       "    }\n",
       "\n",
       "    .dataframe tbody tr th {\n",
       "        vertical-align: top;\n",
       "    }\n",
       "\n",
       "    .dataframe thead th {\n",
       "        text-align: right;\n",
       "    }\n",
       "</style>\n",
       "<table border=\"1\" class=\"dataframe\">\n",
       "  <thead>\n",
       "    <tr style=\"text-align: right;\">\n",
       "      <th></th>\n",
       "      <th>수술기법</th>\n",
       "      <th>입원기간</th>\n",
       "    </tr>\n",
       "  </thead>\n",
       "  <tbody>\n",
       "    <tr>\n",
       "      <th>0</th>\n",
       "      <td>TELD</td>\n",
       "      <td>2</td>\n",
       "    </tr>\n",
       "    <tr>\n",
       "      <th>1</th>\n",
       "      <td>TELD</td>\n",
       "      <td>1</td>\n",
       "    </tr>\n",
       "    <tr>\n",
       "      <th>2</th>\n",
       "      <td>TELD</td>\n",
       "      <td>1</td>\n",
       "    </tr>\n",
       "    <tr>\n",
       "      <th>3</th>\n",
       "      <td>TELD</td>\n",
       "      <td>1</td>\n",
       "    </tr>\n",
       "    <tr>\n",
       "      <th>4</th>\n",
       "      <td>TELD</td>\n",
       "      <td>2</td>\n",
       "    </tr>\n",
       "    <tr>\n",
       "      <th>...</th>\n",
       "      <td>...</td>\n",
       "      <td>...</td>\n",
       "    </tr>\n",
       "    <tr>\n",
       "      <th>1739</th>\n",
       "      <td>TELD</td>\n",
       "      <td>12</td>\n",
       "    </tr>\n",
       "    <tr>\n",
       "      <th>1740</th>\n",
       "      <td>TELD</td>\n",
       "      <td>2</td>\n",
       "    </tr>\n",
       "    <tr>\n",
       "      <th>1741</th>\n",
       "      <td>TELD</td>\n",
       "      <td>3</td>\n",
       "    </tr>\n",
       "    <tr>\n",
       "      <th>1742</th>\n",
       "      <td>TELD</td>\n",
       "      <td>3</td>\n",
       "    </tr>\n",
       "    <tr>\n",
       "      <th>1743</th>\n",
       "      <td>IELD</td>\n",
       "      <td>3</td>\n",
       "    </tr>\n",
       "  </tbody>\n",
       "</table>\n",
       "<p>1744 rows × 2 columns</p>\n",
       "</div>"
      ],
      "text/plain": [
       "      수술기법  입원기간\n",
       "0     TELD     2\n",
       "1     TELD     1\n",
       "2     TELD     1\n",
       "3     TELD     1\n",
       "4     TELD     2\n",
       "...    ...   ...\n",
       "1739  TELD    12\n",
       "1740  TELD     2\n",
       "1741  TELD     3\n",
       "1742  TELD     3\n",
       "1743  IELD     3\n",
       "\n",
       "[1744 rows x 2 columns]"
      ]
     },
     "execution_count": 69,
     "metadata": {},
     "output_type": "execute_result"
    }
   ],
   "source": [
    "df_Te = df_ROS[['수술기법', '입원기간']]\n",
    "df_Te"
   ]
  },
  {
   "cell_type": "code",
   "execution_count": 75,
   "id": "d6623d56-0e72-49c0-bc67-51291337f203",
   "metadata": {
    "tags": []
   },
   "outputs": [
    {
     "data": {
      "image/png": "[encoded data removed]",
      "text/plain": [
       "<Figure size 640x480 with 1 Axes>"
      ]
     },
     "metadata": {},
     "output_type": "display_data"
    }
   ],
   "source": [
    "surgicaltechnique_chart = sns.countplot(data=df_Te, x='수술기법')"
   ]
  },
  {
   "cell_type": "code",
   "execution_count": 77,
   "id": "2efbb74f-469f-410b-a14d-d30259f268e1",
   "metadata": {
    "tags": []
   },
   "outputs": [
    {
     "data": {
      "text/plain": [
       "수술기법\n",
       "IELD    1.725926\n",
       "TELD    1.647607\n",
       "Name: 입원기간, dtype: float64"
      ]
     },
     "execution_count": 77,
     "metadata": {},
     "output_type": "execute_result"
    }
   ],
   "source": [
    "# 수술기법에 따른 환자 분류\n",
    "average = df_ROS.groupby('수술기법')['입원기간'].mean()\n",
    "average"
   ]
  },
  {
   "cell_type": "markdown",
   "id": "24224715-c687-4a2e-9fd8-107cdd276118",
   "metadata": {},
   "source": [
    "#### 10. 재발여부와 입원기간"
   ]
  },
  {
   "cell_type": "code",
   "execution_count": 82,
   "id": "0ccc93cc-7012-4e4e-a873-700318575bec",
   "metadata": {
    "tags": []
   },
   "outputs": [
    {
     "data": {
      "text/html": [
       "<div>\n",
       "<style scoped>\n",
       "    .dataframe tbody tr th:only-of-type {\n",
       "        vertical-align: middle;\n",
       "    }\n",
       "\n",
       "    .dataframe tbody tr th {\n",
       "        vertical-align: top;\n",
       "    }\n",
       "\n",
       "    .dataframe thead th {\n",
       "        text-align: right;\n",
       "    }\n",
       "</style>\n",
       "<table border=\"1\" class=\"dataframe\">\n",
       "  <thead>\n",
       "    <tr style=\"text-align: right;\">\n",
       "      <th></th>\n",
       "      <th>재발여부</th>\n",
       "      <th>입원기간</th>\n",
       "    </tr>\n",
       "  </thead>\n",
       "  <tbody>\n",
       "    <tr>\n",
       "      <th>0</th>\n",
       "      <td>0</td>\n",
       "      <td>2</td>\n",
       "    </tr>\n",
       "    <tr>\n",
       "      <th>1</th>\n",
       "      <td>0</td>\n",
       "      <td>1</td>\n",
       "    </tr>\n",
       "    <tr>\n",
       "      <th>2</th>\n",
       "      <td>0</td>\n",
       "      <td>1</td>\n",
       "    </tr>\n",
       "    <tr>\n",
       "      <th>3</th>\n",
       "      <td>0</td>\n",
       "      <td>1</td>\n",
       "    </tr>\n",
       "    <tr>\n",
       "      <th>4</th>\n",
       "      <td>0</td>\n",
       "      <td>2</td>\n",
       "    </tr>\n",
       "    <tr>\n",
       "      <th>...</th>\n",
       "      <td>...</td>\n",
       "      <td>...</td>\n",
       "    </tr>\n",
       "    <tr>\n",
       "      <th>1739</th>\n",
       "      <td>0</td>\n",
       "      <td>12</td>\n",
       "    </tr>\n",
       "    <tr>\n",
       "      <th>1740</th>\n",
       "      <td>0</td>\n",
       "      <td>2</td>\n",
       "    </tr>\n",
       "    <tr>\n",
       "      <th>1741</th>\n",
       "      <td>0</td>\n",
       "      <td>3</td>\n",
       "    </tr>\n",
       "    <tr>\n",
       "      <th>1742</th>\n",
       "      <td>0</td>\n",
       "      <td>3</td>\n",
       "    </tr>\n",
       "    <tr>\n",
       "      <th>1743</th>\n",
       "      <td>0</td>\n",
       "      <td>3</td>\n",
       "    </tr>\n",
       "  </tbody>\n",
       "</table>\n",
       "<p>1744 rows × 2 columns</p>\n",
       "</div>"
      ],
      "text/plain": [
       "      재발여부  입원기간\n",
       "0        0     2\n",
       "1        0     1\n",
       "2        0     1\n",
       "3        0     1\n",
       "4        0     2\n",
       "...    ...   ...\n",
       "1739     0    12\n",
       "1740     0     2\n",
       "1741     0     3\n",
       "1742     0     3\n",
       "1743     0     3\n",
       "\n",
       "[1744 rows x 2 columns]"
      ]
     },
     "execution_count": 82,
     "metadata": {},
     "output_type": "execute_result"
    }
   ],
   "source": [
    "df_R =  df_ROS[['재발여부', '입원기간']]\n",
    "df_R"
   ]
  },
  {
   "cell_type": "code",
   "execution_count": 83,
   "id": "4965ff0a-c3f5-49a6-a48c-cd03984ac267",
   "metadata": {
    "tags": []
   },
   "outputs": [
    {
     "data": {
      "image/png": "[encoded data removed]",
      "text/plain": [
       "<Figure size 640x480 with 1 Axes>"
      ]
     },
     "metadata": {},
     "output_type": "display_data"
    }
   ],
   "source": [
    "recurrence_chart = sns.countplot(data=df_R, x='재발여부')"
   ]
  },
  {
   "cell_type": "code",
   "execution_count": 84,
   "id": "887b5e17-7cce-4c5c-ad77-44ef816b4842",
   "metadata": {
    "tags": []
   },
   "outputs": [
    {
     "data": {
      "text/plain": [
       "재발여부\n",
       "0    1.668612\n",
       "1    1.539604\n",
       "Name: 입원기간, dtype: float64"
      ]
     },
     "execution_count": 84,
     "metadata": {},
     "output_type": "execute_result"
    }
   ],
   "source": [
    "# 재발에 따른 환자 분류\n",
    "average = df_ROS.groupby('재발여부')['입원기간'].mean()\n",
    "average"
   ]
  },
  {
   "cell_type": "code",
   "execution_count": null,
   "id": "f8221bc3-cb85-4597-add4-91d63d5477db",
   "metadata": {},
   "outputs": [],
   "source": []
  }
 ],
 "metadata": {
  "kernelspec": {
   "display_name": "Python 3 (ipykernel)",
   "language": "python",
   "name": "python3"
  },
  "language_info": {
   "codemirror_mode": {
    "name": "ipython",
    "version": 3
   },
   "file_extension": ".py",
   "mimetype": "text/x-python",
   "name": "python",
   "nbconvert_exporter": "python",
   "pygments_lexer": "ipython3",
   "version": "3.11.3"
  }
 },
 "nbformat": 4,
 "nbformat_minor": 5
}
