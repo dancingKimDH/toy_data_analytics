{
 "cells": [
  {
   "cell_type": "code",
   "execution_count": 18,
   "id": "82d4fd3c-2710-4f00-8d8a-dab45b69f939",
   "metadata": {
    "tags": []
   },
   "outputs": [],
   "source": [
    "import matplotlib.pyplot as plt\n",
    "import matplotlib as mpl\n",
    "mpl.rc('font', family='Malgun Gothic')\n",
    "import seaborn as sns\n",
    "import pandas as pd\n",
    "import scipy.stats as stats\n",
    "df_H = pd.read_csv('../../datasets/RecurrenceOfSurgery.csv')"
   ]
  },
  {
   "cell_type": "code",
   "execution_count": 19,
   "id": "1612fdc2-402c-4738-a24d-cf06ee7b8253",
   "metadata": {
    "tags": []
   },
   "outputs": [
    {
     "name": "stdout",
     "output_type": "stream",
     "text": [
      "<class 'pandas.core.frame.DataFrame'>\n",
      "RangeIndex: 1894 entries, 0 to 1893\n",
      "Data columns (total 50 columns):\n",
      " #   Column                  Non-Null Count  Dtype  \n",
      "---  ------                  --------------  -----  \n",
      " 0   Unnamed: 0.1            1894 non-null   int64  \n",
      " 1   Unnamed: 0              1894 non-null   int64  \n",
      " 2   환자ID                    1894 non-null   object \n",
      " 3   Large Lymphocyte        1894 non-null   float64\n",
      " 4   Location of herniation  1894 non-null   int64  \n",
      " 5   가족력                     1843 non-null   float64\n",
      " 6   간질성폐질환                  1894 non-null   int64  \n",
      " 7   고혈압여부                   1894 non-null   int64  \n",
      " 8   과거수술횟수                  1894 non-null   int64  \n",
      " 9   당뇨여부                    1894 non-null   int64  \n",
      " 10  말초동맥질환여부                1894 non-null   int64  \n",
      " 11  빈혈여부                    1894 non-null   int64  \n",
      " 12  성별                      1894 non-null   int64  \n",
      " 13  스테로이드치료                 1894 non-null   int64  \n",
      " 14  신부전여부                   1894 non-null   int64  \n",
      " 15  신장                      1894 non-null   int64  \n",
      " 16  심혈관질환                   1894 non-null   int64  \n",
      " 17  암발병여부                   1894 non-null   int64  \n",
      " 18  연령                      1894 non-null   int64  \n",
      " 19  우울증여부                   1894 non-null   int64  \n",
      " 20  입원기간                    1894 non-null   int64  \n",
      " 21  입원일자                    1894 non-null   int64  \n",
      " 22  종양진행여부                  1894 non-null   int64  \n",
      " 23  체중                      1894 non-null   float64\n",
      " 24  퇴원일자                    1894 non-null   int64  \n",
      " 25  헤모글로빈수치                 1893 non-null   float64\n",
      " 26  혈전합병증여부                 1894 non-null   int64  \n",
      " 27  환자통증정도                  1894 non-null   int64  \n",
      " 28  흡연여부                    1894 non-null   int64  \n",
      " 29  통증기간(월)                 1890 non-null   float64\n",
      " 30  수술기법                    1813 non-null   object \n",
      " 31  수술시간                    1840 non-null   float64\n",
      " 32  수술실패여부                  1894 non-null   int64  \n",
      " 33  수술일자                    1894 non-null   int64  \n",
      " 34  재발여부                    1894 non-null   int64  \n",
      " 35  혈액형                     1894 non-null   object \n",
      " 36  전방디스크높이(mm)             1894 non-null   float64\n",
      " 37  후방디스크높이(mm)             1894 non-null   float64\n",
      " 38  지방축적도                   1891 non-null   float64\n",
      " 39  Instability             1894 non-null   int64  \n",
      " 40  MF + ES                 1894 non-null   float64\n",
      " 41  Modic change            1894 non-null   int64  \n",
      " 42  PI                      1890 non-null   float64\n",
      " 43  PT                      1890 non-null   float64\n",
      " 44  Seg Angle(raw)          1893 non-null   float64\n",
      " 45  Vaccum disc             1894 non-null   int64  \n",
      " 46  디스크단면적                  1893 non-null   float64\n",
      " 47  디스크위치                   1894 non-null   int64  \n",
      " 48  척추이동척도                  1894 non-null   object \n",
      " 49  척추전방위증                  1894 non-null   int64  \n",
      "dtypes: float64(14), int64(32), object(4)\n",
      "memory usage: 740.0+ KB\n"
     ]
    }
   ],
   "source": [
    "df_H.info()"
   ]
  },
  {
   "cell_type": "code",
   "execution_count": 12,
   "id": "a7c2d7f7-66d5-47b5-bb23-f4eee6c92bea",
   "metadata": {
    "tags": []
   },
   "outputs": [
    {
     "data": {
      "text/plain": [
       "Unnamed: 0                   0\n",
       "환자ID                         0\n",
       "Large Lymphocyte             0\n",
       "Location of herniation       0\n",
       "ODI                       1432\n",
       "가족력                         51\n",
       "간질성폐질환                       0\n",
       "고혈압여부                        0\n",
       "과거수술횟수                       0\n",
       "당뇨여부                         0\n",
       "말초동맥질환여부                     0\n",
       "빈혈여부                         0\n",
       "성별                           0\n",
       "스테로이드치료                      0\n",
       "신부전여부                        0\n",
       "신장                           0\n",
       "심혈관질환                        0\n",
       "암발병여부                        0\n",
       "연령                           0\n",
       "우울증여부                        0\n",
       "입원기간                         0\n",
       "입원일자                         0\n",
       "종양진행여부                       0\n",
       "직업                         415\n",
       "체중                           0\n",
       "퇴원일자                         0\n",
       "헤모글로빈수치                      1\n",
       "혈전합병증여부                      0\n",
       "환자통증정도                       0\n",
       "흡연여부                         0\n",
       "통증기간(월)                      4\n",
       "수술기법                        81\n",
       "수술시간                        54\n",
       "수술실패여부                       0\n",
       "수술일자                         0\n",
       "재발여부                         0\n",
       "혈액형                          0\n",
       "전방디스크높이(mm)                  0\n",
       "후방디스크높이(mm)                  0\n",
       "지방축적도                        3\n",
       "Instability                  0\n",
       "MF + ES                      0\n",
       "Modic change                 0\n",
       "PI                           4\n",
       "PT                           4\n",
       "Seg Angle(raw)               1\n",
       "Vaccum disc                  0\n",
       "골밀도                        896\n",
       "디스크단면적                       1\n",
       "디스크위치                        0\n",
       "척추이동척도                       0\n",
       "척추전방위증                       0\n",
       "dtype: int64"
      ]
     },
     "execution_count": 12,
     "metadata": {},
     "output_type": "execute_result"
    }
   ],
   "source": [
    "# null이 다수 존재하는 column 3개 삭제\n",
    "# df_H.isnull().sum()\n",
    "# df_H = df_H.drop(['ODI', '직업', '골밀도'], axis=1)\n",
    "# df_H.to_csv('RecurrenceOfSurgery.csv')"
   ]
  },
  {
   "cell_type": "code",
   "execution_count": 15,
   "id": "0992916c-837e-4e57-bb11-9447581816ec",
   "metadata": {
    "tags": []
   },
   "outputs": [],
   "source": [
    "# "
   ]
  },
  {
   "cell_type": "code",
   "execution_count": 17,
   "id": "5bf1eede-f201-4c81-a8c1-586d92a1166c",
   "metadata": {
    "tags": []
   },
   "outputs": [],
   "source": []
  },
  {
   "cell_type": "code",
   "execution_count": null,
   "id": "842b00b1-9c3b-40f2-8229-0ee7c9bfcc34",
   "metadata": {},
   "outputs": [],
   "source": []
  }
 ],
 "metadata": {
  "kernelspec": {
   "display_name": "Python 3 (ipykernel)",
   "language": "python",
   "name": "python3"
  },
  "language_info": {
   "codemirror_mode": {
    "name": "ipython",
    "version": 3
   },
   "file_extension": ".py",
   "mimetype": "text/x-python",
   "name": "python",
   "nbconvert_exporter": "python",
   "pygments_lexer": "ipython3",
   "version": "3.11.3"
  }
 },
 "nbformat": 4,
 "nbformat_minor": 5
}
