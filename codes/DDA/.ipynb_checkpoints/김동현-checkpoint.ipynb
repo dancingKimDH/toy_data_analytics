{
 "cells": [
  {
   "cell_type": "code",
   "execution_count": 2,
   "id": "2347d7fc-5f45-42b5-b5c3-54ce755c9818",
   "metadata": {
    "tags": []
   },
   "outputs": [
    {
     "data": {
      "text/html": [
       "<div>\n",
       "<style scoped>\n",
       "    .dataframe tbody tr th:only-of-type {\n",
       "        vertical-align: middle;\n",
       "    }\n",
       "\n",
       "    .dataframe tbody tr th {\n",
       "        vertical-align: top;\n",
       "    }\n",
       "\n",
       "    .dataframe thead th {\n",
       "        text-align: right;\n",
       "    }\n",
       "</style>\n",
       "<table border=\"1\" class=\"dataframe\">\n",
       "  <thead>\n",
       "    <tr style=\"text-align: right;\">\n",
       "      <th></th>\n",
       "      <th>입원기간</th>\n",
       "      <th>입원일자</th>\n",
       "      <th>퇴원일자</th>\n",
       "    </tr>\n",
       "  </thead>\n",
       "  <tbody>\n",
       "    <tr>\n",
       "      <th>0</th>\n",
       "      <td>2</td>\n",
       "      <td>20190713</td>\n",
       "      <td>20190716</td>\n",
       "    </tr>\n",
       "    <tr>\n",
       "      <th>1</th>\n",
       "      <td>1</td>\n",
       "      <td>20190715</td>\n",
       "      <td>20190716</td>\n",
       "    </tr>\n",
       "    <tr>\n",
       "      <th>2</th>\n",
       "      <td>1</td>\n",
       "      <td>20190729</td>\n",
       "      <td>20190801</td>\n",
       "    </tr>\n",
       "    <tr>\n",
       "      <th>3</th>\n",
       "      <td>1</td>\n",
       "      <td>20190731</td>\n",
       "      <td>20190803</td>\n",
       "    </tr>\n",
       "    <tr>\n",
       "      <th>4</th>\n",
       "      <td>2</td>\n",
       "      <td>20190903</td>\n",
       "      <td>20190907</td>\n",
       "    </tr>\n",
       "    <tr>\n",
       "      <th>5</th>\n",
       "      <td>1</td>\n",
       "      <td>20190905</td>\n",
       "      <td>20190907</td>\n",
       "    </tr>\n",
       "    <tr>\n",
       "      <th>6</th>\n",
       "      <td>1</td>\n",
       "      <td>20190622</td>\n",
       "      <td>20190626</td>\n",
       "    </tr>\n",
       "    <tr>\n",
       "      <th>7</th>\n",
       "      <td>1</td>\n",
       "      <td>20190330</td>\n",
       "      <td>20190402</td>\n",
       "    </tr>\n",
       "    <tr>\n",
       "      <th>8</th>\n",
       "      <td>1</td>\n",
       "      <td>20191203</td>\n",
       "      <td>20191206</td>\n",
       "    </tr>\n",
       "    <tr>\n",
       "      <th>9</th>\n",
       "      <td>2</td>\n",
       "      <td>20191210</td>\n",
       "      <td>20191213</td>\n",
       "    </tr>\n",
       "  </tbody>\n",
       "</table>\n",
       "</div>"
      ],
      "text/plain": [
       "   입원기간      입원일자      퇴원일자\n",
       "0     2  20190713  20190716\n",
       "1     1  20190715  20190716\n",
       "2     1  20190729  20190801\n",
       "3     1  20190731  20190803\n",
       "4     2  20190903  20190907\n",
       "5     1  20190905  20190907\n",
       "6     1  20190622  20190626\n",
       "7     1  20190330  20190402\n",
       "8     1  20191203  20191206\n",
       "9     2  20191210  20191213"
      ]
     },
     "execution_count": 2,
     "metadata": {},
     "output_type": "execute_result"
    }
   ],
   "source": [
    "import pandas as pd\n",
    "import numpy as np\n",
    "import seaborn as sns\n",
    "import matplotlib.pyplot as plt\n",
    "import matplotlib as mpl\n",
    "mpl.rc('font', family = 'Malgun Gothic')\n",
    "df_H = pd.read_csv('../../datasets/RecurrenceOfSurgery.csv')\n",
    "df_H[['입원기간', '입원일자', '퇴원일자']][:10]"
   ]
  },
  {
   "cell_type": "markdown",
   "id": "2ceaaadd-eabe-42ff-8a87-3b3430567ce2",
   "metadata": {},
   "source": [
    "#### 1. 당뇨여부와 입원기간"
   ]
  },
  {
   "cell_type": "code",
   "execution_count": 3,
   "id": "1cffbf9c-9514-4ccc-90f3-1143ccbdf5db",
   "metadata": {
    "tags": []
   },
   "outputs": [
    {
     "data": {
      "text/html": [
       "<div>\n",
       "<style scoped>\n",
       "    .dataframe tbody tr th:only-of-type {\n",
       "        vertical-align: middle;\n",
       "    }\n",
       "\n",
       "    .dataframe tbody tr th {\n",
       "        vertical-align: top;\n",
       "    }\n",
       "\n",
       "    .dataframe thead th {\n",
       "        text-align: right;\n",
       "    }\n",
       "</style>\n",
       "<table border=\"1\" class=\"dataframe\">\n",
       "  <thead>\n",
       "    <tr style=\"text-align: right;\">\n",
       "      <th></th>\n",
       "      <th>입원기간</th>\n",
       "      <th>당뇨여부</th>\n",
       "    </tr>\n",
       "  </thead>\n",
       "  <tbody>\n",
       "    <tr>\n",
       "      <th>0</th>\n",
       "      <td>2</td>\n",
       "      <td>0</td>\n",
       "    </tr>\n",
       "    <tr>\n",
       "      <th>1</th>\n",
       "      <td>1</td>\n",
       "      <td>0</td>\n",
       "    </tr>\n",
       "    <tr>\n",
       "      <th>2</th>\n",
       "      <td>1</td>\n",
       "      <td>0</td>\n",
       "    </tr>\n",
       "    <tr>\n",
       "      <th>3</th>\n",
       "      <td>1</td>\n",
       "      <td>0</td>\n",
       "    </tr>\n",
       "    <tr>\n",
       "      <th>4</th>\n",
       "      <td>2</td>\n",
       "      <td>0</td>\n",
       "    </tr>\n",
       "    <tr>\n",
       "      <th>...</th>\n",
       "      <td>...</td>\n",
       "      <td>...</td>\n",
       "    </tr>\n",
       "    <tr>\n",
       "      <th>1739</th>\n",
       "      <td>12</td>\n",
       "      <td>0</td>\n",
       "    </tr>\n",
       "    <tr>\n",
       "      <th>1740</th>\n",
       "      <td>2</td>\n",
       "      <td>0</td>\n",
       "    </tr>\n",
       "    <tr>\n",
       "      <th>1741</th>\n",
       "      <td>3</td>\n",
       "      <td>0</td>\n",
       "    </tr>\n",
       "    <tr>\n",
       "      <th>1742</th>\n",
       "      <td>3</td>\n",
       "      <td>0</td>\n",
       "    </tr>\n",
       "    <tr>\n",
       "      <th>1743</th>\n",
       "      <td>3</td>\n",
       "      <td>0</td>\n",
       "    </tr>\n",
       "  </tbody>\n",
       "</table>\n",
       "<p>1744 rows × 2 columns</p>\n",
       "</div>"
      ],
      "text/plain": [
       "      입원기간  당뇨여부\n",
       "0        2     0\n",
       "1        1     0\n",
       "2        1     0\n",
       "3        1     0\n",
       "4        2     0\n",
       "...    ...   ...\n",
       "1739    12     0\n",
       "1740     2     0\n",
       "1741     3     0\n",
       "1742     3     0\n",
       "1743     3     0\n",
       "\n",
       "[1744 rows x 2 columns]"
      ]
     },
     "execution_count": 3,
     "metadata": {},
     "output_type": "execute_result"
    }
   ],
   "source": [
    "df_D = df_H[['입원기간', '당뇨여부']]\n",
    "df_D"
   ]
  },
  {
   "cell_type": "code",
   "execution_count": 4,
   "id": "650dee34-269f-4a13-9a0d-63f7c8562b7c",
   "metadata": {
    "tags": []
   },
   "outputs": [
    {
     "data": {
      "image/png": "[encoded data removed]",
      "text/plain": [
       "<Figure size 640x480 with 1 Axes>"
      ]
     },
     "metadata": {},
     "output_type": "display_data"
    }
   ],
   "source": [
    "# 당뇨여부에 따른 환자 분류\n",
    "diabetes_chart = sns.countplot(data=df_D, x='당뇨여부')"
   ]
  },
  {
   "cell_type": "code",
   "execution_count": 5,
   "id": "b3e5da7d-1b48-4c65-a105-06392cd6c331",
   "metadata": {
    "tags": []
   },
   "outputs": [
    {
     "data": {
      "text/plain": [
       "1.6536697247706422"
      ]
     },
     "execution_count": 5,
     "metadata": {},
     "output_type": "execute_result"
    }
   ],
   "source": [
    "# 전체 환자의 입원기간 평균\n",
    "hospitalization_avg = df_D['입원기간'].mean()\n",
    "hospitalization_avg"
   ]
  },
  {
   "cell_type": "code",
   "execution_count": 6,
   "id": "4443f3d8-03dc-4943-83ee-d9f0f82dd76a",
   "metadata": {
    "tags": []
   },
   "outputs": [
    {
     "data": {
      "text/plain": [
       "당뇨여부\n",
       "0    1.653423\n",
       "1    1.657407\n",
       "Name: 입원기간, dtype: float64"
      ]
     },
     "execution_count": 6,
     "metadata": {},
     "output_type": "execute_result"
    }
   ],
   "source": [
    "# 당뇨여부에 따른 입원 기간 평균 비교\n",
    "average = df_D.groupby('당뇨여부')['입원기간'].mean()\n",
    "average"
   ]
  },
  {
   "cell_type": "markdown",
   "id": "5e7b4671-6c79-4ff9-9c23-7a65610063d9",
   "metadata": {},
   "source": [
    "#### 2. 스테로이드치료와 입원기간"
   ]
  },
  {
   "cell_type": "code",
   "execution_count": 7,
   "id": "3f8dece3-b391-4b83-b067-13bc32171f82",
   "metadata": {
    "tags": []
   },
   "outputs": [
    {
     "data": {
      "text/html": [
       "<div>\n",
       "<style scoped>\n",
       "    .dataframe tbody tr th:only-of-type {\n",
       "        vertical-align: middle;\n",
       "    }\n",
       "\n",
       "    .dataframe tbody tr th {\n",
       "        vertical-align: top;\n",
       "    }\n",
       "\n",
       "    .dataframe thead th {\n",
       "        text-align: right;\n",
       "    }\n",
       "</style>\n",
       "<table border=\"1\" class=\"dataframe\">\n",
       "  <thead>\n",
       "    <tr style=\"text-align: right;\">\n",
       "      <th></th>\n",
       "      <th>입원기간</th>\n",
       "      <th>스테로이드치료</th>\n",
       "    </tr>\n",
       "  </thead>\n",
       "  <tbody>\n",
       "    <tr>\n",
       "      <th>0</th>\n",
       "      <td>2</td>\n",
       "      <td>1</td>\n",
       "    </tr>\n",
       "    <tr>\n",
       "      <th>1</th>\n",
       "      <td>1</td>\n",
       "      <td>1</td>\n",
       "    </tr>\n",
       "    <tr>\n",
       "      <th>2</th>\n",
       "      <td>1</td>\n",
       "      <td>1</td>\n",
       "    </tr>\n",
       "    <tr>\n",
       "      <th>3</th>\n",
       "      <td>1</td>\n",
       "      <td>0</td>\n",
       "    </tr>\n",
       "    <tr>\n",
       "      <th>4</th>\n",
       "      <td>2</td>\n",
       "      <td>1</td>\n",
       "    </tr>\n",
       "    <tr>\n",
       "      <th>...</th>\n",
       "      <td>...</td>\n",
       "      <td>...</td>\n",
       "    </tr>\n",
       "    <tr>\n",
       "      <th>1739</th>\n",
       "      <td>12</td>\n",
       "      <td>1</td>\n",
       "    </tr>\n",
       "    <tr>\n",
       "      <th>1740</th>\n",
       "      <td>2</td>\n",
       "      <td>1</td>\n",
       "    </tr>\n",
       "    <tr>\n",
       "      <th>1741</th>\n",
       "      <td>3</td>\n",
       "      <td>1</td>\n",
       "    </tr>\n",
       "    <tr>\n",
       "      <th>1742</th>\n",
       "      <td>3</td>\n",
       "      <td>1</td>\n",
       "    </tr>\n",
       "    <tr>\n",
       "      <th>1743</th>\n",
       "      <td>3</td>\n",
       "      <td>1</td>\n",
       "    </tr>\n",
       "  </tbody>\n",
       "</table>\n",
       "<p>1744 rows × 2 columns</p>\n",
       "</div>"
      ],
      "text/plain": [
       "      입원기간  스테로이드치료\n",
       "0        2        1\n",
       "1        1        1\n",
       "2        1        1\n",
       "3        1        0\n",
       "4        2        1\n",
       "...    ...      ...\n",
       "1739    12        1\n",
       "1740     2        1\n",
       "1741     3        1\n",
       "1742     3        1\n",
       "1743     3        1\n",
       "\n",
       "[1744 rows x 2 columns]"
      ]
     },
     "execution_count": 7,
     "metadata": {},
     "output_type": "execute_result"
    }
   ],
   "source": [
    "df_Ste = df_H[['입원기간', '스테로이드치료']]\n",
    "df_Ste"
   ]
  },
  {
   "cell_type": "code",
   "execution_count": 9,
   "id": "c0504a95-952e-408f-8607-2d6715ac7218",
   "metadata": {
    "tags": []
   },
   "outputs": [
    {
     "data": {
      "image/png": "[encoded data removed]",
      "text/plain": [
       "<Figure size 640x480 with 1 Axes>"
      ]
     },
     "metadata": {},
     "output_type": "display_data"
    }
   ],
   "source": [
    "# 스테로이드치료 여부에 따른 환자 분류\n",
    "diabetes_chart = sns.countplot(data=df_Ste, x='스테로이드치료')"
   ]
  },
  {
   "cell_type": "code",
   "execution_count": 11,
   "id": "e4279bed-0c64-4192-83ce-2ee2b6f32fa0",
   "metadata": {
    "tags": []
   },
   "outputs": [
    {
     "data": {
      "text/plain": [
       "스테로이드치료\n",
       "0    1.596542\n",
       "1    1.691429\n",
       "Name: 입원기간, dtype: float64"
      ]
     },
     "execution_count": 11,
     "metadata": {},
     "output_type": "execute_result"
    }
   ],
   "source": [
    "# 스테로이드치료 여부에 따른 입원 기간 평균 비교\n",
    "average = df_Ste.groupby('스테로이드치료')['입원기간'].mean()\n",
    "average"
   ]
  },
  {
   "cell_type": "markdown",
   "id": "2d069908-ddaa-4334-84c3-5c395f322d1c",
   "metadata": {},
   "source": [
    "#### 3. 신부전여부와 입원기간"
   ]
  },
  {
   "cell_type": "code",
   "execution_count": 16,
   "id": "6ebee27f-02f3-4bb1-b4a4-1a0c5e47f1db",
   "metadata": {
    "tags": []
   },
   "outputs": [
    {
     "data": {
      "text/html": [
       "<div>\n",
       "<style scoped>\n",
       "    .dataframe tbody tr th:only-of-type {\n",
       "        vertical-align: middle;\n",
       "    }\n",
       "\n",
       "    .dataframe tbody tr th {\n",
       "        vertical-align: top;\n",
       "    }\n",
       "\n",
       "    .dataframe thead th {\n",
       "        text-align: right;\n",
       "    }\n",
       "</style>\n",
       "<table border=\"1\" class=\"dataframe\">\n",
       "  <thead>\n",
       "    <tr style=\"text-align: right;\">\n",
       "      <th></th>\n",
       "      <th>신부전여부</th>\n",
       "      <th>입원기간</th>\n",
       "    </tr>\n",
       "  </thead>\n",
       "  <tbody>\n",
       "    <tr>\n",
       "      <th>0</th>\n",
       "      <td>0</td>\n",
       "      <td>2</td>\n",
       "    </tr>\n",
       "    <tr>\n",
       "      <th>1</th>\n",
       "      <td>0</td>\n",
       "      <td>1</td>\n",
       "    </tr>\n",
       "    <tr>\n",
       "      <th>2</th>\n",
       "      <td>0</td>\n",
       "      <td>1</td>\n",
       "    </tr>\n",
       "    <tr>\n",
       "      <th>3</th>\n",
       "      <td>0</td>\n",
       "      <td>1</td>\n",
       "    </tr>\n",
       "    <tr>\n",
       "      <th>4</th>\n",
       "      <td>0</td>\n",
       "      <td>2</td>\n",
       "    </tr>\n",
       "    <tr>\n",
       "      <th>...</th>\n",
       "      <td>...</td>\n",
       "      <td>...</td>\n",
       "    </tr>\n",
       "    <tr>\n",
       "      <th>1739</th>\n",
       "      <td>0</td>\n",
       "      <td>12</td>\n",
       "    </tr>\n",
       "    <tr>\n",
       "      <th>1740</th>\n",
       "      <td>0</td>\n",
       "      <td>2</td>\n",
       "    </tr>\n",
       "    <tr>\n",
       "      <th>1741</th>\n",
       "      <td>0</td>\n",
       "      <td>3</td>\n",
       "    </tr>\n",
       "    <tr>\n",
       "      <th>1742</th>\n",
       "      <td>0</td>\n",
       "      <td>3</td>\n",
       "    </tr>\n",
       "    <tr>\n",
       "      <th>1743</th>\n",
       "      <td>0</td>\n",
       "      <td>3</td>\n",
       "    </tr>\n",
       "  </tbody>\n",
       "</table>\n",
       "<p>1744 rows × 2 columns</p>\n",
       "</div>"
      ],
      "text/plain": [
       "      신부전여부  입원기간\n",
       "0         0     2\n",
       "1         0     1\n",
       "2         0     1\n",
       "3         0     1\n",
       "4         0     2\n",
       "...     ...   ...\n",
       "1739      0    12\n",
       "1740      0     2\n",
       "1741      0     3\n",
       "1742      0     3\n",
       "1743      0     3\n",
       "\n",
       "[1744 rows x 2 columns]"
      ]
     },
     "execution_count": 16,
     "metadata": {},
     "output_type": "execute_result"
    }
   ],
   "source": [
    "df_Ki = df_H[['신부전여부', '입원기간']]\n",
    "df_Ki"
   ]
  },
  {
   "cell_type": "code",
   "execution_count": 17,
   "id": "aa825f32-f621-490f-abf1-d050036b89ca",
   "metadata": {
    "tags": []
   },
   "outputs": [
    {
     "data": {
      "image/png": "[encoded data removed]",
      "text/plain": [
       "<Figure size 640x480 with 1 Axes>"
      ]
     },
     "metadata": {},
     "output_type": "display_data"
    }
   ],
   "source": [
    "Ki_chart = sns.countplot(data=df_Ki, x='신부전여부')"
   ]
  },
  {
   "cell_type": "code",
   "execution_count": 20,
   "id": "c0ae6610-13e4-4205-8e17-43d0a42be36c",
   "metadata": {
    "tags": []
   },
   "outputs": [
    {
     "data": {
      "text/plain": [
       "신부전여부\n",
       "0    1.623086\n",
       "1    2.782609\n",
       "Name: 입원기간, dtype: float64"
      ]
     },
     "execution_count": 20,
     "metadata": {},
     "output_type": "execute_result"
    }
   ],
   "source": [
    "# 신부전여부에 따른 환자 분류\n",
    "Ki_average = df_Ki.groupby('신부전여부')['입원기간'].mean()\n",
    "Ki_average"
   ]
  },
  {
   "cell_type": "code",
   "execution_count": 21,
   "id": "d47a6e54-1333-4d0a-aa2d-44fb726840ea",
   "metadata": {
    "tags": []
   },
   "outputs": [],
   "source": [
    "# 신부전여부에 따른 환자 환자 평균 입원 기간"
   ]
  },
  {
   "cell_type": "code",
   "execution_count": null,
   "id": "a0b79ee8-fc22-494c-84c1-5669b398289b",
   "metadata": {},
   "outputs": [],
   "source": []
  }
 ],
 "metadata": {
  "kernelspec": {
   "display_name": "Python 3 (ipykernel)",
   "language": "python",
   "name": "python3"
  },
  "language_info": {
   "codemirror_mode": {
    "name": "ipython",
    "version": 3
   },
   "file_extension": ".py",
   "mimetype": "text/x-python",
   "name": "python",
   "nbconvert_exporter": "python",
   "pygments_lexer": "ipython3",
   "version": "3.11.3"
  }
 },
 "nbformat": 4,
 "nbformat_minor": 5
}
