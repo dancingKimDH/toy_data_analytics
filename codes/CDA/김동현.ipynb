{
 "cells": [
  {
   "cell_type": "code",
   "execution_count": 6,
   "id": "fb3c269e-769a-4a2e-8c89-46428cccbe79",
   "metadata": {},
   "outputs": [
    {
     "data": {
      "text/html": [
       "<div>\n",
       "<style scoped>\n",
       "    .dataframe tbody tr th:only-of-type {\n",
       "        vertical-align: middle;\n",
       "    }\n",
       "\n",
       "    .dataframe tbody tr th {\n",
       "        vertical-align: top;\n",
       "    }\n",
       "\n",
       "    .dataframe thead th {\n",
       "        text-align: right;\n",
       "    }\n",
       "</style>\n",
       "<table border=\"1\" class=\"dataframe\">\n",
       "  <thead>\n",
       "    <tr style=\"text-align: right;\">\n",
       "      <th></th>\n",
       "      <th>입원기간</th>\n",
       "      <th>입원일자</th>\n",
       "      <th>퇴원일자</th>\n",
       "    </tr>\n",
       "  </thead>\n",
       "  <tbody>\n",
       "    <tr>\n",
       "      <th>0</th>\n",
       "      <td>2</td>\n",
       "      <td>20190713</td>\n",
       "      <td>20190716</td>\n",
       "    </tr>\n",
       "    <tr>\n",
       "      <th>1</th>\n",
       "      <td>1</td>\n",
       "      <td>20190715</td>\n",
       "      <td>20190716</td>\n",
       "    </tr>\n",
       "    <tr>\n",
       "      <th>2</th>\n",
       "      <td>1</td>\n",
       "      <td>20190729</td>\n",
       "      <td>20190801</td>\n",
       "    </tr>\n",
       "    <tr>\n",
       "      <th>3</th>\n",
       "      <td>1</td>\n",
       "      <td>20190731</td>\n",
       "      <td>20190803</td>\n",
       "    </tr>\n",
       "    <tr>\n",
       "      <th>4</th>\n",
       "      <td>2</td>\n",
       "      <td>20190903</td>\n",
       "      <td>20190907</td>\n",
       "    </tr>\n",
       "    <tr>\n",
       "      <th>5</th>\n",
       "      <td>1</td>\n",
       "      <td>20190905</td>\n",
       "      <td>20190907</td>\n",
       "    </tr>\n",
       "    <tr>\n",
       "      <th>6</th>\n",
       "      <td>1</td>\n",
       "      <td>20190622</td>\n",
       "      <td>20190626</td>\n",
       "    </tr>\n",
       "    <tr>\n",
       "      <th>7</th>\n",
       "      <td>1</td>\n",
       "      <td>20190330</td>\n",
       "      <td>20190402</td>\n",
       "    </tr>\n",
       "    <tr>\n",
       "      <th>8</th>\n",
       "      <td>1</td>\n",
       "      <td>20191203</td>\n",
       "      <td>20191206</td>\n",
       "    </tr>\n",
       "    <tr>\n",
       "      <th>9</th>\n",
       "      <td>2</td>\n",
       "      <td>20191210</td>\n",
       "      <td>20191213</td>\n",
       "    </tr>\n",
       "  </tbody>\n",
       "</table>\n",
       "</div>"
      ],
      "text/plain": [
       "   입원기간      입원일자      퇴원일자\n",
       "0     2  20190713  20190716\n",
       "1     1  20190715  20190716\n",
       "2     1  20190729  20190801\n",
       "3     1  20190731  20190803\n",
       "4     2  20190903  20190907\n",
       "5     1  20190905  20190907\n",
       "6     1  20190622  20190626\n",
       "7     1  20190330  20190402\n",
       "8     1  20191203  20191206\n",
       "9     2  20191210  20191213"
      ]
     },
     "execution_count": 6,
     "metadata": {},
     "output_type": "execute_result"
    }
   ],
   "source": [
    "import pandas as pd\n",
    "import numpy as np\n",
    "import seaborn as sns\n",
    "import matplotlib.pyplot as plt\n",
    "import matplotlib as mpl\n",
    "import scipy as stats\n",
    "mpl.rc('font', family = 'Malgun Gothic')\n",
    "df_H = pd.read_csv('../../datasets/RecurrenceOfSurgery.csv')\n",
    "df_H[['입원기간', '입원일자', '퇴원일자']][:10]"
   ]
  },
  {
   "cell_type": "markdown",
   "id": "7248a8fd-b7dd-4329-81ff-13e1070f2b10",
   "metadata": {
    "tags": []
   },
   "source": [
    "#### 1. 당뇨여부\n",
    "- 귀무가설: 당뇨여부에 따라 입원기간이 달라지지 않는다.\n",
    "- 대립가설: 당뇨여부에 따라 입원기간이 달라진다.\n",
    "- 분석결론:\n",
    "    - 통계결론: p-value가 0.05보다 작으므로 대립가설이 성립한다.\n",
    "    - 사실결론: 당뇨여부에 따라 입원기간이 달라진다."
   ]
  },
  {
   "cell_type": "code",
   "execution_count": 15,
   "id": "018127d8-95f2-4799-9c33-ff86eedbdbd9",
   "metadata": {
    "tags": []
   },
   "outputs": [
    {
     "name": "stdout",
     "output_type": "stream",
     "text": [
      "<class 'pandas.core.frame.DataFrame'>\n",
      "Int64Index: 1684 entries, 0 to 1743\n",
      "Data columns (total 4 columns):\n",
      " #   Column  Non-Null Count  Dtype\n",
      "---  ------  --------------  -----\n",
      " 0   당뇨여부    1684 non-null   int64\n",
      " 1   입원기간    1684 non-null   int64\n",
      " 2   입원일자    1684 non-null   int64\n",
      " 3   퇴원일자    1684 non-null   int64\n",
      "dtypes: int64(4)\n",
      "memory usage: 65.8 KB\n"
     ]
    }
   ],
   "source": [
    "df_Diabetes = df_H[['당뇨여부', '입원기간', '입원일자', '퇴원일자']]\n",
    "df_Da = df_Diabetes['입원기간'].describe()['25%']\n",
    "df_Db = df_Diabetes['입원기간'].describe()['75%']\n",
    "df_Da_IQR = df_Db - df_Da\n",
    "df_Da_up = df_Db + 1.5 * df_Da_IQR\n",
    "df_Da_down = df_Da - 1.5 * df_Da_IQR\n",
    "df_D_condition = (df_Diabetes['입원기간'] <= df_Da_up) & (df_Diabetes['입원기간'] >= df_Da_down)\n",
    "df_Diabetes = df_Diabetes[df_D_condition]\n",
    "df_H = df_H[df_D_condition]\n",
    "df_Diabetes.info()"
   ]
  },
  {
   "cell_type": "code",
   "execution_count": 16,
   "id": "417a83d6-c306-4d9d-b56d-0d695f242209",
   "metadata": {
    "tags": []
   },
   "outputs": [
    {
     "data": {
      "text/plain": [
       "KruskalResult(statistic=2729.9792590759557, pvalue=0.0)"
      ]
     },
     "execution_count": 16,
     "metadata": {},
     "output_type": "execute_result"
    }
   ],
   "source": [
    "stats.stats.kruskal(df_Diabetes['당뇨여부'], df_Diabetes['입원기간'])"
   ]
  },
  {
   "cell_type": "markdown",
   "id": "f8f9f36b-6fec-4ece-ba85-5e0c0f55f80a",
   "metadata": {
    "tags": []
   },
   "source": [
    "#### 2. 스테로이드치료 여부\n",
    "- 귀무가설: 스테로이드치료 여부에 따라 입원기간이 달라지지 않는다.\n",
    "- 대립가설: 스테로이드치료 여부에 따라 입원기간이 달라진다.\n",
    "- 분석결론:\n",
    "    - 통계결론: p-value가 0.05보다 크므로 귀무가설이 성립한다.\n",
    "    - 사실결론: 스테로이드치료 여부와 입원기간은 관련이 없다."
   ]
  },
  {
   "cell_type": "code",
   "execution_count": 21,
   "id": "e42e790c-cdf2-46e8-888f-dcd9df2a3af8",
   "metadata": {},
   "outputs": [
    {
     "name": "stdout",
     "output_type": "stream",
     "text": [
      "<class 'pandas.core.frame.DataFrame'>\n",
      "Int64Index: 1684 entries, 0 to 1743\n",
      "Data columns (total 2 columns):\n",
      " #   Column   Non-Null Count  Dtype\n",
      "---  ------   --------------  -----\n",
      " 0   입원기간     1684 non-null   int64\n",
      " 1   스테로이드치료  1684 non-null   int64\n",
      "dtypes: int64(2)\n",
      "memory usage: 39.5 KB\n"
     ]
    }
   ],
   "source": [
    "df_Ste = df_H[['입원기간', '스테로이드치료']]\n",
    "df_Ste.info()"
   ]
  },
  {
   "cell_type": "code",
   "execution_count": 26,
   "id": "f2c3fbb9-00a3-4657-8255-eeba2787b59e",
   "metadata": {
    "tags": []
   },
   "outputs": [
    {
     "data": {
      "text/plain": [
       "KruskalResult(statistic=1273.7193213608737, pvalue=5.8133505737925954e-279)"
      ]
     },
     "execution_count": 26,
     "metadata": {},
     "output_type": "execute_result"
    }
   ],
   "source": [
    "stats.stats.kruskal(df_Ste['스테로이드치료'], df_Ste['입원기간'])"
   ]
  },
  {
   "cell_type": "markdown",
   "id": "423674b9-381f-472c-9acd-fe71cc2bc9f6",
   "metadata": {
    "tags": []
   },
   "source": [
    "#### 3. 신부전여부\n",
    "- 귀무가설: 신부전여부에 따라 입원기간이 달라지지 않는다.\n",
    "- 대립가설: 신부전여부에 따라 입원기간이 달라진다.\n",
    "- 분석결론:\n",
    "    - 통계결론: p-value가 0.05보다 작으므로 대립가설이 성립한다.\n",
    "    - 사실결론: 신부전여부에 따라 입원기간이 달라진다."
   ]
  },
  {
   "cell_type": "code",
   "execution_count": 28,
   "id": "04ca9529-03a5-4cb2-9eb4-4e93a1d02e0a",
   "metadata": {},
   "outputs": [
    {
     "name": "stdout",
     "output_type": "stream",
     "text": [
      "<class 'pandas.core.frame.DataFrame'>\n",
      "Int64Index: 1684 entries, 0 to 1743\n",
      "Data columns (total 2 columns):\n",
      " #   Column  Non-Null Count  Dtype\n",
      "---  ------  --------------  -----\n",
      " 0   신부전여부   1684 non-null   int64\n",
      " 1   입원기간    1684 non-null   int64\n",
      "dtypes: int64(2)\n",
      "memory usage: 39.5 KB\n"
     ]
    }
   ],
   "source": [
    "df_Ki = df_H[['신부전여부', '입원기간']]\n",
    "df_Ki.info()"
   ]
  },
  {
   "cell_type": "code",
   "execution_count": 29,
   "id": "5f67baf9-c784-4973-aa59-59c39fb87a58",
   "metadata": {
    "tags": []
   },
   "outputs": [
    {
     "data": {
      "text/plain": [
       "KruskalResult(statistic=2881.5330647314995, pvalue=0.0)"
      ]
     },
     "execution_count": 29,
     "metadata": {},
     "output_type": "execute_result"
    }
   ],
   "source": [
    "stats.stats.kruskal(df_Ki['신부전여부'], df_Ki['입원기간'])"
   ]
  },
  {
   "cell_type": "markdown",
   "id": "dcbc0f27-ec16-40c0-9f6c-d962debe588b",
   "metadata": {},
   "source": [
    "#### 4. 심혈관질환\n",
    "- 귀무가설: 심혈관질환 여부에 따라 입원기간이 달라지지 않는다.\n",
    "- 대립가설: 심혈관질환 여부에 따라 입원기간이 달라진다.\n",
    "- 분석결론:\n",
    "    - 통계결론: p-value가 0.05보다 크므로 귀무가설이 성립한다.\n",
    "    - 사실결론: 심혈관질환에 따라 입원기간이 달라지지 않는다."
   ]
  },
  {
   "cell_type": "code",
   "execution_count": 32,
   "id": "3ab044cb-d7c5-4d41-9ed6-4e2ca36b87ff",
   "metadata": {},
   "outputs": [
    {
     "name": "stdout",
     "output_type": "stream",
     "text": [
      "<class 'pandas.core.frame.DataFrame'>\n",
      "Int64Index: 1684 entries, 0 to 1743\n",
      "Data columns (total 2 columns):\n",
      " #   Column  Non-Null Count  Dtype\n",
      "---  ------  --------------  -----\n",
      " 0   심혈관질환   1684 non-null   int64\n",
      " 1   입원기간    1684 non-null   int64\n",
      "dtypes: int64(2)\n",
      "memory usage: 39.5 KB\n"
     ]
    }
   ],
   "source": [
    "df_He = df_H[['심혈관질환', '입원기간']]\n",
    "df_He.info()"
   ]
  },
  {
   "cell_type": "code",
   "execution_count": 33,
   "id": "a8a02d89-6dc8-4d25-b180-1d754293d768",
   "metadata": {
    "tags": []
   },
   "outputs": [
    {
     "data": {
      "text/plain": [
       "KruskalResult(statistic=0.0, pvalue=1.0)"
      ]
     },
     "execution_count": 33,
     "metadata": {},
     "output_type": "execute_result"
    }
   ],
   "source": [
    "stats.stats.kruskal(df_He['심혈관질환'], df_He['심혈관질환'])"
   ]
  },
  {
   "cell_type": "markdown",
   "id": "a55d2f23-714f-4859-880d-a7615efbdf63",
   "metadata": {},
   "source": [
    "#### 4. 암발병여부\n",
    "- 귀무가설: 암발병여부에 따라 입원기간이 달라지지 않는다.\n",
    "- 대립가설: 암발병여부에 따라 입원기간이 달라진다.\n",
    "- 분석결론:\n",
    "    - 통계결론: p-value가 0.05보다 작으므로 귀무가설이 성립한다.\n",
    "    - 사실결론: 암발병여부에 따라 입원기간이 달라진다."
   ]
  },
  {
   "cell_type": "code",
   "execution_count": 34,
   "id": "054e8b31-496e-4343-a0cc-e911fb57edb4",
   "metadata": {},
   "outputs": [
    {
     "name": "stdout",
     "output_type": "stream",
     "text": [
      "<class 'pandas.core.frame.DataFrame'>\n",
      "Int64Index: 1684 entries, 0 to 1743\n",
      "Data columns (total 2 columns):\n",
      " #   Column  Non-Null Count  Dtype\n",
      "---  ------  --------------  -----\n",
      " 0   심혈관질환   1684 non-null   int64\n",
      " 1   입원기간    1684 non-null   int64\n",
      "dtypes: int64(2)\n",
      "memory usage: 39.5 KB\n"
     ]
    }
   ],
   "source": [
    "df_Ca = df_H[['암발병여부', '입원기간']]\n",
    "df_He.info()"
   ]
  },
  {
   "cell_type": "code",
   "execution_count": 35,
   "id": "bf21e33a-2b61-4ee9-8b5c-c9bdcbd43bba",
   "metadata": {
    "tags": []
   },
   "outputs": [
    {
     "data": {
      "text/plain": [
       "KruskalResult(statistic=2929.0867885619386, pvalue=0.0)"
      ]
     },
     "execution_count": 35,
     "metadata": {},
     "output_type": "execute_result"
    }
   ],
   "source": [
    "stats.stats.kruskal(df_Ca['암발병여부'], df_Ca['입원기간'])"
   ]
  },
  {
   "cell_type": "code",
   "execution_count": null,
   "id": "67036432-4802-4686-9573-59c6ee138a81",
   "metadata": {},
   "outputs": [],
   "source": []
  }
 ],
 "metadata": {
  "kernelspec": {
   "display_name": "Python 3 (ipykernel)",
   "language": "python",
   "name": "python3"
  },
  "language_info": {
   "codemirror_mode": {
    "name": "ipython",
    "version": 3
   },
   "file_extension": ".py",
   "mimetype": "text/x-python",
   "name": "python",
   "nbconvert_exporter": "python",
   "pygments_lexer": "ipython3",
   "version": "3.11.3"
  }
 },
 "nbformat": 4,
 "nbformat_minor": 5
}
