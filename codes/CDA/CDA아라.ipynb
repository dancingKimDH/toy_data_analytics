{
 "cells": [
  {
   "cell_type": "code",
   "execution_count": 91,
   "id": "07959076-938d-40d4-8f8a-ee1f44291efe",
   "metadata": {},
   "outputs": [],
   "source": [
    "import matplotlib.pyplot as plt\n",
    "import matplotlib as mpl\n",
    "mpl.rc('font',family='Malgun Gothic')\n",
    "import seaborn as sns\n",
    "import pandas as pd\n",
    "import scipy.stats as stats\n",
    "from scipy.stats import mannwhitneyu"
   ]
  },
  {
   "cell_type": "code",
   "execution_count": 68,
   "id": "82bb5cc4-edf1-4c77-84b3-9b304c8c8bf2",
   "metadata": {
    "tags": []
   },
   "outputs": [
    {
     "data": {
      "text/html": [
       "<div>\n",
       "<style scoped>\n",
       "    .dataframe tbody tr th:only-of-type {\n",
       "        vertical-align: middle;\n",
       "    }\n",
       "\n",
       "    .dataframe tbody tr th {\n",
       "        vertical-align: top;\n",
       "    }\n",
       "\n",
       "    .dataframe thead th {\n",
       "        text-align: right;\n",
       "    }\n",
       "</style>\n",
       "<table border=\"1\" class=\"dataframe\">\n",
       "  <thead>\n",
       "    <tr style=\"text-align: right;\">\n",
       "      <th></th>\n",
       "      <th>Unnamed: 0.2</th>\n",
       "      <th>Unnamed: 0.1</th>\n",
       "      <th>Unnamed: 0</th>\n",
       "      <th>환자ID</th>\n",
       "      <th>Large Lymphocyte</th>\n",
       "      <th>Location of herniation</th>\n",
       "      <th>가족력</th>\n",
       "      <th>간질성폐질환</th>\n",
       "      <th>고혈압여부</th>\n",
       "      <th>과거수술횟수</th>\n",
       "      <th>...</th>\n",
       "      <th>MF + ES</th>\n",
       "      <th>Modic change</th>\n",
       "      <th>PI</th>\n",
       "      <th>PT</th>\n",
       "      <th>Seg Angle(raw)</th>\n",
       "      <th>Vaccum disc</th>\n",
       "      <th>디스크단면적</th>\n",
       "      <th>디스크위치</th>\n",
       "      <th>척추이동척도</th>\n",
       "      <th>척추전방위증</th>\n",
       "    </tr>\n",
       "  </thead>\n",
       "  <tbody>\n",
       "    <tr>\n",
       "      <th>0</th>\n",
       "      <td>0</td>\n",
       "      <td>0</td>\n",
       "      <td>0</td>\n",
       "      <td>1PT</td>\n",
       "      <td>22.8</td>\n",
       "      <td>3</td>\n",
       "      <td>0.0</td>\n",
       "      <td>0</td>\n",
       "      <td>0</td>\n",
       "      <td>0</td>\n",
       "      <td>...</td>\n",
       "      <td>1824.6</td>\n",
       "      <td>3</td>\n",
       "      <td>51.6</td>\n",
       "      <td>36.6</td>\n",
       "      <td>14.4</td>\n",
       "      <td>0</td>\n",
       "      <td>2048.5</td>\n",
       "      <td>4</td>\n",
       "      <td>Down</td>\n",
       "      <td>0</td>\n",
       "    </tr>\n",
       "    <tr>\n",
       "      <th>1</th>\n",
       "      <td>1</td>\n",
       "      <td>1</td>\n",
       "      <td>1</td>\n",
       "      <td>2PT</td>\n",
       "      <td>44.9</td>\n",
       "      <td>4</td>\n",
       "      <td>0.0</td>\n",
       "      <td>0</td>\n",
       "      <td>0</td>\n",
       "      <td>0</td>\n",
       "      <td>...</td>\n",
       "      <td>1737.5</td>\n",
       "      <td>0</td>\n",
       "      <td>40.8</td>\n",
       "      <td>7.2</td>\n",
       "      <td>17.8</td>\n",
       "      <td>0</td>\n",
       "      <td>1753.1</td>\n",
       "      <td>4</td>\n",
       "      <td>Up</td>\n",
       "      <td>0</td>\n",
       "    </tr>\n",
       "  </tbody>\n",
       "</table>\n",
       "<p>2 rows × 51 columns</p>\n",
       "</div>"
      ],
      "text/plain": [
       "   Unnamed: 0.2  Unnamed: 0.1  Unnamed: 0 환자ID  Large Lymphocyte  \\\n",
       "0             0             0           0  1PT              22.8   \n",
       "1             1             1           1  2PT              44.9   \n",
       "\n",
       "   Location of herniation  가족력  간질성폐질환  고혈압여부  과거수술횟수  ...  MF + ES  \\\n",
       "0                       3  0.0       0      0       0  ...   1824.6   \n",
       "1                       4  0.0       0      0       0  ...   1737.5   \n",
       "\n",
       "   Modic change    PI    PT  Seg Angle(raw)  Vaccum disc  디스크단면적  디스크위치  \\\n",
       "0             3  51.6  36.6            14.4            0  2048.5      4   \n",
       "1             0  40.8   7.2            17.8            0  1753.1      4   \n",
       "\n",
       "   척추이동척도  척추전방위증  \n",
       "0    Down       0  \n",
       "1      Up       0  \n",
       "\n",
       "[2 rows x 51 columns]"
      ]
     },
     "execution_count": 68,
     "metadata": {},
     "output_type": "execute_result"
    }
   ],
   "source": [
    "df_ROS = pd.read_csv('../../datasets/RecurrenceOfSurgery.csv')\n",
    "df_ROS.head(2)"
   ]
  },
  {
   "cell_type": "code",
   "execution_count": 69,
   "id": "db659c4c-0be6-4237-8460-8405f7251ec5",
   "metadata": {
    "tags": []
   },
   "outputs": [
    {
     "data": {
      "text/html": [
       "<div>\n",
       "<style scoped>\n",
       "    .dataframe tbody tr th:only-of-type {\n",
       "        vertical-align: middle;\n",
       "    }\n",
       "\n",
       "    .dataframe tbody tr th {\n",
       "        vertical-align: top;\n",
       "    }\n",
       "\n",
       "    .dataframe thead th {\n",
       "        text-align: right;\n",
       "    }\n",
       "</style>\n",
       "<table border=\"1\" class=\"dataframe\">\n",
       "  <thead>\n",
       "    <tr style=\"text-align: right;\">\n",
       "      <th></th>\n",
       "      <th>신장</th>\n",
       "      <th>체중</th>\n",
       "      <th>종양진행여부</th>\n",
       "      <th>혈전합병증여부</th>\n",
       "      <th>수술기법</th>\n",
       "      <th>재발여부</th>\n",
       "      <th>입원기간</th>\n",
       "    </tr>\n",
       "  </thead>\n",
       "  <tbody>\n",
       "    <tr>\n",
       "      <th>0</th>\n",
       "      <td>163</td>\n",
       "      <td>60.3</td>\n",
       "      <td>0</td>\n",
       "      <td>0</td>\n",
       "      <td>TELD</td>\n",
       "      <td>0</td>\n",
       "      <td>2</td>\n",
       "    </tr>\n",
       "    <tr>\n",
       "      <th>1</th>\n",
       "      <td>171</td>\n",
       "      <td>71.7</td>\n",
       "      <td>0</td>\n",
       "      <td>0</td>\n",
       "      <td>TELD</td>\n",
       "      <td>0</td>\n",
       "      <td>1</td>\n",
       "    </tr>\n",
       "    <tr>\n",
       "      <th>2</th>\n",
       "      <td>178</td>\n",
       "      <td>77.1</td>\n",
       "      <td>0</td>\n",
       "      <td>0</td>\n",
       "      <td>TELD</td>\n",
       "      <td>0</td>\n",
       "      <td>1</td>\n",
       "    </tr>\n",
       "    <tr>\n",
       "      <th>3</th>\n",
       "      <td>174</td>\n",
       "      <td>74.2</td>\n",
       "      <td>0</td>\n",
       "      <td>0</td>\n",
       "      <td>TELD</td>\n",
       "      <td>0</td>\n",
       "      <td>1</td>\n",
       "    </tr>\n",
       "    <tr>\n",
       "      <th>4</th>\n",
       "      <td>183</td>\n",
       "      <td>80.7</td>\n",
       "      <td>0</td>\n",
       "      <td>0</td>\n",
       "      <td>TELD</td>\n",
       "      <td>0</td>\n",
       "      <td>2</td>\n",
       "    </tr>\n",
       "    <tr>\n",
       "      <th>...</th>\n",
       "      <td>...</td>\n",
       "      <td>...</td>\n",
       "      <td>...</td>\n",
       "      <td>...</td>\n",
       "      <td>...</td>\n",
       "      <td>...</td>\n",
       "      <td>...</td>\n",
       "    </tr>\n",
       "    <tr>\n",
       "      <th>1739</th>\n",
       "      <td>163</td>\n",
       "      <td>52.0</td>\n",
       "      <td>0</td>\n",
       "      <td>0</td>\n",
       "      <td>TELD</td>\n",
       "      <td>0</td>\n",
       "      <td>12</td>\n",
       "    </tr>\n",
       "    <tr>\n",
       "      <th>1740</th>\n",
       "      <td>185</td>\n",
       "      <td>64.0</td>\n",
       "      <td>0</td>\n",
       "      <td>0</td>\n",
       "      <td>TELD</td>\n",
       "      <td>0</td>\n",
       "      <td>2</td>\n",
       "    </tr>\n",
       "    <tr>\n",
       "      <th>1741</th>\n",
       "      <td>160</td>\n",
       "      <td>60.0</td>\n",
       "      <td>0</td>\n",
       "      <td>0</td>\n",
       "      <td>TELD</td>\n",
       "      <td>0</td>\n",
       "      <td>3</td>\n",
       "    </tr>\n",
       "    <tr>\n",
       "      <th>1742</th>\n",
       "      <td>173</td>\n",
       "      <td>70.0</td>\n",
       "      <td>0</td>\n",
       "      <td>0</td>\n",
       "      <td>TELD</td>\n",
       "      <td>0</td>\n",
       "      <td>3</td>\n",
       "    </tr>\n",
       "    <tr>\n",
       "      <th>1743</th>\n",
       "      <td>167</td>\n",
       "      <td>70.0</td>\n",
       "      <td>0</td>\n",
       "      <td>0</td>\n",
       "      <td>IELD</td>\n",
       "      <td>0</td>\n",
       "      <td>3</td>\n",
       "    </tr>\n",
       "  </tbody>\n",
       "</table>\n",
       "<p>1744 rows × 7 columns</p>\n",
       "</div>"
      ],
      "text/plain": [
       "       신장    체중  종양진행여부  혈전합병증여부  수술기법  재발여부  입원기간\n",
       "0     163  60.3       0        0  TELD     0     2\n",
       "1     171  71.7       0        0  TELD     0     1\n",
       "2     178  77.1       0        0  TELD     0     1\n",
       "3     174  74.2       0        0  TELD     0     1\n",
       "4     183  80.7       0        0  TELD     0     2\n",
       "...   ...   ...     ...      ...   ...   ...   ...\n",
       "1739  163  52.0       0        0  TELD     0    12\n",
       "1740  185  64.0       0        0  TELD     0     2\n",
       "1741  160  60.0       0        0  TELD     0     3\n",
       "1742  173  70.0       0        0  TELD     0     3\n",
       "1743  167  70.0       0        0  IELD     0     3\n",
       "\n",
       "[1744 rows x 7 columns]"
      ]
     },
     "execution_count": 69,
     "metadata": {},
     "output_type": "execute_result"
    }
   ],
   "source": [
    "df_ROS_AP = df_ROS[['신장','체중','종양진행여부','혈전합병증여부','수술기법','재발여부','입원기간']]\n",
    "df_ROS_AP"
   ]
  },
  {
   "cell_type": "markdown",
   "id": "85d89b2e-5b54-4aff-b9e9-de2c3fa12a20",
   "metadata": {},
   "source": [
    "####  6. BMI 범주여부와 입원기간/ BMI범주(항목 3), 입원기간(비정규분포) - Kruskal Test\n",
    "\n",
    "- 귀무가설: BMI 범주에 따라 입원기간이 동일하다.\n",
    "- 대립가설: BMI 범주에 따라 입원기간이 다르다.\n",
    "- 분석결론:\n",
    "    - 통계결론:  p-value가 0.05보다 크므로 대립가설이 성립되지 않는다. \n",
    "    - 사실결론:  BMI 범주에 따른 입원기간이 관련이 없다.  "
   ]
  },
  {
   "cell_type": "code",
   "execution_count": 70,
   "id": "f3ac0209-0f3c-43b7-95be-b9c0f3d25669",
   "metadata": {
    "tags": []
   },
   "outputs": [
    {
     "name": "stdout",
     "output_type": "stream",
     "text": [
      "<class 'pandas.core.frame.DataFrame'>\n",
      "Int64Index: 1684 entries, 0 to 1743\n",
      "Data columns (total 4 columns):\n",
      " #   Column  Non-Null Count  Dtype   \n",
      "---  ------  --------------  -----   \n",
      " 0   BMI_범주  1684 non-null   category\n",
      " 1   입원기간    1684 non-null   int64   \n",
      " 2   입원일자    1684 non-null   int64   \n",
      " 3   퇴원일자    1684 non-null   int64   \n",
      "dtypes: category(1), int64(3)\n",
      "memory usage: 54.5 KB\n"
     ]
    },
    {
     "name": "stderr",
     "output_type": "stream",
     "text": [
      "C:\\Users\\04-02\\AppData\\Local\\Temp\\ipykernel_6912\\3603340826.py:8: SettingWithCopyWarning: \n",
      "A value is trying to be set on a copy of a slice from a DataFrame.\n",
      "Try using .loc[row_indexer,col_indexer] = value instead\n",
      "\n",
      "See the caveats in the documentation: https://pandas.pydata.org/pandas-docs/stable/user_guide/indexing.html#returning-a-view-versus-a-copy\n",
      "  df_ROS_BMI['BMI'] = df_ROS_BMI.apply(Calculate_BMI, axis=1)\n",
      "C:\\Users\\04-02\\AppData\\Local\\Temp\\ipykernel_6912\\3603340826.py:10: SettingWithCopyWarning: \n",
      "A value is trying to be set on a copy of a slice from a DataFrame.\n",
      "Try using .loc[row_indexer,col_indexer] = value instead\n",
      "\n",
      "See the caveats in the documentation: https://pandas.pydata.org/pandas-docs/stable/user_guide/indexing.html#returning-a-view-versus-a-copy\n",
      "  df_ROS_BMI['BMI_범주'] = pd.cut(df_ROS_BMI['BMI'], bins=[0, 18.5, 24.9, 29.9, float('inf')],\n",
      "C:\\Users\\04-02\\AppData\\Local\\Temp\\ipykernel_6912\\3603340826.py:14: SettingWithCopyWarning: \n",
      "A value is trying to be set on a copy of a slice from a DataFrame.\n",
      "Try using .loc[row_indexer,col_indexer] = value instead\n",
      "\n",
      "See the caveats in the documentation: https://pandas.pydata.org/pandas-docs/stable/user_guide/indexing.html#returning-a-view-versus-a-copy\n",
      "  df_ROS_AP_subset['BMI_범주'] = df_ROS_BMI['BMI_범주']\n"
     ]
    }
   ],
   "source": [
    "df_ROS_BMI = df_ROS_AP[['신장','체중']]\n",
    "df_ROS_BMI[:10]\n",
    "def Calculate_BMI(row):\n",
    "    height = float(row['신장']) / 100 \n",
    "    weight = float(row['체중'])\n",
    "    BMI = weight / (height * height)\n",
    "    return BMI\n",
    "df_ROS_BMI['BMI'] = df_ROS_BMI.apply(Calculate_BMI, axis=1)\n",
    "df_ROS_BMI['BMI']\n",
    "df_ROS_BMI['BMI_범주'] = pd.cut(df_ROS_BMI['BMI'], bins=[0, 18.5, 24.9, 29.9, float('inf')],\n",
    "                               labels=['저체중', '정상 체중', '과체중', '비만'])\n",
    "df_ROS_ad = df_ROS[['입원일자', '입원기간','퇴원일자']]\n",
    "df_ROS_AP_subset = df_ROS_ad[['입원일자','퇴원일자', '입원기간']]\n",
    "df_ROS_AP_subset['BMI_범주'] = df_ROS_BMI['BMI_범주']\n",
    "df_BMI= df_ROS_AP_subset[['BMI_범주', '입원기간', '입원일자', '퇴원일자']]\n",
    "df_Ba = df_BMI['입원기간'].describe()['25%']\n",
    "df_Bb = df_BMI['입원기간'].describe()['75%']\n",
    "df_Ba_IQR = df_Bb - df_Ba\n",
    "df_Ba, df_Bb, df_Ba_IQR\n",
    "df_Ba_up = df_Bb + 1.5 * df_Ba_IQR\n",
    "df_Ba_down = df_Ba - 1.5 * df_Ba_IQR\n",
    "df_Ba_up, df_Ba_down\n",
    "df_B_condition = (df_BMI['입원기간'] <= df_Ba_up) & (df_BMI['입원기간'] >= df_Ba_down)\n",
    "df_ROS = df_ROS[df_B_condition]\n",
    "df_BMI =  df_BMI[df_B_condition]\n",
    "df_BMI.info()"
   ]
  },
  {
   "cell_type": "code",
   "execution_count": 71,
   "id": "b21392e7-fd31-4547-9d63-c7c316046a74",
   "metadata": {
    "tags": []
   },
   "outputs": [
    {
     "data": {
      "text/html": [
       "<div>\n",
       "<style scoped>\n",
       "    .dataframe tbody tr th:only-of-type {\n",
       "        vertical-align: middle;\n",
       "    }\n",
       "\n",
       "    .dataframe tbody tr th {\n",
       "        vertical-align: top;\n",
       "    }\n",
       "\n",
       "    .dataframe thead th {\n",
       "        text-align: right;\n",
       "    }\n",
       "</style>\n",
       "<table border=\"1\" class=\"dataframe\">\n",
       "  <thead>\n",
       "    <tr style=\"text-align: right;\">\n",
       "      <th></th>\n",
       "      <th>BMI_범주</th>\n",
       "      <th>입원기간</th>\n",
       "      <th>입원일자</th>\n",
       "      <th>퇴원일자</th>\n",
       "    </tr>\n",
       "  </thead>\n",
       "  <tbody>\n",
       "    <tr>\n",
       "      <th>0</th>\n",
       "      <td>정상 체중</td>\n",
       "      <td>2</td>\n",
       "      <td>20190713</td>\n",
       "      <td>20190716</td>\n",
       "    </tr>\n",
       "    <tr>\n",
       "      <th>1</th>\n",
       "      <td>정상 체중</td>\n",
       "      <td>1</td>\n",
       "      <td>20190715</td>\n",
       "      <td>20190716</td>\n",
       "    </tr>\n",
       "    <tr>\n",
       "      <th>2</th>\n",
       "      <td>정상 체중</td>\n",
       "      <td>1</td>\n",
       "      <td>20190729</td>\n",
       "      <td>20190801</td>\n",
       "    </tr>\n",
       "    <tr>\n",
       "      <th>3</th>\n",
       "      <td>정상 체중</td>\n",
       "      <td>1</td>\n",
       "      <td>20190731</td>\n",
       "      <td>20190803</td>\n",
       "    </tr>\n",
       "    <tr>\n",
       "      <th>4</th>\n",
       "      <td>정상 체중</td>\n",
       "      <td>2</td>\n",
       "      <td>20190903</td>\n",
       "      <td>20190907</td>\n",
       "    </tr>\n",
       "    <tr>\n",
       "      <th>...</th>\n",
       "      <td>...</td>\n",
       "      <td>...</td>\n",
       "      <td>...</td>\n",
       "      <td>...</td>\n",
       "    </tr>\n",
       "    <tr>\n",
       "      <th>1738</th>\n",
       "      <td>비만</td>\n",
       "      <td>2</td>\n",
       "      <td>20170221</td>\n",
       "      <td>20170222</td>\n",
       "    </tr>\n",
       "    <tr>\n",
       "      <th>1740</th>\n",
       "      <td>정상 체중</td>\n",
       "      <td>2</td>\n",
       "      <td>20170316</td>\n",
       "      <td>20170317</td>\n",
       "    </tr>\n",
       "    <tr>\n",
       "      <th>1741</th>\n",
       "      <td>정상 체중</td>\n",
       "      <td>3</td>\n",
       "      <td>20170928</td>\n",
       "      <td>20170930</td>\n",
       "    </tr>\n",
       "    <tr>\n",
       "      <th>1742</th>\n",
       "      <td>정상 체중</td>\n",
       "      <td>3</td>\n",
       "      <td>20170604</td>\n",
       "      <td>20170606</td>\n",
       "    </tr>\n",
       "    <tr>\n",
       "      <th>1743</th>\n",
       "      <td>과체중</td>\n",
       "      <td>3</td>\n",
       "      <td>20170410</td>\n",
       "      <td>20170412</td>\n",
       "    </tr>\n",
       "  </tbody>\n",
       "</table>\n",
       "<p>1684 rows × 4 columns</p>\n",
       "</div>"
      ],
      "text/plain": [
       "     BMI_범주  입원기간      입원일자      퇴원일자\n",
       "0     정상 체중     2  20190713  20190716\n",
       "1     정상 체중     1  20190715  20190716\n",
       "2     정상 체중     1  20190729  20190801\n",
       "3     정상 체중     1  20190731  20190803\n",
       "4     정상 체중     2  20190903  20190907\n",
       "...     ...   ...       ...       ...\n",
       "1738     비만     2  20170221  20170222\n",
       "1740  정상 체중     2  20170316  20170317\n",
       "1741  정상 체중     3  20170928  20170930\n",
       "1742  정상 체중     3  20170604  20170606\n",
       "1743    과체중     3  20170410  20170412\n",
       "\n",
       "[1684 rows x 4 columns]"
      ]
     },
     "execution_count": 71,
     "metadata": {},
     "output_type": "execute_result"
    }
   ],
   "source": [
    "df_BMI"
   ]
  },
  {
   "cell_type": "code",
   "execution_count": 95,
   "id": "d0c564e8-983f-49f5-b68e-3cdc3a84118f",
   "metadata": {
    "tags": []
   },
   "outputs": [
    {
     "data": {
      "text/plain": [
       "<Axes: xlabel='입원기간', ylabel='Count'>"
      ]
     },
     "execution_count": 95,
     "metadata": {},
     "output_type": "execute_result"
    },
    {
     "data": {
      "image/png": "[encoded data removed]",
      "text/plain": [
       "<Figure size 640x480 with 1 Axes>"
      ]
     },
     "metadata": {},
     "output_type": "display_data"
    }
   ],
   "source": [
    "sns.histplot(data=df_BMI, x='입원기간', kde=True, hue='BMI_범주')"
   ]
  },
  {
   "cell_type": "code",
   "execution_count": 96,
   "id": "c9cccab6-06fc-49b8-b533-09065f247c7e",
   "metadata": {
    "tags": []
   },
   "outputs": [
    {
     "data": {
      "text/plain": [
       "정상 체중    1235\n",
       "과체중       367\n",
       "비만         52\n",
       "저체중        30\n",
       "Name: BMI_범주, dtype: int64"
      ]
     },
     "execution_count": 96,
     "metadata": {},
     "output_type": "execute_result"
    }
   ],
   "source": [
    "df_BMI['BMI_범주'].value_counts()"
   ]
  },
  {
   "cell_type": "code",
   "execution_count": 97,
   "id": "4cf00cea-1282-4cb4-b8e1-fff89c5a860e",
   "metadata": {
    "tags": []
   },
   "outputs": [],
   "source": [
    "condition = (df_BMI['BMI_범주'] == '저체중') | (df_BMI['BMI_범주'] == '정상 체중') | (df_BMI['BMI_범주'] == '과체중')| (df_BMI['BMI_범주'] == '비만')\n",
    "df_BMI_BW = df_BMI[condition][['BMI_범주','입원기간']]"
   ]
  },
  {
   "cell_type": "code",
   "execution_count": 98,
   "id": "9ae02ba0-8c97-424d-af71-6da5d472cecd",
   "metadata": {
    "tags": []
   },
   "outputs": [
    {
     "data": {
      "text/plain": [
       "BMI_범주    0\n",
       "입원기간      0\n",
       "dtype: int64"
      ]
     },
     "execution_count": 98,
     "metadata": {},
     "output_type": "execute_result"
    }
   ],
   "source": [
    "df_BMI_BW.isnull().sum()"
   ]
  },
  {
   "cell_type": "code",
   "execution_count": 101,
   "id": "26e531ec-f37b-400a-9729-7b781ad2549f",
   "metadata": {
    "tags": []
   },
   "outputs": [
    {
     "data": {
      "text/html": [
       "<div>\n",
       "<style scoped>\n",
       "    .dataframe tbody tr th:only-of-type {\n",
       "        vertical-align: middle;\n",
       "    }\n",
       "\n",
       "    .dataframe tbody tr th {\n",
       "        vertical-align: top;\n",
       "    }\n",
       "\n",
       "    .dataframe thead th {\n",
       "        text-align: right;\n",
       "    }\n",
       "</style>\n",
       "<table border=\"1\" class=\"dataframe\">\n",
       "  <thead>\n",
       "    <tr style=\"text-align: right;\">\n",
       "      <th></th>\n",
       "      <th>BMI_범주</th>\n",
       "      <th>입원기간</th>\n",
       "    </tr>\n",
       "  </thead>\n",
       "  <tbody>\n",
       "    <tr>\n",
       "      <th>0</th>\n",
       "      <td>정상 체중</td>\n",
       "      <td>2</td>\n",
       "    </tr>\n",
       "    <tr>\n",
       "      <th>1</th>\n",
       "      <td>정상 체중</td>\n",
       "      <td>1</td>\n",
       "    </tr>\n",
       "  </tbody>\n",
       "</table>\n",
       "</div>"
      ],
      "text/plain": [
       "  BMI_범주  입원기간\n",
       "0  정상 체중     2\n",
       "1  정상 체중     1"
      ]
     },
     "execution_count": 101,
     "metadata": {},
     "output_type": "execute_result"
    }
   ],
   "source": [
    "df_BMI_BW[:2]"
   ]
  },
  {
   "cell_type": "markdown",
   "id": "bd0b6538-9016-4b53-98c2-7201704356b9",
   "metadata": {},
   "source": [
    "##### 정규성 확인\n",
    " - 5천이상이므로 anderson test 사용\n",
    " - statistic < cv : 정규, statistic > cv : 비정규"
   ]
  },
  {
   "cell_type": "code",
   "execution_count": 102,
   "id": "d18acce4-815c-4207-9c0d-e177954e268a",
   "metadata": {
    "tags": []
   },
   "outputs": [
    {
     "data": {
      "text/plain": [
       "<Axes: xlabel='입원기간', ylabel='Count'>"
      ]
     },
     "execution_count": 102,
     "metadata": {},
     "output_type": "execute_result"
    },
    {
     "data": {
      "image/png": "[encoded data removed]",
      "text/plain": [
       "<Figure size 640x480 with 1 Axes>"
      ]
     },
     "metadata": {},
     "output_type": "display_data"
    }
   ],
   "source": [
    "sns.histplot(data=df_BMI_BW, x='입원기간', kde=True)"
   ]
  },
  {
   "cell_type": "code",
   "execution_count": 103,
   "id": "a33d5988-a1df-4a18-a1f6-aa4344723aa5",
   "metadata": {
    "tags": []
   },
   "outputs": [
    {
     "data": {
      "text/plain": [
       "(245.9186541738968,\n",
       " array([0.575, 0.654, 0.785, 0.916, 1.089]),\n",
       " array([15. , 10. ,  5. ,  2.5,  1. ]))"
      ]
     },
     "execution_count": 103,
     "metadata": {},
     "output_type": "execute_result"
    }
   ],
   "source": [
    "statistic, cv, sl = stats.anderson(df_BMI_BW['입원기간'])\n",
    "statistic, cv, sl"
   ]
  },
  {
   "cell_type": "code",
   "execution_count": 104,
   "id": "1997affd-5e0a-4cd9-809d-0803ca88d7f0",
   "metadata": {
    "tags": []
   },
   "outputs": [
    {
     "data": {
      "text/plain": [
       "['정상 체중', '과체중', '비만', '저체중']"
      ]
     },
     "execution_count": 104,
     "metadata": {},
     "output_type": "execute_result"
    }
   ],
   "source": [
    "#type(df_channel4_amount['channel'].value_counts())\n",
    "df_BMI_BW_list = df_BMI_BW['BMI_범주'].value_counts().index.to_list()\n",
    "df_BMI_BW_list"
   ]
  },
  {
   "cell_type": "code",
   "execution_count": 105,
   "id": "a6433f3f-963d-494d-95d6-fa650b79ae99",
   "metadata": {
    "tags": []
   },
   "outputs": [],
   "source": [
    "df_result = [] # list()\n",
    "for item in df_BMI_BW_list :\n",
    "    condition = (df_BMI_BW['BMI_범주'] == item)\n",
    "    df_result.append(df_BMI_BW[condition])   # list index에 DataFrame\n",
    "    # df_result.append(df_channel4_amount[condition]['amount'])   # list index에 Serise    "
   ]
  },
  {
   "cell_type": "code",
   "execution_count": 106,
   "id": "7f11eeef-3e1a-4d99-af8f-670cb5b7fa44",
   "metadata": {
    "tags": []
   },
   "outputs": [
    {
     "data": {
      "text/html": [
       "<div>\n",
       "<style scoped>\n",
       "    .dataframe tbody tr th:only-of-type {\n",
       "        vertical-align: middle;\n",
       "    }\n",
       "\n",
       "    .dataframe tbody tr th {\n",
       "        vertical-align: top;\n",
       "    }\n",
       "\n",
       "    .dataframe thead th {\n",
       "        text-align: right;\n",
       "    }\n",
       "</style>\n",
       "<table border=\"1\" class=\"dataframe\">\n",
       "  <thead>\n",
       "    <tr style=\"text-align: right;\">\n",
       "      <th></th>\n",
       "      <th>BMI_범주</th>\n",
       "      <th>입원기간</th>\n",
       "    </tr>\n",
       "  </thead>\n",
       "  <tbody>\n",
       "    <tr>\n",
       "      <th>632</th>\n",
       "      <td>저체중</td>\n",
       "      <td>2</td>\n",
       "    </tr>\n",
       "    <tr>\n",
       "      <th>660</th>\n",
       "      <td>저체중</td>\n",
       "      <td>1</td>\n",
       "    </tr>\n",
       "  </tbody>\n",
       "</table>\n",
       "</div>"
      ],
      "text/plain": [
       "    BMI_범주  입원기간\n",
       "632    저체중     2\n",
       "660    저체중     1"
      ]
     },
     "execution_count": 106,
     "metadata": {},
     "output_type": "execute_result"
    }
   ],
   "source": [
    "#len(df_result)\n",
    "df_result[3][:2]"
   ]
  },
  {
   "cell_type": "code",
   "execution_count": 108,
   "id": "9c018107-669e-40fd-a7e4-0741c13d050d",
   "metadata": {
    "tags": []
   },
   "outputs": [
    {
     "data": {
      "text/plain": [
       "KruskalResult(statistic=1.4216777687372197, pvalue=0.700461301724873)"
      ]
     },
     "execution_count": 108,
     "metadata": {},
     "output_type": "execute_result"
    }
   ],
   "source": [
    "### 검증 각 변수 4개 \n",
    "stats.kruskal(df_BMI['입원기간'], df_result[1]['입원기간'], df_result[2]['입원기간'], df_result[3]['입원기간'])"
   ]
  },
  {
   "cell_type": "markdown",
   "id": "f4de6773-2a00-4ba4-93d3-b6f91becfb44",
   "metadata": {},
   "source": [
    "#### 7. 종양진행여부와 입원기간\n",
    "- 귀무가설: 종양진행여부에 따라 입원기간이 달라지지 않는다.\n",
    "- 대립가설: 종양진행여부에 따라 입원기간이 달라진다\n",
    "- 분석결론:\n",
    "    - 통계결론: p-value가 0.05보다 작으므로 대립가설이 성립한다.\n",
    "    - 사실결론: 종양진행여부에 따라 입원기간이 달라진다."
   ]
  },
  {
   "cell_type": "code",
   "execution_count": 52,
   "id": "404ea8ce-df11-4854-8d4a-9aa9580e03f0",
   "metadata": {
    "tags": []
   },
   "outputs": [
    {
     "name": "stdout",
     "output_type": "stream",
     "text": [
      "<class 'pandas.core.frame.DataFrame'>\n",
      "Int64Index: 1684 entries, 0 to 1743\n",
      "Data columns (total 4 columns):\n",
      " #   Column  Non-Null Count  Dtype\n",
      "---  ------  --------------  -----\n",
      " 0   종양진행여부  1684 non-null   int64\n",
      " 1   입원기간    1684 non-null   int64\n",
      " 2   입원일자    1684 non-null   int64\n",
      " 3   퇴원일자    1684 non-null   int64\n",
      "dtypes: int64(4)\n",
      "memory usage: 65.8 KB\n"
     ]
    }
   ],
   "source": [
    "df_Tumor = df_ROS[['종양진행여부', '입원기간']]\n",
    "df_Tumors.info()"
   ]
  },
  {
   "cell_type": "code",
   "execution_count": 53,
   "id": "0ab1d447-d305-423e-96e5-cb25283f6bf0",
   "metadata": {
    "tags": []
   },
   "outputs": [
    {
     "name": "stderr",
     "output_type": "stream",
     "text": [
      "C:\\Users\\04-02\\AppData\\Local\\Temp\\ipykernel_6912\\1222396320.py:1: DeprecationWarning: Please use `kruskal` from the `scipy.stats` namespace, the `scipy.stats.stats` namespace is deprecated.\n",
      "  stats.stats.kruskal(df_Tumors['종양진행여부'], df_Tumors['입원기간'])\n"
     ]
    },
    {
     "data": {
      "text/plain": [
       "KruskalResult(statistic=2983.1195014046457, pvalue=0.0)"
      ]
     },
     "execution_count": 53,
     "metadata": {},
     "output_type": "execute_result"
    }
   ],
   "source": [
    "stats.stats.kruskal(df_Tumors['종양진행여부'], df_Tumors['입원기간'])"
   ]
  },
  {
   "cell_type": "markdown",
   "id": "ce408ed3-8a7a-4526-bc5a-2c0787fe19ba",
   "metadata": {},
   "source": [
    "#### 8. 혈전합병증여부와 입원기간\n",
    "- 귀무가설: 혈전합병증여부에 따라 입원기간이 달라지지 않는다.\n",
    "- 대립가설: 혈전합병증여부에 따라 입원기간이 달라진다\n",
    "- 분석결론:\n",
    "    - 통계결론: p-value가 0.05보다 작으므로 대립가설이 성립한다.\n",
    "    - 사실결론: 혈전합병증여부에 따라 입원기간이 달라진다."
   ]
  },
  {
   "cell_type": "code",
   "execution_count": 51,
   "id": "af1bc3ca-6eef-42f3-94e6-1445a06d334a",
   "metadata": {
    "tags": []
   },
   "outputs": [
    {
     "name": "stdout",
     "output_type": "stream",
     "text": [
      "<class 'pandas.core.frame.DataFrame'>\n",
      "Int64Index: 1684 entries, 0 to 1743\n",
      "Data columns (total 2 columns):\n",
      " #   Column   Non-Null Count  Dtype\n",
      "---  ------   --------------  -----\n",
      " 0   혈전합병증여부  1684 non-null   int64\n",
      " 1   입원기간     1684 non-null   int64\n",
      "dtypes: int64(2)\n",
      "memory usage: 39.5 KB\n"
     ]
    }
   ],
   "source": [
    "df_thrombus = df_ROS[[ '혈전합병증여부','입원기간']]\n",
    "df_thrombus.info()"
   ]
  },
  {
   "cell_type": "code",
   "execution_count": 13,
   "id": "5732365b-7d42-4483-9f4e-f3626fbee52a",
   "metadata": {
    "tags": []
   },
   "outputs": [
    {
     "data": {
      "text/plain": [
       "KruskalResult(statistic=2985.8549227357184, pvalue=0.0)"
      ]
     },
     "execution_count": 13,
     "metadata": {},
     "output_type": "execute_result"
    }
   ],
   "source": [
    "stats.stats.kruskal(df_thrombus['혈전합병증여부'], df_thrombus['입원기간'])"
   ]
  },
  {
   "cell_type": "markdown",
   "id": "4209d87e-267b-4101-98a6-d82bb2a0208a",
   "metadata": {},
   "source": [
    "#### 9. 수술기법과 입원기간 (수술기법(항목 2), 입원기간(비정규분포) - Wilcoxon Test)\n",
    "- 귀무가설: 수술기법에 따라 입원기간이 달라지지 않는다.\n",
    "- 대립가설: 수술기법에 따라 입원기간이 달라진다\n",
    "- 분석결론:\n",
    "    - 통계결론: p-value가 0.05보다 크므로 대립가설이 성립한다.\n",
    "    - 사실결론: 수술기법에 따라 입원기간은 관련이 없다. "
   ]
  },
  {
   "cell_type": "code",
   "execution_count": 15,
   "id": "de705b52-b462-4540-af1b-f6e8b40d3b82",
   "metadata": {
    "tags": []
   },
   "outputs": [
    {
     "name": "stdout",
     "output_type": "stream",
     "text": [
      "<class 'pandas.core.frame.DataFrame'>\n",
      "Int64Index: 1684 entries, 0 to 1743\n",
      "Data columns (total 2 columns):\n",
      " #   Column  Non-Null Count  Dtype \n",
      "---  ------  --------------  ----- \n",
      " 0   수술기법    1684 non-null   object\n",
      " 1   입원기간    1684 non-null   int64 \n",
      "dtypes: int64(1), object(1)\n",
      "memory usage: 39.5+ KB\n"
     ]
    }
   ],
   "source": [
    "df_surgicaltechnique = df_ROS[['수술기법', '입원기간']]\n",
    "df_surgicaltechnique.info()"
   ]
  },
  {
   "cell_type": "code",
   "execution_count": 109,
   "id": "79e27e8e-6ce7-4183-986a-c3f2213ce102",
   "metadata": {
    "tags": []
   },
   "outputs": [
    {
     "data": {
      "text/plain": [
       "<Axes: xlabel='수술기법', ylabel='count'>"
      ]
     },
     "execution_count": 109,
     "metadata": {},
     "output_type": "execute_result"
    },
    {
     "data": {
      "image/png": "[encoded data removed]",
      "text/plain": [
       "<Figure size 640x480 with 1 Axes>"
      ]
     },
     "metadata": {},
     "output_type": "display_data"
    }
   ],
   "source": [
    "sns.countplot(data=df_surgicaltechnique, x='수술기법')"
   ]
  },
  {
   "cell_type": "code",
   "execution_count": 110,
   "id": "37312d44-faa4-41f4-a240-2a6623b97337",
   "metadata": {
    "tags": []
   },
   "outputs": [
    {
     "data": {
      "text/plain": [
       "TELD    1557\n",
       "IELD     127\n",
       "Name: 수술기법, dtype: int64"
      ]
     },
     "execution_count": 110,
     "metadata": {},
     "output_type": "execute_result"
    }
   ],
   "source": [
    "df_surgicaltechnique['수술기법'].value_counts()"
   ]
  },
  {
   "cell_type": "code",
   "execution_count": 111,
   "id": "6160fa96-f035-4e53-a700-f78acb4316b5",
   "metadata": {
    "tags": []
   },
   "outputs": [
    {
     "data": {
      "text/html": [
       "<div>\n",
       "<style scoped>\n",
       "    .dataframe tbody tr th:only-of-type {\n",
       "        vertical-align: middle;\n",
       "    }\n",
       "\n",
       "    .dataframe tbody tr th {\n",
       "        vertical-align: top;\n",
       "    }\n",
       "\n",
       "    .dataframe thead th {\n",
       "        text-align: right;\n",
       "    }\n",
       "</style>\n",
       "<table border=\"1\" class=\"dataframe\">\n",
       "  <thead>\n",
       "    <tr style=\"text-align: right;\">\n",
       "      <th></th>\n",
       "      <th>수술기법</th>\n",
       "      <th>입원기간</th>\n",
       "    </tr>\n",
       "  </thead>\n",
       "  <tbody>\n",
       "    <tr>\n",
       "      <th>0</th>\n",
       "      <td>TELD</td>\n",
       "      <td>2</td>\n",
       "    </tr>\n",
       "    <tr>\n",
       "      <th>1</th>\n",
       "      <td>TELD</td>\n",
       "      <td>1</td>\n",
       "    </tr>\n",
       "  </tbody>\n",
       "</table>\n",
       "</div>"
      ],
      "text/plain": [
       "   수술기법  입원기간\n",
       "0  TELD     2\n",
       "1  TELD     1"
      ]
     },
     "execution_count": 111,
     "metadata": {},
     "output_type": "execute_result"
    }
   ],
   "source": [
    "## 검증 대상 항목만 필터링 and 추출\n",
    "condition = (df_surgicaltechnique['수술기법'] == 'IELD') | (df_surgicaltechnique['수술기법'] == 'TELD')\n",
    "df_surgicaltechnique_F = df_surgicaltechnique[condition][['수술기법','입원기간']]\n",
    "df_surgicaltechnique_F[:2]"
   ]
  },
  {
   "cell_type": "code",
   "execution_count": 112,
   "id": "64b4ba5a-1570-4491-9be6-32c8e561df7d",
   "metadata": {
    "tags": []
   },
   "outputs": [
    {
     "name": "stdout",
     "output_type": "stream",
     "text": [
      "<class 'pandas.core.frame.DataFrame'>\n",
      "Int64Index: 1684 entries, 0 to 1743\n",
      "Data columns (total 2 columns):\n",
      " #   Column  Non-Null Count  Dtype \n",
      "---  ------  --------------  ----- \n",
      " 0   수술기법    1684 non-null   object\n",
      " 1   입원기간    1684 non-null   int64 \n",
      "dtypes: int64(1), object(1)\n",
      "memory usage: 39.5+ KB\n"
     ]
    }
   ],
   "source": [
    "## check null\n",
    "df_surgicaltechnique_F.info()"
   ]
  },
  {
   "cell_type": "code",
   "execution_count": 114,
   "id": "bffd74be-348f-4154-88c5-7b4d07bf278a",
   "metadata": {
    "tags": []
   },
   "outputs": [
    {
     "data": {
      "text/plain": [
       "(245.9186541738968,\n",
       " array([0.575, 0.654, 0.785, 0.916, 1.089]),\n",
       " array([15. , 10. ,  5. ,  2.5,  1. ]))"
      ]
     },
     "execution_count": 114,
     "metadata": {},
     "output_type": "execute_result"
    }
   ],
   "source": [
    "## statistic < cv : 정규분포, statistic > cv : 비정규분포\n",
    "statistic, cv, sl = stats.anderson(df_surgicaltechnique_F['입원기간'])\n",
    "statistic, cv, sl  # 비정규분포"
   ]
  },
  {
   "cell_type": "code",
   "execution_count": 115,
   "id": "9cb5df50-0ef3-4672-9f56-c8bef0cc37cc",
   "metadata": {
    "tags": []
   },
   "outputs": [
    {
     "data": {
      "text/plain": [
       "TELD    1557\n",
       "IELD     127\n",
       "Name: 수술기법, dtype: int64"
      ]
     },
     "execution_count": 115,
     "metadata": {},
     "output_type": "execute_result"
    }
   ],
   "source": [
    "df_surgicaltechnique_F['수술기법'].value_counts()"
   ]
  },
  {
   "cell_type": "code",
   "execution_count": 116,
   "id": "e63f70bc-f64f-4292-aa37-45cf9596019d",
   "metadata": {
    "tags": []
   },
   "outputs": [
    {
     "data": {
      "text/html": [
       "<div>\n",
       "<style scoped>\n",
       "    .dataframe tbody tr th:only-of-type {\n",
       "        vertical-align: middle;\n",
       "    }\n",
       "\n",
       "    .dataframe tbody tr th {\n",
       "        vertical-align: top;\n",
       "    }\n",
       "\n",
       "    .dataframe thead th {\n",
       "        text-align: right;\n",
       "    }\n",
       "</style>\n",
       "<table border=\"1\" class=\"dataframe\">\n",
       "  <thead>\n",
       "    <tr style=\"text-align: right;\">\n",
       "      <th></th>\n",
       "      <th>수술기법</th>\n",
       "      <th>입원기간</th>\n",
       "    </tr>\n",
       "  </thead>\n",
       "  <tbody>\n",
       "    <tr>\n",
       "      <th>0</th>\n",
       "      <td>TELD</td>\n",
       "      <td>2</td>\n",
       "    </tr>\n",
       "    <tr>\n",
       "      <th>1</th>\n",
       "      <td>TELD</td>\n",
       "      <td>1</td>\n",
       "    </tr>\n",
       "  </tbody>\n",
       "</table>\n",
       "</div>"
      ],
      "text/plain": [
       "   수술기법  입원기간\n",
       "0  TELD     2\n",
       "1  TELD     1"
      ]
     },
     "execution_count": 116,
     "metadata": {},
     "output_type": "execute_result"
    }
   ],
   "source": [
    "df_TELD = df_surgicaltechnique_F[df_surgicaltechnique_F['수술기법'] == 'TELD']\n",
    "df_TELD[:2]"
   ]
  },
  {
   "cell_type": "code",
   "execution_count": 117,
   "id": "c5eca2ae-92e4-428a-ac49-0543bffa012c",
   "metadata": {
    "tags": []
   },
   "outputs": [
    {
     "data": {
      "text/html": [
       "<div>\n",
       "<style scoped>\n",
       "    .dataframe tbody tr th:only-of-type {\n",
       "        vertical-align: middle;\n",
       "    }\n",
       "\n",
       "    .dataframe tbody tr th {\n",
       "        vertical-align: top;\n",
       "    }\n",
       "\n",
       "    .dataframe thead th {\n",
       "        text-align: right;\n",
       "    }\n",
       "</style>\n",
       "<table border=\"1\" class=\"dataframe\">\n",
       "  <thead>\n",
       "    <tr style=\"text-align: right;\">\n",
       "      <th></th>\n",
       "      <th>수술기법</th>\n",
       "      <th>입원기간</th>\n",
       "    </tr>\n",
       "  </thead>\n",
       "  <tbody>\n",
       "    <tr>\n",
       "      <th>19</th>\n",
       "      <td>IELD</td>\n",
       "      <td>1</td>\n",
       "    </tr>\n",
       "    <tr>\n",
       "      <th>30</th>\n",
       "      <td>IELD</td>\n",
       "      <td>1</td>\n",
       "    </tr>\n",
       "  </tbody>\n",
       "</table>\n",
       "</div>"
      ],
      "text/plain": [
       "    수술기법  입원기간\n",
       "19  IELD     1\n",
       "30  IELD     1"
      ]
     },
     "execution_count": 117,
     "metadata": {},
     "output_type": "execute_result"
    }
   ],
   "source": [
    "df_IELD = df_surgicaltechnique_F[df_surgicaltechnique_F['수술기법'] == 'IELD']\n",
    "df_IELD[:2]"
   ]
  },
  {
   "cell_type": "code",
   "execution_count": 118,
   "id": "35648f01-917a-4737-aef3-68490461d2f6",
   "metadata": {
    "tags": []
   },
   "outputs": [
    {
     "data": {
      "text/plain": [
       "RanksumsResult(statistic=18.763197136031444, pvalue=1.510354837168771e-78)"
      ]
     },
     "execution_count": 118,
     "metadata": {},
     "output_type": "execute_result"
    }
   ],
   "source": [
    "# 검증\n",
    "stats.ranksums(df_TELD['수술기법'],df_IELD['수술기법'])"
   ]
  },
  {
   "cell_type": "markdown",
   "id": "72b3a888-416c-4ffa-8ef2-55fd95ada3c1",
   "metadata": {},
   "source": [
    "#### 10. 재발여부와 입원기간\n",
    "- 귀무가설: 재발여부 따라 입원기간이 달라지지 않는다.\n",
    "- 대립가설: 재발여부 따라 입원기간이 달라진다\n",
    "- 분석결론:\n",
    "    - 통계결론: p-value가 0.05보다 작으므로 대립가설이 성립한다.\n",
    "    - 사실결론: 재발여부에 따라 입원기간이 달라진다."
   ]
  },
  {
   "cell_type": "code",
   "execution_count": 24,
   "id": "e2637b33-c028-4bc2-a5c6-feb6b04545dc",
   "metadata": {
    "tags": []
   },
   "outputs": [
    {
     "name": "stdout",
     "output_type": "stream",
     "text": [
      "<class 'pandas.core.frame.DataFrame'>\n",
      "Int64Index: 1684 entries, 0 to 1743\n",
      "Data columns (total 2 columns):\n",
      " #   Column  Non-Null Count  Dtype\n",
      "---  ------  --------------  -----\n",
      " 0   재발여부    1684 non-null   int64\n",
      " 1   입원기간    1684 non-null   int64\n",
      "dtypes: int64(2)\n",
      "memory usage: 39.5 KB\n"
     ]
    }
   ],
   "source": [
    "df_recurrence = df_ROS[['재발여부', '입원기간']]\n",
    "df_recurrence.info()"
   ]
  },
  {
   "cell_type": "code",
   "execution_count": 25,
   "id": "795febf7-e478-4bc0-8572-64ab3b043cfb",
   "metadata": {
    "tags": []
   },
   "outputs": [
    {
     "name": "stderr",
     "output_type": "stream",
     "text": [
      "C:\\Users\\04-02\\AppData\\Local\\Temp\\ipykernel_6912\\1593917816.py:1: DeprecationWarning: Please use `kruskal` from the `scipy.stats` namespace, the `scipy.stats.stats` namespace is deprecated.\n",
      "  stats.stats.kruskal(df_recurrence['재발여부'], df_recurrence['입원기간'])\n"
     ]
    },
    {
     "data": {
      "text/plain": [
       "KruskalResult(statistic=2516.519051584919, pvalue=0.0)"
      ]
     },
     "execution_count": 25,
     "metadata": {},
     "output_type": "execute_result"
    }
   ],
   "source": [
    "stats.stats.kruskal(df_recurrence['재발여부'], df_recurrence['입원기간'])"
   ]
  },
  {
   "cell_type": "code",
   "execution_count": null,
   "id": "5d45c53b-b120-436e-bc0d-97591ee5fb9a",
   "metadata": {},
   "outputs": [],
   "source": []
  }
 ],
 "metadata": {
  "kernelspec": {
   "display_name": "Python 3 (ipykernel)",
   "language": "python",
   "name": "python3"
  },
  "language_info": {
   "codemirror_mode": {
    "name": "ipython",
    "version": 3
   },
   "file_extension": ".py",
   "mimetype": "text/x-python",
   "name": "python",
   "nbconvert_exporter": "python",
   "pygments_lexer": "ipython3",
   "version": "3.11.3"
  }
 },
 "nbformat": 4,
 "nbformat_minor": 5
}
