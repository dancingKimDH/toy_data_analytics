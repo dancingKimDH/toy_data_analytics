{
 "cells": [
  {
   "cell_type": "code",
   "execution_count": 3,
   "id": "07959076-938d-40d4-8f8a-ee1f44291efe",
   "metadata": {},
   "outputs": [],
   "source": [
    "import matplotlib.pyplot as plt\n",
    "import matplotlib as mpl\n",
    "mpl.rc('font',family='Malgun Gothic')\n",
    "import seaborn as sns\n",
    "import pandas as pd\n"
   ]
  },
  {
   "cell_type": "code",
   "execution_count": 4,
   "id": "82bb5cc4-edf1-4c77-84b3-9b304c8c8bf2",
   "metadata": {
    "tags": []
   },
   "outputs": [
    {
     "data": {
      "text/html": [
       "<div>\n",
       "<style scoped>\n",
       "    .dataframe tbody tr th:only-of-type {\n",
       "        vertical-align: middle;\n",
       "    }\n",
       "\n",
       "    .dataframe tbody tr th {\n",
       "        vertical-align: top;\n",
       "    }\n",
       "\n",
       "    .dataframe thead th {\n",
       "        text-align: right;\n",
       "    }\n",
       "</style>\n",
       "<table border=\"1\" class=\"dataframe\">\n",
       "  <thead>\n",
       "    <tr style=\"text-align: right;\">\n",
       "      <th></th>\n",
       "      <th>Unnamed: 0.2</th>\n",
       "      <th>Unnamed: 0.1</th>\n",
       "      <th>Unnamed: 0</th>\n",
       "      <th>환자ID</th>\n",
       "      <th>Large Lymphocyte</th>\n",
       "      <th>Location of herniation</th>\n",
       "      <th>가족력</th>\n",
       "      <th>간질성폐질환</th>\n",
       "      <th>고혈압여부</th>\n",
       "      <th>과거수술횟수</th>\n",
       "      <th>...</th>\n",
       "      <th>MF + ES</th>\n",
       "      <th>Modic change</th>\n",
       "      <th>PI</th>\n",
       "      <th>PT</th>\n",
       "      <th>Seg Angle(raw)</th>\n",
       "      <th>Vaccum disc</th>\n",
       "      <th>디스크단면적</th>\n",
       "      <th>디스크위치</th>\n",
       "      <th>척추이동척도</th>\n",
       "      <th>척추전방위증</th>\n",
       "    </tr>\n",
       "  </thead>\n",
       "  <tbody>\n",
       "    <tr>\n",
       "      <th>0</th>\n",
       "      <td>0</td>\n",
       "      <td>0</td>\n",
       "      <td>0</td>\n",
       "      <td>1PT</td>\n",
       "      <td>22.8</td>\n",
       "      <td>3</td>\n",
       "      <td>0.0</td>\n",
       "      <td>0</td>\n",
       "      <td>0</td>\n",
       "      <td>0</td>\n",
       "      <td>...</td>\n",
       "      <td>1824.6</td>\n",
       "      <td>3</td>\n",
       "      <td>51.6</td>\n",
       "      <td>36.6</td>\n",
       "      <td>14.4</td>\n",
       "      <td>0</td>\n",
       "      <td>2048.5</td>\n",
       "      <td>4</td>\n",
       "      <td>Down</td>\n",
       "      <td>0</td>\n",
       "    </tr>\n",
       "    <tr>\n",
       "      <th>1</th>\n",
       "      <td>1</td>\n",
       "      <td>1</td>\n",
       "      <td>1</td>\n",
       "      <td>2PT</td>\n",
       "      <td>44.9</td>\n",
       "      <td>4</td>\n",
       "      <td>0.0</td>\n",
       "      <td>0</td>\n",
       "      <td>0</td>\n",
       "      <td>0</td>\n",
       "      <td>...</td>\n",
       "      <td>1737.5</td>\n",
       "      <td>0</td>\n",
       "      <td>40.8</td>\n",
       "      <td>7.2</td>\n",
       "      <td>17.8</td>\n",
       "      <td>0</td>\n",
       "      <td>1753.1</td>\n",
       "      <td>4</td>\n",
       "      <td>Up</td>\n",
       "      <td>0</td>\n",
       "    </tr>\n",
       "  </tbody>\n",
       "</table>\n",
       "<p>2 rows × 51 columns</p>\n",
       "</div>"
      ],
      "text/plain": [
       "   Unnamed: 0.2  Unnamed: 0.1  Unnamed: 0 환자ID  Large Lymphocyte  \\\n",
       "0             0             0           0  1PT              22.8   \n",
       "1             1             1           1  2PT              44.9   \n",
       "\n",
       "   Location of herniation  가족력  간질성폐질환  고혈압여부  과거수술횟수  ...  MF + ES  \\\n",
       "0                       3  0.0       0      0       0  ...   1824.6   \n",
       "1                       4  0.0       0      0       0  ...   1737.5   \n",
       "\n",
       "   Modic change    PI    PT  Seg Angle(raw)  Vaccum disc  디스크단면적  디스크위치  \\\n",
       "0             3  51.6  36.6            14.4            0  2048.5      4   \n",
       "1             0  40.8   7.2            17.8            0  1753.1      4   \n",
       "\n",
       "   척추이동척도  척추전방위증  \n",
       "0    Down       0  \n",
       "1      Up       0  \n",
       "\n",
       "[2 rows x 51 columns]"
      ]
     },
     "execution_count": 4,
     "metadata": {},
     "output_type": "execute_result"
    }
   ],
   "source": [
    "df_ROS = pd.read_csv('../../datasets/RecurrenceOfSurgery.csv')\n",
    "df_ROS.head(2)"
   ]
  },
  {
   "cell_type": "code",
   "execution_count": 6,
   "id": "543a03ab-ecce-4eb8-b3cc-0a8947a36d1d",
   "metadata": {
    "tags": []
   },
   "outputs": [
    {
     "data": {
      "text/html": [
       "<div>\n",
       "<style scoped>\n",
       "    .dataframe tbody tr th:only-of-type {\n",
       "        vertical-align: middle;\n",
       "    }\n",
       "\n",
       "    .dataframe tbody tr th {\n",
       "        vertical-align: top;\n",
       "    }\n",
       "\n",
       "    .dataframe thead th {\n",
       "        text-align: right;\n",
       "    }\n",
       "</style>\n",
       "<table border=\"1\" class=\"dataframe\">\n",
       "  <thead>\n",
       "    <tr style=\"text-align: right;\">\n",
       "      <th></th>\n",
       "      <th>입원기간</th>\n",
       "      <th>입원일자</th>\n",
       "      <th>퇴원일자</th>\n",
       "    </tr>\n",
       "  </thead>\n",
       "  <tbody>\n",
       "    <tr>\n",
       "      <th>0</th>\n",
       "      <td>2</td>\n",
       "      <td>20190713</td>\n",
       "      <td>20190716</td>\n",
       "    </tr>\n",
       "    <tr>\n",
       "      <th>1</th>\n",
       "      <td>1</td>\n",
       "      <td>20190715</td>\n",
       "      <td>20190716</td>\n",
       "    </tr>\n",
       "    <tr>\n",
       "      <th>2</th>\n",
       "      <td>1</td>\n",
       "      <td>20190729</td>\n",
       "      <td>20190801</td>\n",
       "    </tr>\n",
       "    <tr>\n",
       "      <th>3</th>\n",
       "      <td>1</td>\n",
       "      <td>20190731</td>\n",
       "      <td>20190803</td>\n",
       "    </tr>\n",
       "    <tr>\n",
       "      <th>4</th>\n",
       "      <td>2</td>\n",
       "      <td>20190903</td>\n",
       "      <td>20190907</td>\n",
       "    </tr>\n",
       "    <tr>\n",
       "      <th>5</th>\n",
       "      <td>1</td>\n",
       "      <td>20190905</td>\n",
       "      <td>20190907</td>\n",
       "    </tr>\n",
       "    <tr>\n",
       "      <th>6</th>\n",
       "      <td>1</td>\n",
       "      <td>20190622</td>\n",
       "      <td>20190626</td>\n",
       "    </tr>\n",
       "    <tr>\n",
       "      <th>7</th>\n",
       "      <td>1</td>\n",
       "      <td>20190330</td>\n",
       "      <td>20190402</td>\n",
       "    </tr>\n",
       "    <tr>\n",
       "      <th>8</th>\n",
       "      <td>1</td>\n",
       "      <td>20191203</td>\n",
       "      <td>20191206</td>\n",
       "    </tr>\n",
       "    <tr>\n",
       "      <th>9</th>\n",
       "      <td>2</td>\n",
       "      <td>20191210</td>\n",
       "      <td>20191213</td>\n",
       "    </tr>\n",
       "  </tbody>\n",
       "</table>\n",
       "</div>"
      ],
      "text/plain": [
       "   입원기간      입원일자      퇴원일자\n",
       "0     2  20190713  20190716\n",
       "1     1  20190715  20190716\n",
       "2     1  20190729  20190801\n",
       "3     1  20190731  20190803\n",
       "4     2  20190903  20190907\n",
       "5     1  20190905  20190907\n",
       "6     1  20190622  20190626\n",
       "7     1  20190330  20190402\n",
       "8     1  20191203  20191206\n",
       "9     2  20191210  20191213"
      ]
     },
     "execution_count": 6,
     "metadata": {},
     "output_type": "execute_result"
    }
   ],
   "source": [
    "df_ROS[['입원기간', '입원일자', '퇴원일자']][:10]"
   ]
  },
  {
   "cell_type": "code",
   "execution_count": 28,
   "id": "db659c4c-0be6-4237-8460-8405f7251ec5",
   "metadata": {
    "tags": []
   },
   "outputs": [
    {
     "data": {
      "text/html": [
       "<div>\n",
       "<style scoped>\n",
       "    .dataframe tbody tr th:only-of-type {\n",
       "        vertical-align: middle;\n",
       "    }\n",
       "\n",
       "    .dataframe tbody tr th {\n",
       "        vertical-align: top;\n",
       "    }\n",
       "\n",
       "    .dataframe thead th {\n",
       "        text-align: right;\n",
       "    }\n",
       "</style>\n",
       "<table border=\"1\" class=\"dataframe\">\n",
       "  <thead>\n",
       "    <tr style=\"text-align: right;\">\n",
       "      <th></th>\n",
       "      <th>신장</th>\n",
       "      <th>체중</th>\n",
       "      <th>종양진행여부</th>\n",
       "      <th>혈전합병증여부</th>\n",
       "      <th>수술기법</th>\n",
       "      <th>재발여부</th>\n",
       "      <th>입원기간</th>\n",
       "    </tr>\n",
       "  </thead>\n",
       "  <tbody>\n",
       "    <tr>\n",
       "      <th>0</th>\n",
       "      <td>163</td>\n",
       "      <td>60.3</td>\n",
       "      <td>0</td>\n",
       "      <td>0</td>\n",
       "      <td>TELD</td>\n",
       "      <td>0</td>\n",
       "      <td>2</td>\n",
       "    </tr>\n",
       "    <tr>\n",
       "      <th>1</th>\n",
       "      <td>171</td>\n",
       "      <td>71.7</td>\n",
       "      <td>0</td>\n",
       "      <td>0</td>\n",
       "      <td>TELD</td>\n",
       "      <td>0</td>\n",
       "      <td>1</td>\n",
       "    </tr>\n",
       "    <tr>\n",
       "      <th>2</th>\n",
       "      <td>178</td>\n",
       "      <td>77.1</td>\n",
       "      <td>0</td>\n",
       "      <td>0</td>\n",
       "      <td>TELD</td>\n",
       "      <td>0</td>\n",
       "      <td>1</td>\n",
       "    </tr>\n",
       "    <tr>\n",
       "      <th>3</th>\n",
       "      <td>174</td>\n",
       "      <td>74.2</td>\n",
       "      <td>0</td>\n",
       "      <td>0</td>\n",
       "      <td>TELD</td>\n",
       "      <td>0</td>\n",
       "      <td>1</td>\n",
       "    </tr>\n",
       "    <tr>\n",
       "      <th>4</th>\n",
       "      <td>183</td>\n",
       "      <td>80.7</td>\n",
       "      <td>0</td>\n",
       "      <td>0</td>\n",
       "      <td>TELD</td>\n",
       "      <td>0</td>\n",
       "      <td>2</td>\n",
       "    </tr>\n",
       "    <tr>\n",
       "      <th>...</th>\n",
       "      <td>...</td>\n",
       "      <td>...</td>\n",
       "      <td>...</td>\n",
       "      <td>...</td>\n",
       "      <td>...</td>\n",
       "      <td>...</td>\n",
       "      <td>...</td>\n",
       "    </tr>\n",
       "    <tr>\n",
       "      <th>1738</th>\n",
       "      <td>183</td>\n",
       "      <td>104.0</td>\n",
       "      <td>0</td>\n",
       "      <td>0</td>\n",
       "      <td>IELD</td>\n",
       "      <td>1</td>\n",
       "      <td>2</td>\n",
       "    </tr>\n",
       "    <tr>\n",
       "      <th>1740</th>\n",
       "      <td>185</td>\n",
       "      <td>64.0</td>\n",
       "      <td>0</td>\n",
       "      <td>0</td>\n",
       "      <td>TELD</td>\n",
       "      <td>0</td>\n",
       "      <td>2</td>\n",
       "    </tr>\n",
       "    <tr>\n",
       "      <th>1741</th>\n",
       "      <td>160</td>\n",
       "      <td>60.0</td>\n",
       "      <td>0</td>\n",
       "      <td>0</td>\n",
       "      <td>TELD</td>\n",
       "      <td>0</td>\n",
       "      <td>3</td>\n",
       "    </tr>\n",
       "    <tr>\n",
       "      <th>1742</th>\n",
       "      <td>173</td>\n",
       "      <td>70.0</td>\n",
       "      <td>0</td>\n",
       "      <td>0</td>\n",
       "      <td>TELD</td>\n",
       "      <td>0</td>\n",
       "      <td>3</td>\n",
       "    </tr>\n",
       "    <tr>\n",
       "      <th>1743</th>\n",
       "      <td>167</td>\n",
       "      <td>70.0</td>\n",
       "      <td>0</td>\n",
       "      <td>0</td>\n",
       "      <td>IELD</td>\n",
       "      <td>0</td>\n",
       "      <td>3</td>\n",
       "    </tr>\n",
       "  </tbody>\n",
       "</table>\n",
       "<p>1684 rows × 7 columns</p>\n",
       "</div>"
      ],
      "text/plain": [
       "       신장     체중  종양진행여부  혈전합병증여부  수술기법  재발여부  입원기간\n",
       "0     163   60.3       0        0  TELD     0     2\n",
       "1     171   71.7       0        0  TELD     0     1\n",
       "2     178   77.1       0        0  TELD     0     1\n",
       "3     174   74.2       0        0  TELD     0     1\n",
       "4     183   80.7       0        0  TELD     0     2\n",
       "...   ...    ...     ...      ...   ...   ...   ...\n",
       "1738  183  104.0       0        0  IELD     1     2\n",
       "1740  185   64.0       0        0  TELD     0     2\n",
       "1741  160   60.0       0        0  TELD     0     3\n",
       "1742  173   70.0       0        0  TELD     0     3\n",
       "1743  167   70.0       0        0  IELD     0     3\n",
       "\n",
       "[1684 rows x 7 columns]"
      ]
     },
     "execution_count": 28,
     "metadata": {},
     "output_type": "execute_result"
    }
   ],
   "source": [
    "df_ROS_AP = df_ROS[['신장','체중','종양진행여부','혈전합병증여부','수술기법','재발여부','입원기간']]\n",
    "df_ROS_AP"
   ]
  },
  {
   "cell_type": "markdown",
   "id": "85d89b2e-5b54-4aff-b9e9-de2c3fa12a20",
   "metadata": {},
   "source": [
    "####  6. BMI범주 여부와 입원기간\n",
    "p-value가 NaN(Not-a-Number)"
   ]
  },
  {
   "cell_type": "code",
   "execution_count": 38,
   "id": "f3ac0209-0f3c-43b7-95be-b9c0f3d25669",
   "metadata": {
    "tags": []
   },
   "outputs": [
    {
     "name": "stdout",
     "output_type": "stream",
     "text": [
      "<class 'pandas.core.frame.DataFrame'>\n",
      "Int64Index: 1684 entries, 0 to 1743\n",
      "Data columns (total 4 columns):\n",
      " #   Column  Non-Null Count  Dtype   \n",
      "---  ------  --------------  -----   \n",
      " 0   BMI_범주  1684 non-null   category\n",
      " 1   입원기간    1684 non-null   int64   \n",
      " 2   입원일자    1684 non-null   int64   \n",
      " 3   퇴원일자    1684 non-null   int64   \n",
      "dtypes: category(1), int64(3)\n",
      "memory usage: 54.5 KB\n"
     ]
    },
    {
     "name": "stderr",
     "output_type": "stream",
     "text": [
      "C:\\Users\\04-02\\AppData\\Local\\Temp\\ipykernel_6912\\3603340826.py:8: SettingWithCopyWarning: \n",
      "A value is trying to be set on a copy of a slice from a DataFrame.\n",
      "Try using .loc[row_indexer,col_indexer] = value instead\n",
      "\n",
      "See the caveats in the documentation: https://pandas.pydata.org/pandas-docs/stable/user_guide/indexing.html#returning-a-view-versus-a-copy\n",
      "  df_ROS_BMI['BMI'] = df_ROS_BMI.apply(Calculate_BMI, axis=1)\n",
      "C:\\Users\\04-02\\AppData\\Local\\Temp\\ipykernel_6912\\3603340826.py:10: SettingWithCopyWarning: \n",
      "A value is trying to be set on a copy of a slice from a DataFrame.\n",
      "Try using .loc[row_indexer,col_indexer] = value instead\n",
      "\n",
      "See the caveats in the documentation: https://pandas.pydata.org/pandas-docs/stable/user_guide/indexing.html#returning-a-view-versus-a-copy\n",
      "  df_ROS_BMI['BMI_범주'] = pd.cut(df_ROS_BMI['BMI'], bins=[0, 18.5, 24.9, 29.9, float('inf')],\n",
      "C:\\Users\\04-02\\AppData\\Local\\Temp\\ipykernel_6912\\3603340826.py:14: SettingWithCopyWarning: \n",
      "A value is trying to be set on a copy of a slice from a DataFrame.\n",
      "Try using .loc[row_indexer,col_indexer] = value instead\n",
      "\n",
      "See the caveats in the documentation: https://pandas.pydata.org/pandas-docs/stable/user_guide/indexing.html#returning-a-view-versus-a-copy\n",
      "  df_ROS_AP_subset['BMI_범주'] = df_ROS_BMI['BMI_범주']\n"
     ]
    }
   ],
   "source": [
    "df_ROS_BMI = df_ROS_AP[['신장','체중']]\n",
    "df_ROS_BMI[:10]\n",
    "def Calculate_BMI(row):\n",
    "    height = float(row['신장']) / 100 \n",
    "    weight = float(row['체중'])\n",
    "    BMI = weight / (height * height)\n",
    "    return BMI\n",
    "df_ROS_BMI['BMI'] = df_ROS_BMI.apply(Calculate_BMI, axis=1)\n",
    "df_ROS_BMI['BMI']\n",
    "df_ROS_BMI['BMI_범주'] = pd.cut(df_ROS_BMI['BMI'], bins=[0, 18.5, 24.9, 29.9, float('inf')],\n",
    "                               labels=['저체중', '정상 체중', '과체중', '비만'])\n",
    "df_ROS_ad = df_ROS[['입원일자', '입원기간','퇴원일자']]\n",
    "df_ROS_AP_subset = df_ROS_ad[['입원일자','퇴원일자', '입원기간']]\n",
    "df_ROS_AP_subset['BMI_범주'] = df_ROS_BMI['BMI_범주']\n",
    "df_BMI= df_ROS_AP_subset[['BMI_범주', '입원기간', '입원일자', '퇴원일자']]\n",
    "df_Ba = df_BMI['입원기간'].describe()['25%']\n",
    "df_Bb = df_BMI['입원기간'].describe()['75%']\n",
    "df_Ba_IQR = df_Bb - df_Ba\n",
    "df_Ba, df_Bb, df_Ba_IQR\n",
    "df_Ba_up = df_Bb + 1.5 * df_Ba_IQR\n",
    "df_Ba_down = df_Ba - 1.5 * df_Ba_IQR\n",
    "df_Ba_up, df_Ba_down\n",
    "df_B_condition = (df_BMI['입원기간'] <= df_Ba_up) & (df_BMI['입원기간'] >= df_Ba_down)\n",
    "df_ROS = df_ROS[df_B_condition]\n",
    "df_BMI =  df_BMI[df_B_condition]\n",
    "df_BMI.info()"
   ]
  },
  {
   "cell_type": "code",
   "execution_count": 48,
   "id": "6d15e6d7-ade2-41cc-b967-585c8528508a",
   "metadata": {
    "tags": []
   },
   "outputs": [],
   "source": [
    "mapping = {'저체중': 1, '정상체중': 2, '과체중': 3, '비만': 4}\n",
    "df_BMI['BMI_숫자'] = df_BMI['BMI_범주'].map(mapping)\n",
    "result = kruskal(df_BMI['BMI_숫자'], df_BMI['입원기간'])"
   ]
  },
  {
   "cell_type": "code",
   "execution_count": 49,
   "id": "a507c24e-11dc-4255-8e07-2236b934dde8",
   "metadata": {
    "tags": []
   },
   "outputs": [
    {
     "name": "stderr",
     "output_type": "stream",
     "text": [
      "C:\\Users\\04-02\\AppData\\Local\\Temp\\ipykernel_6912\\174576385.py:1: DeprecationWarning: Please use `kruskal` from the `scipy.stats` namespace, the `scipy.stats.stats` namespace is deprecated.\n",
      "  stats.stats.kruskal(df_BMI['BMI_숫자'], df_BMI['입원기간'])\n"
     ]
    },
    {
     "data": {
      "text/plain": [
       "KruskalResult(statistic=nan, pvalue=nan)"
      ]
     },
     "execution_count": 49,
     "metadata": {},
     "output_type": "execute_result"
    }
   ],
   "source": [
    "stats.stats.kruskal(df_BMI['BMI_숫자'], df_BMI['입원기간'])"
   ]
  },
  {
   "cell_type": "markdown",
   "id": "f4de6773-2a00-4ba4-93d3-b6f91becfb44",
   "metadata": {},
   "source": [
    "#### 7. 종양진행여부와 입원기간\n",
    "- 귀무가설: 종양진행여부에 따라 입원기간이 달라지지 않는다.\n",
    "- 대립가설: 종양진행여부에 따라 입원기간이 달라진다\n",
    "- 분석결론:\n",
    "    - 통계결론: p-value가 0.05보다 작으므로 대립가설이 성립한다.\n",
    "    - 사실결론: 종양진행여부에 따라 입원기간이 달라진다."
   ]
  },
  {
   "cell_type": "code",
   "execution_count": 8,
   "id": "404ea8ce-df11-4854-8d4a-9aa9580e03f0",
   "metadata": {
    "tags": []
   },
   "outputs": [
    {
     "name": "stdout",
     "output_type": "stream",
     "text": [
      "<class 'pandas.core.frame.DataFrame'>\n",
      "Int64Index: 1684 entries, 0 to 1743\n",
      "Data columns (total 4 columns):\n",
      " #   Column  Non-Null Count  Dtype\n",
      "---  ------  --------------  -----\n",
      " 0   종양진행여부  1684 non-null   int64\n",
      " 1   입원기간    1684 non-null   int64\n",
      " 2   입원일자    1684 non-null   int64\n",
      " 3   퇴원일자    1684 non-null   int64\n",
      "dtypes: int64(4)\n",
      "memory usage: 65.8 KB\n"
     ]
    }
   ],
   "source": [
    "# 이상치 제거\n",
    "df_Tumor = df_ROS[['종양진행여부', '입원기간', '입원일자', '퇴원일자']]\n",
    "df_Ta = df_Tumor['입원기간'].describe()['25%']\n",
    "df_Tb = df_Tumor['입원기간'].describe()['75%']\n",
    "df_Ta_IQR = df_Tb - df_Ta\n",
    "df_Ta_up = df_Tb + 1.5 * df_Ta_IQR\n",
    "df_Ta_down = df_Ta - 1.5 * df_Ta_IQR\n",
    "df_T_condition = (df_Tumor['입원기간'] <= df_Ta_up) & (df_Tumor['입원기간'] >= df_Ta_down)\n",
    "df_ROS = df_ROS[df_T_condition]\n",
    "df_Tumors =  df_Tumor[df_T_condition]\n",
    "df_Tumors.info()"
   ]
  },
  {
   "cell_type": "code",
   "execution_count": 9,
   "id": "0ab1d447-d305-423e-96e5-cb25283f6bf0",
   "metadata": {
    "tags": []
   },
   "outputs": [
    {
     "data": {
      "text/plain": [
       "KruskalResult(statistic=2983.1195014046457, pvalue=0.0)"
      ]
     },
     "execution_count": 9,
     "metadata": {},
     "output_type": "execute_result"
    }
   ],
   "source": [
    "stats.stats.kruskal(df_Tumors['종양진행여부'], df_Tumors['입원기간'])"
   ]
  },
  {
   "cell_type": "markdown",
   "id": "ce408ed3-8a7a-4526-bc5a-2c0787fe19ba",
   "metadata": {},
   "source": [
    "#### 8. 혈전합병증여부와 입원기간\n",
    "- 귀무가설: 혈전합병증여부에 따라 입원기간이 달라지지 않는다.\n",
    "- 대립가설: 혈전합병증여부에 따라 입원기간이 달라진다\n",
    "- 분석결론:\n",
    "    - 통계결론: p-value가 0.05보다 작으므로 대립가설이 성립한다.\n",
    "    - 사실결론: 혈전합병증여부에 따라 입원기간이 달라진다."
   ]
  },
  {
   "cell_type": "code",
   "execution_count": 12,
   "id": "af1bc3ca-6eef-42f3-94e6-1445a06d334a",
   "metadata": {
    "tags": []
   },
   "outputs": [
    {
     "name": "stdout",
     "output_type": "stream",
     "text": [
      "<class 'pandas.core.frame.DataFrame'>\n",
      "Int64Index: 1684 entries, 0 to 1743\n",
      "Data columns (total 2 columns):\n",
      " #   Column   Non-Null Count  Dtype\n",
      "---  ------   --------------  -----\n",
      " 0   입원기간     1684 non-null   int64\n",
      " 1   혈전합병증여부  1684 non-null   int64\n",
      "dtypes: int64(2)\n",
      "memory usage: 39.5 KB\n"
     ]
    }
   ],
   "source": [
    "df_thrombus = df_ROS[['입원기간', '혈전합병증여부']]\n",
    "df_thrombus.info()"
   ]
  },
  {
   "cell_type": "code",
   "execution_count": 13,
   "id": "5732365b-7d42-4483-9f4e-f3626fbee52a",
   "metadata": {
    "tags": []
   },
   "outputs": [
    {
     "data": {
      "text/plain": [
       "KruskalResult(statistic=2985.8549227357184, pvalue=0.0)"
      ]
     },
     "execution_count": 13,
     "metadata": {},
     "output_type": "execute_result"
    }
   ],
   "source": [
    "stats.stats.kruskal(df_thrombus['혈전합병증여부'], df_thrombus['입원기간'])"
   ]
  },
  {
   "cell_type": "markdown",
   "id": "4209d87e-267b-4101-98a6-d82bb2a0208a",
   "metadata": {},
   "source": [
    "#### 9. 수술기법과 입원기간\n",
    "- 귀무가설: 수술기법에 따라 입원기간이 달라지지 않는다.\n",
    "- 대립가설: 수술기법에 따라 입원기간이 달라진다\n",
    "- 분석결론:\n",
    "    - 통계결론: p-value가 0.05보다 크므로 대립가설이 성립한다.\n",
    "    - 사실결론: 수술기법에 따라 입원기간은 관련이 없다. "
   ]
  },
  {
   "cell_type": "code",
   "execution_count": 15,
   "id": "de705b52-b462-4540-af1b-f6e8b40d3b82",
   "metadata": {
    "tags": []
   },
   "outputs": [
    {
     "name": "stdout",
     "output_type": "stream",
     "text": [
      "<class 'pandas.core.frame.DataFrame'>\n",
      "Int64Index: 1684 entries, 0 to 1743\n",
      "Data columns (total 2 columns):\n",
      " #   Column  Non-Null Count  Dtype \n",
      "---  ------  --------------  ----- \n",
      " 0   수술기법    1684 non-null   object\n",
      " 1   입원기간    1684 non-null   int64 \n",
      "dtypes: int64(1), object(1)\n",
      "memory usage: 39.5+ KB\n"
     ]
    }
   ],
   "source": [
    "df_surgicaltechnique = df_ROS[['수술기법', '입원기간']]\n",
    "df_surgicaltechnique.info()"
   ]
  },
  {
   "cell_type": "code",
   "execution_count": 20,
   "id": "c8ef803a-17f6-4135-8943-cacb2777a7b9",
   "metadata": {
    "tags": []
   },
   "outputs": [],
   "source": [
    "from scipy import stats"
   ]
  },
  {
   "cell_type": "code",
   "execution_count": 22,
   "id": "fdbf4453-d6b1-4c3b-a626-9535f4abe186",
   "metadata": {
    "tags": []
   },
   "outputs": [
    {
     "name": "stdout",
     "output_type": "stream",
     "text": [
      "KruskalResult(statistic=0.3003225765056195, pvalue=0.5836802649349275)\n"
     ]
    }
   ],
   "source": [
    "# 'FIELD'와 'TELD' 수술기법에 해당하는 데이터 추출\n",
    "ield_data = df_surgicaltechnique[df_surgicaltechnique['수술기법'] == 'IELD']['입원기간']\n",
    "teld_data = df_surgicaltechnique[df_surgicaltechnique['수술기법'] == 'TELD']['입원기간']\n",
    "\n",
    "# Kruskal-Wallis 검정 수행\n",
    "result = stats.kruskal(ield_data, teld_data)\n",
    "\n",
    "print(result)\n"
   ]
  },
  {
   "cell_type": "markdown",
   "id": "72b3a888-416c-4ffa-8ef2-55fd95ada3c1",
   "metadata": {},
   "source": [
    "#### 10. 재발여부와 입원기간\n",
    "- 귀무가설: 재발여부 따라 입원기간이 달라지지 않는다.\n",
    "- 대립가설: 재발여부 따라 입원기간이 달라진다\n",
    "- 분석결론:\n",
    "    - 통계결론: p-value가 0.05보다 작으므로 대립가설이 성립한다.\n",
    "    - 사실결론: 재발여부에 따라 입원기간이 달라진다."
   ]
  },
  {
   "cell_type": "code",
   "execution_count": 24,
   "id": "e2637b33-c028-4bc2-a5c6-feb6b04545dc",
   "metadata": {
    "tags": []
   },
   "outputs": [
    {
     "name": "stdout",
     "output_type": "stream",
     "text": [
      "<class 'pandas.core.frame.DataFrame'>\n",
      "Int64Index: 1684 entries, 0 to 1743\n",
      "Data columns (total 2 columns):\n",
      " #   Column  Non-Null Count  Dtype\n",
      "---  ------  --------------  -----\n",
      " 0   재발여부    1684 non-null   int64\n",
      " 1   입원기간    1684 non-null   int64\n",
      "dtypes: int64(2)\n",
      "memory usage: 39.5 KB\n"
     ]
    }
   ],
   "source": [
    "df_recurrence = df_ROS[['재발여부', '입원기간']]\n",
    "df_recurrence.info()"
   ]
  },
  {
   "cell_type": "code",
   "execution_count": 25,
   "id": "795febf7-e478-4bc0-8572-64ab3b043cfb",
   "metadata": {
    "tags": []
   },
   "outputs": [
    {
     "name": "stderr",
     "output_type": "stream",
     "text": [
      "C:\\Users\\04-02\\AppData\\Local\\Temp\\ipykernel_6912\\1593917816.py:1: DeprecationWarning: Please use `kruskal` from the `scipy.stats` namespace, the `scipy.stats.stats` namespace is deprecated.\n",
      "  stats.stats.kruskal(df_recurrence['재발여부'], df_recurrence['입원기간'])\n"
     ]
    },
    {
     "data": {
      "text/plain": [
       "KruskalResult(statistic=2516.519051584919, pvalue=0.0)"
      ]
     },
     "execution_count": 25,
     "metadata": {},
     "output_type": "execute_result"
    }
   ],
   "source": [
    "stats.stats.kruskal(df_recurrence['재발여부'], df_recurrence['입원기간'])"
   ]
  },
  {
   "cell_type": "code",
   "execution_count": null,
   "id": "5d45c53b-b120-436e-bc0d-97591ee5fb9a",
   "metadata": {},
   "outputs": [],
   "source": []
  }
 ],
 "metadata": {
  "kernelspec": {
   "display_name": "Python 3 (ipykernel)",
   "language": "python",
   "name": "python3"
  },
  "language_info": {
   "codemirror_mode": {
    "name": "ipython",
    "version": 3
   },
   "file_extension": ".py",
   "mimetype": "text/x-python",
   "name": "python",
   "nbconvert_exporter": "python",
   "pygments_lexer": "ipython3",
   "version": "3.11.3"
  }
 },
 "nbformat": 4,
 "nbformat_minor": 5
}
