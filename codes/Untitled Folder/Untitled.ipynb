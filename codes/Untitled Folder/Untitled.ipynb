{
 "cells": [
  {
   "cell_type": "code",
   "execution_count": 22,
   "id": "27ee0d88-af15-4468-9091-7033eec3318f",
   "metadata": {
    "tags": []
   },
   "outputs": [
    {
     "name": "stdout",
     "output_type": "stream",
     "text": [
      "<class 'pandas.core.frame.DataFrame'>\n",
      "RangeIndex: 1894 entries, 0 to 1893\n",
      "Data columns (total 50 columns):\n",
      " #   Column                  Non-Null Count  Dtype  \n",
      "---  ------                  --------------  -----  \n",
      " 0   Unnamed: 0.1            1894 non-null   int64  \n",
      " 1   Unnamed: 0              1894 non-null   int64  \n",
      " 2   환자ID                    1894 non-null   object \n",
      " 3   Large Lymphocyte        1894 non-null   float64\n",
      " 4   Location of herniation  1894 non-null   int64  \n",
      " 5   가족력                     1843 non-null   float64\n",
      " 6   간질성폐질환                  1894 non-null   int64  \n",
      " 7   고혈압여부                   1894 non-null   int64  \n",
      " 8   과거수술횟수                  1894 non-null   int64  \n",
      " 9   당뇨여부                    1894 non-null   int64  \n",
      " 10  말초동맥질환여부                1894 non-null   int64  \n",
      " 11  빈혈여부                    1894 non-null   int64  \n",
      " 12  성별                      1894 non-null   int64  \n",
      " 13  스테로이드치료                 1894 non-null   int64  \n",
      " 14  신부전여부                   1894 non-null   int64  \n",
      " 15  신장                      1894 non-null   int64  \n",
      " 16  심혈관질환                   1894 non-null   int64  \n",
      " 17  암발병여부                   1894 non-null   int64  \n",
      " 18  연령                      1894 non-null   int64  \n",
      " 19  우울증여부                   1894 non-null   int64  \n",
      " 20  입원기간                    1894 non-null   int64  \n",
      " 21  입원일자                    1894 non-null   int64  \n",
      " 22  종양진행여부                  1894 non-null   int64  \n",
      " 23  체중                      1894 non-null   float64\n",
      " 24  퇴원일자                    1894 non-null   int64  \n",
      " 25  헤모글로빈수치                 1893 non-null   float64\n",
      " 26  혈전합병증여부                 1894 non-null   int64  \n",
      " 27  환자통증정도                  1894 non-null   int64  \n",
      " 28  흡연여부                    1894 non-null   int64  \n",
      " 29  통증기간(월)                 1890 non-null   float64\n",
      " 30  수술기법                    1813 non-null   object \n",
      " 31  수술시간                    1840 non-null   float64\n",
      " 32  수술실패여부                  1894 non-null   int64  \n",
      " 33  수술일자                    1894 non-null   int64  \n",
      " 34  재발여부                    1894 non-null   int64  \n",
      " 35  혈액형                     1894 non-null   object \n",
      " 36  전방디스크높이(mm)             1894 non-null   float64\n",
      " 37  후방디스크높이(mm)             1894 non-null   float64\n",
      " 38  지방축적도                   1891 non-null   float64\n",
      " 39  Instability             1894 non-null   int64  \n",
      " 40  MF + ES                 1894 non-null   float64\n",
      " 41  Modic change            1894 non-null   int64  \n",
      " 42  PI                      1890 non-null   float64\n",
      " 43  PT                      1890 non-null   float64\n",
      " 44  Seg Angle(raw)          1893 non-null   float64\n",
      " 45  Vaccum disc             1894 non-null   int64  \n",
      " 46  디스크단면적                  1893 non-null   float64\n",
      " 47  디스크위치                   1894 non-null   int64  \n",
      " 48  척추이동척도                  1894 non-null   object \n",
      " 49  척추전방위증                  1894 non-null   int64  \n",
      "dtypes: float64(14), int64(32), object(4)\n",
      "memory usage: 740.0+ KB\n"
     ]
    }
   ],
   "source": [
    "import pandas as pd\n",
    "import numpy as np\n",
    "import seaborn as sns\n",
    "import matplotlib.pyplot as plt\n",
    "import matplotlib as mpl\n",
    "mpl.rc('font', family = 'Malgun Gothic')\n",
    "df_H = pd.read_csv('../../datasets/RecurrenceOfSurgery.csv')\n",
    "df_H.info()"
   ]
  },
  {
   "cell_type": "code",
   "execution_count": 26,
   "id": "8a5a0840-08bf-47a0-8bb8-e8a07beed2fc",
   "metadata": {
    "tags": []
   },
   "outputs": [],
   "source": [
    "df_H = df_H.dropna()"
   ]
  },
  {
   "cell_type": "code",
   "execution_count": 27,
   "id": "9570901c-ee3b-4447-a2a3-6a57140bbf10",
   "metadata": {
    "tags": []
   },
   "outputs": [
    {
     "name": "stdout",
     "output_type": "stream",
     "text": [
      "<class 'pandas.core.frame.DataFrame'>\n",
      "Int64Index: 1744 entries, 0 to 1891\n",
      "Data columns (total 50 columns):\n",
      " #   Column                  Non-Null Count  Dtype  \n",
      "---  ------                  --------------  -----  \n",
      " 0   Unnamed: 0.1            1744 non-null   int64  \n",
      " 1   Unnamed: 0              1744 non-null   int64  \n",
      " 2   환자ID                    1744 non-null   object \n",
      " 3   Large Lymphocyte        1744 non-null   float64\n",
      " 4   Location of herniation  1744 non-null   int64  \n",
      " 5   가족력                     1744 non-null   float64\n",
      " 6   간질성폐질환                  1744 non-null   int64  \n",
      " 7   고혈압여부                   1744 non-null   int64  \n",
      " 8   과거수술횟수                  1744 non-null   int64  \n",
      " 9   당뇨여부                    1744 non-null   int64  \n",
      " 10  말초동맥질환여부                1744 non-null   int64  \n",
      " 11  빈혈여부                    1744 non-null   int64  \n",
      " 12  성별                      1744 non-null   int64  \n",
      " 13  스테로이드치료                 1744 non-null   int64  \n",
      " 14  신부전여부                   1744 non-null   int64  \n",
      " 15  신장                      1744 non-null   int64  \n",
      " 16  심혈관질환                   1744 non-null   int64  \n",
      " 17  암발병여부                   1744 non-null   int64  \n",
      " 18  연령                      1744 non-null   int64  \n",
      " 19  우울증여부                   1744 non-null   int64  \n",
      " 20  입원기간                    1744 non-null   int64  \n",
      " 21  입원일자                    1744 non-null   int64  \n",
      " 22  종양진행여부                  1744 non-null   int64  \n",
      " 23  체중                      1744 non-null   float64\n",
      " 24  퇴원일자                    1744 non-null   int64  \n",
      " 25  헤모글로빈수치                 1744 non-null   float64\n",
      " 26  혈전합병증여부                 1744 non-null   int64  \n",
      " 27  환자통증정도                  1744 non-null   int64  \n",
      " 28  흡연여부                    1744 non-null   int64  \n",
      " 29  통증기간(월)                 1744 non-null   float64\n",
      " 30  수술기법                    1744 non-null   object \n",
      " 31  수술시간                    1744 non-null   float64\n",
      " 32  수술실패여부                  1744 non-null   int64  \n",
      " 33  수술일자                    1744 non-null   int64  \n",
      " 34  재발여부                    1744 non-null   int64  \n",
      " 35  혈액형                     1744 non-null   object \n",
      " 36  전방디스크높이(mm)             1744 non-null   float64\n",
      " 37  후방디스크높이(mm)             1744 non-null   float64\n",
      " 38  지방축적도                   1744 non-null   float64\n",
      " 39  Instability             1744 non-null   int64  \n",
      " 40  MF + ES                 1744 non-null   float64\n",
      " 41  Modic change            1744 non-null   int64  \n",
      " 42  PI                      1744 non-null   float64\n",
      " 43  PT                      1744 non-null   float64\n",
      " 44  Seg Angle(raw)          1744 non-null   float64\n",
      " 45  Vaccum disc             1744 non-null   int64  \n",
      " 46  디스크단면적                  1744 non-null   float64\n",
      " 47  디스크위치                   1744 non-null   int64  \n",
      " 48  척추이동척도                  1744 non-null   object \n",
      " 49  척추전방위증                  1744 non-null   int64  \n",
      "dtypes: float64(14), int64(32), object(4)\n",
      "memory usage: 694.9+ KB\n"
     ]
    }
   ],
   "source": [
    "df_H.info()"
   ]
  },
  {
   "cell_type": "code",
   "execution_count": 28,
   "id": "320b1b64-89f5-47f2-a52e-5f57b94abad0",
   "metadata": {
    "tags": []
   },
   "outputs": [
    {
     "data": {
      "text/plain": [
       "Unnamed: 0.1              0\n",
       "Unnamed: 0                0\n",
       "환자ID                      0\n",
       "Large Lymphocyte          0\n",
       "Location of herniation    0\n",
       "가족력                       0\n",
       "간질성폐질환                    0\n",
       "고혈압여부                     0\n",
       "과거수술횟수                    0\n",
       "당뇨여부                      0\n",
       "말초동맥질환여부                  0\n",
       "빈혈여부                      0\n",
       "성별                        0\n",
       "스테로이드치료                   0\n",
       "신부전여부                     0\n",
       "신장                        0\n",
       "심혈관질환                     0\n",
       "암발병여부                     0\n",
       "연령                        0\n",
       "우울증여부                     0\n",
       "입원기간                      0\n",
       "입원일자                      0\n",
       "종양진행여부                    0\n",
       "체중                        0\n",
       "퇴원일자                      0\n",
       "헤모글로빈수치                   0\n",
       "혈전합병증여부                   0\n",
       "환자통증정도                    0\n",
       "흡연여부                      0\n",
       "통증기간(월)                   0\n",
       "수술기법                      0\n",
       "수술시간                      0\n",
       "수술실패여부                    0\n",
       "수술일자                      0\n",
       "재발여부                      0\n",
       "혈액형                       0\n",
       "전방디스크높이(mm)               0\n",
       "후방디스크높이(mm)               0\n",
       "지방축적도                     0\n",
       "Instability               0\n",
       "MF + ES                   0\n",
       "Modic change              0\n",
       "PI                        0\n",
       "PT                        0\n",
       "Seg Angle(raw)            0\n",
       "Vaccum disc               0\n",
       "디스크단면적                    0\n",
       "디스크위치                     0\n",
       "척추이동척도                    0\n",
       "척추전방위증                    0\n",
       "dtype: int64"
      ]
     },
     "execution_count": 28,
     "metadata": {},
     "output_type": "execute_result"
    }
   ],
   "source": [
    "df_H.isnull().sum()"
   ]
  },
  {
   "cell_type": "code",
   "execution_count": 29,
   "id": "9ff6c345-6f58-4d75-92c9-1c106743d78d",
   "metadata": {
    "tags": []
   },
   "outputs": [],
   "source": [
    "df_H.to_csv('RecurrenceOfSurgery.csv')"
   ]
  },
  {
   "cell_type": "code",
   "execution_count": null,
   "id": "d4dd2d0c-6ab4-4479-b8cc-6a55709dd352",
   "metadata": {},
   "outputs": [],
   "source": []
  }
 ],
 "metadata": {
  "kernelspec": {
   "display_name": "Python 3 (ipykernel)",
   "language": "python",
   "name": "python3"
  },
  "language_info": {
   "codemirror_mode": {
    "name": "ipython",
    "version": 3
   },
   "file_extension": ".py",
   "mimetype": "text/x-python",
   "name": "python",
   "nbconvert_exporter": "python",
   "pygments_lexer": "ipython3",
   "version": "3.11.3"
  }
 },
 "nbformat": 4,
 "nbformat_minor": 5
}
